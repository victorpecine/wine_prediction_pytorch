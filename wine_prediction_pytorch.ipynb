{
  "nbformat": 4,
  "nbformat_minor": 0,
  "metadata": {
    "colab": {
      "provenance": [],
      "gpuType": "T4",
      "toc_visible": true
    },
    "kernelspec": {
      "name": "python3",
      "display_name": "Python 3"
    },
    "language_info": {
      "name": "python"
    },
    "accelerator": "GPU"
  },
  "cells": [
    {
      "cell_type": "markdown",
      "source": [
        "# Source"
      ],
      "metadata": {
        "id": "UamTm98st43A"
      }
    },
    {
      "cell_type": "markdown",
      "source": [
        "https://www.learnpytorch.io/"
      ],
      "metadata": {
        "id": "6Pd3WHQzNtjN"
      }
    },
    {
      "cell_type": "markdown",
      "metadata": {
        "id": "3UHp43K1z9qc"
      },
      "source": [
        "# Libraires"
      ]
    },
    {
      "cell_type": "code",
      "source": [
        "# !pip install plotly -U --quiet\n",
        "# !pip install torchmetrics -U --quiet\n",
        "# !pip install torchviz -U --quiet"
      ],
      "metadata": {
        "id": "LYz0ueEg4NwT"
      },
      "execution_count": 66,
      "outputs": []
    },
    {
      "cell_type": "code",
      "execution_count": 67,
      "metadata": {
        "id": "Y4b2EnKtmHtj"
      },
      "outputs": [],
      "source": [
        "import  torch\n",
        "import  matplotlib.pyplot as plt\n",
        "import  numpy as np\n",
        "import  pandas as pd\n",
        "import  plotly.express as px\n",
        "import  plotly.graph_objects as go\n",
        "\n",
        "from    google.colab import drive\n",
        "from    sklearn.model_selection import train_test_split\n",
        "from    sklearn.preprocessing import StandardScaler\n",
        "from    imblearn.over_sampling import SMOTE\n",
        "from    imblearn.combine import SMOTEENN\n",
        "from    torch import nn\n",
        "from    torch import optim\n",
        "from    torchmetrics import (Accuracy,\n",
        "                             Precision,\n",
        "                             Recall,\n",
        "                             F1Score)\n",
        "from    torchviz import make_dot"
      ]
    },
    {
      "cell_type": "code",
      "execution_count": 68,
      "metadata": {
        "id": "V51JN8QIH_4S",
        "colab": {
          "base_uri": "https://localhost:8080/"
        },
        "outputId": "133b131c-4b1e-4680-cedd-753f1db39084"
      },
      "outputs": [
        {
          "output_type": "execute_result",
          "data": {
            "text/plain": [
              "<torch._C.Generator at 0x7bca3c15a390>"
            ]
          },
          "metadata": {},
          "execution_count": 68
        }
      ],
      "source": [
        "num_seed = 31\n",
        "seed = np.random.seed(num_seed)\n",
        "\n",
        "torch.manual_seed(num_seed)"
      ]
    },
    {
      "cell_type": "code",
      "source": [
        "drive.mount('/content/drive')"
      ],
      "metadata": {
        "colab": {
          "base_uri": "https://localhost:8080/"
        },
        "id": "RLQs6uvYOMYF",
        "outputId": "cb9a9895-5088-48c9-a606-32aaf45f2798"
      },
      "execution_count": 69,
      "outputs": [
        {
          "output_type": "stream",
          "name": "stdout",
          "text": [
            "Drive already mounted at /content/drive; to attempt to forcibly remount, call drive.mount(\"/content/drive\", force_remount=True).\n"
          ]
        }
      ]
    },
    {
      "cell_type": "markdown",
      "source": [
        "# Dataset"
      ],
      "metadata": {
        "id": "YZ6ggXHSakys"
      }
    },
    {
      "cell_type": "code",
      "source": [
        "df_wine = pd.read_csv('/content/drive/MyDrive/Datasets/Wine quality prediction_dataset/winequality-red.csv',\n",
        "                      sep=',',\n",
        "                      encoding='utf-8')\n",
        "\n",
        "df_wine"
      ],
      "metadata": {
        "id": "9dM8W8tnZfEz",
        "colab": {
          "base_uri": "https://localhost:8080/",
          "height": 441
        },
        "outputId": "8cd6391a-b44f-450b-9133-032605ec714b"
      },
      "execution_count": 70,
      "outputs": [
        {
          "output_type": "execute_result",
          "data": {
            "text/plain": [
              "      fixed acidity  volatile acidity  citric acid  residual sugar  chlorides  \\\n",
              "0               7.4             0.700         0.00             1.9      0.076   \n",
              "1               7.8             0.880         0.00             2.6      0.098   \n",
              "2               7.8             0.760         0.04             2.3      0.092   \n",
              "3              11.2             0.280         0.56             1.9      0.075   \n",
              "4               7.4             0.700         0.00             1.9      0.076   \n",
              "...             ...               ...          ...             ...        ...   \n",
              "1594            6.2             0.600         0.08             2.0      0.090   \n",
              "1595            5.9             0.550         0.10             2.2      0.062   \n",
              "1596            6.3             0.510         0.13             2.3      0.076   \n",
              "1597            5.9             0.645         0.12             2.0      0.075   \n",
              "1598            6.0             0.310         0.47             3.6      0.067   \n",
              "\n",
              "      free sulfur dioxide  total sulfur dioxide  density    pH  sulphates  \\\n",
              "0                    11.0                  34.0  0.99780  3.51       0.56   \n",
              "1                    25.0                  67.0  0.99680  3.20       0.68   \n",
              "2                    15.0                  54.0  0.99700  3.26       0.65   \n",
              "3                    17.0                  60.0  0.99800  3.16       0.58   \n",
              "4                    11.0                  34.0  0.99780  3.51       0.56   \n",
              "...                   ...                   ...      ...   ...        ...   \n",
              "1594                 32.0                  44.0  0.99490  3.45       0.58   \n",
              "1595                 39.0                  51.0  0.99512  3.52       0.76   \n",
              "1596                 29.0                  40.0  0.99574  3.42       0.75   \n",
              "1597                 32.0                  44.0  0.99547  3.57       0.71   \n",
              "1598                 18.0                  42.0  0.99549  3.39       0.66   \n",
              "\n",
              "      alcohol  quality  \n",
              "0         9.4        5  \n",
              "1         9.8        5  \n",
              "2         9.8        5  \n",
              "3         9.8        6  \n",
              "4         9.4        5  \n",
              "...       ...      ...  \n",
              "1594     10.5        5  \n",
              "1595     11.2        6  \n",
              "1596     11.0        6  \n",
              "1597     10.2        5  \n",
              "1598     11.0        6  \n",
              "\n",
              "[1599 rows x 12 columns]"
            ],
            "text/html": [
              "\n",
              "  <div id=\"df-044a0098-5796-413f-875e-db7ba39c4477\" class=\"colab-df-container\">\n",
              "    <div>\n",
              "<style scoped>\n",
              "    .dataframe tbody tr th:only-of-type {\n",
              "        vertical-align: middle;\n",
              "    }\n",
              "\n",
              "    .dataframe tbody tr th {\n",
              "        vertical-align: top;\n",
              "    }\n",
              "\n",
              "    .dataframe thead th {\n",
              "        text-align: right;\n",
              "    }\n",
              "</style>\n",
              "<table border=\"1\" class=\"dataframe\">\n",
              "  <thead>\n",
              "    <tr style=\"text-align: right;\">\n",
              "      <th></th>\n",
              "      <th>fixed acidity</th>\n",
              "      <th>volatile acidity</th>\n",
              "      <th>citric acid</th>\n",
              "      <th>residual sugar</th>\n",
              "      <th>chlorides</th>\n",
              "      <th>free sulfur dioxide</th>\n",
              "      <th>total sulfur dioxide</th>\n",
              "      <th>density</th>\n",
              "      <th>pH</th>\n",
              "      <th>sulphates</th>\n",
              "      <th>alcohol</th>\n",
              "      <th>quality</th>\n",
              "    </tr>\n",
              "  </thead>\n",
              "  <tbody>\n",
              "    <tr>\n",
              "      <th>0</th>\n",
              "      <td>7.4</td>\n",
              "      <td>0.700</td>\n",
              "      <td>0.00</td>\n",
              "      <td>1.9</td>\n",
              "      <td>0.076</td>\n",
              "      <td>11.0</td>\n",
              "      <td>34.0</td>\n",
              "      <td>0.99780</td>\n",
              "      <td>3.51</td>\n",
              "      <td>0.56</td>\n",
              "      <td>9.4</td>\n",
              "      <td>5</td>\n",
              "    </tr>\n",
              "    <tr>\n",
              "      <th>1</th>\n",
              "      <td>7.8</td>\n",
              "      <td>0.880</td>\n",
              "      <td>0.00</td>\n",
              "      <td>2.6</td>\n",
              "      <td>0.098</td>\n",
              "      <td>25.0</td>\n",
              "      <td>67.0</td>\n",
              "      <td>0.99680</td>\n",
              "      <td>3.20</td>\n",
              "      <td>0.68</td>\n",
              "      <td>9.8</td>\n",
              "      <td>5</td>\n",
              "    </tr>\n",
              "    <tr>\n",
              "      <th>2</th>\n",
              "      <td>7.8</td>\n",
              "      <td>0.760</td>\n",
              "      <td>0.04</td>\n",
              "      <td>2.3</td>\n",
              "      <td>0.092</td>\n",
              "      <td>15.0</td>\n",
              "      <td>54.0</td>\n",
              "      <td>0.99700</td>\n",
              "      <td>3.26</td>\n",
              "      <td>0.65</td>\n",
              "      <td>9.8</td>\n",
              "      <td>5</td>\n",
              "    </tr>\n",
              "    <tr>\n",
              "      <th>3</th>\n",
              "      <td>11.2</td>\n",
              "      <td>0.280</td>\n",
              "      <td>0.56</td>\n",
              "      <td>1.9</td>\n",
              "      <td>0.075</td>\n",
              "      <td>17.0</td>\n",
              "      <td>60.0</td>\n",
              "      <td>0.99800</td>\n",
              "      <td>3.16</td>\n",
              "      <td>0.58</td>\n",
              "      <td>9.8</td>\n",
              "      <td>6</td>\n",
              "    </tr>\n",
              "    <tr>\n",
              "      <th>4</th>\n",
              "      <td>7.4</td>\n",
              "      <td>0.700</td>\n",
              "      <td>0.00</td>\n",
              "      <td>1.9</td>\n",
              "      <td>0.076</td>\n",
              "      <td>11.0</td>\n",
              "      <td>34.0</td>\n",
              "      <td>0.99780</td>\n",
              "      <td>3.51</td>\n",
              "      <td>0.56</td>\n",
              "      <td>9.4</td>\n",
              "      <td>5</td>\n",
              "    </tr>\n",
              "    <tr>\n",
              "      <th>...</th>\n",
              "      <td>...</td>\n",
              "      <td>...</td>\n",
              "      <td>...</td>\n",
              "      <td>...</td>\n",
              "      <td>...</td>\n",
              "      <td>...</td>\n",
              "      <td>...</td>\n",
              "      <td>...</td>\n",
              "      <td>...</td>\n",
              "      <td>...</td>\n",
              "      <td>...</td>\n",
              "      <td>...</td>\n",
              "    </tr>\n",
              "    <tr>\n",
              "      <th>1594</th>\n",
              "      <td>6.2</td>\n",
              "      <td>0.600</td>\n",
              "      <td>0.08</td>\n",
              "      <td>2.0</td>\n",
              "      <td>0.090</td>\n",
              "      <td>32.0</td>\n",
              "      <td>44.0</td>\n",
              "      <td>0.99490</td>\n",
              "      <td>3.45</td>\n",
              "      <td>0.58</td>\n",
              "      <td>10.5</td>\n",
              "      <td>5</td>\n",
              "    </tr>\n",
              "    <tr>\n",
              "      <th>1595</th>\n",
              "      <td>5.9</td>\n",
              "      <td>0.550</td>\n",
              "      <td>0.10</td>\n",
              "      <td>2.2</td>\n",
              "      <td>0.062</td>\n",
              "      <td>39.0</td>\n",
              "      <td>51.0</td>\n",
              "      <td>0.99512</td>\n",
              "      <td>3.52</td>\n",
              "      <td>0.76</td>\n",
              "      <td>11.2</td>\n",
              "      <td>6</td>\n",
              "    </tr>\n",
              "    <tr>\n",
              "      <th>1596</th>\n",
              "      <td>6.3</td>\n",
              "      <td>0.510</td>\n",
              "      <td>0.13</td>\n",
              "      <td>2.3</td>\n",
              "      <td>0.076</td>\n",
              "      <td>29.0</td>\n",
              "      <td>40.0</td>\n",
              "      <td>0.99574</td>\n",
              "      <td>3.42</td>\n",
              "      <td>0.75</td>\n",
              "      <td>11.0</td>\n",
              "      <td>6</td>\n",
              "    </tr>\n",
              "    <tr>\n",
              "      <th>1597</th>\n",
              "      <td>5.9</td>\n",
              "      <td>0.645</td>\n",
              "      <td>0.12</td>\n",
              "      <td>2.0</td>\n",
              "      <td>0.075</td>\n",
              "      <td>32.0</td>\n",
              "      <td>44.0</td>\n",
              "      <td>0.99547</td>\n",
              "      <td>3.57</td>\n",
              "      <td>0.71</td>\n",
              "      <td>10.2</td>\n",
              "      <td>5</td>\n",
              "    </tr>\n",
              "    <tr>\n",
              "      <th>1598</th>\n",
              "      <td>6.0</td>\n",
              "      <td>0.310</td>\n",
              "      <td>0.47</td>\n",
              "      <td>3.6</td>\n",
              "      <td>0.067</td>\n",
              "      <td>18.0</td>\n",
              "      <td>42.0</td>\n",
              "      <td>0.99549</td>\n",
              "      <td>3.39</td>\n",
              "      <td>0.66</td>\n",
              "      <td>11.0</td>\n",
              "      <td>6</td>\n",
              "    </tr>\n",
              "  </tbody>\n",
              "</table>\n",
              "<p>1599 rows × 12 columns</p>\n",
              "</div>\n",
              "    <div class=\"colab-df-buttons\">\n",
              "\n",
              "  <div class=\"colab-df-container\">\n",
              "    <button class=\"colab-df-convert\" onclick=\"convertToInteractive('df-044a0098-5796-413f-875e-db7ba39c4477')\"\n",
              "            title=\"Convert this dataframe to an interactive table.\"\n",
              "            style=\"display:none;\">\n",
              "\n",
              "  <svg xmlns=\"http://www.w3.org/2000/svg\" height=\"24px\" viewBox=\"0 -960 960 960\">\n",
              "    <path d=\"M120-120v-720h720v720H120Zm60-500h600v-160H180v160Zm220 220h160v-160H400v160Zm0 220h160v-160H400v160ZM180-400h160v-160H180v160Zm440 0h160v-160H620v160ZM180-180h160v-160H180v160Zm440 0h160v-160H620v160Z\"/>\n",
              "  </svg>\n",
              "    </button>\n",
              "\n",
              "  <style>\n",
              "    .colab-df-container {\n",
              "      display:flex;\n",
              "      gap: 12px;\n",
              "    }\n",
              "\n",
              "    .colab-df-convert {\n",
              "      background-color: #E8F0FE;\n",
              "      border: none;\n",
              "      border-radius: 50%;\n",
              "      cursor: pointer;\n",
              "      display: none;\n",
              "      fill: #1967D2;\n",
              "      height: 32px;\n",
              "      padding: 0 0 0 0;\n",
              "      width: 32px;\n",
              "    }\n",
              "\n",
              "    .colab-df-convert:hover {\n",
              "      background-color: #E2EBFA;\n",
              "      box-shadow: 0px 1px 2px rgba(60, 64, 67, 0.3), 0px 1px 3px 1px rgba(60, 64, 67, 0.15);\n",
              "      fill: #174EA6;\n",
              "    }\n",
              "\n",
              "    .colab-df-buttons div {\n",
              "      margin-bottom: 4px;\n",
              "    }\n",
              "\n",
              "    [theme=dark] .colab-df-convert {\n",
              "      background-color: #3B4455;\n",
              "      fill: #D2E3FC;\n",
              "    }\n",
              "\n",
              "    [theme=dark] .colab-df-convert:hover {\n",
              "      background-color: #434B5C;\n",
              "      box-shadow: 0px 1px 3px 1px rgba(0, 0, 0, 0.15);\n",
              "      filter: drop-shadow(0px 1px 2px rgba(0, 0, 0, 0.3));\n",
              "      fill: #FFFFFF;\n",
              "    }\n",
              "  </style>\n",
              "\n",
              "    <script>\n",
              "      const buttonEl =\n",
              "        document.querySelector('#df-044a0098-5796-413f-875e-db7ba39c4477 button.colab-df-convert');\n",
              "      buttonEl.style.display =\n",
              "        google.colab.kernel.accessAllowed ? 'block' : 'none';\n",
              "\n",
              "      async function convertToInteractive(key) {\n",
              "        const element = document.querySelector('#df-044a0098-5796-413f-875e-db7ba39c4477');\n",
              "        const dataTable =\n",
              "          await google.colab.kernel.invokeFunction('convertToInteractive',\n",
              "                                                    [key], {});\n",
              "        if (!dataTable) return;\n",
              "\n",
              "        const docLinkHtml = 'Like what you see? Visit the ' +\n",
              "          '<a target=\"_blank\" href=https://colab.research.google.com/notebooks/data_table.ipynb>data table notebook</a>'\n",
              "          + ' to learn more about interactive tables.';\n",
              "        element.innerHTML = '';\n",
              "        dataTable['output_type'] = 'display_data';\n",
              "        await google.colab.output.renderOutput(dataTable, element);\n",
              "        const docLink = document.createElement('div');\n",
              "        docLink.innerHTML = docLinkHtml;\n",
              "        element.appendChild(docLink);\n",
              "      }\n",
              "    </script>\n",
              "  </div>\n",
              "\n",
              "\n",
              "<div id=\"df-33afa417-28bc-43fd-b643-349dfbd91427\">\n",
              "  <button class=\"colab-df-quickchart\" onclick=\"quickchart('df-33afa417-28bc-43fd-b643-349dfbd91427')\"\n",
              "            title=\"Suggest charts\"\n",
              "            style=\"display:none;\">\n",
              "\n",
              "<svg xmlns=\"http://www.w3.org/2000/svg\" height=\"24px\"viewBox=\"0 0 24 24\"\n",
              "     width=\"24px\">\n",
              "    <g>\n",
              "        <path d=\"M19 3H5c-1.1 0-2 .9-2 2v14c0 1.1.9 2 2 2h14c1.1 0 2-.9 2-2V5c0-1.1-.9-2-2-2zM9 17H7v-7h2v7zm4 0h-2V7h2v10zm4 0h-2v-4h2v4z\"/>\n",
              "    </g>\n",
              "</svg>\n",
              "  </button>\n",
              "\n",
              "<style>\n",
              "  .colab-df-quickchart {\n",
              "      --bg-color: #E8F0FE;\n",
              "      --fill-color: #1967D2;\n",
              "      --hover-bg-color: #E2EBFA;\n",
              "      --hover-fill-color: #174EA6;\n",
              "      --disabled-fill-color: #AAA;\n",
              "      --disabled-bg-color: #DDD;\n",
              "  }\n",
              "\n",
              "  [theme=dark] .colab-df-quickchart {\n",
              "      --bg-color: #3B4455;\n",
              "      --fill-color: #D2E3FC;\n",
              "      --hover-bg-color: #434B5C;\n",
              "      --hover-fill-color: #FFFFFF;\n",
              "      --disabled-bg-color: #3B4455;\n",
              "      --disabled-fill-color: #666;\n",
              "  }\n",
              "\n",
              "  .colab-df-quickchart {\n",
              "    background-color: var(--bg-color);\n",
              "    border: none;\n",
              "    border-radius: 50%;\n",
              "    cursor: pointer;\n",
              "    display: none;\n",
              "    fill: var(--fill-color);\n",
              "    height: 32px;\n",
              "    padding: 0;\n",
              "    width: 32px;\n",
              "  }\n",
              "\n",
              "  .colab-df-quickchart:hover {\n",
              "    background-color: var(--hover-bg-color);\n",
              "    box-shadow: 0 1px 2px rgba(60, 64, 67, 0.3), 0 1px 3px 1px rgba(60, 64, 67, 0.15);\n",
              "    fill: var(--button-hover-fill-color);\n",
              "  }\n",
              "\n",
              "  .colab-df-quickchart-complete:disabled,\n",
              "  .colab-df-quickchart-complete:disabled:hover {\n",
              "    background-color: var(--disabled-bg-color);\n",
              "    fill: var(--disabled-fill-color);\n",
              "    box-shadow: none;\n",
              "  }\n",
              "\n",
              "  .colab-df-spinner {\n",
              "    border: 2px solid var(--fill-color);\n",
              "    border-color: transparent;\n",
              "    border-bottom-color: var(--fill-color);\n",
              "    animation:\n",
              "      spin 1s steps(1) infinite;\n",
              "  }\n",
              "\n",
              "  @keyframes spin {\n",
              "    0% {\n",
              "      border-color: transparent;\n",
              "      border-bottom-color: var(--fill-color);\n",
              "      border-left-color: var(--fill-color);\n",
              "    }\n",
              "    20% {\n",
              "      border-color: transparent;\n",
              "      border-left-color: var(--fill-color);\n",
              "      border-top-color: var(--fill-color);\n",
              "    }\n",
              "    30% {\n",
              "      border-color: transparent;\n",
              "      border-left-color: var(--fill-color);\n",
              "      border-top-color: var(--fill-color);\n",
              "      border-right-color: var(--fill-color);\n",
              "    }\n",
              "    40% {\n",
              "      border-color: transparent;\n",
              "      border-right-color: var(--fill-color);\n",
              "      border-top-color: var(--fill-color);\n",
              "    }\n",
              "    60% {\n",
              "      border-color: transparent;\n",
              "      border-right-color: var(--fill-color);\n",
              "    }\n",
              "    80% {\n",
              "      border-color: transparent;\n",
              "      border-right-color: var(--fill-color);\n",
              "      border-bottom-color: var(--fill-color);\n",
              "    }\n",
              "    90% {\n",
              "      border-color: transparent;\n",
              "      border-bottom-color: var(--fill-color);\n",
              "    }\n",
              "  }\n",
              "</style>\n",
              "\n",
              "  <script>\n",
              "    async function quickchart(key) {\n",
              "      const quickchartButtonEl =\n",
              "        document.querySelector('#' + key + ' button');\n",
              "      quickchartButtonEl.disabled = true;  // To prevent multiple clicks.\n",
              "      quickchartButtonEl.classList.add('colab-df-spinner');\n",
              "      try {\n",
              "        const charts = await google.colab.kernel.invokeFunction(\n",
              "            'suggestCharts', [key], {});\n",
              "      } catch (error) {\n",
              "        console.error('Error during call to suggestCharts:', error);\n",
              "      }\n",
              "      quickchartButtonEl.classList.remove('colab-df-spinner');\n",
              "      quickchartButtonEl.classList.add('colab-df-quickchart-complete');\n",
              "    }\n",
              "    (() => {\n",
              "      let quickchartButtonEl =\n",
              "        document.querySelector('#df-33afa417-28bc-43fd-b643-349dfbd91427 button');\n",
              "      quickchartButtonEl.style.display =\n",
              "        google.colab.kernel.accessAllowed ? 'block' : 'none';\n",
              "    })();\n",
              "  </script>\n",
              "</div>\n",
              "    </div>\n",
              "  </div>\n"
            ]
          },
          "metadata": {},
          "execution_count": 70
        }
      ]
    },
    {
      "cell_type": "code",
      "source": [
        "df_wine.info()"
      ],
      "metadata": {
        "colab": {
          "base_uri": "https://localhost:8080/"
        },
        "id": "0N-zNOVra2wO",
        "outputId": "a083754d-f1ba-4c05-9865-c32e347dc49b"
      },
      "execution_count": 71,
      "outputs": [
        {
          "output_type": "stream",
          "name": "stdout",
          "text": [
            "<class 'pandas.core.frame.DataFrame'>\n",
            "RangeIndex: 1599 entries, 0 to 1598\n",
            "Data columns (total 12 columns):\n",
            " #   Column                Non-Null Count  Dtype  \n",
            "---  ------                --------------  -----  \n",
            " 0   fixed acidity         1599 non-null   float64\n",
            " 1   volatile acidity      1599 non-null   float64\n",
            " 2   citric acid           1599 non-null   float64\n",
            " 3   residual sugar        1599 non-null   float64\n",
            " 4   chlorides             1599 non-null   float64\n",
            " 5   free sulfur dioxide   1599 non-null   float64\n",
            " 6   total sulfur dioxide  1599 non-null   float64\n",
            " 7   density               1599 non-null   float64\n",
            " 8   pH                    1599 non-null   float64\n",
            " 9   sulphates             1599 non-null   float64\n",
            " 10  alcohol               1599 non-null   float64\n",
            " 11  quality               1599 non-null   int64  \n",
            "dtypes: float64(11), int64(1)\n",
            "memory usage: 150.0 KB\n"
          ]
        }
      ]
    },
    {
      "cell_type": "code",
      "source": [
        "features = df_wine.drop('quality', axis=1).columns.to_list()\n",
        "\n",
        "features"
      ],
      "metadata": {
        "colab": {
          "base_uri": "https://localhost:8080/"
        },
        "id": "83SnzqM67wAe",
        "outputId": "6b6407de-8709-487b-b1c4-898f98975059"
      },
      "execution_count": 72,
      "outputs": [
        {
          "output_type": "execute_result",
          "data": {
            "text/plain": [
              "['fixed acidity',\n",
              " 'volatile acidity',\n",
              " 'citric acid',\n",
              " 'residual sugar',\n",
              " 'chlorides',\n",
              " 'free sulfur dioxide',\n",
              " 'total sulfur dioxide',\n",
              " 'density',\n",
              " 'pH',\n",
              " 'sulphates',\n",
              " 'alcohol']"
            ]
          },
          "metadata": {},
          "execution_count": 72
        }
      ]
    },
    {
      "cell_type": "code",
      "source": [
        "target = df_wine.columns.to_list()[-1]\n",
        "\n",
        "target"
      ],
      "metadata": {
        "colab": {
          "base_uri": "https://localhost:8080/",
          "height": 36
        },
        "id": "gYxEkL0-4mDw",
        "outputId": "a97aee7f-20b3-4588-c53c-bc0bd8f5619f"
      },
      "execution_count": 73,
      "outputs": [
        {
          "output_type": "execute_result",
          "data": {
            "text/plain": [
              "'quality'"
            ],
            "application/vnd.google.colaboratory.intrinsic+json": {
              "type": "string"
            }
          },
          "metadata": {},
          "execution_count": 73
        }
      ]
    },
    {
      "cell_type": "code",
      "source": [
        "df_wine[target].unique()"
      ],
      "metadata": {
        "colab": {
          "base_uri": "https://localhost:8080/"
        },
        "id": "SdIgiqWPooN4",
        "outputId": "afa93634-e8da-40fb-a213-0c87a9ac6282"
      },
      "execution_count": 74,
      "outputs": [
        {
          "output_type": "execute_result",
          "data": {
            "text/plain": [
              "array([5, 6, 7, 4, 8, 3])"
            ]
          },
          "metadata": {},
          "execution_count": 74
        }
      ]
    },
    {
      "cell_type": "code",
      "source": [
        "df_wine[target].replace([3, 4, 5, 6, 7, 8], [0, 1, 2, 3, 4, 5],\n",
        "                        inplace=True)"
      ],
      "metadata": {
        "id": "bwv_wVUW4PV1"
      },
      "execution_count": 75,
      "outputs": []
    },
    {
      "cell_type": "code",
      "source": [
        "df_wine.head(10)"
      ],
      "metadata": {
        "colab": {
          "base_uri": "https://localhost:8080/",
          "height": 380
        },
        "id": "nQzx_aoK4pyp",
        "outputId": "f2ce822a-6de5-452e-f693-cbe91b4342ff"
      },
      "execution_count": 76,
      "outputs": [
        {
          "output_type": "execute_result",
          "data": {
            "text/plain": [
              "   fixed acidity  volatile acidity  citric acid  residual sugar  chlorides  \\\n",
              "0            7.4              0.70         0.00             1.9      0.076   \n",
              "1            7.8              0.88         0.00             2.6      0.098   \n",
              "2            7.8              0.76         0.04             2.3      0.092   \n",
              "3           11.2              0.28         0.56             1.9      0.075   \n",
              "4            7.4              0.70         0.00             1.9      0.076   \n",
              "5            7.4              0.66         0.00             1.8      0.075   \n",
              "6            7.9              0.60         0.06             1.6      0.069   \n",
              "7            7.3              0.65         0.00             1.2      0.065   \n",
              "8            7.8              0.58         0.02             2.0      0.073   \n",
              "9            7.5              0.50         0.36             6.1      0.071   \n",
              "\n",
              "   free sulfur dioxide  total sulfur dioxide  density    pH  sulphates  \\\n",
              "0                 11.0                  34.0   0.9978  3.51       0.56   \n",
              "1                 25.0                  67.0   0.9968  3.20       0.68   \n",
              "2                 15.0                  54.0   0.9970  3.26       0.65   \n",
              "3                 17.0                  60.0   0.9980  3.16       0.58   \n",
              "4                 11.0                  34.0   0.9978  3.51       0.56   \n",
              "5                 13.0                  40.0   0.9978  3.51       0.56   \n",
              "6                 15.0                  59.0   0.9964  3.30       0.46   \n",
              "7                 15.0                  21.0   0.9946  3.39       0.47   \n",
              "8                  9.0                  18.0   0.9968  3.36       0.57   \n",
              "9                 17.0                 102.0   0.9978  3.35       0.80   \n",
              "\n",
              "   alcohol  quality  \n",
              "0      9.4        2  \n",
              "1      9.8        2  \n",
              "2      9.8        2  \n",
              "3      9.8        3  \n",
              "4      9.4        2  \n",
              "5      9.4        2  \n",
              "6      9.4        2  \n",
              "7     10.0        4  \n",
              "8      9.5        4  \n",
              "9     10.5        2  "
            ],
            "text/html": [
              "\n",
              "  <div id=\"df-cd3d40f1-3762-4459-a1d6-c04058a86344\" class=\"colab-df-container\">\n",
              "    <div>\n",
              "<style scoped>\n",
              "    .dataframe tbody tr th:only-of-type {\n",
              "        vertical-align: middle;\n",
              "    }\n",
              "\n",
              "    .dataframe tbody tr th {\n",
              "        vertical-align: top;\n",
              "    }\n",
              "\n",
              "    .dataframe thead th {\n",
              "        text-align: right;\n",
              "    }\n",
              "</style>\n",
              "<table border=\"1\" class=\"dataframe\">\n",
              "  <thead>\n",
              "    <tr style=\"text-align: right;\">\n",
              "      <th></th>\n",
              "      <th>fixed acidity</th>\n",
              "      <th>volatile acidity</th>\n",
              "      <th>citric acid</th>\n",
              "      <th>residual sugar</th>\n",
              "      <th>chlorides</th>\n",
              "      <th>free sulfur dioxide</th>\n",
              "      <th>total sulfur dioxide</th>\n",
              "      <th>density</th>\n",
              "      <th>pH</th>\n",
              "      <th>sulphates</th>\n",
              "      <th>alcohol</th>\n",
              "      <th>quality</th>\n",
              "    </tr>\n",
              "  </thead>\n",
              "  <tbody>\n",
              "    <tr>\n",
              "      <th>0</th>\n",
              "      <td>7.4</td>\n",
              "      <td>0.70</td>\n",
              "      <td>0.00</td>\n",
              "      <td>1.9</td>\n",
              "      <td>0.076</td>\n",
              "      <td>11.0</td>\n",
              "      <td>34.0</td>\n",
              "      <td>0.9978</td>\n",
              "      <td>3.51</td>\n",
              "      <td>0.56</td>\n",
              "      <td>9.4</td>\n",
              "      <td>2</td>\n",
              "    </tr>\n",
              "    <tr>\n",
              "      <th>1</th>\n",
              "      <td>7.8</td>\n",
              "      <td>0.88</td>\n",
              "      <td>0.00</td>\n",
              "      <td>2.6</td>\n",
              "      <td>0.098</td>\n",
              "      <td>25.0</td>\n",
              "      <td>67.0</td>\n",
              "      <td>0.9968</td>\n",
              "      <td>3.20</td>\n",
              "      <td>0.68</td>\n",
              "      <td>9.8</td>\n",
              "      <td>2</td>\n",
              "    </tr>\n",
              "    <tr>\n",
              "      <th>2</th>\n",
              "      <td>7.8</td>\n",
              "      <td>0.76</td>\n",
              "      <td>0.04</td>\n",
              "      <td>2.3</td>\n",
              "      <td>0.092</td>\n",
              "      <td>15.0</td>\n",
              "      <td>54.0</td>\n",
              "      <td>0.9970</td>\n",
              "      <td>3.26</td>\n",
              "      <td>0.65</td>\n",
              "      <td>9.8</td>\n",
              "      <td>2</td>\n",
              "    </tr>\n",
              "    <tr>\n",
              "      <th>3</th>\n",
              "      <td>11.2</td>\n",
              "      <td>0.28</td>\n",
              "      <td>0.56</td>\n",
              "      <td>1.9</td>\n",
              "      <td>0.075</td>\n",
              "      <td>17.0</td>\n",
              "      <td>60.0</td>\n",
              "      <td>0.9980</td>\n",
              "      <td>3.16</td>\n",
              "      <td>0.58</td>\n",
              "      <td>9.8</td>\n",
              "      <td>3</td>\n",
              "    </tr>\n",
              "    <tr>\n",
              "      <th>4</th>\n",
              "      <td>7.4</td>\n",
              "      <td>0.70</td>\n",
              "      <td>0.00</td>\n",
              "      <td>1.9</td>\n",
              "      <td>0.076</td>\n",
              "      <td>11.0</td>\n",
              "      <td>34.0</td>\n",
              "      <td>0.9978</td>\n",
              "      <td>3.51</td>\n",
              "      <td>0.56</td>\n",
              "      <td>9.4</td>\n",
              "      <td>2</td>\n",
              "    </tr>\n",
              "    <tr>\n",
              "      <th>5</th>\n",
              "      <td>7.4</td>\n",
              "      <td>0.66</td>\n",
              "      <td>0.00</td>\n",
              "      <td>1.8</td>\n",
              "      <td>0.075</td>\n",
              "      <td>13.0</td>\n",
              "      <td>40.0</td>\n",
              "      <td>0.9978</td>\n",
              "      <td>3.51</td>\n",
              "      <td>0.56</td>\n",
              "      <td>9.4</td>\n",
              "      <td>2</td>\n",
              "    </tr>\n",
              "    <tr>\n",
              "      <th>6</th>\n",
              "      <td>7.9</td>\n",
              "      <td>0.60</td>\n",
              "      <td>0.06</td>\n",
              "      <td>1.6</td>\n",
              "      <td>0.069</td>\n",
              "      <td>15.0</td>\n",
              "      <td>59.0</td>\n",
              "      <td>0.9964</td>\n",
              "      <td>3.30</td>\n",
              "      <td>0.46</td>\n",
              "      <td>9.4</td>\n",
              "      <td>2</td>\n",
              "    </tr>\n",
              "    <tr>\n",
              "      <th>7</th>\n",
              "      <td>7.3</td>\n",
              "      <td>0.65</td>\n",
              "      <td>0.00</td>\n",
              "      <td>1.2</td>\n",
              "      <td>0.065</td>\n",
              "      <td>15.0</td>\n",
              "      <td>21.0</td>\n",
              "      <td>0.9946</td>\n",
              "      <td>3.39</td>\n",
              "      <td>0.47</td>\n",
              "      <td>10.0</td>\n",
              "      <td>4</td>\n",
              "    </tr>\n",
              "    <tr>\n",
              "      <th>8</th>\n",
              "      <td>7.8</td>\n",
              "      <td>0.58</td>\n",
              "      <td>0.02</td>\n",
              "      <td>2.0</td>\n",
              "      <td>0.073</td>\n",
              "      <td>9.0</td>\n",
              "      <td>18.0</td>\n",
              "      <td>0.9968</td>\n",
              "      <td>3.36</td>\n",
              "      <td>0.57</td>\n",
              "      <td>9.5</td>\n",
              "      <td>4</td>\n",
              "    </tr>\n",
              "    <tr>\n",
              "      <th>9</th>\n",
              "      <td>7.5</td>\n",
              "      <td>0.50</td>\n",
              "      <td>0.36</td>\n",
              "      <td>6.1</td>\n",
              "      <td>0.071</td>\n",
              "      <td>17.0</td>\n",
              "      <td>102.0</td>\n",
              "      <td>0.9978</td>\n",
              "      <td>3.35</td>\n",
              "      <td>0.80</td>\n",
              "      <td>10.5</td>\n",
              "      <td>2</td>\n",
              "    </tr>\n",
              "  </tbody>\n",
              "</table>\n",
              "</div>\n",
              "    <div class=\"colab-df-buttons\">\n",
              "\n",
              "  <div class=\"colab-df-container\">\n",
              "    <button class=\"colab-df-convert\" onclick=\"convertToInteractive('df-cd3d40f1-3762-4459-a1d6-c04058a86344')\"\n",
              "            title=\"Convert this dataframe to an interactive table.\"\n",
              "            style=\"display:none;\">\n",
              "\n",
              "  <svg xmlns=\"http://www.w3.org/2000/svg\" height=\"24px\" viewBox=\"0 -960 960 960\">\n",
              "    <path d=\"M120-120v-720h720v720H120Zm60-500h600v-160H180v160Zm220 220h160v-160H400v160Zm0 220h160v-160H400v160ZM180-400h160v-160H180v160Zm440 0h160v-160H620v160ZM180-180h160v-160H180v160Zm440 0h160v-160H620v160Z\"/>\n",
              "  </svg>\n",
              "    </button>\n",
              "\n",
              "  <style>\n",
              "    .colab-df-container {\n",
              "      display:flex;\n",
              "      gap: 12px;\n",
              "    }\n",
              "\n",
              "    .colab-df-convert {\n",
              "      background-color: #E8F0FE;\n",
              "      border: none;\n",
              "      border-radius: 50%;\n",
              "      cursor: pointer;\n",
              "      display: none;\n",
              "      fill: #1967D2;\n",
              "      height: 32px;\n",
              "      padding: 0 0 0 0;\n",
              "      width: 32px;\n",
              "    }\n",
              "\n",
              "    .colab-df-convert:hover {\n",
              "      background-color: #E2EBFA;\n",
              "      box-shadow: 0px 1px 2px rgba(60, 64, 67, 0.3), 0px 1px 3px 1px rgba(60, 64, 67, 0.15);\n",
              "      fill: #174EA6;\n",
              "    }\n",
              "\n",
              "    .colab-df-buttons div {\n",
              "      margin-bottom: 4px;\n",
              "    }\n",
              "\n",
              "    [theme=dark] .colab-df-convert {\n",
              "      background-color: #3B4455;\n",
              "      fill: #D2E3FC;\n",
              "    }\n",
              "\n",
              "    [theme=dark] .colab-df-convert:hover {\n",
              "      background-color: #434B5C;\n",
              "      box-shadow: 0px 1px 3px 1px rgba(0, 0, 0, 0.15);\n",
              "      filter: drop-shadow(0px 1px 2px rgba(0, 0, 0, 0.3));\n",
              "      fill: #FFFFFF;\n",
              "    }\n",
              "  </style>\n",
              "\n",
              "    <script>\n",
              "      const buttonEl =\n",
              "        document.querySelector('#df-cd3d40f1-3762-4459-a1d6-c04058a86344 button.colab-df-convert');\n",
              "      buttonEl.style.display =\n",
              "        google.colab.kernel.accessAllowed ? 'block' : 'none';\n",
              "\n",
              "      async function convertToInteractive(key) {\n",
              "        const element = document.querySelector('#df-cd3d40f1-3762-4459-a1d6-c04058a86344');\n",
              "        const dataTable =\n",
              "          await google.colab.kernel.invokeFunction('convertToInteractive',\n",
              "                                                    [key], {});\n",
              "        if (!dataTable) return;\n",
              "\n",
              "        const docLinkHtml = 'Like what you see? Visit the ' +\n",
              "          '<a target=\"_blank\" href=https://colab.research.google.com/notebooks/data_table.ipynb>data table notebook</a>'\n",
              "          + ' to learn more about interactive tables.';\n",
              "        element.innerHTML = '';\n",
              "        dataTable['output_type'] = 'display_data';\n",
              "        await google.colab.output.renderOutput(dataTable, element);\n",
              "        const docLink = document.createElement('div');\n",
              "        docLink.innerHTML = docLinkHtml;\n",
              "        element.appendChild(docLink);\n",
              "      }\n",
              "    </script>\n",
              "  </div>\n",
              "\n",
              "\n",
              "<div id=\"df-4f9cca5c-bbe5-4a60-a566-df471fd5d535\">\n",
              "  <button class=\"colab-df-quickchart\" onclick=\"quickchart('df-4f9cca5c-bbe5-4a60-a566-df471fd5d535')\"\n",
              "            title=\"Suggest charts\"\n",
              "            style=\"display:none;\">\n",
              "\n",
              "<svg xmlns=\"http://www.w3.org/2000/svg\" height=\"24px\"viewBox=\"0 0 24 24\"\n",
              "     width=\"24px\">\n",
              "    <g>\n",
              "        <path d=\"M19 3H5c-1.1 0-2 .9-2 2v14c0 1.1.9 2 2 2h14c1.1 0 2-.9 2-2V5c0-1.1-.9-2-2-2zM9 17H7v-7h2v7zm4 0h-2V7h2v10zm4 0h-2v-4h2v4z\"/>\n",
              "    </g>\n",
              "</svg>\n",
              "  </button>\n",
              "\n",
              "<style>\n",
              "  .colab-df-quickchart {\n",
              "      --bg-color: #E8F0FE;\n",
              "      --fill-color: #1967D2;\n",
              "      --hover-bg-color: #E2EBFA;\n",
              "      --hover-fill-color: #174EA6;\n",
              "      --disabled-fill-color: #AAA;\n",
              "      --disabled-bg-color: #DDD;\n",
              "  }\n",
              "\n",
              "  [theme=dark] .colab-df-quickchart {\n",
              "      --bg-color: #3B4455;\n",
              "      --fill-color: #D2E3FC;\n",
              "      --hover-bg-color: #434B5C;\n",
              "      --hover-fill-color: #FFFFFF;\n",
              "      --disabled-bg-color: #3B4455;\n",
              "      --disabled-fill-color: #666;\n",
              "  }\n",
              "\n",
              "  .colab-df-quickchart {\n",
              "    background-color: var(--bg-color);\n",
              "    border: none;\n",
              "    border-radius: 50%;\n",
              "    cursor: pointer;\n",
              "    display: none;\n",
              "    fill: var(--fill-color);\n",
              "    height: 32px;\n",
              "    padding: 0;\n",
              "    width: 32px;\n",
              "  }\n",
              "\n",
              "  .colab-df-quickchart:hover {\n",
              "    background-color: var(--hover-bg-color);\n",
              "    box-shadow: 0 1px 2px rgba(60, 64, 67, 0.3), 0 1px 3px 1px rgba(60, 64, 67, 0.15);\n",
              "    fill: var(--button-hover-fill-color);\n",
              "  }\n",
              "\n",
              "  .colab-df-quickchart-complete:disabled,\n",
              "  .colab-df-quickchart-complete:disabled:hover {\n",
              "    background-color: var(--disabled-bg-color);\n",
              "    fill: var(--disabled-fill-color);\n",
              "    box-shadow: none;\n",
              "  }\n",
              "\n",
              "  .colab-df-spinner {\n",
              "    border: 2px solid var(--fill-color);\n",
              "    border-color: transparent;\n",
              "    border-bottom-color: var(--fill-color);\n",
              "    animation:\n",
              "      spin 1s steps(1) infinite;\n",
              "  }\n",
              "\n",
              "  @keyframes spin {\n",
              "    0% {\n",
              "      border-color: transparent;\n",
              "      border-bottom-color: var(--fill-color);\n",
              "      border-left-color: var(--fill-color);\n",
              "    }\n",
              "    20% {\n",
              "      border-color: transparent;\n",
              "      border-left-color: var(--fill-color);\n",
              "      border-top-color: var(--fill-color);\n",
              "    }\n",
              "    30% {\n",
              "      border-color: transparent;\n",
              "      border-left-color: var(--fill-color);\n",
              "      border-top-color: var(--fill-color);\n",
              "      border-right-color: var(--fill-color);\n",
              "    }\n",
              "    40% {\n",
              "      border-color: transparent;\n",
              "      border-right-color: var(--fill-color);\n",
              "      border-top-color: var(--fill-color);\n",
              "    }\n",
              "    60% {\n",
              "      border-color: transparent;\n",
              "      border-right-color: var(--fill-color);\n",
              "    }\n",
              "    80% {\n",
              "      border-color: transparent;\n",
              "      border-right-color: var(--fill-color);\n",
              "      border-bottom-color: var(--fill-color);\n",
              "    }\n",
              "    90% {\n",
              "      border-color: transparent;\n",
              "      border-bottom-color: var(--fill-color);\n",
              "    }\n",
              "  }\n",
              "</style>\n",
              "\n",
              "  <script>\n",
              "    async function quickchart(key) {\n",
              "      const quickchartButtonEl =\n",
              "        document.querySelector('#' + key + ' button');\n",
              "      quickchartButtonEl.disabled = true;  // To prevent multiple clicks.\n",
              "      quickchartButtonEl.classList.add('colab-df-spinner');\n",
              "      try {\n",
              "        const charts = await google.colab.kernel.invokeFunction(\n",
              "            'suggestCharts', [key], {});\n",
              "      } catch (error) {\n",
              "        console.error('Error during call to suggestCharts:', error);\n",
              "      }\n",
              "      quickchartButtonEl.classList.remove('colab-df-spinner');\n",
              "      quickchartButtonEl.classList.add('colab-df-quickchart-complete');\n",
              "    }\n",
              "    (() => {\n",
              "      let quickchartButtonEl =\n",
              "        document.querySelector('#df-4f9cca5c-bbe5-4a60-a566-df471fd5d535 button');\n",
              "      quickchartButtonEl.style.display =\n",
              "        google.colab.kernel.accessAllowed ? 'block' : 'none';\n",
              "    })();\n",
              "  </script>\n",
              "</div>\n",
              "    </div>\n",
              "  </div>\n"
            ]
          },
          "metadata": {},
          "execution_count": 76
        }
      ]
    },
    {
      "cell_type": "markdown",
      "source": [
        "# Data visualization"
      ],
      "metadata": {
        "id": "hV9E_54f332v"
      }
    },
    {
      "cell_type": "code",
      "source": [
        "fig = px.histogram(df_wine, x='quality')\n",
        "fig.show()"
      ],
      "metadata": {
        "colab": {
          "base_uri": "https://localhost:8080/",
          "height": 542
        },
        "id": "AD22vYgA37mg",
        "outputId": "78bff811-55cf-4469-fbaf-9c44aa6e6dec"
      },
      "execution_count": 77,
      "outputs": [
        {
          "output_type": "display_data",
          "data": {
            "text/html": [
              "<html>\n",
              "<head><meta charset=\"utf-8\" /></head>\n",
              "<body>\n",
              "    <div>            <script src=\"https://cdnjs.cloudflare.com/ajax/libs/mathjax/2.7.5/MathJax.js?config=TeX-AMS-MML_SVG\"></script><script type=\"text/javascript\">if (window.MathJax && window.MathJax.Hub && window.MathJax.Hub.Config) {window.MathJax.Hub.Config({SVG: {font: \"STIX-Web\"}});}</script>                <script type=\"text/javascript\">window.PlotlyConfig = {MathJaxConfig: 'local'};</script>\n",
              "        <script charset=\"utf-8\" src=\"https://cdn.plot.ly/plotly-2.27.0.min.js\"></script>                <div id=\"2b88ffa4-a895-47b6-a9d2-f1bf66b32265\" class=\"plotly-graph-div\" style=\"height:525px; width:100%;\"></div>            <script type=\"text/javascript\">                                    window.PLOTLYENV=window.PLOTLYENV || {};                                    if (document.getElementById(\"2b88ffa4-a895-47b6-a9d2-f1bf66b32265\")) {                    Plotly.newPlot(                        \"2b88ffa4-a895-47b6-a9d2-f1bf66b32265\",                        [{\"alignmentgroup\":\"True\",\"bingroup\":\"x\",\"hovertemplate\":\"quality=%{x}\\u003cbr\\u003ecount=%{y}\\u003cextra\\u003e\\u003c\\u002fextra\\u003e\",\"legendgroup\":\"\",\"marker\":{\"color\":\"#636efa\",\"pattern\":{\"shape\":\"\"}},\"name\":\"\",\"offsetgroup\":\"\",\"orientation\":\"v\",\"showlegend\":false,\"x\":[2,2,2,3,2,2,2,4,4,2,2,2,2,2,2,2,4,2,1,3,3,2,2,2,3,2,2,2,2,3,2,3,2,3,2,3,3,4,1,2,2,1,3,2,2,1,2,2,2,2,2,3,3,2,3,2,2,2,2,3,2,2,4,2,2,2,2,2,2,3,3,2,2,1,2,2,2,3,2,1,2,2,2,2,3,2,3,2,2,2,2,3,2,2,1,3,2,2,2,3,3,3,3,2,2,2,2,2,3,2,2,2,2,3,2,3,3,3,3,3,2,3,2,2,2,2,2,2,4,2,2,2,2,3,3,2,2,2,2,2,2,2,3,2,3,2,2,2,3,3,3,1,2,2,2,2,2,2,2,3,2,1,3,2,2,2,2,1,3,2,1,3,3,3,2,2,2,3,2,2,2,2,2,2,3,2,2,2,2,2,2,3,2,2,2,2,2,3,4,1,4,2,2,2,3,4,4,2,2,4,3,3,3,2,3,2,2,2,2,2,3,2,2,3,1,3,3,2,3,2,4,3,3,2,3,3,3,3,3,3,2,3,3,4,4,3,2,2,3,3,3,3,2,2,3,2,2,2,2,4,2,1,2,2,2,4,1,5,3,3,3,3,2,2,2,3,3,3,5,4,3,4,2,4,2,2,3,3,4,2,4,2,3,3,3,2,2,2,2,2,3,3,2,2,2,3,2,3,3,3,3,3,3,2,2,3,2,3,4,3,4,2,2,3,3,3,4,2,3,2,3,3,3,2,4,4,3,2,3,4,3,3,3,3,3,2,4,3,3,3,3,3,2,2,3,3,2,4,4,3,2,3,2,2,4,3,4,2,2,4,2,3,3,2,3,4,3,4,3,3,3,3,3,3,2,3,3,3,3,4,5,3,2,2,2,4,2,3,3,2,2,3,3,3,2,3,3,4,3,1,3,2,2,4,2,2,3,2,3,2,4,4,2,4,2,4,3,3,2,3,4,2,3,2,3,2,3,3,3,2,5,3,4,4,4,3,2,2,3,3,3,3,3,4,2,5,2,2,4,0,3,2,2,2,3,2,3,3,3,2,2,3,3,2,3,2,2,3,2,3,2,5,2,2,3,2,2,3,4,3,3,4,4,3,3,5,3,2,5,3,3,4,4,4,4,4,4,3,3,4,2,3,3,4,4,2,3,0,3,2,3,2,2,2,2,2,2,3,3,2,3,2,2,3,3,3,2,3,4,2,2,3,2,3,3,2,3,3,3,3,3,3,3,2,2,2,3,2,3,3,2,2,2,3,3,2,3,3,3,3,3,3,2,1,3,3,1,2,2,3,2,2,2,4,4,3,4,2,5,4,2,3,2,2,2,2,3,3,3,3,1,3,2,3,3,3,4,3,3,3,2,2,3,2,3,2,2,3,2,2,2,2,2,3,2,2,2,2,3,2,3,2,3,1,2,2,2,2,4,3,2,2,2,2,2,4,2,1,4,3,2,2,2,3,2,2,2,4,3,1,3,2,3,3,2,2,3,3,2,3,2,2,2,2,3,2,3,2,2,2,2,3,2,2,2,2,2,2,2,2,0,2,2,2,2,3,3,3,2,3,3,3,3,1,1,2,2,2,3,3,2,2,2,2,2,3,2,2,2,2,2,2,2,2,1,2,3,2,2,3,2,2,2,2,2,2,2,3,2,2,3,2,2,2,2,3,3,2,3,3,2,2,2,2,3,3,3,2,2,2,2,2,3,2,3,3,2,2,3,2,3,2,2,3,3,2,3,3,2,2,3,2,2,2,2,2,2,3,3,2,3,2,3,2,3,2,2,4,3,3,2,2,4,3,3,4,4,4,2,3,2,3,2,1,3,2,3,3,2,2,2,4,2,2,2,2,4,2,5,3,1,3,0,1,2,2,4,4,4,2,4,2,3,2,3,2,2,3,2,2,2,2,2,3,3,4,3,4,4,3,2,3,2,2,2,2,3,3,3,3,3,2,1,4,4,4,1,3,3,2,2,3,3,2,3,2,3,4,3,2,2,2,3,2,3,3,4,3,4,0,2,4,4,4,4,2,2,3,3,3,3,3,3,4,3,3,2,3,3,3,2,3,3,3,2,4,3,1,2,4,2,2,3,2,2,3,3,1,4,2,4,4,4,4,4,4,4,4,4,4,4,4,4,4,3,2,3,3,4,2,3,2,2,3,3,3,4,2,3,2,3,3,4,2,4,2,2,2,4,2,3,2,3,3,2,3,4,2,2,3,2,2,3,2,2,3,4,4,3,3,4,4,4,4,2,4,4,4,4,2,4,3,2,3,3,3,4,3,3,2,3,3,2,3,4,3,3,2,3,4,4,4,2,3,3,4,4,2,4,3,2,3,3,4,3,3,3,2,3,3,2,2,2,4,3,3,4,2,4,4,3,5,3,3,3,3,4,4,4,2,4,2,3,3,2,4,3,2,2,4,3,4,3,3,3,2,4,3,4,4,5,3,3,4,3,2,3,2,4,2,3,3,3,3,3,2,3,4,2,3,3,4,3,3,3,3,3,3,3,2,5,3,3,3,1,4,3,3,2,3,3,2,4,4,4,3,3,3,2,3,3,3,3,3,2,3,3,4,3,3,4,3,2,3,3,2,4,4,3,2,4,3,4,2,2,2,2,4,3,3,3,3,3,3,3,3,1,4,2,3,3,2,3,2,2,3,2,3,2,1,3,2,4,2,3,3,3,3,3,3,3,4,5,2,4,4,4,2,4,4,3,2,3,3,3,3,3,3,3,3,3,3,3,3,3,2,2,2,4,2,3,2,2,1,3,1,3,3,1,1,2,2,3,2,3,2,2,2,3,3,3,2,2,2,2,2,2,3,3,3,2,1,2,1,3,3,3,3,3,5,3,3,2,2,3,3,1,3,3,4,3,3,3,3,2,2,3,2,2,2,2,3,3,1,3,2,2,3,3,0,3,3,3,2,2,2,2,1,2,2,2,3,2,3,3,3,3,3,3,3,2,3,2,4,3,3,3,3,2,3,3,2,3,2,2,3,2,2,2,3,3,3,3,3,2,3,2,2,2,2,2,3,2,2,2,2,2,3,2,3,2,2,3,1,3,2,2,3,3,1,2,3,2,2,0,2,2,3,3,3,3,2,2,2,2,2,2,2,2,2,3,2,2,2,2,3,2,2,4,3,2,2,3,5,3,4,3,3,4,3,3,3,3,2,2,2,2,4,2,2,2,2,3,1,3,3,3,2,2,2,2,3,3,4,3,3,2,2,2,3,4,3,2,2,3,3,2,2,2,5,4,4,4,2,3,3,3,2,2,4,3,1,3,3,2,2,4,1,4,0,2,2,3,2,2,4,2,4,0,2,1,2,1,2,1,2,2,2,2,3,3,2,2,2,4,3,2,3,3,3,2,2,2,3,3,0,3,3,3,2,3,2,3,3,3,3,2,3,2,2,3,1,2,2,3,2,3,3,3,3,3,2,3,2,4,3,3,3,2,2,3,4,3,3,4,3,2,2,2,5,2,2,3,2,3,4,2,3,2,2,2,2,2,2,2,3,3,2,2,3,3,3,2,3,3,3,3,3,3,2,3,2,2,2,4,3,3,3,3,2,3,3,3,3,2,3,3,2,3],\"xaxis\":\"x\",\"yaxis\":\"y\",\"type\":\"histogram\"}],                        {\"template\":{\"data\":{\"histogram2dcontour\":[{\"type\":\"histogram2dcontour\",\"colorbar\":{\"outlinewidth\":0,\"ticks\":\"\"},\"colorscale\":[[0.0,\"#0d0887\"],[0.1111111111111111,\"#46039f\"],[0.2222222222222222,\"#7201a8\"],[0.3333333333333333,\"#9c179e\"],[0.4444444444444444,\"#bd3786\"],[0.5555555555555556,\"#d8576b\"],[0.6666666666666666,\"#ed7953\"],[0.7777777777777778,\"#fb9f3a\"],[0.8888888888888888,\"#fdca26\"],[1.0,\"#f0f921\"]]}],\"choropleth\":[{\"type\":\"choropleth\",\"colorbar\":{\"outlinewidth\":0,\"ticks\":\"\"}}],\"histogram2d\":[{\"type\":\"histogram2d\",\"colorbar\":{\"outlinewidth\":0,\"ticks\":\"\"},\"colorscale\":[[0.0,\"#0d0887\"],[0.1111111111111111,\"#46039f\"],[0.2222222222222222,\"#7201a8\"],[0.3333333333333333,\"#9c179e\"],[0.4444444444444444,\"#bd3786\"],[0.5555555555555556,\"#d8576b\"],[0.6666666666666666,\"#ed7953\"],[0.7777777777777778,\"#fb9f3a\"],[0.8888888888888888,\"#fdca26\"],[1.0,\"#f0f921\"]]}],\"heatmap\":[{\"type\":\"heatmap\",\"colorbar\":{\"outlinewidth\":0,\"ticks\":\"\"},\"colorscale\":[[0.0,\"#0d0887\"],[0.1111111111111111,\"#46039f\"],[0.2222222222222222,\"#7201a8\"],[0.3333333333333333,\"#9c179e\"],[0.4444444444444444,\"#bd3786\"],[0.5555555555555556,\"#d8576b\"],[0.6666666666666666,\"#ed7953\"],[0.7777777777777778,\"#fb9f3a\"],[0.8888888888888888,\"#fdca26\"],[1.0,\"#f0f921\"]]}],\"heatmapgl\":[{\"type\":\"heatmapgl\",\"colorbar\":{\"outlinewidth\":0,\"ticks\":\"\"},\"colorscale\":[[0.0,\"#0d0887\"],[0.1111111111111111,\"#46039f\"],[0.2222222222222222,\"#7201a8\"],[0.3333333333333333,\"#9c179e\"],[0.4444444444444444,\"#bd3786\"],[0.5555555555555556,\"#d8576b\"],[0.6666666666666666,\"#ed7953\"],[0.7777777777777778,\"#fb9f3a\"],[0.8888888888888888,\"#fdca26\"],[1.0,\"#f0f921\"]]}],\"contourcarpet\":[{\"type\":\"contourcarpet\",\"colorbar\":{\"outlinewidth\":0,\"ticks\":\"\"}}],\"contour\":[{\"type\":\"contour\",\"colorbar\":{\"outlinewidth\":0,\"ticks\":\"\"},\"colorscale\":[[0.0,\"#0d0887\"],[0.1111111111111111,\"#46039f\"],[0.2222222222222222,\"#7201a8\"],[0.3333333333333333,\"#9c179e\"],[0.4444444444444444,\"#bd3786\"],[0.5555555555555556,\"#d8576b\"],[0.6666666666666666,\"#ed7953\"],[0.7777777777777778,\"#fb9f3a\"],[0.8888888888888888,\"#fdca26\"],[1.0,\"#f0f921\"]]}],\"surface\":[{\"type\":\"surface\",\"colorbar\":{\"outlinewidth\":0,\"ticks\":\"\"},\"colorscale\":[[0.0,\"#0d0887\"],[0.1111111111111111,\"#46039f\"],[0.2222222222222222,\"#7201a8\"],[0.3333333333333333,\"#9c179e\"],[0.4444444444444444,\"#bd3786\"],[0.5555555555555556,\"#d8576b\"],[0.6666666666666666,\"#ed7953\"],[0.7777777777777778,\"#fb9f3a\"],[0.8888888888888888,\"#fdca26\"],[1.0,\"#f0f921\"]]}],\"mesh3d\":[{\"type\":\"mesh3d\",\"colorbar\":{\"outlinewidth\":0,\"ticks\":\"\"}}],\"scatter\":[{\"fillpattern\":{\"fillmode\":\"overlay\",\"size\":10,\"solidity\":0.2},\"type\":\"scatter\"}],\"parcoords\":[{\"type\":\"parcoords\",\"line\":{\"colorbar\":{\"outlinewidth\":0,\"ticks\":\"\"}}}],\"scatterpolargl\":[{\"type\":\"scatterpolargl\",\"marker\":{\"colorbar\":{\"outlinewidth\":0,\"ticks\":\"\"}}}],\"bar\":[{\"error_x\":{\"color\":\"#2a3f5f\"},\"error_y\":{\"color\":\"#2a3f5f\"},\"marker\":{\"line\":{\"color\":\"#E5ECF6\",\"width\":0.5},\"pattern\":{\"fillmode\":\"overlay\",\"size\":10,\"solidity\":0.2}},\"type\":\"bar\"}],\"scattergeo\":[{\"type\":\"scattergeo\",\"marker\":{\"colorbar\":{\"outlinewidth\":0,\"ticks\":\"\"}}}],\"scatterpolar\":[{\"type\":\"scatterpolar\",\"marker\":{\"colorbar\":{\"outlinewidth\":0,\"ticks\":\"\"}}}],\"histogram\":[{\"marker\":{\"pattern\":{\"fillmode\":\"overlay\",\"size\":10,\"solidity\":0.2}},\"type\":\"histogram\"}],\"scattergl\":[{\"type\":\"scattergl\",\"marker\":{\"colorbar\":{\"outlinewidth\":0,\"ticks\":\"\"}}}],\"scatter3d\":[{\"type\":\"scatter3d\",\"line\":{\"colorbar\":{\"outlinewidth\":0,\"ticks\":\"\"}},\"marker\":{\"colorbar\":{\"outlinewidth\":0,\"ticks\":\"\"}}}],\"scattermapbox\":[{\"type\":\"scattermapbox\",\"marker\":{\"colorbar\":{\"outlinewidth\":0,\"ticks\":\"\"}}}],\"scatterternary\":[{\"type\":\"scatterternary\",\"marker\":{\"colorbar\":{\"outlinewidth\":0,\"ticks\":\"\"}}}],\"scattercarpet\":[{\"type\":\"scattercarpet\",\"marker\":{\"colorbar\":{\"outlinewidth\":0,\"ticks\":\"\"}}}],\"carpet\":[{\"aaxis\":{\"endlinecolor\":\"#2a3f5f\",\"gridcolor\":\"white\",\"linecolor\":\"white\",\"minorgridcolor\":\"white\",\"startlinecolor\":\"#2a3f5f\"},\"baxis\":{\"endlinecolor\":\"#2a3f5f\",\"gridcolor\":\"white\",\"linecolor\":\"white\",\"minorgridcolor\":\"white\",\"startlinecolor\":\"#2a3f5f\"},\"type\":\"carpet\"}],\"table\":[{\"cells\":{\"fill\":{\"color\":\"#EBF0F8\"},\"line\":{\"color\":\"white\"}},\"header\":{\"fill\":{\"color\":\"#C8D4E3\"},\"line\":{\"color\":\"white\"}},\"type\":\"table\"}],\"barpolar\":[{\"marker\":{\"line\":{\"color\":\"#E5ECF6\",\"width\":0.5},\"pattern\":{\"fillmode\":\"overlay\",\"size\":10,\"solidity\":0.2}},\"type\":\"barpolar\"}],\"pie\":[{\"automargin\":true,\"type\":\"pie\"}]},\"layout\":{\"autotypenumbers\":\"strict\",\"colorway\":[\"#636efa\",\"#EF553B\",\"#00cc96\",\"#ab63fa\",\"#FFA15A\",\"#19d3f3\",\"#FF6692\",\"#B6E880\",\"#FF97FF\",\"#FECB52\"],\"font\":{\"color\":\"#2a3f5f\"},\"hovermode\":\"closest\",\"hoverlabel\":{\"align\":\"left\"},\"paper_bgcolor\":\"white\",\"plot_bgcolor\":\"#E5ECF6\",\"polar\":{\"bgcolor\":\"#E5ECF6\",\"angularaxis\":{\"gridcolor\":\"white\",\"linecolor\":\"white\",\"ticks\":\"\"},\"radialaxis\":{\"gridcolor\":\"white\",\"linecolor\":\"white\",\"ticks\":\"\"}},\"ternary\":{\"bgcolor\":\"#E5ECF6\",\"aaxis\":{\"gridcolor\":\"white\",\"linecolor\":\"white\",\"ticks\":\"\"},\"baxis\":{\"gridcolor\":\"white\",\"linecolor\":\"white\",\"ticks\":\"\"},\"caxis\":{\"gridcolor\":\"white\",\"linecolor\":\"white\",\"ticks\":\"\"}},\"coloraxis\":{\"colorbar\":{\"outlinewidth\":0,\"ticks\":\"\"}},\"colorscale\":{\"sequential\":[[0.0,\"#0d0887\"],[0.1111111111111111,\"#46039f\"],[0.2222222222222222,\"#7201a8\"],[0.3333333333333333,\"#9c179e\"],[0.4444444444444444,\"#bd3786\"],[0.5555555555555556,\"#d8576b\"],[0.6666666666666666,\"#ed7953\"],[0.7777777777777778,\"#fb9f3a\"],[0.8888888888888888,\"#fdca26\"],[1.0,\"#f0f921\"]],\"sequentialminus\":[[0.0,\"#0d0887\"],[0.1111111111111111,\"#46039f\"],[0.2222222222222222,\"#7201a8\"],[0.3333333333333333,\"#9c179e\"],[0.4444444444444444,\"#bd3786\"],[0.5555555555555556,\"#d8576b\"],[0.6666666666666666,\"#ed7953\"],[0.7777777777777778,\"#fb9f3a\"],[0.8888888888888888,\"#fdca26\"],[1.0,\"#f0f921\"]],\"diverging\":[[0,\"#8e0152\"],[0.1,\"#c51b7d\"],[0.2,\"#de77ae\"],[0.3,\"#f1b6da\"],[0.4,\"#fde0ef\"],[0.5,\"#f7f7f7\"],[0.6,\"#e6f5d0\"],[0.7,\"#b8e186\"],[0.8,\"#7fbc41\"],[0.9,\"#4d9221\"],[1,\"#276419\"]]},\"xaxis\":{\"gridcolor\":\"white\",\"linecolor\":\"white\",\"ticks\":\"\",\"title\":{\"standoff\":15},\"zerolinecolor\":\"white\",\"automargin\":true,\"zerolinewidth\":2},\"yaxis\":{\"gridcolor\":\"white\",\"linecolor\":\"white\",\"ticks\":\"\",\"title\":{\"standoff\":15},\"zerolinecolor\":\"white\",\"automargin\":true,\"zerolinewidth\":2},\"scene\":{\"xaxis\":{\"backgroundcolor\":\"#E5ECF6\",\"gridcolor\":\"white\",\"linecolor\":\"white\",\"showbackground\":true,\"ticks\":\"\",\"zerolinecolor\":\"white\",\"gridwidth\":2},\"yaxis\":{\"backgroundcolor\":\"#E5ECF6\",\"gridcolor\":\"white\",\"linecolor\":\"white\",\"showbackground\":true,\"ticks\":\"\",\"zerolinecolor\":\"white\",\"gridwidth\":2},\"zaxis\":{\"backgroundcolor\":\"#E5ECF6\",\"gridcolor\":\"white\",\"linecolor\":\"white\",\"showbackground\":true,\"ticks\":\"\",\"zerolinecolor\":\"white\",\"gridwidth\":2}},\"shapedefaults\":{\"line\":{\"color\":\"#2a3f5f\"}},\"annotationdefaults\":{\"arrowcolor\":\"#2a3f5f\",\"arrowhead\":0,\"arrowwidth\":1},\"geo\":{\"bgcolor\":\"white\",\"landcolor\":\"#E5ECF6\",\"subunitcolor\":\"white\",\"showland\":true,\"showlakes\":true,\"lakecolor\":\"white\"},\"title\":{\"x\":0.05},\"mapbox\":{\"style\":\"light\"}}},\"xaxis\":{\"anchor\":\"y\",\"domain\":[0.0,1.0],\"title\":{\"text\":\"quality\"}},\"yaxis\":{\"anchor\":\"x\",\"domain\":[0.0,1.0],\"title\":{\"text\":\"count\"}},\"legend\":{\"tracegroupgap\":0},\"margin\":{\"t\":60},\"barmode\":\"relative\"},                        {\"responsive\": true}                    ).then(function(){\n",
              "                            \n",
              "var gd = document.getElementById('2b88ffa4-a895-47b6-a9d2-f1bf66b32265');\n",
              "var x = new MutationObserver(function (mutations, observer) {{\n",
              "        var display = window.getComputedStyle(gd).display;\n",
              "        if (!display || display === 'none') {{\n",
              "            console.log([gd, 'removed!']);\n",
              "            Plotly.purge(gd);\n",
              "            observer.disconnect();\n",
              "        }}\n",
              "}});\n",
              "\n",
              "// Listen for the removal of the full notebook cells\n",
              "var notebookContainer = gd.closest('#notebook-container');\n",
              "if (notebookContainer) {{\n",
              "    x.observe(notebookContainer, {childList: true});\n",
              "}}\n",
              "\n",
              "// Listen for the clearing of the current output cell\n",
              "var outputEl = gd.closest('.output');\n",
              "if (outputEl) {{\n",
              "    x.observe(outputEl, {childList: true});\n",
              "}}\n",
              "\n",
              "                        })                };                            </script>        </div>\n",
              "</body>\n",
              "</html>"
            ]
          },
          "metadata": {}
        }
      ]
    },
    {
      "cell_type": "markdown",
      "source": [
        "It's a good practice resampling the data to have a equal balance"
      ],
      "metadata": {
        "id": "ae4hoXk1L1Nr"
      }
    },
    {
      "cell_type": "code",
      "source": [
        "df_wine['quality'].value_counts()"
      ],
      "metadata": {
        "colab": {
          "base_uri": "https://localhost:8080/"
        },
        "id": "EU6YTMvUF62G",
        "outputId": "c56f1de7-a121-4e29-99f4-0319f52ffeaf"
      },
      "execution_count": 78,
      "outputs": [
        {
          "output_type": "execute_result",
          "data": {
            "text/plain": [
              "2    681\n",
              "3    638\n",
              "4    199\n",
              "1     53\n",
              "5     18\n",
              "0     10\n",
              "Name: quality, dtype: int64"
            ]
          },
          "metadata": {},
          "execution_count": 78
        }
      ]
    },
    {
      "cell_type": "code",
      "source": [
        "maior_quantidade_qualidade = df_wine['quality'].value_counts().max()\n",
        "\n",
        "maior_quantidade_qualidade"
      ],
      "metadata": {
        "colab": {
          "base_uri": "https://localhost:8080/"
        },
        "id": "gddfcdVWGFW9",
        "outputId": "d244ee86-83f6-44d8-b798-afb6ccc1a7bc"
      },
      "execution_count": 79,
      "outputs": [
        {
          "output_type": "execute_result",
          "data": {
            "text/plain": [
              "681"
            ]
          },
          "metadata": {},
          "execution_count": 79
        }
      ]
    },
    {
      "cell_type": "markdown",
      "source": [
        "# Resampling data"
      ],
      "metadata": {
        "id": "kFk9XbAGA3dr"
      }
    },
    {
      "cell_type": "code",
      "source": [
        "X = df_wine.drop(columns='quality')\n",
        "\n",
        "y = df_wine['quality']"
      ],
      "metadata": {
        "id": "fZXh6Mqlc8uE"
      },
      "execution_count": 80,
      "outputs": []
    },
    {
      "cell_type": "code",
      "source": [
        "smoteenn = SMOTEENN()\n",
        "\n",
        "X_smoteenn, y_smoteenn = smoteenn.fit_resample(X, y)"
      ],
      "metadata": {
        "id": "2OJUvhDOOH1c"
      },
      "execution_count": 81,
      "outputs": []
    },
    {
      "cell_type": "code",
      "source": [
        "smote = SMOTE()\n",
        "\n",
        "X_smote, y_smote = smote.fit_resample(X, y)"
      ],
      "metadata": {
        "id": "HQT4la5wFpMh"
      },
      "execution_count": 82,
      "outputs": []
    },
    {
      "cell_type": "code",
      "source": [
        "print('Shape of X_smoteenn: ', X_smoteenn.shape)\n",
        "print('Shape of y_smoteenn: ', y_smoteenn.shape)\n",
        "\n",
        "print('Shape of X_smote: ', X_smote.shape)\n",
        "print('Shape of y_smote: ', y_smote.shape)"
      ],
      "metadata": {
        "colab": {
          "base_uri": "https://localhost:8080/"
        },
        "id": "F7lCqwdRFpJP",
        "outputId": "26068a9a-de5f-4f6f-b6ab-b031f69a179e"
      },
      "execution_count": 83,
      "outputs": [
        {
          "output_type": "stream",
          "name": "stdout",
          "text": [
            "Shape of X_smoteenn:  (2402, 11)\n",
            "Shape of y_smoteenn:  (2402,)\n",
            "Shape of X_smote:  (4086, 11)\n",
            "Shape of y_smote:  (4086,)\n"
          ]
        }
      ]
    },
    {
      "cell_type": "code",
      "source": [
        "df_wine_smoteenn = pd.DataFrame(np.column_stack((X_smoteenn, y_smoteenn)))\n",
        "\n",
        "df_wine_smoteenn.rename(columns={0:  df_wine.columns[0],\n",
        "                                 1:  df_wine.columns[1],\n",
        "                                 2:  df_wine.columns[2],\n",
        "                                 3:  df_wine.columns[3],\n",
        "                                 4:  df_wine.columns[4],\n",
        "                                 5:  df_wine.columns[5],\n",
        "                                 6:  df_wine.columns[6],\n",
        "                                 7:  df_wine.columns[7],\n",
        "                                 8:  df_wine.columns[8],\n",
        "                                 9:  df_wine.columns[9],\n",
        "                                 10: df_wine.columns[10],\n",
        "                                 11: df_wine.columns[11]},\n",
        "                        inplace=True)\n",
        "\n",
        "df_wine_smoteenn.head()"
      ],
      "metadata": {
        "colab": {
          "base_uri": "https://localhost:8080/",
          "height": 223
        },
        "id": "Phcr9EFkFpFn",
        "outputId": "eef2079a-3019-4c0d-99e1-4abd3931d333"
      },
      "execution_count": 84,
      "outputs": [
        {
          "output_type": "execute_result",
          "data": {
            "text/plain": [
              "   fixed acidity  volatile acidity  citric acid  residual sugar  chlorides  \\\n",
              "0           11.6             0.580         0.66            2.20      0.074   \n",
              "1           10.4             0.610         0.49            2.10      0.200   \n",
              "2            7.4             1.185         0.00            4.25      0.097   \n",
              "3           10.4             0.440         0.42            1.50      0.145   \n",
              "4            8.3             1.020         0.02            3.40      0.084   \n",
              "\n",
              "   free sulfur dioxide  total sulfur dioxide  density    pH  sulphates  \\\n",
              "0                 10.0                  47.0  1.00080  3.25       0.57   \n",
              "1                  5.0                  16.0  0.99940  3.16       0.63   \n",
              "2                  5.0                  14.0  0.99660  3.63       0.54   \n",
              "3                 34.0                  48.0  0.99832  3.38       0.86   \n",
              "4                  6.0                  11.0  0.99892  3.48       0.49   \n",
              "\n",
              "   alcohol  quality  \n",
              "0      9.0      0.0  \n",
              "1      8.4      0.0  \n",
              "2     10.7      0.0  \n",
              "3      9.9      0.0  \n",
              "4     11.0      0.0  "
            ],
            "text/html": [
              "\n",
              "  <div id=\"df-e332bc88-cfe2-4ca3-9b4d-b67bc3d9d7bc\" class=\"colab-df-container\">\n",
              "    <div>\n",
              "<style scoped>\n",
              "    .dataframe tbody tr th:only-of-type {\n",
              "        vertical-align: middle;\n",
              "    }\n",
              "\n",
              "    .dataframe tbody tr th {\n",
              "        vertical-align: top;\n",
              "    }\n",
              "\n",
              "    .dataframe thead th {\n",
              "        text-align: right;\n",
              "    }\n",
              "</style>\n",
              "<table border=\"1\" class=\"dataframe\">\n",
              "  <thead>\n",
              "    <tr style=\"text-align: right;\">\n",
              "      <th></th>\n",
              "      <th>fixed acidity</th>\n",
              "      <th>volatile acidity</th>\n",
              "      <th>citric acid</th>\n",
              "      <th>residual sugar</th>\n",
              "      <th>chlorides</th>\n",
              "      <th>free sulfur dioxide</th>\n",
              "      <th>total sulfur dioxide</th>\n",
              "      <th>density</th>\n",
              "      <th>pH</th>\n",
              "      <th>sulphates</th>\n",
              "      <th>alcohol</th>\n",
              "      <th>quality</th>\n",
              "    </tr>\n",
              "  </thead>\n",
              "  <tbody>\n",
              "    <tr>\n",
              "      <th>0</th>\n",
              "      <td>11.6</td>\n",
              "      <td>0.580</td>\n",
              "      <td>0.66</td>\n",
              "      <td>2.20</td>\n",
              "      <td>0.074</td>\n",
              "      <td>10.0</td>\n",
              "      <td>47.0</td>\n",
              "      <td>1.00080</td>\n",
              "      <td>3.25</td>\n",
              "      <td>0.57</td>\n",
              "      <td>9.0</td>\n",
              "      <td>0.0</td>\n",
              "    </tr>\n",
              "    <tr>\n",
              "      <th>1</th>\n",
              "      <td>10.4</td>\n",
              "      <td>0.610</td>\n",
              "      <td>0.49</td>\n",
              "      <td>2.10</td>\n",
              "      <td>0.200</td>\n",
              "      <td>5.0</td>\n",
              "      <td>16.0</td>\n",
              "      <td>0.99940</td>\n",
              "      <td>3.16</td>\n",
              "      <td>0.63</td>\n",
              "      <td>8.4</td>\n",
              "      <td>0.0</td>\n",
              "    </tr>\n",
              "    <tr>\n",
              "      <th>2</th>\n",
              "      <td>7.4</td>\n",
              "      <td>1.185</td>\n",
              "      <td>0.00</td>\n",
              "      <td>4.25</td>\n",
              "      <td>0.097</td>\n",
              "      <td>5.0</td>\n",
              "      <td>14.0</td>\n",
              "      <td>0.99660</td>\n",
              "      <td>3.63</td>\n",
              "      <td>0.54</td>\n",
              "      <td>10.7</td>\n",
              "      <td>0.0</td>\n",
              "    </tr>\n",
              "    <tr>\n",
              "      <th>3</th>\n",
              "      <td>10.4</td>\n",
              "      <td>0.440</td>\n",
              "      <td>0.42</td>\n",
              "      <td>1.50</td>\n",
              "      <td>0.145</td>\n",
              "      <td>34.0</td>\n",
              "      <td>48.0</td>\n",
              "      <td>0.99832</td>\n",
              "      <td>3.38</td>\n",
              "      <td>0.86</td>\n",
              "      <td>9.9</td>\n",
              "      <td>0.0</td>\n",
              "    </tr>\n",
              "    <tr>\n",
              "      <th>4</th>\n",
              "      <td>8.3</td>\n",
              "      <td>1.020</td>\n",
              "      <td>0.02</td>\n",
              "      <td>3.40</td>\n",
              "      <td>0.084</td>\n",
              "      <td>6.0</td>\n",
              "      <td>11.0</td>\n",
              "      <td>0.99892</td>\n",
              "      <td>3.48</td>\n",
              "      <td>0.49</td>\n",
              "      <td>11.0</td>\n",
              "      <td>0.0</td>\n",
              "    </tr>\n",
              "  </tbody>\n",
              "</table>\n",
              "</div>\n",
              "    <div class=\"colab-df-buttons\">\n",
              "\n",
              "  <div class=\"colab-df-container\">\n",
              "    <button class=\"colab-df-convert\" onclick=\"convertToInteractive('df-e332bc88-cfe2-4ca3-9b4d-b67bc3d9d7bc')\"\n",
              "            title=\"Convert this dataframe to an interactive table.\"\n",
              "            style=\"display:none;\">\n",
              "\n",
              "  <svg xmlns=\"http://www.w3.org/2000/svg\" height=\"24px\" viewBox=\"0 -960 960 960\">\n",
              "    <path d=\"M120-120v-720h720v720H120Zm60-500h600v-160H180v160Zm220 220h160v-160H400v160Zm0 220h160v-160H400v160ZM180-400h160v-160H180v160Zm440 0h160v-160H620v160ZM180-180h160v-160H180v160Zm440 0h160v-160H620v160Z\"/>\n",
              "  </svg>\n",
              "    </button>\n",
              "\n",
              "  <style>\n",
              "    .colab-df-container {\n",
              "      display:flex;\n",
              "      gap: 12px;\n",
              "    }\n",
              "\n",
              "    .colab-df-convert {\n",
              "      background-color: #E8F0FE;\n",
              "      border: none;\n",
              "      border-radius: 50%;\n",
              "      cursor: pointer;\n",
              "      display: none;\n",
              "      fill: #1967D2;\n",
              "      height: 32px;\n",
              "      padding: 0 0 0 0;\n",
              "      width: 32px;\n",
              "    }\n",
              "\n",
              "    .colab-df-convert:hover {\n",
              "      background-color: #E2EBFA;\n",
              "      box-shadow: 0px 1px 2px rgba(60, 64, 67, 0.3), 0px 1px 3px 1px rgba(60, 64, 67, 0.15);\n",
              "      fill: #174EA6;\n",
              "    }\n",
              "\n",
              "    .colab-df-buttons div {\n",
              "      margin-bottom: 4px;\n",
              "    }\n",
              "\n",
              "    [theme=dark] .colab-df-convert {\n",
              "      background-color: #3B4455;\n",
              "      fill: #D2E3FC;\n",
              "    }\n",
              "\n",
              "    [theme=dark] .colab-df-convert:hover {\n",
              "      background-color: #434B5C;\n",
              "      box-shadow: 0px 1px 3px 1px rgba(0, 0, 0, 0.15);\n",
              "      filter: drop-shadow(0px 1px 2px rgba(0, 0, 0, 0.3));\n",
              "      fill: #FFFFFF;\n",
              "    }\n",
              "  </style>\n",
              "\n",
              "    <script>\n",
              "      const buttonEl =\n",
              "        document.querySelector('#df-e332bc88-cfe2-4ca3-9b4d-b67bc3d9d7bc button.colab-df-convert');\n",
              "      buttonEl.style.display =\n",
              "        google.colab.kernel.accessAllowed ? 'block' : 'none';\n",
              "\n",
              "      async function convertToInteractive(key) {\n",
              "        const element = document.querySelector('#df-e332bc88-cfe2-4ca3-9b4d-b67bc3d9d7bc');\n",
              "        const dataTable =\n",
              "          await google.colab.kernel.invokeFunction('convertToInteractive',\n",
              "                                                    [key], {});\n",
              "        if (!dataTable) return;\n",
              "\n",
              "        const docLinkHtml = 'Like what you see? Visit the ' +\n",
              "          '<a target=\"_blank\" href=https://colab.research.google.com/notebooks/data_table.ipynb>data table notebook</a>'\n",
              "          + ' to learn more about interactive tables.';\n",
              "        element.innerHTML = '';\n",
              "        dataTable['output_type'] = 'display_data';\n",
              "        await google.colab.output.renderOutput(dataTable, element);\n",
              "        const docLink = document.createElement('div');\n",
              "        docLink.innerHTML = docLinkHtml;\n",
              "        element.appendChild(docLink);\n",
              "      }\n",
              "    </script>\n",
              "  </div>\n",
              "\n",
              "\n",
              "<div id=\"df-239f0bc0-adea-433b-8786-d838b49ad9ad\">\n",
              "  <button class=\"colab-df-quickchart\" onclick=\"quickchart('df-239f0bc0-adea-433b-8786-d838b49ad9ad')\"\n",
              "            title=\"Suggest charts\"\n",
              "            style=\"display:none;\">\n",
              "\n",
              "<svg xmlns=\"http://www.w3.org/2000/svg\" height=\"24px\"viewBox=\"0 0 24 24\"\n",
              "     width=\"24px\">\n",
              "    <g>\n",
              "        <path d=\"M19 3H5c-1.1 0-2 .9-2 2v14c0 1.1.9 2 2 2h14c1.1 0 2-.9 2-2V5c0-1.1-.9-2-2-2zM9 17H7v-7h2v7zm4 0h-2V7h2v10zm4 0h-2v-4h2v4z\"/>\n",
              "    </g>\n",
              "</svg>\n",
              "  </button>\n",
              "\n",
              "<style>\n",
              "  .colab-df-quickchart {\n",
              "      --bg-color: #E8F0FE;\n",
              "      --fill-color: #1967D2;\n",
              "      --hover-bg-color: #E2EBFA;\n",
              "      --hover-fill-color: #174EA6;\n",
              "      --disabled-fill-color: #AAA;\n",
              "      --disabled-bg-color: #DDD;\n",
              "  }\n",
              "\n",
              "  [theme=dark] .colab-df-quickchart {\n",
              "      --bg-color: #3B4455;\n",
              "      --fill-color: #D2E3FC;\n",
              "      --hover-bg-color: #434B5C;\n",
              "      --hover-fill-color: #FFFFFF;\n",
              "      --disabled-bg-color: #3B4455;\n",
              "      --disabled-fill-color: #666;\n",
              "  }\n",
              "\n",
              "  .colab-df-quickchart {\n",
              "    background-color: var(--bg-color);\n",
              "    border: none;\n",
              "    border-radius: 50%;\n",
              "    cursor: pointer;\n",
              "    display: none;\n",
              "    fill: var(--fill-color);\n",
              "    height: 32px;\n",
              "    padding: 0;\n",
              "    width: 32px;\n",
              "  }\n",
              "\n",
              "  .colab-df-quickchart:hover {\n",
              "    background-color: var(--hover-bg-color);\n",
              "    box-shadow: 0 1px 2px rgba(60, 64, 67, 0.3), 0 1px 3px 1px rgba(60, 64, 67, 0.15);\n",
              "    fill: var(--button-hover-fill-color);\n",
              "  }\n",
              "\n",
              "  .colab-df-quickchart-complete:disabled,\n",
              "  .colab-df-quickchart-complete:disabled:hover {\n",
              "    background-color: var(--disabled-bg-color);\n",
              "    fill: var(--disabled-fill-color);\n",
              "    box-shadow: none;\n",
              "  }\n",
              "\n",
              "  .colab-df-spinner {\n",
              "    border: 2px solid var(--fill-color);\n",
              "    border-color: transparent;\n",
              "    border-bottom-color: var(--fill-color);\n",
              "    animation:\n",
              "      spin 1s steps(1) infinite;\n",
              "  }\n",
              "\n",
              "  @keyframes spin {\n",
              "    0% {\n",
              "      border-color: transparent;\n",
              "      border-bottom-color: var(--fill-color);\n",
              "      border-left-color: var(--fill-color);\n",
              "    }\n",
              "    20% {\n",
              "      border-color: transparent;\n",
              "      border-left-color: var(--fill-color);\n",
              "      border-top-color: var(--fill-color);\n",
              "    }\n",
              "    30% {\n",
              "      border-color: transparent;\n",
              "      border-left-color: var(--fill-color);\n",
              "      border-top-color: var(--fill-color);\n",
              "      border-right-color: var(--fill-color);\n",
              "    }\n",
              "    40% {\n",
              "      border-color: transparent;\n",
              "      border-right-color: var(--fill-color);\n",
              "      border-top-color: var(--fill-color);\n",
              "    }\n",
              "    60% {\n",
              "      border-color: transparent;\n",
              "      border-right-color: var(--fill-color);\n",
              "    }\n",
              "    80% {\n",
              "      border-color: transparent;\n",
              "      border-right-color: var(--fill-color);\n",
              "      border-bottom-color: var(--fill-color);\n",
              "    }\n",
              "    90% {\n",
              "      border-color: transparent;\n",
              "      border-bottom-color: var(--fill-color);\n",
              "    }\n",
              "  }\n",
              "</style>\n",
              "\n",
              "  <script>\n",
              "    async function quickchart(key) {\n",
              "      const quickchartButtonEl =\n",
              "        document.querySelector('#' + key + ' button');\n",
              "      quickchartButtonEl.disabled = true;  // To prevent multiple clicks.\n",
              "      quickchartButtonEl.classList.add('colab-df-spinner');\n",
              "      try {\n",
              "        const charts = await google.colab.kernel.invokeFunction(\n",
              "            'suggestCharts', [key], {});\n",
              "      } catch (error) {\n",
              "        console.error('Error during call to suggestCharts:', error);\n",
              "      }\n",
              "      quickchartButtonEl.classList.remove('colab-df-spinner');\n",
              "      quickchartButtonEl.classList.add('colab-df-quickchart-complete');\n",
              "    }\n",
              "    (() => {\n",
              "      let quickchartButtonEl =\n",
              "        document.querySelector('#df-239f0bc0-adea-433b-8786-d838b49ad9ad button');\n",
              "      quickchartButtonEl.style.display =\n",
              "        google.colab.kernel.accessAllowed ? 'block' : 'none';\n",
              "    })();\n",
              "  </script>\n",
              "</div>\n",
              "    </div>\n",
              "  </div>\n"
            ]
          },
          "metadata": {},
          "execution_count": 84
        }
      ]
    },
    {
      "cell_type": "code",
      "source": [
        "fig = px.histogram(df_wine_smoteenn, x='quality')\n",
        "\n",
        "fig.show()"
      ],
      "metadata": {
        "colab": {
          "base_uri": "https://localhost:8080/",
          "height": 542
        },
        "id": "joDOHpTuFpAT",
        "outputId": "a26af0ae-5233-4e67-f331-39c51048809b"
      },
      "execution_count": 85,
      "outputs": [
        {
          "output_type": "display_data",
          "data": {
            "text/html": [
              "<html>\n",
              "<head><meta charset=\"utf-8\" /></head>\n",
              "<body>\n",
              "    <div>            <script src=\"https://cdnjs.cloudflare.com/ajax/libs/mathjax/2.7.5/MathJax.js?config=TeX-AMS-MML_SVG\"></script><script type=\"text/javascript\">if (window.MathJax && window.MathJax.Hub && window.MathJax.Hub.Config) {window.MathJax.Hub.Config({SVG: {font: \"STIX-Web\"}});}</script>                <script type=\"text/javascript\">window.PlotlyConfig = {MathJaxConfig: 'local'};</script>\n",
              "        <script charset=\"utf-8\" src=\"https://cdn.plot.ly/plotly-2.27.0.min.js\"></script>                <div id=\"39560969-30c7-41a3-8736-e81796a24159\" class=\"plotly-graph-div\" style=\"height:525px; width:100%;\"></div>            <script type=\"text/javascript\">                                    window.PLOTLYENV=window.PLOTLYENV || {};                                    if (document.getElementById(\"39560969-30c7-41a3-8736-e81796a24159\")) {                    Plotly.newPlot(                        \"39560969-30c7-41a3-8736-e81796a24159\",                        [{\"alignmentgroup\":\"True\",\"bingroup\":\"x\",\"hovertemplate\":\"quality=%{x}\\u003cbr\\u003ecount=%{y}\\u003cextra\\u003e\\u003c\\u002fextra\\u003e\",\"legendgroup\":\"\",\"marker\":{\"color\":\"#636efa\",\"pattern\":{\"shape\":\"\"}},\"name\":\"\",\"offsetgroup\":\"\",\"orientation\":\"v\",\"showlegend\":false,\"x\":[0.0,0.0,0.0,0.0,0.0,0.0,0.0,0.0,0.0,0.0,0.0,0.0,0.0,0.0,0.0,0.0,0.0,0.0,0.0,0.0,0.0,0.0,0.0,0.0,0.0,0.0,0.0,0.0,0.0,0.0,0.0,0.0,0.0,0.0,0.0,0.0,0.0,0.0,0.0,0.0,0.0,0.0,0.0,0.0,0.0,0.0,0.0,0.0,0.0,0.0,0.0,0.0,0.0,0.0,0.0,0.0,0.0,0.0,0.0,0.0,0.0,0.0,0.0,0.0,0.0,0.0,0.0,0.0,0.0,0.0,0.0,0.0,0.0,0.0,0.0,0.0,0.0,0.0,0.0,0.0,0.0,0.0,0.0,0.0,0.0,0.0,0.0,0.0,0.0,0.0,0.0,0.0,0.0,0.0,0.0,0.0,0.0,0.0,0.0,0.0,0.0,0.0,0.0,0.0,0.0,0.0,0.0,0.0,0.0,0.0,0.0,0.0,0.0,0.0,0.0,0.0,0.0,0.0,0.0,0.0,0.0,0.0,0.0,0.0,0.0,0.0,0.0,0.0,0.0,0.0,0.0,0.0,0.0,0.0,0.0,0.0,0.0,0.0,0.0,0.0,0.0,0.0,0.0,0.0,0.0,0.0,0.0,0.0,0.0,0.0,0.0,0.0,0.0,0.0,0.0,0.0,0.0,0.0,0.0,0.0,0.0,0.0,0.0,0.0,0.0,0.0,0.0,0.0,0.0,0.0,0.0,0.0,0.0,0.0,0.0,0.0,0.0,0.0,0.0,0.0,0.0,0.0,0.0,0.0,0.0,0.0,0.0,0.0,0.0,0.0,0.0,0.0,0.0,0.0,0.0,0.0,0.0,0.0,0.0,0.0,0.0,0.0,0.0,0.0,0.0,0.0,0.0,0.0,0.0,0.0,0.0,0.0,0.0,0.0,0.0,0.0,0.0,0.0,0.0,0.0,0.0,0.0,0.0,0.0,0.0,0.0,0.0,0.0,0.0,0.0,0.0,0.0,0.0,0.0,0.0,0.0,0.0,0.0,0.0,0.0,0.0,0.0,0.0,0.0,0.0,0.0,0.0,0.0,0.0,0.0,0.0,0.0,0.0,0.0,0.0,0.0,0.0,0.0,0.0,0.0,0.0,0.0,0.0,0.0,0.0,0.0,0.0,0.0,0.0,0.0,0.0,0.0,0.0,0.0,0.0,0.0,0.0,0.0,0.0,0.0,0.0,0.0,0.0,0.0,0.0,0.0,0.0,0.0,0.0,0.0,0.0,0.0,0.0,0.0,0.0,0.0,0.0,0.0,0.0,0.0,0.0,0.0,0.0,0.0,0.0,0.0,0.0,0.0,0.0,0.0,0.0,0.0,0.0,0.0,0.0,0.0,0.0,0.0,0.0,0.0,0.0,0.0,0.0,0.0,0.0,0.0,0.0,0.0,0.0,0.0,0.0,0.0,0.0,0.0,0.0,0.0,0.0,0.0,0.0,0.0,0.0,0.0,0.0,0.0,0.0,0.0,0.0,0.0,0.0,0.0,0.0,0.0,0.0,0.0,0.0,0.0,0.0,0.0,0.0,0.0,0.0,0.0,0.0,0.0,0.0,0.0,0.0,0.0,0.0,0.0,0.0,0.0,0.0,0.0,0.0,0.0,0.0,0.0,0.0,0.0,0.0,0.0,0.0,0.0,0.0,0.0,0.0,0.0,0.0,0.0,0.0,0.0,0.0,0.0,0.0,0.0,0.0,0.0,0.0,0.0,0.0,0.0,0.0,0.0,0.0,0.0,0.0,0.0,0.0,0.0,0.0,0.0,0.0,0.0,0.0,0.0,0.0,0.0,0.0,0.0,0.0,0.0,0.0,0.0,0.0,0.0,0.0,0.0,0.0,0.0,0.0,0.0,0.0,0.0,0.0,0.0,0.0,0.0,0.0,0.0,0.0,0.0,0.0,0.0,0.0,0.0,0.0,0.0,0.0,0.0,0.0,0.0,0.0,0.0,0.0,0.0,0.0,0.0,0.0,0.0,0.0,0.0,0.0,0.0,0.0,0.0,0.0,0.0,0.0,0.0,0.0,0.0,0.0,0.0,0.0,0.0,0.0,0.0,0.0,0.0,0.0,0.0,0.0,0.0,0.0,0.0,0.0,0.0,0.0,0.0,0.0,0.0,0.0,0.0,0.0,0.0,0.0,0.0,0.0,0.0,0.0,0.0,0.0,0.0,0.0,0.0,0.0,0.0,0.0,0.0,0.0,0.0,0.0,0.0,0.0,0.0,0.0,0.0,0.0,0.0,0.0,0.0,0.0,0.0,0.0,0.0,0.0,0.0,0.0,0.0,0.0,0.0,0.0,0.0,0.0,0.0,0.0,0.0,0.0,0.0,0.0,0.0,0.0,0.0,0.0,0.0,0.0,0.0,0.0,0.0,0.0,0.0,0.0,0.0,0.0,0.0,0.0,0.0,0.0,0.0,0.0,0.0,0.0,0.0,0.0,0.0,0.0,0.0,0.0,0.0,0.0,0.0,0.0,0.0,0.0,0.0,0.0,0.0,0.0,0.0,0.0,0.0,0.0,0.0,0.0,0.0,0.0,0.0,0.0,0.0,0.0,0.0,0.0,0.0,0.0,0.0,0.0,0.0,0.0,0.0,0.0,1.0,1.0,1.0,1.0,1.0,1.0,1.0,1.0,1.0,1.0,1.0,1.0,1.0,1.0,1.0,1.0,1.0,1.0,1.0,1.0,1.0,1.0,1.0,1.0,1.0,1.0,1.0,1.0,1.0,1.0,1.0,1.0,1.0,1.0,1.0,1.0,1.0,1.0,1.0,1.0,1.0,1.0,1.0,1.0,1.0,1.0,1.0,1.0,1.0,1.0,1.0,1.0,1.0,1.0,1.0,1.0,1.0,1.0,1.0,1.0,1.0,1.0,1.0,1.0,1.0,1.0,1.0,1.0,1.0,1.0,1.0,1.0,1.0,1.0,1.0,1.0,1.0,1.0,1.0,1.0,1.0,1.0,1.0,1.0,1.0,1.0,1.0,1.0,1.0,1.0,1.0,1.0,1.0,1.0,1.0,1.0,1.0,1.0,1.0,1.0,1.0,1.0,1.0,1.0,1.0,1.0,1.0,1.0,1.0,1.0,1.0,1.0,1.0,1.0,1.0,1.0,1.0,1.0,1.0,1.0,1.0,1.0,1.0,1.0,1.0,1.0,1.0,1.0,1.0,1.0,1.0,1.0,1.0,1.0,1.0,1.0,1.0,1.0,1.0,1.0,1.0,1.0,1.0,1.0,1.0,1.0,1.0,1.0,1.0,1.0,1.0,1.0,1.0,1.0,1.0,1.0,1.0,1.0,1.0,1.0,1.0,1.0,1.0,1.0,1.0,1.0,1.0,1.0,1.0,1.0,1.0,1.0,1.0,1.0,1.0,1.0,1.0,1.0,1.0,1.0,1.0,1.0,1.0,1.0,1.0,1.0,1.0,1.0,1.0,1.0,1.0,1.0,1.0,1.0,1.0,1.0,1.0,1.0,1.0,1.0,1.0,1.0,1.0,1.0,1.0,1.0,1.0,1.0,1.0,1.0,1.0,1.0,1.0,1.0,1.0,1.0,1.0,1.0,1.0,1.0,1.0,1.0,1.0,1.0,1.0,1.0,1.0,1.0,1.0,1.0,1.0,1.0,1.0,1.0,1.0,1.0,1.0,1.0,1.0,1.0,1.0,1.0,1.0,1.0,1.0,1.0,1.0,1.0,1.0,1.0,1.0,1.0,1.0,1.0,1.0,1.0,1.0,1.0,1.0,1.0,1.0,1.0,1.0,1.0,1.0,1.0,1.0,1.0,1.0,1.0,1.0,1.0,1.0,1.0,1.0,1.0,1.0,1.0,1.0,1.0,1.0,1.0,1.0,1.0,1.0,1.0,1.0,1.0,1.0,1.0,1.0,1.0,1.0,1.0,1.0,1.0,1.0,1.0,1.0,1.0,1.0,1.0,1.0,1.0,1.0,1.0,1.0,1.0,1.0,1.0,1.0,1.0,1.0,1.0,1.0,1.0,1.0,1.0,1.0,1.0,1.0,1.0,1.0,1.0,1.0,1.0,1.0,1.0,1.0,1.0,1.0,1.0,1.0,1.0,1.0,1.0,1.0,1.0,1.0,1.0,1.0,1.0,1.0,1.0,1.0,1.0,1.0,1.0,1.0,1.0,1.0,1.0,1.0,1.0,1.0,1.0,1.0,1.0,1.0,1.0,1.0,1.0,1.0,1.0,1.0,1.0,1.0,1.0,1.0,1.0,1.0,1.0,1.0,1.0,1.0,1.0,1.0,1.0,1.0,1.0,1.0,1.0,1.0,1.0,1.0,1.0,1.0,1.0,1.0,1.0,1.0,1.0,1.0,1.0,1.0,1.0,1.0,1.0,1.0,1.0,1.0,1.0,1.0,1.0,1.0,1.0,1.0,1.0,1.0,1.0,1.0,1.0,1.0,1.0,1.0,1.0,1.0,1.0,1.0,1.0,1.0,1.0,1.0,1.0,1.0,1.0,1.0,1.0,1.0,1.0,1.0,1.0,1.0,1.0,1.0,1.0,1.0,1.0,1.0,1.0,1.0,1.0,1.0,1.0,1.0,1.0,1.0,1.0,1.0,1.0,1.0,1.0,1.0,1.0,1.0,1.0,1.0,1.0,1.0,1.0,1.0,1.0,1.0,1.0,1.0,1.0,1.0,1.0,1.0,1.0,1.0,1.0,1.0,1.0,1.0,1.0,1.0,1.0,1.0,1.0,1.0,1.0,1.0,1.0,1.0,1.0,1.0,1.0,1.0,1.0,1.0,1.0,1.0,1.0,1.0,1.0,1.0,1.0,2.0,2.0,2.0,2.0,2.0,2.0,2.0,2.0,2.0,2.0,2.0,2.0,2.0,2.0,2.0,2.0,2.0,2.0,2.0,2.0,2.0,2.0,2.0,2.0,2.0,2.0,2.0,2.0,2.0,2.0,2.0,2.0,2.0,2.0,2.0,2.0,2.0,2.0,2.0,2.0,2.0,2.0,2.0,2.0,2.0,2.0,2.0,2.0,2.0,2.0,2.0,2.0,2.0,2.0,2.0,2.0,2.0,2.0,2.0,2.0,2.0,2.0,2.0,2.0,2.0,2.0,2.0,2.0,2.0,2.0,2.0,2.0,2.0,2.0,2.0,2.0,2.0,2.0,2.0,2.0,2.0,2.0,2.0,2.0,2.0,2.0,2.0,2.0,2.0,2.0,2.0,2.0,2.0,2.0,2.0,2.0,2.0,2.0,2.0,2.0,2.0,2.0,2.0,2.0,2.0,2.0,2.0,2.0,2.0,2.0,2.0,2.0,2.0,2.0,2.0,2.0,2.0,2.0,2.0,2.0,2.0,2.0,2.0,2.0,2.0,2.0,2.0,2.0,2.0,2.0,2.0,2.0,2.0,2.0,2.0,2.0,2.0,2.0,2.0,2.0,2.0,2.0,2.0,2.0,2.0,2.0,2.0,2.0,2.0,2.0,2.0,2.0,2.0,2.0,2.0,2.0,2.0,2.0,2.0,3.0,3.0,3.0,3.0,3.0,3.0,3.0,3.0,3.0,3.0,3.0,3.0,3.0,3.0,3.0,3.0,3.0,3.0,3.0,3.0,3.0,3.0,3.0,3.0,3.0,3.0,3.0,3.0,3.0,3.0,3.0,3.0,3.0,3.0,3.0,3.0,3.0,3.0,3.0,3.0,3.0,3.0,3.0,3.0,3.0,3.0,3.0,3.0,3.0,3.0,3.0,3.0,3.0,3.0,3.0,3.0,3.0,3.0,3.0,3.0,3.0,3.0,3.0,3.0,3.0,3.0,3.0,3.0,3.0,3.0,3.0,3.0,3.0,3.0,3.0,3.0,3.0,3.0,3.0,3.0,3.0,3.0,3.0,3.0,3.0,3.0,3.0,3.0,3.0,3.0,3.0,3.0,3.0,3.0,3.0,4.0,4.0,4.0,4.0,4.0,4.0,4.0,4.0,4.0,4.0,4.0,4.0,4.0,4.0,4.0,4.0,4.0,4.0,4.0,4.0,4.0,4.0,4.0,4.0,4.0,4.0,4.0,4.0,4.0,4.0,4.0,4.0,4.0,4.0,4.0,4.0,4.0,4.0,4.0,4.0,4.0,4.0,4.0,4.0,4.0,4.0,4.0,4.0,4.0,4.0,4.0,4.0,4.0,4.0,4.0,4.0,4.0,4.0,4.0,4.0,4.0,4.0,4.0,4.0,4.0,4.0,4.0,4.0,4.0,4.0,4.0,4.0,4.0,4.0,4.0,4.0,4.0,4.0,4.0,4.0,4.0,4.0,4.0,4.0,4.0,4.0,4.0,4.0,4.0,4.0,4.0,4.0,4.0,4.0,4.0,4.0,4.0,4.0,4.0,4.0,4.0,4.0,4.0,4.0,4.0,4.0,4.0,4.0,4.0,4.0,4.0,4.0,4.0,4.0,4.0,4.0,4.0,4.0,4.0,4.0,4.0,4.0,4.0,4.0,4.0,4.0,4.0,4.0,4.0,4.0,4.0,4.0,4.0,4.0,4.0,4.0,4.0,4.0,4.0,4.0,4.0,4.0,4.0,4.0,4.0,4.0,4.0,4.0,4.0,4.0,4.0,4.0,4.0,4.0,4.0,4.0,4.0,4.0,4.0,4.0,4.0,4.0,4.0,4.0,4.0,4.0,4.0,4.0,4.0,4.0,4.0,4.0,4.0,4.0,4.0,4.0,4.0,4.0,4.0,4.0,4.0,4.0,4.0,4.0,4.0,4.0,4.0,4.0,4.0,4.0,4.0,4.0,4.0,4.0,4.0,4.0,4.0,4.0,4.0,4.0,4.0,4.0,4.0,4.0,4.0,4.0,4.0,4.0,4.0,4.0,4.0,4.0,4.0,4.0,4.0,4.0,4.0,4.0,4.0,4.0,4.0,4.0,4.0,4.0,4.0,4.0,4.0,4.0,4.0,4.0,4.0,4.0,4.0,4.0,4.0,4.0,4.0,4.0,4.0,4.0,4.0,4.0,4.0,4.0,4.0,4.0,4.0,4.0,4.0,4.0,4.0,4.0,4.0,4.0,4.0,4.0,4.0,4.0,4.0,4.0,4.0,4.0,4.0,4.0,4.0,4.0,4.0,4.0,4.0,4.0,4.0,4.0,4.0,4.0,4.0,4.0,4.0,4.0,4.0,4.0,4.0,4.0,4.0,4.0,4.0,4.0,4.0,4.0,4.0,4.0,4.0,4.0,4.0,4.0,4.0,4.0,4.0,4.0,4.0,4.0,4.0,4.0,4.0,4.0,4.0,4.0,4.0,4.0,4.0,4.0,4.0,4.0,4.0,4.0,4.0,4.0,4.0,4.0,4.0,4.0,4.0,4.0,4.0,4.0,4.0,4.0,4.0,4.0,4.0,4.0,4.0,4.0,4.0,4.0,4.0,4.0,4.0,4.0,4.0,4.0,4.0,4.0,4.0,4.0,4.0,4.0,4.0,4.0,4.0,4.0,4.0,4.0,4.0,4.0,4.0,4.0,4.0,4.0,4.0,4.0,4.0,4.0,4.0,4.0,4.0,4.0,4.0,4.0,4.0,4.0,4.0,4.0,4.0,4.0,4.0,4.0,4.0,4.0,4.0,4.0,4.0,4.0,4.0,4.0,4.0,4.0,4.0,4.0,4.0,4.0,4.0,4.0,4.0,4.0,4.0,4.0,4.0,4.0,4.0,4.0,4.0,4.0,4.0,4.0,4.0,4.0,4.0,4.0,4.0,4.0,4.0,4.0,4.0,4.0,4.0,4.0,4.0,4.0,4.0,4.0,4.0,4.0,4.0,4.0,4.0,4.0,4.0,4.0,4.0,4.0,4.0,4.0,4.0,4.0,4.0,4.0,4.0,4.0,4.0,4.0,4.0,4.0,4.0,4.0,4.0,4.0,4.0,4.0,4.0,4.0,4.0,4.0,4.0,4.0,4.0,4.0,4.0,4.0,4.0,4.0,4.0,4.0,4.0,4.0,4.0,4.0,4.0,4.0,4.0,4.0,4.0,4.0,4.0,4.0,4.0,4.0,4.0,4.0,4.0,4.0,4.0,4.0,4.0,4.0,4.0,4.0,4.0,4.0,4.0,4.0,4.0,4.0,4.0,4.0,4.0,4.0,4.0,4.0,5.0,5.0,5.0,5.0,5.0,5.0,5.0,5.0,5.0,5.0,5.0,5.0,5.0,5.0,5.0,5.0,5.0,5.0,5.0,5.0,5.0,5.0,5.0,5.0,5.0,5.0,5.0,5.0,5.0,5.0,5.0,5.0,5.0,5.0,5.0,5.0,5.0,5.0,5.0,5.0,5.0,5.0,5.0,5.0,5.0,5.0,5.0,5.0,5.0,5.0,5.0,5.0,5.0,5.0,5.0,5.0,5.0,5.0,5.0,5.0,5.0,5.0,5.0,5.0,5.0,5.0,5.0,5.0,5.0,5.0,5.0,5.0,5.0,5.0,5.0,5.0,5.0,5.0,5.0,5.0,5.0,5.0,5.0,5.0,5.0,5.0,5.0,5.0,5.0,5.0,5.0,5.0,5.0,5.0,5.0,5.0,5.0,5.0,5.0,5.0,5.0,5.0,5.0,5.0,5.0,5.0,5.0,5.0,5.0,5.0,5.0,5.0,5.0,5.0,5.0,5.0,5.0,5.0,5.0,5.0,5.0,5.0,5.0,5.0,5.0,5.0,5.0,5.0,5.0,5.0,5.0,5.0,5.0,5.0,5.0,5.0,5.0,5.0,5.0,5.0,5.0,5.0,5.0,5.0,5.0,5.0,5.0,5.0,5.0,5.0,5.0,5.0,5.0,5.0,5.0,5.0,5.0,5.0,5.0,5.0,5.0,5.0,5.0,5.0,5.0,5.0,5.0,5.0,5.0,5.0,5.0,5.0,5.0,5.0,5.0,5.0,5.0,5.0,5.0,5.0,5.0,5.0,5.0,5.0,5.0,5.0,5.0,5.0,5.0,5.0,5.0,5.0,5.0,5.0,5.0,5.0,5.0,5.0,5.0,5.0,5.0,5.0,5.0,5.0,5.0,5.0,5.0,5.0,5.0,5.0,5.0,5.0,5.0,5.0,5.0,5.0,5.0,5.0,5.0,5.0,5.0,5.0,5.0,5.0,5.0,5.0,5.0,5.0,5.0,5.0,5.0,5.0,5.0,5.0,5.0,5.0,5.0,5.0,5.0,5.0,5.0,5.0,5.0,5.0,5.0,5.0,5.0,5.0,5.0,5.0,5.0,5.0,5.0,5.0,5.0,5.0,5.0,5.0,5.0,5.0,5.0,5.0,5.0,5.0,5.0,5.0,5.0,5.0,5.0,5.0,5.0,5.0,5.0,5.0,5.0,5.0,5.0,5.0,5.0,5.0,5.0,5.0,5.0,5.0,5.0,5.0,5.0,5.0,5.0,5.0,5.0,5.0,5.0,5.0,5.0,5.0,5.0,5.0,5.0,5.0,5.0,5.0,5.0,5.0,5.0,5.0,5.0,5.0,5.0,5.0,5.0,5.0,5.0,5.0,5.0,5.0,5.0,5.0,5.0,5.0,5.0,5.0,5.0,5.0,5.0,5.0,5.0,5.0,5.0,5.0,5.0,5.0,5.0,5.0,5.0,5.0,5.0,5.0,5.0,5.0,5.0,5.0,5.0,5.0,5.0,5.0,5.0,5.0,5.0,5.0,5.0,5.0,5.0,5.0,5.0,5.0,5.0,5.0,5.0,5.0,5.0,5.0,5.0,5.0,5.0,5.0,5.0,5.0,5.0,5.0,5.0,5.0,5.0,5.0,5.0,5.0,5.0,5.0,5.0,5.0,5.0,5.0,5.0,5.0,5.0,5.0,5.0,5.0,5.0,5.0,5.0,5.0,5.0,5.0,5.0,5.0,5.0,5.0,5.0,5.0,5.0,5.0,5.0,5.0,5.0,5.0,5.0,5.0,5.0,5.0,5.0,5.0,5.0,5.0,5.0,5.0,5.0,5.0,5.0,5.0,5.0,5.0,5.0,5.0,5.0,5.0,5.0,5.0,5.0,5.0,5.0,5.0,5.0,5.0,5.0,5.0,5.0,5.0,5.0,5.0,5.0,5.0,5.0,5.0,5.0,5.0,5.0,5.0,5.0,5.0,5.0,5.0,5.0,5.0,5.0,5.0,5.0,5.0,5.0,5.0,5.0,5.0,5.0,5.0,5.0,5.0,5.0,5.0,5.0,5.0,5.0,5.0,5.0,5.0,5.0,5.0,5.0,5.0,5.0,5.0,5.0,5.0,5.0,5.0,5.0,5.0,5.0,5.0,5.0,5.0,5.0,5.0,5.0,5.0,5.0,5.0,5.0,5.0,5.0,5.0,5.0,5.0,5.0,5.0,5.0,5.0,5.0,5.0,5.0,5.0,5.0,5.0,5.0,5.0,5.0,5.0,5.0,5.0,5.0,5.0,5.0,5.0,5.0,5.0,5.0,5.0,5.0,5.0,5.0,5.0,5.0,5.0,5.0,5.0,5.0,5.0,5.0,5.0,5.0,5.0,5.0,5.0,5.0,5.0,5.0,5.0,5.0,5.0,5.0,5.0,5.0],\"xaxis\":\"x\",\"yaxis\":\"y\",\"type\":\"histogram\"}],                        {\"template\":{\"data\":{\"histogram2dcontour\":[{\"type\":\"histogram2dcontour\",\"colorbar\":{\"outlinewidth\":0,\"ticks\":\"\"},\"colorscale\":[[0.0,\"#0d0887\"],[0.1111111111111111,\"#46039f\"],[0.2222222222222222,\"#7201a8\"],[0.3333333333333333,\"#9c179e\"],[0.4444444444444444,\"#bd3786\"],[0.5555555555555556,\"#d8576b\"],[0.6666666666666666,\"#ed7953\"],[0.7777777777777778,\"#fb9f3a\"],[0.8888888888888888,\"#fdca26\"],[1.0,\"#f0f921\"]]}],\"choropleth\":[{\"type\":\"choropleth\",\"colorbar\":{\"outlinewidth\":0,\"ticks\":\"\"}}],\"histogram2d\":[{\"type\":\"histogram2d\",\"colorbar\":{\"outlinewidth\":0,\"ticks\":\"\"},\"colorscale\":[[0.0,\"#0d0887\"],[0.1111111111111111,\"#46039f\"],[0.2222222222222222,\"#7201a8\"],[0.3333333333333333,\"#9c179e\"],[0.4444444444444444,\"#bd3786\"],[0.5555555555555556,\"#d8576b\"],[0.6666666666666666,\"#ed7953\"],[0.7777777777777778,\"#fb9f3a\"],[0.8888888888888888,\"#fdca26\"],[1.0,\"#f0f921\"]]}],\"heatmap\":[{\"type\":\"heatmap\",\"colorbar\":{\"outlinewidth\":0,\"ticks\":\"\"},\"colorscale\":[[0.0,\"#0d0887\"],[0.1111111111111111,\"#46039f\"],[0.2222222222222222,\"#7201a8\"],[0.3333333333333333,\"#9c179e\"],[0.4444444444444444,\"#bd3786\"],[0.5555555555555556,\"#d8576b\"],[0.6666666666666666,\"#ed7953\"],[0.7777777777777778,\"#fb9f3a\"],[0.8888888888888888,\"#fdca26\"],[1.0,\"#f0f921\"]]}],\"heatmapgl\":[{\"type\":\"heatmapgl\",\"colorbar\":{\"outlinewidth\":0,\"ticks\":\"\"},\"colorscale\":[[0.0,\"#0d0887\"],[0.1111111111111111,\"#46039f\"],[0.2222222222222222,\"#7201a8\"],[0.3333333333333333,\"#9c179e\"],[0.4444444444444444,\"#bd3786\"],[0.5555555555555556,\"#d8576b\"],[0.6666666666666666,\"#ed7953\"],[0.7777777777777778,\"#fb9f3a\"],[0.8888888888888888,\"#fdca26\"],[1.0,\"#f0f921\"]]}],\"contourcarpet\":[{\"type\":\"contourcarpet\",\"colorbar\":{\"outlinewidth\":0,\"ticks\":\"\"}}],\"contour\":[{\"type\":\"contour\",\"colorbar\":{\"outlinewidth\":0,\"ticks\":\"\"},\"colorscale\":[[0.0,\"#0d0887\"],[0.1111111111111111,\"#46039f\"],[0.2222222222222222,\"#7201a8\"],[0.3333333333333333,\"#9c179e\"],[0.4444444444444444,\"#bd3786\"],[0.5555555555555556,\"#d8576b\"],[0.6666666666666666,\"#ed7953\"],[0.7777777777777778,\"#fb9f3a\"],[0.8888888888888888,\"#fdca26\"],[1.0,\"#f0f921\"]]}],\"surface\":[{\"type\":\"surface\",\"colorbar\":{\"outlinewidth\":0,\"ticks\":\"\"},\"colorscale\":[[0.0,\"#0d0887\"],[0.1111111111111111,\"#46039f\"],[0.2222222222222222,\"#7201a8\"],[0.3333333333333333,\"#9c179e\"],[0.4444444444444444,\"#bd3786\"],[0.5555555555555556,\"#d8576b\"],[0.6666666666666666,\"#ed7953\"],[0.7777777777777778,\"#fb9f3a\"],[0.8888888888888888,\"#fdca26\"],[1.0,\"#f0f921\"]]}],\"mesh3d\":[{\"type\":\"mesh3d\",\"colorbar\":{\"outlinewidth\":0,\"ticks\":\"\"}}],\"scatter\":[{\"fillpattern\":{\"fillmode\":\"overlay\",\"size\":10,\"solidity\":0.2},\"type\":\"scatter\"}],\"parcoords\":[{\"type\":\"parcoords\",\"line\":{\"colorbar\":{\"outlinewidth\":0,\"ticks\":\"\"}}}],\"scatterpolargl\":[{\"type\":\"scatterpolargl\",\"marker\":{\"colorbar\":{\"outlinewidth\":0,\"ticks\":\"\"}}}],\"bar\":[{\"error_x\":{\"color\":\"#2a3f5f\"},\"error_y\":{\"color\":\"#2a3f5f\"},\"marker\":{\"line\":{\"color\":\"#E5ECF6\",\"width\":0.5},\"pattern\":{\"fillmode\":\"overlay\",\"size\":10,\"solidity\":0.2}},\"type\":\"bar\"}],\"scattergeo\":[{\"type\":\"scattergeo\",\"marker\":{\"colorbar\":{\"outlinewidth\":0,\"ticks\":\"\"}}}],\"scatterpolar\":[{\"type\":\"scatterpolar\",\"marker\":{\"colorbar\":{\"outlinewidth\":0,\"ticks\":\"\"}}}],\"histogram\":[{\"marker\":{\"pattern\":{\"fillmode\":\"overlay\",\"size\":10,\"solidity\":0.2}},\"type\":\"histogram\"}],\"scattergl\":[{\"type\":\"scattergl\",\"marker\":{\"colorbar\":{\"outlinewidth\":0,\"ticks\":\"\"}}}],\"scatter3d\":[{\"type\":\"scatter3d\",\"line\":{\"colorbar\":{\"outlinewidth\":0,\"ticks\":\"\"}},\"marker\":{\"colorbar\":{\"outlinewidth\":0,\"ticks\":\"\"}}}],\"scattermapbox\":[{\"type\":\"scattermapbox\",\"marker\":{\"colorbar\":{\"outlinewidth\":0,\"ticks\":\"\"}}}],\"scatterternary\":[{\"type\":\"scatterternary\",\"marker\":{\"colorbar\":{\"outlinewidth\":0,\"ticks\":\"\"}}}],\"scattercarpet\":[{\"type\":\"scattercarpet\",\"marker\":{\"colorbar\":{\"outlinewidth\":0,\"ticks\":\"\"}}}],\"carpet\":[{\"aaxis\":{\"endlinecolor\":\"#2a3f5f\",\"gridcolor\":\"white\",\"linecolor\":\"white\",\"minorgridcolor\":\"white\",\"startlinecolor\":\"#2a3f5f\"},\"baxis\":{\"endlinecolor\":\"#2a3f5f\",\"gridcolor\":\"white\",\"linecolor\":\"white\",\"minorgridcolor\":\"white\",\"startlinecolor\":\"#2a3f5f\"},\"type\":\"carpet\"}],\"table\":[{\"cells\":{\"fill\":{\"color\":\"#EBF0F8\"},\"line\":{\"color\":\"white\"}},\"header\":{\"fill\":{\"color\":\"#C8D4E3\"},\"line\":{\"color\":\"white\"}},\"type\":\"table\"}],\"barpolar\":[{\"marker\":{\"line\":{\"color\":\"#E5ECF6\",\"width\":0.5},\"pattern\":{\"fillmode\":\"overlay\",\"size\":10,\"solidity\":0.2}},\"type\":\"barpolar\"}],\"pie\":[{\"automargin\":true,\"type\":\"pie\"}]},\"layout\":{\"autotypenumbers\":\"strict\",\"colorway\":[\"#636efa\",\"#EF553B\",\"#00cc96\",\"#ab63fa\",\"#FFA15A\",\"#19d3f3\",\"#FF6692\",\"#B6E880\",\"#FF97FF\",\"#FECB52\"],\"font\":{\"color\":\"#2a3f5f\"},\"hovermode\":\"closest\",\"hoverlabel\":{\"align\":\"left\"},\"paper_bgcolor\":\"white\",\"plot_bgcolor\":\"#E5ECF6\",\"polar\":{\"bgcolor\":\"#E5ECF6\",\"angularaxis\":{\"gridcolor\":\"white\",\"linecolor\":\"white\",\"ticks\":\"\"},\"radialaxis\":{\"gridcolor\":\"white\",\"linecolor\":\"white\",\"ticks\":\"\"}},\"ternary\":{\"bgcolor\":\"#E5ECF6\",\"aaxis\":{\"gridcolor\":\"white\",\"linecolor\":\"white\",\"ticks\":\"\"},\"baxis\":{\"gridcolor\":\"white\",\"linecolor\":\"white\",\"ticks\":\"\"},\"caxis\":{\"gridcolor\":\"white\",\"linecolor\":\"white\",\"ticks\":\"\"}},\"coloraxis\":{\"colorbar\":{\"outlinewidth\":0,\"ticks\":\"\"}},\"colorscale\":{\"sequential\":[[0.0,\"#0d0887\"],[0.1111111111111111,\"#46039f\"],[0.2222222222222222,\"#7201a8\"],[0.3333333333333333,\"#9c179e\"],[0.4444444444444444,\"#bd3786\"],[0.5555555555555556,\"#d8576b\"],[0.6666666666666666,\"#ed7953\"],[0.7777777777777778,\"#fb9f3a\"],[0.8888888888888888,\"#fdca26\"],[1.0,\"#f0f921\"]],\"sequentialminus\":[[0.0,\"#0d0887\"],[0.1111111111111111,\"#46039f\"],[0.2222222222222222,\"#7201a8\"],[0.3333333333333333,\"#9c179e\"],[0.4444444444444444,\"#bd3786\"],[0.5555555555555556,\"#d8576b\"],[0.6666666666666666,\"#ed7953\"],[0.7777777777777778,\"#fb9f3a\"],[0.8888888888888888,\"#fdca26\"],[1.0,\"#f0f921\"]],\"diverging\":[[0,\"#8e0152\"],[0.1,\"#c51b7d\"],[0.2,\"#de77ae\"],[0.3,\"#f1b6da\"],[0.4,\"#fde0ef\"],[0.5,\"#f7f7f7\"],[0.6,\"#e6f5d0\"],[0.7,\"#b8e186\"],[0.8,\"#7fbc41\"],[0.9,\"#4d9221\"],[1,\"#276419\"]]},\"xaxis\":{\"gridcolor\":\"white\",\"linecolor\":\"white\",\"ticks\":\"\",\"title\":{\"standoff\":15},\"zerolinecolor\":\"white\",\"automargin\":true,\"zerolinewidth\":2},\"yaxis\":{\"gridcolor\":\"white\",\"linecolor\":\"white\",\"ticks\":\"\",\"title\":{\"standoff\":15},\"zerolinecolor\":\"white\",\"automargin\":true,\"zerolinewidth\":2},\"scene\":{\"xaxis\":{\"backgroundcolor\":\"#E5ECF6\",\"gridcolor\":\"white\",\"linecolor\":\"white\",\"showbackground\":true,\"ticks\":\"\",\"zerolinecolor\":\"white\",\"gridwidth\":2},\"yaxis\":{\"backgroundcolor\":\"#E5ECF6\",\"gridcolor\":\"white\",\"linecolor\":\"white\",\"showbackground\":true,\"ticks\":\"\",\"zerolinecolor\":\"white\",\"gridwidth\":2},\"zaxis\":{\"backgroundcolor\":\"#E5ECF6\",\"gridcolor\":\"white\",\"linecolor\":\"white\",\"showbackground\":true,\"ticks\":\"\",\"zerolinecolor\":\"white\",\"gridwidth\":2}},\"shapedefaults\":{\"line\":{\"color\":\"#2a3f5f\"}},\"annotationdefaults\":{\"arrowcolor\":\"#2a3f5f\",\"arrowhead\":0,\"arrowwidth\":1},\"geo\":{\"bgcolor\":\"white\",\"landcolor\":\"#E5ECF6\",\"subunitcolor\":\"white\",\"showland\":true,\"showlakes\":true,\"lakecolor\":\"white\"},\"title\":{\"x\":0.05},\"mapbox\":{\"style\":\"light\"}}},\"xaxis\":{\"anchor\":\"y\",\"domain\":[0.0,1.0],\"title\":{\"text\":\"quality\"}},\"yaxis\":{\"anchor\":\"x\",\"domain\":[0.0,1.0],\"title\":{\"text\":\"count\"}},\"legend\":{\"tracegroupgap\":0},\"margin\":{\"t\":60},\"barmode\":\"relative\"},                        {\"responsive\": true}                    ).then(function(){\n",
              "                            \n",
              "var gd = document.getElementById('39560969-30c7-41a3-8736-e81796a24159');\n",
              "var x = new MutationObserver(function (mutations, observer) {{\n",
              "        var display = window.getComputedStyle(gd).display;\n",
              "        if (!display || display === 'none') {{\n",
              "            console.log([gd, 'removed!']);\n",
              "            Plotly.purge(gd);\n",
              "            observer.disconnect();\n",
              "        }}\n",
              "}});\n",
              "\n",
              "// Listen for the removal of the full notebook cells\n",
              "var notebookContainer = gd.closest('#notebook-container');\n",
              "if (notebookContainer) {{\n",
              "    x.observe(notebookContainer, {childList: true});\n",
              "}}\n",
              "\n",
              "// Listen for the clearing of the current output cell\n",
              "var outputEl = gd.closest('.output');\n",
              "if (outputEl) {{\n",
              "    x.observe(outputEl, {childList: true});\n",
              "}}\n",
              "\n",
              "                        })                };                            </script>        </div>\n",
              "</body>\n",
              "</html>"
            ]
          },
          "metadata": {}
        }
      ]
    },
    {
      "cell_type": "code",
      "source": [
        "df_wine_smote = pd.DataFrame(np.column_stack((X_smote, y_smote)))\n",
        "\n",
        "df_wine_smote.rename(columns={0: df_wine.columns[0],\n",
        "                              1: df_wine.columns[1],\n",
        "                              2: df_wine.columns[2],\n",
        "                              3: df_wine.columns[3],\n",
        "                              4: df_wine.columns[4],\n",
        "                              5: df_wine.columns[5],\n",
        "                              6: df_wine.columns[6],\n",
        "                              7: df_wine.columns[7],\n",
        "                              8: df_wine.columns[8],\n",
        "                              9: df_wine.columns[9],\n",
        "                              10: df_wine.columns[10],\n",
        "                              11: df_wine.columns[11]},\n",
        "                          inplace=True)\n",
        "\n",
        "df_wine_smote.tail()"
      ],
      "metadata": {
        "colab": {
          "base_uri": "https://localhost:8080/",
          "height": 223
        },
        "id": "5NIlhCH8O38R",
        "outputId": "56fcc6f4-9947-4cb5-c1ad-72824dc21e30"
      },
      "execution_count": 86,
      "outputs": [
        {
          "output_type": "execute_result",
          "data": {
            "text/plain": [
              "      fixed acidity  volatile acidity  citric acid  residual sugar  chlorides  \\\n",
              "4081       8.890342          0.316716     0.414239        1.875341   0.073383   \n",
              "4082      10.368254          0.360367     0.523780        2.434127   0.070207   \n",
              "4083       6.520926          0.501478     0.158522        2.162956   0.062716   \n",
              "4084      10.652962          0.511025     0.632540        4.382689   0.083957   \n",
              "4085       9.881093          0.377297     0.475406        2.288036   0.069220   \n",
              "\n",
              "      free sulfur dioxide  total sulfur dioxide   density        pH  \\\n",
              "4081            38.547731             77.205678  0.993595  3.108227   \n",
              "4082             5.414682             16.000000  0.996665  3.162440   \n",
              "4083            27.147818             47.284061  0.993042  3.578771   \n",
              "4084             6.000000             18.318908  0.997983  3.196162   \n",
              "4085             5.389956             14.440178  0.996404  3.227991   \n",
              "\n",
              "      sulphates    alcohol  quality  \n",
              "4081   0.676852  12.342499      5.0  \n",
              "4082   0.658294  11.311012      5.0  \n",
              "4083   0.740000  13.293856      5.0  \n",
              "4084   0.768326  12.821071      5.0  \n",
              "4085   0.665598  11.272969      5.0  "
            ],
            "text/html": [
              "\n",
              "  <div id=\"df-1d06f0cf-4c0f-4897-90e9-32385a7a40db\" class=\"colab-df-container\">\n",
              "    <div>\n",
              "<style scoped>\n",
              "    .dataframe tbody tr th:only-of-type {\n",
              "        vertical-align: middle;\n",
              "    }\n",
              "\n",
              "    .dataframe tbody tr th {\n",
              "        vertical-align: top;\n",
              "    }\n",
              "\n",
              "    .dataframe thead th {\n",
              "        text-align: right;\n",
              "    }\n",
              "</style>\n",
              "<table border=\"1\" class=\"dataframe\">\n",
              "  <thead>\n",
              "    <tr style=\"text-align: right;\">\n",
              "      <th></th>\n",
              "      <th>fixed acidity</th>\n",
              "      <th>volatile acidity</th>\n",
              "      <th>citric acid</th>\n",
              "      <th>residual sugar</th>\n",
              "      <th>chlorides</th>\n",
              "      <th>free sulfur dioxide</th>\n",
              "      <th>total sulfur dioxide</th>\n",
              "      <th>density</th>\n",
              "      <th>pH</th>\n",
              "      <th>sulphates</th>\n",
              "      <th>alcohol</th>\n",
              "      <th>quality</th>\n",
              "    </tr>\n",
              "  </thead>\n",
              "  <tbody>\n",
              "    <tr>\n",
              "      <th>4081</th>\n",
              "      <td>8.890342</td>\n",
              "      <td>0.316716</td>\n",
              "      <td>0.414239</td>\n",
              "      <td>1.875341</td>\n",
              "      <td>0.073383</td>\n",
              "      <td>38.547731</td>\n",
              "      <td>77.205678</td>\n",
              "      <td>0.993595</td>\n",
              "      <td>3.108227</td>\n",
              "      <td>0.676852</td>\n",
              "      <td>12.342499</td>\n",
              "      <td>5.0</td>\n",
              "    </tr>\n",
              "    <tr>\n",
              "      <th>4082</th>\n",
              "      <td>10.368254</td>\n",
              "      <td>0.360367</td>\n",
              "      <td>0.523780</td>\n",
              "      <td>2.434127</td>\n",
              "      <td>0.070207</td>\n",
              "      <td>5.414682</td>\n",
              "      <td>16.000000</td>\n",
              "      <td>0.996665</td>\n",
              "      <td>3.162440</td>\n",
              "      <td>0.658294</td>\n",
              "      <td>11.311012</td>\n",
              "      <td>5.0</td>\n",
              "    </tr>\n",
              "    <tr>\n",
              "      <th>4083</th>\n",
              "      <td>6.520926</td>\n",
              "      <td>0.501478</td>\n",
              "      <td>0.158522</td>\n",
              "      <td>2.162956</td>\n",
              "      <td>0.062716</td>\n",
              "      <td>27.147818</td>\n",
              "      <td>47.284061</td>\n",
              "      <td>0.993042</td>\n",
              "      <td>3.578771</td>\n",
              "      <td>0.740000</td>\n",
              "      <td>13.293856</td>\n",
              "      <td>5.0</td>\n",
              "    </tr>\n",
              "    <tr>\n",
              "      <th>4084</th>\n",
              "      <td>10.652962</td>\n",
              "      <td>0.511025</td>\n",
              "      <td>0.632540</td>\n",
              "      <td>4.382689</td>\n",
              "      <td>0.083957</td>\n",
              "      <td>6.000000</td>\n",
              "      <td>18.318908</td>\n",
              "      <td>0.997983</td>\n",
              "      <td>3.196162</td>\n",
              "      <td>0.768326</td>\n",
              "      <td>12.821071</td>\n",
              "      <td>5.0</td>\n",
              "    </tr>\n",
              "    <tr>\n",
              "      <th>4085</th>\n",
              "      <td>9.881093</td>\n",
              "      <td>0.377297</td>\n",
              "      <td>0.475406</td>\n",
              "      <td>2.288036</td>\n",
              "      <td>0.069220</td>\n",
              "      <td>5.389956</td>\n",
              "      <td>14.440178</td>\n",
              "      <td>0.996404</td>\n",
              "      <td>3.227991</td>\n",
              "      <td>0.665598</td>\n",
              "      <td>11.272969</td>\n",
              "      <td>5.0</td>\n",
              "    </tr>\n",
              "  </tbody>\n",
              "</table>\n",
              "</div>\n",
              "    <div class=\"colab-df-buttons\">\n",
              "\n",
              "  <div class=\"colab-df-container\">\n",
              "    <button class=\"colab-df-convert\" onclick=\"convertToInteractive('df-1d06f0cf-4c0f-4897-90e9-32385a7a40db')\"\n",
              "            title=\"Convert this dataframe to an interactive table.\"\n",
              "            style=\"display:none;\">\n",
              "\n",
              "  <svg xmlns=\"http://www.w3.org/2000/svg\" height=\"24px\" viewBox=\"0 -960 960 960\">\n",
              "    <path d=\"M120-120v-720h720v720H120Zm60-500h600v-160H180v160Zm220 220h160v-160H400v160Zm0 220h160v-160H400v160ZM180-400h160v-160H180v160Zm440 0h160v-160H620v160ZM180-180h160v-160H180v160Zm440 0h160v-160H620v160Z\"/>\n",
              "  </svg>\n",
              "    </button>\n",
              "\n",
              "  <style>\n",
              "    .colab-df-container {\n",
              "      display:flex;\n",
              "      gap: 12px;\n",
              "    }\n",
              "\n",
              "    .colab-df-convert {\n",
              "      background-color: #E8F0FE;\n",
              "      border: none;\n",
              "      border-radius: 50%;\n",
              "      cursor: pointer;\n",
              "      display: none;\n",
              "      fill: #1967D2;\n",
              "      height: 32px;\n",
              "      padding: 0 0 0 0;\n",
              "      width: 32px;\n",
              "    }\n",
              "\n",
              "    .colab-df-convert:hover {\n",
              "      background-color: #E2EBFA;\n",
              "      box-shadow: 0px 1px 2px rgba(60, 64, 67, 0.3), 0px 1px 3px 1px rgba(60, 64, 67, 0.15);\n",
              "      fill: #174EA6;\n",
              "    }\n",
              "\n",
              "    .colab-df-buttons div {\n",
              "      margin-bottom: 4px;\n",
              "    }\n",
              "\n",
              "    [theme=dark] .colab-df-convert {\n",
              "      background-color: #3B4455;\n",
              "      fill: #D2E3FC;\n",
              "    }\n",
              "\n",
              "    [theme=dark] .colab-df-convert:hover {\n",
              "      background-color: #434B5C;\n",
              "      box-shadow: 0px 1px 3px 1px rgba(0, 0, 0, 0.15);\n",
              "      filter: drop-shadow(0px 1px 2px rgba(0, 0, 0, 0.3));\n",
              "      fill: #FFFFFF;\n",
              "    }\n",
              "  </style>\n",
              "\n",
              "    <script>\n",
              "      const buttonEl =\n",
              "        document.querySelector('#df-1d06f0cf-4c0f-4897-90e9-32385a7a40db button.colab-df-convert');\n",
              "      buttonEl.style.display =\n",
              "        google.colab.kernel.accessAllowed ? 'block' : 'none';\n",
              "\n",
              "      async function convertToInteractive(key) {\n",
              "        const element = document.querySelector('#df-1d06f0cf-4c0f-4897-90e9-32385a7a40db');\n",
              "        const dataTable =\n",
              "          await google.colab.kernel.invokeFunction('convertToInteractive',\n",
              "                                                    [key], {});\n",
              "        if (!dataTable) return;\n",
              "\n",
              "        const docLinkHtml = 'Like what you see? Visit the ' +\n",
              "          '<a target=\"_blank\" href=https://colab.research.google.com/notebooks/data_table.ipynb>data table notebook</a>'\n",
              "          + ' to learn more about interactive tables.';\n",
              "        element.innerHTML = '';\n",
              "        dataTable['output_type'] = 'display_data';\n",
              "        await google.colab.output.renderOutput(dataTable, element);\n",
              "        const docLink = document.createElement('div');\n",
              "        docLink.innerHTML = docLinkHtml;\n",
              "        element.appendChild(docLink);\n",
              "      }\n",
              "    </script>\n",
              "  </div>\n",
              "\n",
              "\n",
              "<div id=\"df-ee2a7cd5-0cb9-4034-b4c0-f649c906b7e4\">\n",
              "  <button class=\"colab-df-quickchart\" onclick=\"quickchart('df-ee2a7cd5-0cb9-4034-b4c0-f649c906b7e4')\"\n",
              "            title=\"Suggest charts\"\n",
              "            style=\"display:none;\">\n",
              "\n",
              "<svg xmlns=\"http://www.w3.org/2000/svg\" height=\"24px\"viewBox=\"0 0 24 24\"\n",
              "     width=\"24px\">\n",
              "    <g>\n",
              "        <path d=\"M19 3H5c-1.1 0-2 .9-2 2v14c0 1.1.9 2 2 2h14c1.1 0 2-.9 2-2V5c0-1.1-.9-2-2-2zM9 17H7v-7h2v7zm4 0h-2V7h2v10zm4 0h-2v-4h2v4z\"/>\n",
              "    </g>\n",
              "</svg>\n",
              "  </button>\n",
              "\n",
              "<style>\n",
              "  .colab-df-quickchart {\n",
              "      --bg-color: #E8F0FE;\n",
              "      --fill-color: #1967D2;\n",
              "      --hover-bg-color: #E2EBFA;\n",
              "      --hover-fill-color: #174EA6;\n",
              "      --disabled-fill-color: #AAA;\n",
              "      --disabled-bg-color: #DDD;\n",
              "  }\n",
              "\n",
              "  [theme=dark] .colab-df-quickchart {\n",
              "      --bg-color: #3B4455;\n",
              "      --fill-color: #D2E3FC;\n",
              "      --hover-bg-color: #434B5C;\n",
              "      --hover-fill-color: #FFFFFF;\n",
              "      --disabled-bg-color: #3B4455;\n",
              "      --disabled-fill-color: #666;\n",
              "  }\n",
              "\n",
              "  .colab-df-quickchart {\n",
              "    background-color: var(--bg-color);\n",
              "    border: none;\n",
              "    border-radius: 50%;\n",
              "    cursor: pointer;\n",
              "    display: none;\n",
              "    fill: var(--fill-color);\n",
              "    height: 32px;\n",
              "    padding: 0;\n",
              "    width: 32px;\n",
              "  }\n",
              "\n",
              "  .colab-df-quickchart:hover {\n",
              "    background-color: var(--hover-bg-color);\n",
              "    box-shadow: 0 1px 2px rgba(60, 64, 67, 0.3), 0 1px 3px 1px rgba(60, 64, 67, 0.15);\n",
              "    fill: var(--button-hover-fill-color);\n",
              "  }\n",
              "\n",
              "  .colab-df-quickchart-complete:disabled,\n",
              "  .colab-df-quickchart-complete:disabled:hover {\n",
              "    background-color: var(--disabled-bg-color);\n",
              "    fill: var(--disabled-fill-color);\n",
              "    box-shadow: none;\n",
              "  }\n",
              "\n",
              "  .colab-df-spinner {\n",
              "    border: 2px solid var(--fill-color);\n",
              "    border-color: transparent;\n",
              "    border-bottom-color: var(--fill-color);\n",
              "    animation:\n",
              "      spin 1s steps(1) infinite;\n",
              "  }\n",
              "\n",
              "  @keyframes spin {\n",
              "    0% {\n",
              "      border-color: transparent;\n",
              "      border-bottom-color: var(--fill-color);\n",
              "      border-left-color: var(--fill-color);\n",
              "    }\n",
              "    20% {\n",
              "      border-color: transparent;\n",
              "      border-left-color: var(--fill-color);\n",
              "      border-top-color: var(--fill-color);\n",
              "    }\n",
              "    30% {\n",
              "      border-color: transparent;\n",
              "      border-left-color: var(--fill-color);\n",
              "      border-top-color: var(--fill-color);\n",
              "      border-right-color: var(--fill-color);\n",
              "    }\n",
              "    40% {\n",
              "      border-color: transparent;\n",
              "      border-right-color: var(--fill-color);\n",
              "      border-top-color: var(--fill-color);\n",
              "    }\n",
              "    60% {\n",
              "      border-color: transparent;\n",
              "      border-right-color: var(--fill-color);\n",
              "    }\n",
              "    80% {\n",
              "      border-color: transparent;\n",
              "      border-right-color: var(--fill-color);\n",
              "      border-bottom-color: var(--fill-color);\n",
              "    }\n",
              "    90% {\n",
              "      border-color: transparent;\n",
              "      border-bottom-color: var(--fill-color);\n",
              "    }\n",
              "  }\n",
              "</style>\n",
              "\n",
              "  <script>\n",
              "    async function quickchart(key) {\n",
              "      const quickchartButtonEl =\n",
              "        document.querySelector('#' + key + ' button');\n",
              "      quickchartButtonEl.disabled = true;  // To prevent multiple clicks.\n",
              "      quickchartButtonEl.classList.add('colab-df-spinner');\n",
              "      try {\n",
              "        const charts = await google.colab.kernel.invokeFunction(\n",
              "            'suggestCharts', [key], {});\n",
              "      } catch (error) {\n",
              "        console.error('Error during call to suggestCharts:', error);\n",
              "      }\n",
              "      quickchartButtonEl.classList.remove('colab-df-spinner');\n",
              "      quickchartButtonEl.classList.add('colab-df-quickchart-complete');\n",
              "    }\n",
              "    (() => {\n",
              "      let quickchartButtonEl =\n",
              "        document.querySelector('#df-ee2a7cd5-0cb9-4034-b4c0-f649c906b7e4 button');\n",
              "      quickchartButtonEl.style.display =\n",
              "        google.colab.kernel.accessAllowed ? 'block' : 'none';\n",
              "    })();\n",
              "  </script>\n",
              "</div>\n",
              "    </div>\n",
              "  </div>\n"
            ]
          },
          "metadata": {},
          "execution_count": 86
        }
      ]
    },
    {
      "cell_type": "code",
      "source": [
        "fig = px.histogram(df_wine_smote, x='quality')\n",
        "\n",
        "fig.show()"
      ],
      "metadata": {
        "colab": {
          "base_uri": "https://localhost:8080/",
          "height": 542
        },
        "id": "A4XVnAWdO-Uh",
        "outputId": "b2dffb06-2c18-4882-8242-d0a06f48702b"
      },
      "execution_count": 87,
      "outputs": [
        {
          "output_type": "display_data",
          "data": {
            "text/html": [
              "<html>\n",
              "<head><meta charset=\"utf-8\" /></head>\n",
              "<body>\n",
              "    <div>            <script src=\"https://cdnjs.cloudflare.com/ajax/libs/mathjax/2.7.5/MathJax.js?config=TeX-AMS-MML_SVG\"></script><script type=\"text/javascript\">if (window.MathJax && window.MathJax.Hub && window.MathJax.Hub.Config) {window.MathJax.Hub.Config({SVG: {font: \"STIX-Web\"}});}</script>                <script type=\"text/javascript\">window.PlotlyConfig = {MathJaxConfig: 'local'};</script>\n",
              "        <script charset=\"utf-8\" src=\"https://cdn.plot.ly/plotly-2.27.0.min.js\"></script>                <div id=\"7c634e9d-27c5-44d1-ae5d-1dee321e38ec\" class=\"plotly-graph-div\" style=\"height:525px; width:100%;\"></div>            <script type=\"text/javascript\">                                    window.PLOTLYENV=window.PLOTLYENV || {};                                    if (document.getElementById(\"7c634e9d-27c5-44d1-ae5d-1dee321e38ec\")) {                    Plotly.newPlot(                        \"7c634e9d-27c5-44d1-ae5d-1dee321e38ec\",                        [{\"alignmentgroup\":\"True\",\"bingroup\":\"x\",\"hovertemplate\":\"quality=%{x}\\u003cbr\\u003ecount=%{y}\\u003cextra\\u003e\\u003c\\u002fextra\\u003e\",\"legendgroup\":\"\",\"marker\":{\"color\":\"#636efa\",\"pattern\":{\"shape\":\"\"}},\"name\":\"\",\"offsetgroup\":\"\",\"orientation\":\"v\",\"showlegend\":false,\"x\":[2.0,2.0,2.0,3.0,2.0,2.0,2.0,4.0,4.0,2.0,2.0,2.0,2.0,2.0,2.0,2.0,4.0,2.0,1.0,3.0,3.0,2.0,2.0,2.0,3.0,2.0,2.0,2.0,2.0,3.0,2.0,3.0,2.0,3.0,2.0,3.0,3.0,4.0,1.0,2.0,2.0,1.0,3.0,2.0,2.0,1.0,2.0,2.0,2.0,2.0,2.0,3.0,3.0,2.0,3.0,2.0,2.0,2.0,2.0,3.0,2.0,2.0,4.0,2.0,2.0,2.0,2.0,2.0,2.0,3.0,3.0,2.0,2.0,1.0,2.0,2.0,2.0,3.0,2.0,1.0,2.0,2.0,2.0,2.0,3.0,2.0,3.0,2.0,2.0,2.0,2.0,3.0,2.0,2.0,1.0,3.0,2.0,2.0,2.0,3.0,3.0,3.0,3.0,2.0,2.0,2.0,2.0,2.0,3.0,2.0,2.0,2.0,2.0,3.0,2.0,3.0,3.0,3.0,3.0,3.0,2.0,3.0,2.0,2.0,2.0,2.0,2.0,2.0,4.0,2.0,2.0,2.0,2.0,3.0,3.0,2.0,2.0,2.0,2.0,2.0,2.0,2.0,3.0,2.0,3.0,2.0,2.0,2.0,3.0,3.0,3.0,1.0,2.0,2.0,2.0,2.0,2.0,2.0,2.0,3.0,2.0,1.0,3.0,2.0,2.0,2.0,2.0,1.0,3.0,2.0,1.0,3.0,3.0,3.0,2.0,2.0,2.0,3.0,2.0,2.0,2.0,2.0,2.0,2.0,3.0,2.0,2.0,2.0,2.0,2.0,2.0,3.0,2.0,2.0,2.0,2.0,2.0,3.0,4.0,1.0,4.0,2.0,2.0,2.0,3.0,4.0,4.0,2.0,2.0,4.0,3.0,3.0,3.0,2.0,3.0,2.0,2.0,2.0,2.0,2.0,3.0,2.0,2.0,3.0,1.0,3.0,3.0,2.0,3.0,2.0,4.0,3.0,3.0,2.0,3.0,3.0,3.0,3.0,3.0,3.0,2.0,3.0,3.0,4.0,4.0,3.0,2.0,2.0,3.0,3.0,3.0,3.0,2.0,2.0,3.0,2.0,2.0,2.0,2.0,4.0,2.0,1.0,2.0,2.0,2.0,4.0,1.0,5.0,3.0,3.0,3.0,3.0,2.0,2.0,2.0,3.0,3.0,3.0,5.0,4.0,3.0,4.0,2.0,4.0,2.0,2.0,3.0,3.0,4.0,2.0,4.0,2.0,3.0,3.0,3.0,2.0,2.0,2.0,2.0,2.0,3.0,3.0,2.0,2.0,2.0,3.0,2.0,3.0,3.0,3.0,3.0,3.0,3.0,2.0,2.0,3.0,2.0,3.0,4.0,3.0,4.0,2.0,2.0,3.0,3.0,3.0,4.0,2.0,3.0,2.0,3.0,3.0,3.0,2.0,4.0,4.0,3.0,2.0,3.0,4.0,3.0,3.0,3.0,3.0,3.0,2.0,4.0,3.0,3.0,3.0,3.0,3.0,2.0,2.0,3.0,3.0,2.0,4.0,4.0,3.0,2.0,3.0,2.0,2.0,4.0,3.0,4.0,2.0,2.0,4.0,2.0,3.0,3.0,2.0,3.0,4.0,3.0,4.0,3.0,3.0,3.0,3.0,3.0,3.0,2.0,3.0,3.0,3.0,3.0,4.0,5.0,3.0,2.0,2.0,2.0,4.0,2.0,3.0,3.0,2.0,2.0,3.0,3.0,3.0,2.0,3.0,3.0,4.0,3.0,1.0,3.0,2.0,2.0,4.0,2.0,2.0,3.0,2.0,3.0,2.0,4.0,4.0,2.0,4.0,2.0,4.0,3.0,3.0,2.0,3.0,4.0,2.0,3.0,2.0,3.0,2.0,3.0,3.0,3.0,2.0,5.0,3.0,4.0,4.0,4.0,3.0,2.0,2.0,3.0,3.0,3.0,3.0,3.0,4.0,2.0,5.0,2.0,2.0,4.0,0.0,3.0,2.0,2.0,2.0,3.0,2.0,3.0,3.0,3.0,2.0,2.0,3.0,3.0,2.0,3.0,2.0,2.0,3.0,2.0,3.0,2.0,5.0,2.0,2.0,3.0,2.0,2.0,3.0,4.0,3.0,3.0,4.0,4.0,3.0,3.0,5.0,3.0,2.0,5.0,3.0,3.0,4.0,4.0,4.0,4.0,4.0,4.0,3.0,3.0,4.0,2.0,3.0,3.0,4.0,4.0,2.0,3.0,0.0,3.0,2.0,3.0,2.0,2.0,2.0,2.0,2.0,2.0,3.0,3.0,2.0,3.0,2.0,2.0,3.0,3.0,3.0,2.0,3.0,4.0,2.0,2.0,3.0,2.0,3.0,3.0,2.0,3.0,3.0,3.0,3.0,3.0,3.0,3.0,2.0,2.0,2.0,3.0,2.0,3.0,3.0,2.0,2.0,2.0,3.0,3.0,2.0,3.0,3.0,3.0,3.0,3.0,3.0,2.0,1.0,3.0,3.0,1.0,2.0,2.0,3.0,2.0,2.0,2.0,4.0,4.0,3.0,4.0,2.0,5.0,4.0,2.0,3.0,2.0,2.0,2.0,2.0,3.0,3.0,3.0,3.0,1.0,3.0,2.0,3.0,3.0,3.0,4.0,3.0,3.0,3.0,2.0,2.0,3.0,2.0,3.0,2.0,2.0,3.0,2.0,2.0,2.0,2.0,2.0,3.0,2.0,2.0,2.0,2.0,3.0,2.0,3.0,2.0,3.0,1.0,2.0,2.0,2.0,2.0,4.0,3.0,2.0,2.0,2.0,2.0,2.0,4.0,2.0,1.0,4.0,3.0,2.0,2.0,2.0,3.0,2.0,2.0,2.0,4.0,3.0,1.0,3.0,2.0,3.0,3.0,2.0,2.0,3.0,3.0,2.0,3.0,2.0,2.0,2.0,2.0,3.0,2.0,3.0,2.0,2.0,2.0,2.0,3.0,2.0,2.0,2.0,2.0,2.0,2.0,2.0,2.0,0.0,2.0,2.0,2.0,2.0,3.0,3.0,3.0,2.0,3.0,3.0,3.0,3.0,1.0,1.0,2.0,2.0,2.0,3.0,3.0,2.0,2.0,2.0,2.0,2.0,3.0,2.0,2.0,2.0,2.0,2.0,2.0,2.0,2.0,1.0,2.0,3.0,2.0,2.0,3.0,2.0,2.0,2.0,2.0,2.0,2.0,2.0,3.0,2.0,2.0,3.0,2.0,2.0,2.0,2.0,3.0,3.0,2.0,3.0,3.0,2.0,2.0,2.0,2.0,3.0,3.0,3.0,2.0,2.0,2.0,2.0,2.0,3.0,2.0,3.0,3.0,2.0,2.0,3.0,2.0,3.0,2.0,2.0,3.0,3.0,2.0,3.0,3.0,2.0,2.0,3.0,2.0,2.0,2.0,2.0,2.0,2.0,3.0,3.0,2.0,3.0,2.0,3.0,2.0,3.0,2.0,2.0,4.0,3.0,3.0,2.0,2.0,4.0,3.0,3.0,4.0,4.0,4.0,2.0,3.0,2.0,3.0,2.0,1.0,3.0,2.0,3.0,3.0,2.0,2.0,2.0,4.0,2.0,2.0,2.0,2.0,4.0,2.0,5.0,3.0,1.0,3.0,0.0,1.0,2.0,2.0,4.0,4.0,4.0,2.0,4.0,2.0,3.0,2.0,3.0,2.0,2.0,3.0,2.0,2.0,2.0,2.0,2.0,3.0,3.0,4.0,3.0,4.0,4.0,3.0,2.0,3.0,2.0,2.0,2.0,2.0,3.0,3.0,3.0,3.0,3.0,2.0,1.0,4.0,4.0,4.0,1.0,3.0,3.0,2.0,2.0,3.0,3.0,2.0,3.0,2.0,3.0,4.0,3.0,2.0,2.0,2.0,3.0,2.0,3.0,3.0,4.0,3.0,4.0,0.0,2.0,4.0,4.0,4.0,4.0,2.0,2.0,3.0,3.0,3.0,3.0,3.0,3.0,4.0,3.0,3.0,2.0,3.0,3.0,3.0,2.0,3.0,3.0,3.0,2.0,4.0,3.0,1.0,2.0,4.0,2.0,2.0,3.0,2.0,2.0,3.0,3.0,1.0,4.0,2.0,4.0,4.0,4.0,4.0,4.0,4.0,4.0,4.0,4.0,4.0,4.0,4.0,4.0,4.0,3.0,2.0,3.0,3.0,4.0,2.0,3.0,2.0,2.0,3.0,3.0,3.0,4.0,2.0,3.0,2.0,3.0,3.0,4.0,2.0,4.0,2.0,2.0,2.0,4.0,2.0,3.0,2.0,3.0,3.0,2.0,3.0,4.0,2.0,2.0,3.0,2.0,2.0,3.0,2.0,2.0,3.0,4.0,4.0,3.0,3.0,4.0,4.0,4.0,4.0,2.0,4.0,4.0,4.0,4.0,2.0,4.0,3.0,2.0,3.0,3.0,3.0,4.0,3.0,3.0,2.0,3.0,3.0,2.0,3.0,4.0,3.0,3.0,2.0,3.0,4.0,4.0,4.0,2.0,3.0,3.0,4.0,4.0,2.0,4.0,3.0,2.0,3.0,3.0,4.0,3.0,3.0,3.0,2.0,3.0,3.0,2.0,2.0,2.0,4.0,3.0,3.0,4.0,2.0,4.0,4.0,3.0,5.0,3.0,3.0,3.0,3.0,4.0,4.0,4.0,2.0,4.0,2.0,3.0,3.0,2.0,4.0,3.0,2.0,2.0,4.0,3.0,4.0,3.0,3.0,3.0,2.0,4.0,3.0,4.0,4.0,5.0,3.0,3.0,4.0,3.0,2.0,3.0,2.0,4.0,2.0,3.0,3.0,3.0,3.0,3.0,2.0,3.0,4.0,2.0,3.0,3.0,4.0,3.0,3.0,3.0,3.0,3.0,3.0,3.0,2.0,5.0,3.0,3.0,3.0,1.0,4.0,3.0,3.0,2.0,3.0,3.0,2.0,4.0,4.0,4.0,3.0,3.0,3.0,2.0,3.0,3.0,3.0,3.0,3.0,2.0,3.0,3.0,4.0,3.0,3.0,4.0,3.0,2.0,3.0,3.0,2.0,4.0,4.0,3.0,2.0,4.0,3.0,4.0,2.0,2.0,2.0,2.0,4.0,3.0,3.0,3.0,3.0,3.0,3.0,3.0,3.0,1.0,4.0,2.0,3.0,3.0,2.0,3.0,2.0,2.0,3.0,2.0,3.0,2.0,1.0,3.0,2.0,4.0,2.0,3.0,3.0,3.0,3.0,3.0,3.0,3.0,4.0,5.0,2.0,4.0,4.0,4.0,2.0,4.0,4.0,3.0,2.0,3.0,3.0,3.0,3.0,3.0,3.0,3.0,3.0,3.0,3.0,3.0,3.0,3.0,2.0,2.0,2.0,4.0,2.0,3.0,2.0,2.0,1.0,3.0,1.0,3.0,3.0,1.0,1.0,2.0,2.0,3.0,2.0,3.0,2.0,2.0,2.0,3.0,3.0,3.0,2.0,2.0,2.0,2.0,2.0,2.0,3.0,3.0,3.0,2.0,1.0,2.0,1.0,3.0,3.0,3.0,3.0,3.0,5.0,3.0,3.0,2.0,2.0,3.0,3.0,1.0,3.0,3.0,4.0,3.0,3.0,3.0,3.0,2.0,2.0,3.0,2.0,2.0,2.0,2.0,3.0,3.0,1.0,3.0,2.0,2.0,3.0,3.0,0.0,3.0,3.0,3.0,2.0,2.0,2.0,2.0,1.0,2.0,2.0,2.0,3.0,2.0,3.0,3.0,3.0,3.0,3.0,3.0,3.0,2.0,3.0,2.0,4.0,3.0,3.0,3.0,3.0,2.0,3.0,3.0,2.0,3.0,2.0,2.0,3.0,2.0,2.0,2.0,3.0,3.0,3.0,3.0,3.0,2.0,3.0,2.0,2.0,2.0,2.0,2.0,3.0,2.0,2.0,2.0,2.0,2.0,3.0,2.0,3.0,2.0,2.0,3.0,1.0,3.0,2.0,2.0,3.0,3.0,1.0,2.0,3.0,2.0,2.0,0.0,2.0,2.0,3.0,3.0,3.0,3.0,2.0,2.0,2.0,2.0,2.0,2.0,2.0,2.0,2.0,3.0,2.0,2.0,2.0,2.0,3.0,2.0,2.0,4.0,3.0,2.0,2.0,3.0,5.0,3.0,4.0,3.0,3.0,4.0,3.0,3.0,3.0,3.0,2.0,2.0,2.0,2.0,4.0,2.0,2.0,2.0,2.0,3.0,1.0,3.0,3.0,3.0,2.0,2.0,2.0,2.0,3.0,3.0,4.0,3.0,3.0,2.0,2.0,2.0,3.0,4.0,3.0,2.0,2.0,3.0,3.0,2.0,2.0,2.0,5.0,4.0,4.0,4.0,2.0,3.0,3.0,3.0,2.0,2.0,4.0,3.0,1.0,3.0,3.0,2.0,2.0,4.0,1.0,4.0,0.0,2.0,2.0,3.0,2.0,2.0,4.0,2.0,4.0,0.0,2.0,1.0,2.0,1.0,2.0,1.0,2.0,2.0,2.0,2.0,3.0,3.0,2.0,2.0,2.0,4.0,3.0,2.0,3.0,3.0,3.0,2.0,2.0,2.0,3.0,3.0,0.0,3.0,3.0,3.0,2.0,3.0,2.0,3.0,3.0,3.0,3.0,2.0,3.0,2.0,2.0,3.0,1.0,2.0,2.0,3.0,2.0,3.0,3.0,3.0,3.0,3.0,2.0,3.0,2.0,4.0,3.0,3.0,3.0,2.0,2.0,3.0,4.0,3.0,3.0,4.0,3.0,2.0,2.0,2.0,5.0,2.0,2.0,3.0,2.0,3.0,4.0,2.0,3.0,2.0,2.0,2.0,2.0,2.0,2.0,2.0,3.0,3.0,2.0,2.0,3.0,3.0,3.0,2.0,3.0,3.0,3.0,3.0,3.0,3.0,2.0,3.0,2.0,2.0,2.0,4.0,3.0,3.0,3.0,3.0,2.0,3.0,3.0,3.0,3.0,2.0,3.0,3.0,2.0,3.0,0.0,0.0,0.0,0.0,0.0,0.0,0.0,0.0,0.0,0.0,0.0,0.0,0.0,0.0,0.0,0.0,0.0,0.0,0.0,0.0,0.0,0.0,0.0,0.0,0.0,0.0,0.0,0.0,0.0,0.0,0.0,0.0,0.0,0.0,0.0,0.0,0.0,0.0,0.0,0.0,0.0,0.0,0.0,0.0,0.0,0.0,0.0,0.0,0.0,0.0,0.0,0.0,0.0,0.0,0.0,0.0,0.0,0.0,0.0,0.0,0.0,0.0,0.0,0.0,0.0,0.0,0.0,0.0,0.0,0.0,0.0,0.0,0.0,0.0,0.0,0.0,0.0,0.0,0.0,0.0,0.0,0.0,0.0,0.0,0.0,0.0,0.0,0.0,0.0,0.0,0.0,0.0,0.0,0.0,0.0,0.0,0.0,0.0,0.0,0.0,0.0,0.0,0.0,0.0,0.0,0.0,0.0,0.0,0.0,0.0,0.0,0.0,0.0,0.0,0.0,0.0,0.0,0.0,0.0,0.0,0.0,0.0,0.0,0.0,0.0,0.0,0.0,0.0,0.0,0.0,0.0,0.0,0.0,0.0,0.0,0.0,0.0,0.0,0.0,0.0,0.0,0.0,0.0,0.0,0.0,0.0,0.0,0.0,0.0,0.0,0.0,0.0,0.0,0.0,0.0,0.0,0.0,0.0,0.0,0.0,0.0,0.0,0.0,0.0,0.0,0.0,0.0,0.0,0.0,0.0,0.0,0.0,0.0,0.0,0.0,0.0,0.0,0.0,0.0,0.0,0.0,0.0,0.0,0.0,0.0,0.0,0.0,0.0,0.0,0.0,0.0,0.0,0.0,0.0,0.0,0.0,0.0,0.0,0.0,0.0,0.0,0.0,0.0,0.0,0.0,0.0,0.0,0.0,0.0,0.0,0.0,0.0,0.0,0.0,0.0,0.0,0.0,0.0,0.0,0.0,0.0,0.0,0.0,0.0,0.0,0.0,0.0,0.0,0.0,0.0,0.0,0.0,0.0,0.0,0.0,0.0,0.0,0.0,0.0,0.0,0.0,0.0,0.0,0.0,0.0,0.0,0.0,0.0,0.0,0.0,0.0,0.0,0.0,0.0,0.0,0.0,0.0,0.0,0.0,0.0,0.0,0.0,0.0,0.0,0.0,0.0,0.0,0.0,0.0,0.0,0.0,0.0,0.0,0.0,0.0,0.0,0.0,0.0,0.0,0.0,0.0,0.0,0.0,0.0,0.0,0.0,0.0,0.0,0.0,0.0,0.0,0.0,0.0,0.0,0.0,0.0,0.0,0.0,0.0,0.0,0.0,0.0,0.0,0.0,0.0,0.0,0.0,0.0,0.0,0.0,0.0,0.0,0.0,0.0,0.0,0.0,0.0,0.0,0.0,0.0,0.0,0.0,0.0,0.0,0.0,0.0,0.0,0.0,0.0,0.0,0.0,0.0,0.0,0.0,0.0,0.0,0.0,0.0,0.0,0.0,0.0,0.0,0.0,0.0,0.0,0.0,0.0,0.0,0.0,0.0,0.0,0.0,0.0,0.0,0.0,0.0,0.0,0.0,0.0,0.0,0.0,0.0,0.0,0.0,0.0,0.0,0.0,0.0,0.0,0.0,0.0,0.0,0.0,0.0,0.0,0.0,0.0,0.0,0.0,0.0,0.0,0.0,0.0,0.0,0.0,0.0,0.0,0.0,0.0,0.0,0.0,0.0,0.0,0.0,0.0,0.0,0.0,0.0,0.0,0.0,0.0,0.0,0.0,0.0,0.0,0.0,0.0,0.0,0.0,0.0,0.0,0.0,0.0,0.0,0.0,0.0,0.0,0.0,0.0,0.0,0.0,0.0,0.0,0.0,0.0,0.0,0.0,0.0,0.0,0.0,0.0,0.0,0.0,0.0,0.0,0.0,0.0,0.0,0.0,0.0,0.0,0.0,0.0,0.0,0.0,0.0,0.0,0.0,0.0,0.0,0.0,0.0,0.0,0.0,0.0,0.0,0.0,0.0,0.0,0.0,0.0,0.0,0.0,0.0,0.0,0.0,0.0,0.0,0.0,0.0,0.0,0.0,0.0,0.0,0.0,0.0,0.0,0.0,0.0,0.0,0.0,0.0,0.0,0.0,0.0,0.0,0.0,0.0,0.0,0.0,0.0,0.0,0.0,0.0,0.0,0.0,0.0,0.0,0.0,0.0,0.0,0.0,0.0,0.0,0.0,0.0,0.0,0.0,0.0,0.0,0.0,0.0,0.0,0.0,0.0,0.0,0.0,0.0,0.0,0.0,0.0,0.0,0.0,0.0,0.0,0.0,0.0,0.0,0.0,0.0,0.0,0.0,0.0,0.0,0.0,0.0,0.0,0.0,0.0,0.0,0.0,0.0,0.0,0.0,0.0,0.0,0.0,0.0,0.0,0.0,0.0,0.0,0.0,0.0,0.0,0.0,0.0,0.0,0.0,0.0,0.0,0.0,0.0,0.0,0.0,0.0,0.0,0.0,0.0,0.0,0.0,0.0,0.0,0.0,0.0,0.0,0.0,0.0,0.0,0.0,0.0,0.0,0.0,0.0,0.0,0.0,0.0,0.0,0.0,0.0,0.0,0.0,0.0,0.0,0.0,0.0,0.0,0.0,0.0,0.0,0.0,0.0,0.0,0.0,0.0,0.0,0.0,0.0,0.0,0.0,0.0,0.0,0.0,0.0,0.0,0.0,0.0,0.0,0.0,0.0,0.0,0.0,0.0,0.0,0.0,0.0,0.0,0.0,0.0,0.0,0.0,0.0,0.0,0.0,0.0,0.0,0.0,0.0,0.0,0.0,0.0,0.0,0.0,0.0,0.0,0.0,0.0,0.0,0.0,0.0,0.0,0.0,0.0,0.0,0.0,0.0,0.0,0.0,0.0,0.0,0.0,0.0,0.0,0.0,0.0,0.0,0.0,0.0,0.0,0.0,0.0,1.0,1.0,1.0,1.0,1.0,1.0,1.0,1.0,1.0,1.0,1.0,1.0,1.0,1.0,1.0,1.0,1.0,1.0,1.0,1.0,1.0,1.0,1.0,1.0,1.0,1.0,1.0,1.0,1.0,1.0,1.0,1.0,1.0,1.0,1.0,1.0,1.0,1.0,1.0,1.0,1.0,1.0,1.0,1.0,1.0,1.0,1.0,1.0,1.0,1.0,1.0,1.0,1.0,1.0,1.0,1.0,1.0,1.0,1.0,1.0,1.0,1.0,1.0,1.0,1.0,1.0,1.0,1.0,1.0,1.0,1.0,1.0,1.0,1.0,1.0,1.0,1.0,1.0,1.0,1.0,1.0,1.0,1.0,1.0,1.0,1.0,1.0,1.0,1.0,1.0,1.0,1.0,1.0,1.0,1.0,1.0,1.0,1.0,1.0,1.0,1.0,1.0,1.0,1.0,1.0,1.0,1.0,1.0,1.0,1.0,1.0,1.0,1.0,1.0,1.0,1.0,1.0,1.0,1.0,1.0,1.0,1.0,1.0,1.0,1.0,1.0,1.0,1.0,1.0,1.0,1.0,1.0,1.0,1.0,1.0,1.0,1.0,1.0,1.0,1.0,1.0,1.0,1.0,1.0,1.0,1.0,1.0,1.0,1.0,1.0,1.0,1.0,1.0,1.0,1.0,1.0,1.0,1.0,1.0,1.0,1.0,1.0,1.0,1.0,1.0,1.0,1.0,1.0,1.0,1.0,1.0,1.0,1.0,1.0,1.0,1.0,1.0,1.0,1.0,1.0,1.0,1.0,1.0,1.0,1.0,1.0,1.0,1.0,1.0,1.0,1.0,1.0,1.0,1.0,1.0,1.0,1.0,1.0,1.0,1.0,1.0,1.0,1.0,1.0,1.0,1.0,1.0,1.0,1.0,1.0,1.0,1.0,1.0,1.0,1.0,1.0,1.0,1.0,1.0,1.0,1.0,1.0,1.0,1.0,1.0,1.0,1.0,1.0,1.0,1.0,1.0,1.0,1.0,1.0,1.0,1.0,1.0,1.0,1.0,1.0,1.0,1.0,1.0,1.0,1.0,1.0,1.0,1.0,1.0,1.0,1.0,1.0,1.0,1.0,1.0,1.0,1.0,1.0,1.0,1.0,1.0,1.0,1.0,1.0,1.0,1.0,1.0,1.0,1.0,1.0,1.0,1.0,1.0,1.0,1.0,1.0,1.0,1.0,1.0,1.0,1.0,1.0,1.0,1.0,1.0,1.0,1.0,1.0,1.0,1.0,1.0,1.0,1.0,1.0,1.0,1.0,1.0,1.0,1.0,1.0,1.0,1.0,1.0,1.0,1.0,1.0,1.0,1.0,1.0,1.0,1.0,1.0,1.0,1.0,1.0,1.0,1.0,1.0,1.0,1.0,1.0,1.0,1.0,1.0,1.0,1.0,1.0,1.0,1.0,1.0,1.0,1.0,1.0,1.0,1.0,1.0,1.0,1.0,1.0,1.0,1.0,1.0,1.0,1.0,1.0,1.0,1.0,1.0,1.0,1.0,1.0,1.0,1.0,1.0,1.0,1.0,1.0,1.0,1.0,1.0,1.0,1.0,1.0,1.0,1.0,1.0,1.0,1.0,1.0,1.0,1.0,1.0,1.0,1.0,1.0,1.0,1.0,1.0,1.0,1.0,1.0,1.0,1.0,1.0,1.0,1.0,1.0,1.0,1.0,1.0,1.0,1.0,1.0,1.0,1.0,1.0,1.0,1.0,1.0,1.0,1.0,1.0,1.0,1.0,1.0,1.0,1.0,1.0,1.0,1.0,1.0,1.0,1.0,1.0,1.0,1.0,1.0,1.0,1.0,1.0,1.0,1.0,1.0,1.0,1.0,1.0,1.0,1.0,1.0,1.0,1.0,1.0,1.0,1.0,1.0,1.0,1.0,1.0,1.0,1.0,1.0,1.0,1.0,1.0,1.0,1.0,1.0,1.0,1.0,1.0,1.0,1.0,1.0,1.0,1.0,1.0,1.0,1.0,1.0,1.0,1.0,1.0,1.0,1.0,1.0,1.0,1.0,1.0,1.0,1.0,1.0,1.0,1.0,1.0,1.0,1.0,1.0,1.0,1.0,1.0,1.0,1.0,1.0,1.0,1.0,1.0,1.0,1.0,1.0,1.0,1.0,1.0,1.0,1.0,1.0,1.0,1.0,1.0,1.0,1.0,1.0,1.0,1.0,1.0,1.0,1.0,1.0,1.0,1.0,1.0,1.0,1.0,1.0,1.0,1.0,1.0,1.0,1.0,1.0,1.0,1.0,1.0,1.0,1.0,1.0,1.0,1.0,1.0,1.0,1.0,1.0,1.0,1.0,1.0,1.0,1.0,1.0,1.0,1.0,1.0,1.0,1.0,1.0,1.0,1.0,1.0,1.0,1.0,1.0,1.0,1.0,1.0,1.0,1.0,1.0,1.0,1.0,1.0,1.0,1.0,1.0,1.0,1.0,1.0,1.0,1.0,1.0,1.0,1.0,1.0,1.0,1.0,1.0,1.0,1.0,1.0,1.0,1.0,1.0,1.0,1.0,1.0,1.0,1.0,1.0,1.0,1.0,1.0,1.0,1.0,1.0,1.0,1.0,1.0,1.0,1.0,1.0,1.0,1.0,1.0,1.0,1.0,1.0,1.0,1.0,1.0,1.0,1.0,1.0,1.0,1.0,1.0,1.0,1.0,1.0,1.0,1.0,1.0,1.0,1.0,1.0,1.0,1.0,1.0,1.0,1.0,1.0,1.0,3.0,3.0,3.0,3.0,3.0,3.0,3.0,3.0,3.0,3.0,3.0,3.0,3.0,3.0,3.0,3.0,3.0,3.0,3.0,3.0,3.0,3.0,3.0,3.0,3.0,3.0,3.0,3.0,3.0,3.0,3.0,3.0,3.0,3.0,3.0,3.0,3.0,3.0,3.0,3.0,3.0,3.0,3.0,4.0,4.0,4.0,4.0,4.0,4.0,4.0,4.0,4.0,4.0,4.0,4.0,4.0,4.0,4.0,4.0,4.0,4.0,4.0,4.0,4.0,4.0,4.0,4.0,4.0,4.0,4.0,4.0,4.0,4.0,4.0,4.0,4.0,4.0,4.0,4.0,4.0,4.0,4.0,4.0,4.0,4.0,4.0,4.0,4.0,4.0,4.0,4.0,4.0,4.0,4.0,4.0,4.0,4.0,4.0,4.0,4.0,4.0,4.0,4.0,4.0,4.0,4.0,4.0,4.0,4.0,4.0,4.0,4.0,4.0,4.0,4.0,4.0,4.0,4.0,4.0,4.0,4.0,4.0,4.0,4.0,4.0,4.0,4.0,4.0,4.0,4.0,4.0,4.0,4.0,4.0,4.0,4.0,4.0,4.0,4.0,4.0,4.0,4.0,4.0,4.0,4.0,4.0,4.0,4.0,4.0,4.0,4.0,4.0,4.0,4.0,4.0,4.0,4.0,4.0,4.0,4.0,4.0,4.0,4.0,4.0,4.0,4.0,4.0,4.0,4.0,4.0,4.0,4.0,4.0,4.0,4.0,4.0,4.0,4.0,4.0,4.0,4.0,4.0,4.0,4.0,4.0,4.0,4.0,4.0,4.0,4.0,4.0,4.0,4.0,4.0,4.0,4.0,4.0,4.0,4.0,4.0,4.0,4.0,4.0,4.0,4.0,4.0,4.0,4.0,4.0,4.0,4.0,4.0,4.0,4.0,4.0,4.0,4.0,4.0,4.0,4.0,4.0,4.0,4.0,4.0,4.0,4.0,4.0,4.0,4.0,4.0,4.0,4.0,4.0,4.0,4.0,4.0,4.0,4.0,4.0,4.0,4.0,4.0,4.0,4.0,4.0,4.0,4.0,4.0,4.0,4.0,4.0,4.0,4.0,4.0,4.0,4.0,4.0,4.0,4.0,4.0,4.0,4.0,4.0,4.0,4.0,4.0,4.0,4.0,4.0,4.0,4.0,4.0,4.0,4.0,4.0,4.0,4.0,4.0,4.0,4.0,4.0,4.0,4.0,4.0,4.0,4.0,4.0,4.0,4.0,4.0,4.0,4.0,4.0,4.0,4.0,4.0,4.0,4.0,4.0,4.0,4.0,4.0,4.0,4.0,4.0,4.0,4.0,4.0,4.0,4.0,4.0,4.0,4.0,4.0,4.0,4.0,4.0,4.0,4.0,4.0,4.0,4.0,4.0,4.0,4.0,4.0,4.0,4.0,4.0,4.0,4.0,4.0,4.0,4.0,4.0,4.0,4.0,4.0,4.0,4.0,4.0,4.0,4.0,4.0,4.0,4.0,4.0,4.0,4.0,4.0,4.0,4.0,4.0,4.0,4.0,4.0,4.0,4.0,4.0,4.0,4.0,4.0,4.0,4.0,4.0,4.0,4.0,4.0,4.0,4.0,4.0,4.0,4.0,4.0,4.0,4.0,4.0,4.0,4.0,4.0,4.0,4.0,4.0,4.0,4.0,4.0,4.0,4.0,4.0,4.0,4.0,4.0,4.0,4.0,4.0,4.0,4.0,4.0,4.0,4.0,4.0,4.0,4.0,4.0,4.0,4.0,4.0,4.0,4.0,4.0,4.0,4.0,4.0,4.0,4.0,4.0,4.0,4.0,4.0,4.0,4.0,4.0,4.0,4.0,4.0,4.0,4.0,4.0,4.0,4.0,4.0,4.0,4.0,4.0,4.0,4.0,4.0,4.0,4.0,4.0,4.0,4.0,4.0,4.0,4.0,4.0,4.0,4.0,4.0,4.0,4.0,4.0,4.0,4.0,4.0,4.0,4.0,4.0,4.0,4.0,4.0,4.0,4.0,4.0,4.0,4.0,4.0,4.0,4.0,4.0,4.0,4.0,4.0,4.0,4.0,4.0,4.0,4.0,4.0,4.0,4.0,4.0,4.0,4.0,4.0,4.0,4.0,4.0,4.0,4.0,4.0,4.0,4.0,4.0,4.0,4.0,4.0,4.0,4.0,4.0,4.0,4.0,4.0,4.0,4.0,4.0,4.0,4.0,4.0,4.0,4.0,4.0,4.0,4.0,4.0,4.0,4.0,4.0,4.0,4.0,4.0,4.0,4.0,4.0,4.0,5.0,5.0,5.0,5.0,5.0,5.0,5.0,5.0,5.0,5.0,5.0,5.0,5.0,5.0,5.0,5.0,5.0,5.0,5.0,5.0,5.0,5.0,5.0,5.0,5.0,5.0,5.0,5.0,5.0,5.0,5.0,5.0,5.0,5.0,5.0,5.0,5.0,5.0,5.0,5.0,5.0,5.0,5.0,5.0,5.0,5.0,5.0,5.0,5.0,5.0,5.0,5.0,5.0,5.0,5.0,5.0,5.0,5.0,5.0,5.0,5.0,5.0,5.0,5.0,5.0,5.0,5.0,5.0,5.0,5.0,5.0,5.0,5.0,5.0,5.0,5.0,5.0,5.0,5.0,5.0,5.0,5.0,5.0,5.0,5.0,5.0,5.0,5.0,5.0,5.0,5.0,5.0,5.0,5.0,5.0,5.0,5.0,5.0,5.0,5.0,5.0,5.0,5.0,5.0,5.0,5.0,5.0,5.0,5.0,5.0,5.0,5.0,5.0,5.0,5.0,5.0,5.0,5.0,5.0,5.0,5.0,5.0,5.0,5.0,5.0,5.0,5.0,5.0,5.0,5.0,5.0,5.0,5.0,5.0,5.0,5.0,5.0,5.0,5.0,5.0,5.0,5.0,5.0,5.0,5.0,5.0,5.0,5.0,5.0,5.0,5.0,5.0,5.0,5.0,5.0,5.0,5.0,5.0,5.0,5.0,5.0,5.0,5.0,5.0,5.0,5.0,5.0,5.0,5.0,5.0,5.0,5.0,5.0,5.0,5.0,5.0,5.0,5.0,5.0,5.0,5.0,5.0,5.0,5.0,5.0,5.0,5.0,5.0,5.0,5.0,5.0,5.0,5.0,5.0,5.0,5.0,5.0,5.0,5.0,5.0,5.0,5.0,5.0,5.0,5.0,5.0,5.0,5.0,5.0,5.0,5.0,5.0,5.0,5.0,5.0,5.0,5.0,5.0,5.0,5.0,5.0,5.0,5.0,5.0,5.0,5.0,5.0,5.0,5.0,5.0,5.0,5.0,5.0,5.0,5.0,5.0,5.0,5.0,5.0,5.0,5.0,5.0,5.0,5.0,5.0,5.0,5.0,5.0,5.0,5.0,5.0,5.0,5.0,5.0,5.0,5.0,5.0,5.0,5.0,5.0,5.0,5.0,5.0,5.0,5.0,5.0,5.0,5.0,5.0,5.0,5.0,5.0,5.0,5.0,5.0,5.0,5.0,5.0,5.0,5.0,5.0,5.0,5.0,5.0,5.0,5.0,5.0,5.0,5.0,5.0,5.0,5.0,5.0,5.0,5.0,5.0,5.0,5.0,5.0,5.0,5.0,5.0,5.0,5.0,5.0,5.0,5.0,5.0,5.0,5.0,5.0,5.0,5.0,5.0,5.0,5.0,5.0,5.0,5.0,5.0,5.0,5.0,5.0,5.0,5.0,5.0,5.0,5.0,5.0,5.0,5.0,5.0,5.0,5.0,5.0,5.0,5.0,5.0,5.0,5.0,5.0,5.0,5.0,5.0,5.0,5.0,5.0,5.0,5.0,5.0,5.0,5.0,5.0,5.0,5.0,5.0,5.0,5.0,5.0,5.0,5.0,5.0,5.0,5.0,5.0,5.0,5.0,5.0,5.0,5.0,5.0,5.0,5.0,5.0,5.0,5.0,5.0,5.0,5.0,5.0,5.0,5.0,5.0,5.0,5.0,5.0,5.0,5.0,5.0,5.0,5.0,5.0,5.0,5.0,5.0,5.0,5.0,5.0,5.0,5.0,5.0,5.0,5.0,5.0,5.0,5.0,5.0,5.0,5.0,5.0,5.0,5.0,5.0,5.0,5.0,5.0,5.0,5.0,5.0,5.0,5.0,5.0,5.0,5.0,5.0,5.0,5.0,5.0,5.0,5.0,5.0,5.0,5.0,5.0,5.0,5.0,5.0,5.0,5.0,5.0,5.0,5.0,5.0,5.0,5.0,5.0,5.0,5.0,5.0,5.0,5.0,5.0,5.0,5.0,5.0,5.0,5.0,5.0,5.0,5.0,5.0,5.0,5.0,5.0,5.0,5.0,5.0,5.0,5.0,5.0,5.0,5.0,5.0,5.0,5.0,5.0,5.0,5.0,5.0,5.0,5.0,5.0,5.0,5.0,5.0,5.0,5.0,5.0,5.0,5.0,5.0,5.0,5.0,5.0,5.0,5.0,5.0,5.0,5.0,5.0,5.0,5.0,5.0,5.0,5.0,5.0,5.0,5.0,5.0,5.0,5.0,5.0,5.0,5.0,5.0,5.0,5.0,5.0,5.0,5.0,5.0,5.0,5.0,5.0,5.0,5.0,5.0,5.0,5.0,5.0,5.0,5.0,5.0,5.0,5.0,5.0,5.0,5.0,5.0,5.0,5.0,5.0,5.0,5.0,5.0,5.0,5.0,5.0,5.0,5.0,5.0,5.0,5.0,5.0,5.0,5.0,5.0,5.0,5.0,5.0,5.0,5.0,5.0,5.0,5.0,5.0,5.0,5.0,5.0,5.0,5.0,5.0,5.0,5.0,5.0,5.0,5.0,5.0,5.0,5.0,5.0,5.0,5.0,5.0,5.0,5.0,5.0,5.0,5.0,5.0,5.0,5.0,5.0,5.0,5.0,5.0,5.0,5.0,5.0,5.0,5.0,5.0,5.0,5.0,5.0,5.0,5.0,5.0,5.0,5.0,5.0,5.0,5.0,5.0,5.0,5.0,5.0,5.0,5.0,5.0,5.0,5.0,5.0,5.0,5.0,5.0,5.0,5.0,5.0,5.0,5.0,5.0,5.0,5.0,5.0,5.0,5.0,5.0,5.0,5.0,5.0,5.0,5.0,5.0,5.0,5.0,5.0,5.0,5.0,5.0,5.0,5.0,5.0,5.0,5.0,5.0,5.0,5.0,5.0,5.0,5.0,5.0,5.0],\"xaxis\":\"x\",\"yaxis\":\"y\",\"type\":\"histogram\"}],                        {\"template\":{\"data\":{\"histogram2dcontour\":[{\"type\":\"histogram2dcontour\",\"colorbar\":{\"outlinewidth\":0,\"ticks\":\"\"},\"colorscale\":[[0.0,\"#0d0887\"],[0.1111111111111111,\"#46039f\"],[0.2222222222222222,\"#7201a8\"],[0.3333333333333333,\"#9c179e\"],[0.4444444444444444,\"#bd3786\"],[0.5555555555555556,\"#d8576b\"],[0.6666666666666666,\"#ed7953\"],[0.7777777777777778,\"#fb9f3a\"],[0.8888888888888888,\"#fdca26\"],[1.0,\"#f0f921\"]]}],\"choropleth\":[{\"type\":\"choropleth\",\"colorbar\":{\"outlinewidth\":0,\"ticks\":\"\"}}],\"histogram2d\":[{\"type\":\"histogram2d\",\"colorbar\":{\"outlinewidth\":0,\"ticks\":\"\"},\"colorscale\":[[0.0,\"#0d0887\"],[0.1111111111111111,\"#46039f\"],[0.2222222222222222,\"#7201a8\"],[0.3333333333333333,\"#9c179e\"],[0.4444444444444444,\"#bd3786\"],[0.5555555555555556,\"#d8576b\"],[0.6666666666666666,\"#ed7953\"],[0.7777777777777778,\"#fb9f3a\"],[0.8888888888888888,\"#fdca26\"],[1.0,\"#f0f921\"]]}],\"heatmap\":[{\"type\":\"heatmap\",\"colorbar\":{\"outlinewidth\":0,\"ticks\":\"\"},\"colorscale\":[[0.0,\"#0d0887\"],[0.1111111111111111,\"#46039f\"],[0.2222222222222222,\"#7201a8\"],[0.3333333333333333,\"#9c179e\"],[0.4444444444444444,\"#bd3786\"],[0.5555555555555556,\"#d8576b\"],[0.6666666666666666,\"#ed7953\"],[0.7777777777777778,\"#fb9f3a\"],[0.8888888888888888,\"#fdca26\"],[1.0,\"#f0f921\"]]}],\"heatmapgl\":[{\"type\":\"heatmapgl\",\"colorbar\":{\"outlinewidth\":0,\"ticks\":\"\"},\"colorscale\":[[0.0,\"#0d0887\"],[0.1111111111111111,\"#46039f\"],[0.2222222222222222,\"#7201a8\"],[0.3333333333333333,\"#9c179e\"],[0.4444444444444444,\"#bd3786\"],[0.5555555555555556,\"#d8576b\"],[0.6666666666666666,\"#ed7953\"],[0.7777777777777778,\"#fb9f3a\"],[0.8888888888888888,\"#fdca26\"],[1.0,\"#f0f921\"]]}],\"contourcarpet\":[{\"type\":\"contourcarpet\",\"colorbar\":{\"outlinewidth\":0,\"ticks\":\"\"}}],\"contour\":[{\"type\":\"contour\",\"colorbar\":{\"outlinewidth\":0,\"ticks\":\"\"},\"colorscale\":[[0.0,\"#0d0887\"],[0.1111111111111111,\"#46039f\"],[0.2222222222222222,\"#7201a8\"],[0.3333333333333333,\"#9c179e\"],[0.4444444444444444,\"#bd3786\"],[0.5555555555555556,\"#d8576b\"],[0.6666666666666666,\"#ed7953\"],[0.7777777777777778,\"#fb9f3a\"],[0.8888888888888888,\"#fdca26\"],[1.0,\"#f0f921\"]]}],\"surface\":[{\"type\":\"surface\",\"colorbar\":{\"outlinewidth\":0,\"ticks\":\"\"},\"colorscale\":[[0.0,\"#0d0887\"],[0.1111111111111111,\"#46039f\"],[0.2222222222222222,\"#7201a8\"],[0.3333333333333333,\"#9c179e\"],[0.4444444444444444,\"#bd3786\"],[0.5555555555555556,\"#d8576b\"],[0.6666666666666666,\"#ed7953\"],[0.7777777777777778,\"#fb9f3a\"],[0.8888888888888888,\"#fdca26\"],[1.0,\"#f0f921\"]]}],\"mesh3d\":[{\"type\":\"mesh3d\",\"colorbar\":{\"outlinewidth\":0,\"ticks\":\"\"}}],\"scatter\":[{\"fillpattern\":{\"fillmode\":\"overlay\",\"size\":10,\"solidity\":0.2},\"type\":\"scatter\"}],\"parcoords\":[{\"type\":\"parcoords\",\"line\":{\"colorbar\":{\"outlinewidth\":0,\"ticks\":\"\"}}}],\"scatterpolargl\":[{\"type\":\"scatterpolargl\",\"marker\":{\"colorbar\":{\"outlinewidth\":0,\"ticks\":\"\"}}}],\"bar\":[{\"error_x\":{\"color\":\"#2a3f5f\"},\"error_y\":{\"color\":\"#2a3f5f\"},\"marker\":{\"line\":{\"color\":\"#E5ECF6\",\"width\":0.5},\"pattern\":{\"fillmode\":\"overlay\",\"size\":10,\"solidity\":0.2}},\"type\":\"bar\"}],\"scattergeo\":[{\"type\":\"scattergeo\",\"marker\":{\"colorbar\":{\"outlinewidth\":0,\"ticks\":\"\"}}}],\"scatterpolar\":[{\"type\":\"scatterpolar\",\"marker\":{\"colorbar\":{\"outlinewidth\":0,\"ticks\":\"\"}}}],\"histogram\":[{\"marker\":{\"pattern\":{\"fillmode\":\"overlay\",\"size\":10,\"solidity\":0.2}},\"type\":\"histogram\"}],\"scattergl\":[{\"type\":\"scattergl\",\"marker\":{\"colorbar\":{\"outlinewidth\":0,\"ticks\":\"\"}}}],\"scatter3d\":[{\"type\":\"scatter3d\",\"line\":{\"colorbar\":{\"outlinewidth\":0,\"ticks\":\"\"}},\"marker\":{\"colorbar\":{\"outlinewidth\":0,\"ticks\":\"\"}}}],\"scattermapbox\":[{\"type\":\"scattermapbox\",\"marker\":{\"colorbar\":{\"outlinewidth\":0,\"ticks\":\"\"}}}],\"scatterternary\":[{\"type\":\"scatterternary\",\"marker\":{\"colorbar\":{\"outlinewidth\":0,\"ticks\":\"\"}}}],\"scattercarpet\":[{\"type\":\"scattercarpet\",\"marker\":{\"colorbar\":{\"outlinewidth\":0,\"ticks\":\"\"}}}],\"carpet\":[{\"aaxis\":{\"endlinecolor\":\"#2a3f5f\",\"gridcolor\":\"white\",\"linecolor\":\"white\",\"minorgridcolor\":\"white\",\"startlinecolor\":\"#2a3f5f\"},\"baxis\":{\"endlinecolor\":\"#2a3f5f\",\"gridcolor\":\"white\",\"linecolor\":\"white\",\"minorgridcolor\":\"white\",\"startlinecolor\":\"#2a3f5f\"},\"type\":\"carpet\"}],\"table\":[{\"cells\":{\"fill\":{\"color\":\"#EBF0F8\"},\"line\":{\"color\":\"white\"}},\"header\":{\"fill\":{\"color\":\"#C8D4E3\"},\"line\":{\"color\":\"white\"}},\"type\":\"table\"}],\"barpolar\":[{\"marker\":{\"line\":{\"color\":\"#E5ECF6\",\"width\":0.5},\"pattern\":{\"fillmode\":\"overlay\",\"size\":10,\"solidity\":0.2}},\"type\":\"barpolar\"}],\"pie\":[{\"automargin\":true,\"type\":\"pie\"}]},\"layout\":{\"autotypenumbers\":\"strict\",\"colorway\":[\"#636efa\",\"#EF553B\",\"#00cc96\",\"#ab63fa\",\"#FFA15A\",\"#19d3f3\",\"#FF6692\",\"#B6E880\",\"#FF97FF\",\"#FECB52\"],\"font\":{\"color\":\"#2a3f5f\"},\"hovermode\":\"closest\",\"hoverlabel\":{\"align\":\"left\"},\"paper_bgcolor\":\"white\",\"plot_bgcolor\":\"#E5ECF6\",\"polar\":{\"bgcolor\":\"#E5ECF6\",\"angularaxis\":{\"gridcolor\":\"white\",\"linecolor\":\"white\",\"ticks\":\"\"},\"radialaxis\":{\"gridcolor\":\"white\",\"linecolor\":\"white\",\"ticks\":\"\"}},\"ternary\":{\"bgcolor\":\"#E5ECF6\",\"aaxis\":{\"gridcolor\":\"white\",\"linecolor\":\"white\",\"ticks\":\"\"},\"baxis\":{\"gridcolor\":\"white\",\"linecolor\":\"white\",\"ticks\":\"\"},\"caxis\":{\"gridcolor\":\"white\",\"linecolor\":\"white\",\"ticks\":\"\"}},\"coloraxis\":{\"colorbar\":{\"outlinewidth\":0,\"ticks\":\"\"}},\"colorscale\":{\"sequential\":[[0.0,\"#0d0887\"],[0.1111111111111111,\"#46039f\"],[0.2222222222222222,\"#7201a8\"],[0.3333333333333333,\"#9c179e\"],[0.4444444444444444,\"#bd3786\"],[0.5555555555555556,\"#d8576b\"],[0.6666666666666666,\"#ed7953\"],[0.7777777777777778,\"#fb9f3a\"],[0.8888888888888888,\"#fdca26\"],[1.0,\"#f0f921\"]],\"sequentialminus\":[[0.0,\"#0d0887\"],[0.1111111111111111,\"#46039f\"],[0.2222222222222222,\"#7201a8\"],[0.3333333333333333,\"#9c179e\"],[0.4444444444444444,\"#bd3786\"],[0.5555555555555556,\"#d8576b\"],[0.6666666666666666,\"#ed7953\"],[0.7777777777777778,\"#fb9f3a\"],[0.8888888888888888,\"#fdca26\"],[1.0,\"#f0f921\"]],\"diverging\":[[0,\"#8e0152\"],[0.1,\"#c51b7d\"],[0.2,\"#de77ae\"],[0.3,\"#f1b6da\"],[0.4,\"#fde0ef\"],[0.5,\"#f7f7f7\"],[0.6,\"#e6f5d0\"],[0.7,\"#b8e186\"],[0.8,\"#7fbc41\"],[0.9,\"#4d9221\"],[1,\"#276419\"]]},\"xaxis\":{\"gridcolor\":\"white\",\"linecolor\":\"white\",\"ticks\":\"\",\"title\":{\"standoff\":15},\"zerolinecolor\":\"white\",\"automargin\":true,\"zerolinewidth\":2},\"yaxis\":{\"gridcolor\":\"white\",\"linecolor\":\"white\",\"ticks\":\"\",\"title\":{\"standoff\":15},\"zerolinecolor\":\"white\",\"automargin\":true,\"zerolinewidth\":2},\"scene\":{\"xaxis\":{\"backgroundcolor\":\"#E5ECF6\",\"gridcolor\":\"white\",\"linecolor\":\"white\",\"showbackground\":true,\"ticks\":\"\",\"zerolinecolor\":\"white\",\"gridwidth\":2},\"yaxis\":{\"backgroundcolor\":\"#E5ECF6\",\"gridcolor\":\"white\",\"linecolor\":\"white\",\"showbackground\":true,\"ticks\":\"\",\"zerolinecolor\":\"white\",\"gridwidth\":2},\"zaxis\":{\"backgroundcolor\":\"#E5ECF6\",\"gridcolor\":\"white\",\"linecolor\":\"white\",\"showbackground\":true,\"ticks\":\"\",\"zerolinecolor\":\"white\",\"gridwidth\":2}},\"shapedefaults\":{\"line\":{\"color\":\"#2a3f5f\"}},\"annotationdefaults\":{\"arrowcolor\":\"#2a3f5f\",\"arrowhead\":0,\"arrowwidth\":1},\"geo\":{\"bgcolor\":\"white\",\"landcolor\":\"#E5ECF6\",\"subunitcolor\":\"white\",\"showland\":true,\"showlakes\":true,\"lakecolor\":\"white\"},\"title\":{\"x\":0.05},\"mapbox\":{\"style\":\"light\"}}},\"xaxis\":{\"anchor\":\"y\",\"domain\":[0.0,1.0],\"title\":{\"text\":\"quality\"}},\"yaxis\":{\"anchor\":\"x\",\"domain\":[0.0,1.0],\"title\":{\"text\":\"count\"}},\"legend\":{\"tracegroupgap\":0},\"margin\":{\"t\":60},\"barmode\":\"relative\"},                        {\"responsive\": true}                    ).then(function(){\n",
              "                            \n",
              "var gd = document.getElementById('7c634e9d-27c5-44d1-ae5d-1dee321e38ec');\n",
              "var x = new MutationObserver(function (mutations, observer) {{\n",
              "        var display = window.getComputedStyle(gd).display;\n",
              "        if (!display || display === 'none') {{\n",
              "            console.log([gd, 'removed!']);\n",
              "            Plotly.purge(gd);\n",
              "            observer.disconnect();\n",
              "        }}\n",
              "}});\n",
              "\n",
              "// Listen for the removal of the full notebook cells\n",
              "var notebookContainer = gd.closest('#notebook-container');\n",
              "if (notebookContainer) {{\n",
              "    x.observe(notebookContainer, {childList: true});\n",
              "}}\n",
              "\n",
              "// Listen for the clearing of the current output cell\n",
              "var outputEl = gd.closest('.output');\n",
              "if (outputEl) {{\n",
              "    x.observe(outputEl, {childList: true});\n",
              "}}\n",
              "\n",
              "                        })                };                            </script>        </div>\n",
              "</body>\n",
              "</html>"
            ]
          },
          "metadata": {}
        }
      ]
    },
    {
      "cell_type": "markdown",
      "source": [
        "# Scaling train test split"
      ],
      "metadata": {
        "id": "iOyk0_SxbnNs"
      }
    },
    {
      "cell_type": "code",
      "source": [
        "X_train_val, X_test, y_train_val, y_test = train_test_split(X_smote,\n",
        "                                                            y_smote,\n",
        "                                                            test_size=0.3,\n",
        "                                                            random_state=seed)\n",
        "\n",
        "X_train, X_val, y_train, y_val = train_test_split(X_train_val,\n",
        "                                                  y_train_val,\n",
        "                                                  test_size=0.1,\n",
        "                                                  random_state=seed)\n",
        "\n",
        "print('\\nShape of X_train: ', X_train.shape)\n",
        "print('Shape of y_train: ', y_train.shape)\n",
        "\n",
        "print('\\nShape of X_test: ', X_test.shape)\n",
        "print('Shape of y_test: ', y_test.shape)\n",
        "\n",
        "print('\\nShape of X_val: ', X_val.shape)\n",
        "print('Shape of y_val: ', y_val.shape)"
      ],
      "metadata": {
        "colab": {
          "base_uri": "https://localhost:8080/"
        },
        "id": "_u3UiomUFWKy",
        "outputId": "a7946f8c-4ef2-49f0-cfdc-fb69bc32238a"
      },
      "execution_count": 88,
      "outputs": [
        {
          "output_type": "stream",
          "name": "stdout",
          "text": [
            "\n",
            "Shape of X_train:  (2574, 11)\n",
            "Shape of y_train:  (2574,)\n",
            "\n",
            "Shape of X_test:  (1226, 11)\n",
            "Shape of y_test:  (1226,)\n",
            "\n",
            "Shape of X_val:  (286, 11)\n",
            "Shape of y_val:  (286,)\n"
          ]
        }
      ]
    },
    {
      "cell_type": "code",
      "source": [
        "scaler = StandardScaler()\n",
        "\n",
        "X_train_scaled = scaler.fit_transform(X_train)\n",
        "\n",
        "X_test_scaled = scaler.transform(X_test)\n",
        "\n",
        "X_val_scaled = scaler.transform(X_val)"
      ],
      "metadata": {
        "id": "yJyhbXjLPeAy"
      },
      "execution_count": 89,
      "outputs": []
    },
    {
      "cell_type": "markdown",
      "source": [
        "Notice that we use .fit_transform() on X_train while we use .transform() on X_val and X_test.\n",
        "\n",
        "**We do this because we want to scale the validation and test set with the same parameters as that of the train set to avoid data leakage.** fit_transform calculates scaling values and applies them while .transform only applies the calculated values.\n",
        "\n",
        "Source: https://towardsdatascience.com/pytorch-tabular-multiclass-classification-9f8211a123ab"
      ],
      "metadata": {
        "id": "mb2bVQWG67Z2"
      }
    },
    {
      "cell_type": "code",
      "source": [
        "print('Shape of X_train_scaled: ', X_train_scaled.shape)\n",
        "print('Shape of X_test_scaled: ', X_test_scaled.shape)\n",
        "print('Shape of X_val_scaled: ', X_val_scaled.shape)"
      ],
      "metadata": {
        "colab": {
          "base_uri": "https://localhost:8080/"
        },
        "id": "Daa33rdAFwQk",
        "outputId": "2d45743d-cead-4242-e634-ae944ede8dbf"
      },
      "execution_count": 90,
      "outputs": [
        {
          "output_type": "stream",
          "name": "stdout",
          "text": [
            "Shape of X_train_scaled:  (2574, 11)\n",
            "Shape of X_test_scaled:  (1226, 11)\n",
            "Shape of X_val_scaled:  (286, 11)\n"
          ]
        }
      ]
    },
    {
      "cell_type": "code",
      "source": [
        "# X_train_scaled, y_train_scaled = np.array(X_train_scaled), np.array(y_train)\n",
        "\n",
        "# X_val_scaled, y_val_scaled = np.array(X_val_scaled), np.array(y_val)\n",
        "\n",
        "# X_test_scaled, y_test_scaled = np.array(X_test_scaled), np.array(y_test)"
      ],
      "metadata": {
        "id": "TwBvFWvKCl8y"
      },
      "execution_count": 91,
      "outputs": []
    },
    {
      "cell_type": "markdown",
      "source": [
        "# Multilayer perceptron"
      ],
      "metadata": {
        "id": "jrAbA-A3bEM3"
      }
    },
    {
      "cell_type": "markdown",
      "source": [
        "## Tensors"
      ],
      "metadata": {
        "id": "Uc67zkrurwgx"
      }
    },
    {
      "cell_type": "code",
      "source": [
        "# Check available hardware\n",
        "if torch.cuda.is_available():\n",
        "  device = torch.device('cuda')\n",
        "else:\n",
        "  device = torch.device('cpu')\n",
        "\n",
        "print(device)"
      ],
      "metadata": {
        "colab": {
          "base_uri": "https://localhost:8080/"
        },
        "id": "jbBPHVRSR6ZW",
        "outputId": "96ff96d7-28f9-4b70-ced9-8b4481bcfcb4"
      },
      "execution_count": 92,
      "outputs": [
        {
          "output_type": "stream",
          "name": "stdout",
          "text": [
            "cuda\n"
          ]
        }
      ]
    },
    {
      "cell_type": "code",
      "source": [
        "X_train_tensor = torch.from_numpy(X_train_scaled).float().to(device)\n",
        "\n",
        "y_train_tensor = torch.LongTensor(y_train.values).to(device)\n",
        "\n",
        "\n",
        "X_test_tensor = torch.from_numpy(X_test_scaled).float().to(device)\n",
        "\n",
        "y_test_tensor = torch.LongTensor(y_test.values).to(device)\n",
        "\n",
        "\n",
        "X_val_tensor = torch.from_numpy(X_val_scaled).float().to(device)\n",
        "\n",
        "y_val_tensor = torch.LongTensor(y_val.values).to(device)\n",
        "\n",
        "\n",
        "print(X_train_tensor)\n",
        "print(y_train_tensor)\n",
        "print('-' * 30)\n",
        "print(X_test_tensor)\n",
        "print(y_test_tensor)\n",
        "print('-' * 30)\n",
        "print(X_val_tensor)\n",
        "print(y_val_tensor)"
      ],
      "metadata": {
        "id": "X6k3npn9o_2F",
        "colab": {
          "base_uri": "https://localhost:8080/"
        },
        "outputId": "6e552a51-b1b6-4cce-f0ed-28c0387aaacd"
      },
      "execution_count": 93,
      "outputs": [
        {
          "output_type": "stream",
          "name": "stdout",
          "text": [
            "tensor([[-0.2974, -0.5170, -0.3580,  ...,  0.2264,  0.3601,  0.6751],\n",
            "        [-0.4678, -0.5619,  0.1793,  ..., -0.4391, -0.7813, -0.7118],\n",
            "        [ 2.1572, -0.4845,  0.9192,  ..., -0.5799,  0.4971, -0.8169],\n",
            "        ...,\n",
            "        [-0.4795, -1.1495,  0.7165,  ...,  0.7564,  1.0361,  1.0000],\n",
            "        [ 1.2047, -0.1325,  0.9458,  ..., -0.6211,  0.3043, -1.5625],\n",
            "        [ 0.2423,  0.0543,  0.0788,  ...,  0.2236, -1.0911, -1.3907]],\n",
            "       device='cuda:0')\n",
            "tensor([4, 3, 1,  ..., 3, 0, 2], device='cuda:0')\n",
            "------------------------------\n",
            "tensor([[-0.2257,  3.4000, -0.9817,  ...,  0.8148, -1.4478, -0.1755],\n",
            "        [-0.5396,  0.0543, -1.1968,  ...,  0.1570, -0.7688, -0.5369],\n",
            "        [ 1.2047, -0.3954,  0.8134,  ..., -0.0563,  0.8759, -1.0688],\n",
            "        ...,\n",
            "        [-0.6599, -0.9489, -0.1665,  ...,  0.6898, -0.7688, -0.6223],\n",
            "        [ 0.4007, -0.8499,  0.4344,  ..., -0.8774,  1.0597,  0.2002],\n",
            "        [ 1.1446, -0.2266,  1.0109,  ..., -1.3747, -0.4465, -1.2200]],\n",
            "       device='cuda:0')\n",
            "tensor([0, 2, 0,  ..., 1, 4, 3], device='cuda:0')\n",
            "------------------------------\n",
            "tensor([[ 0.6634,  0.0141,  0.8147,  ...,  0.8896, -0.1887, -1.0492],\n",
            "        [ 0.1220, -0.3871,  1.1581,  ..., -1.9741,  3.2921, -1.4761],\n",
            "        [ 1.5434, -0.2731,  1.8371,  ..., -1.6866,  0.2218,  0.8068],\n",
            "        ...,\n",
            "        [ 0.9249, -1.0670,  1.3428,  ..., -1.1749,  0.9647,  0.5834],\n",
            "        [ 0.9673, -1.0561,  1.3348,  ..., -1.1749,  0.8702,  0.5509],\n",
            "        [ 3.0092, -1.2699,  1.6977,  ..., -1.1083,  0.0692, -0.8784]],\n",
            "       device='cuda:0')\n",
            "tensor([2, 2, 4, 5, 3, 3, 1, 5, 2, 4, 3, 5, 5, 3, 3, 2, 2, 5, 4, 4, 1, 2, 3, 3,\n",
            "        0, 2, 1, 1, 2, 2, 4, 0, 1, 1, 4, 2, 5, 2, 4, 5, 0, 5, 1, 2, 4, 0, 0, 1,\n",
            "        5, 0, 1, 4, 0, 4, 4, 4, 2, 5, 2, 3, 2, 2, 3, 4, 1, 3, 1, 5, 4, 5, 0, 1,\n",
            "        4, 4, 4, 3, 2, 2, 2, 1, 2, 1, 0, 1, 5, 1, 3, 0, 1, 2, 1, 2, 3, 4, 1, 1,\n",
            "        0, 4, 1, 4, 1, 5, 3, 5, 3, 0, 3, 1, 0, 1, 3, 3, 5, 3, 2, 4, 5, 1, 1, 2,\n",
            "        2, 2, 0, 0, 4, 3, 2, 4, 5, 4, 5, 3, 2, 0, 0, 0, 4, 2, 1, 5, 3, 3, 3, 1,\n",
            "        1, 0, 1, 1, 5, 1, 2, 1, 3, 5, 4, 3, 3, 1, 1, 3, 5, 4, 4, 0, 0, 4, 5, 3,\n",
            "        3, 4, 1, 4, 3, 0, 0, 5, 5, 2, 0, 2, 1, 1, 2, 5, 1, 3, 1, 3, 1, 2, 0, 2,\n",
            "        3, 2, 3, 1, 5, 0, 5, 2, 4, 4, 3, 2, 1, 0, 4, 5, 4, 2, 1, 0, 2, 4, 0, 0,\n",
            "        0, 4, 0, 3, 0, 1, 5, 2, 0, 3, 2, 4, 5, 5, 1, 3, 5, 2, 1, 3, 3, 1, 0, 3,\n",
            "        4, 4, 2, 2, 0, 5, 5, 1, 1, 0, 5, 2, 5, 4, 4, 2, 0, 2, 4, 1, 3, 0, 1, 5,\n",
            "        4, 1, 4, 5, 4, 5, 5, 2, 2, 3, 4, 4, 5, 3, 0, 0, 3, 0, 2, 5, 5, 3],\n",
            "       device='cuda:0')\n"
          ]
        }
      ]
    },
    {
      "cell_type": "markdown",
      "source": [
        "## Classifier parameters"
      ],
      "metadata": {
        "id": "aTVFBoGSlVdj"
      }
    },
    {
      "cell_type": "code",
      "source": [
        "input_size = X.shape[1]\n",
        "\n",
        "hidden_size = 32\n",
        "\n",
        "output_size = len(y.unique())"
      ],
      "metadata": {
        "id": "HjTREx861sSY"
      },
      "execution_count": 94,
      "outputs": []
    },
    {
      "cell_type": "code",
      "source": [
        "class WineClassifier(nn.Module):\n",
        "    def __init__(self, input_size, hidden_size, output_size):\n",
        "        \"\"\"\n",
        "        Initializes all required hyperparameters for a multi-class classification model.\n",
        "\n",
        "        Args:\n",
        "            input_size (int): Number of input features to the model.\n",
        "            out_features (int): Number of output features of the model\n",
        "            (how many classes there are).\n",
        "            hidden_size (int): Number of hidden units between layers, default 8.\n",
        "        \"\"\"\n",
        "\n",
        "        super(WineClassifier, self).__init__()\n",
        "\n",
        "        # Neural Net architecture\n",
        "        self.neural_network = nn.Sequential(nn.Linear(in_features=input_size,\n",
        "                                                      out_features=hidden_size),\n",
        "                                            nn.ReLU(),\n",
        "                                            nn.Linear(in_features=hidden_size,\n",
        "                                                      out_features=hidden_size),\n",
        "                                            nn.ReLU(),\n",
        "                                            nn.Linear(in_features=hidden_size,\n",
        "                                                      out_features=hidden_size),\n",
        "                                            nn.ReLU(),\n",
        "                                            nn.Linear(in_features=hidden_size,\n",
        "                                                      out_features=output_size),\n",
        "                                            nn.Softmax(dim=1))\n",
        "\n",
        "    def forward(self, x):\n",
        "\n",
        "        return self.neural_network(x)"
      ],
      "metadata": {
        "id": "ZB4_Ta6USGoq"
      },
      "execution_count": 95,
      "outputs": []
    },
    {
      "cell_type": "markdown",
      "source": [
        "## Model"
      ],
      "metadata": {
        "id": "KRoVxAqw2f1d"
      }
    },
    {
      "cell_type": "code",
      "source": [
        "args = {'batch_size': 10,\n",
        "        'num_workers': 2,\n",
        "        'num_classes': output_size,\n",
        "        'lr': 0.01,\n",
        "        'weight_decay': 0.0005,\n",
        "        'epochs': 1000}"
      ],
      "metadata": {
        "id": "ssTwiINRF8LA"
      },
      "execution_count": 96,
      "outputs": []
    },
    {
      "cell_type": "code",
      "source": [
        "model = WineClassifier(input_size, hidden_size, output_size).to(device)\n",
        "\n",
        "print(model)"
      ],
      "metadata": {
        "id": "S83o4ebP66AO",
        "colab": {
          "base_uri": "https://localhost:8080/"
        },
        "outputId": "5d26f55d-7ca3-43fc-924f-96557695e51e"
      },
      "execution_count": 97,
      "outputs": [
        {
          "output_type": "stream",
          "name": "stdout",
          "text": [
            "WineClassifier(\n",
            "  (neural_network): Sequential(\n",
            "    (0): Linear(in_features=11, out_features=32, bias=True)\n",
            "    (1): ReLU()\n",
            "    (2): Linear(in_features=32, out_features=32, bias=True)\n",
            "    (3): ReLU()\n",
            "    (4): Linear(in_features=32, out_features=32, bias=True)\n",
            "    (5): ReLU()\n",
            "    (6): Linear(in_features=32, out_features=6, bias=True)\n",
            "    (7): Softmax(dim=1)\n",
            "  )\n",
            ")\n"
          ]
        }
      ]
    },
    {
      "cell_type": "markdown",
      "source": [
        "## Loss and optimizer"
      ],
      "metadata": {
        "id": "FF-nnLUtka_C"
      }
    },
    {
      "cell_type": "code",
      "source": [
        "criterion = nn.CrossEntropyLoss().to(device)  # Loss\n",
        "\n",
        "\n",
        "model_params = model.parameters()\n",
        "\n",
        "optimizer = optim.Adam(model_params, lr=args['lr'], weight_decay=args['weight_decay'])"
      ],
      "metadata": {
        "id": "l_zWrW_z2lnO"
      },
      "execution_count": 98,
      "outputs": []
    },
    {
      "cell_type": "markdown",
      "source": [
        "## Training"
      ],
      "metadata": {
        "id": "eL0YGlpRtZ0l"
      }
    },
    {
      "cell_type": "code",
      "source": [
        "accuracy = Accuracy(task='multiclass', num_classes=output_size).to(device) * 100"
      ],
      "metadata": {
        "id": "8WP1SYfN17QG"
      },
      "execution_count": 99,
      "outputs": []
    },
    {
      "cell_type": "code",
      "source": [
        "train_losses = {}\n",
        "test_losses = {}\n",
        "\n",
        "train_accuracies = {}\n",
        "test_accuracies = {}\n",
        "\n",
        "for epoch in range(args['epochs']):\n",
        "    # Training\n",
        "    model.train()\n",
        "\n",
        "    # 1. Forward pass\n",
        "    y_pred = model(X_train_tensor)\n",
        "\n",
        "    # 2. Calculate loss and accuracy\n",
        "    loss = criterion(y_pred, y_train_tensor)\n",
        "    acc = accuracy(y_pred, y_train_tensor)\n",
        "\n",
        "    train_losses[epoch] = loss.item()\n",
        "    train_accuracies[epoch] = acc.item()\n",
        "\n",
        "    # 3. Optimizer zero grad\n",
        "    optimizer.zero_grad()\n",
        "\n",
        "    # 4. Loss backwards\n",
        "    loss.backward()\n",
        "\n",
        "    # 5. Optimizer step\n",
        "    optimizer.step()\n",
        "\n",
        "    ### Testing\n",
        "    model.eval()\n",
        "    with torch.inference_mode():\n",
        "      # 1. Forward pass\n",
        "      test_pred = model(X_test_tensor)\n",
        "\n",
        "      # 2. Calculate test loss and accuracy\n",
        "      test_loss = criterion(test_pred, y_test_tensor)\n",
        "      test_acc = accuracy(test_pred, y_test_tensor)\n",
        "\n",
        "      test_losses[epoch] = test_loss.item()\n",
        "      test_accuracies[epoch] = test_acc.item()\n",
        "\n",
        "    # Print out what's happening\n",
        "    if epoch % 10 == 0:\n",
        "        print(f'Epoch: {epoch} | Loss: {loss:.5f}, Acc: {acc:.2f}% | Test Loss: {test_loss:.5f}, Test Acc: {test_acc:.2f}%')"
      ],
      "metadata": {
        "id": "MjEGtO2hdPIE",
        "colab": {
          "base_uri": "https://localhost:8080/"
        },
        "outputId": "d7eed37e-5f51-4342-91e2-dd593b77aac9"
      },
      "execution_count": 100,
      "outputs": [
        {
          "output_type": "stream",
          "name": "stdout",
          "text": [
            "Epoch: 0 | Loss: 1.79094, Acc: 17.75% | Test Loss: 1.78805, Test Acc: 19.49%\n",
            "Epoch: 10 | Loss: 1.64209, Acc: 43.67% | Test Loss: 1.61397, Test Acc: 44.37%\n",
            "Epoch: 20 | Loss: 1.49345, Acc: 55.32% | Test Loss: 1.47093, Test Acc: 58.97%\n",
            "Epoch: 30 | Loss: 1.43412, Acc: 61.15% | Test Loss: 1.41165, Test Acc: 63.38%\n",
            "Epoch: 40 | Loss: 1.38241, Acc: 67.25% | Test Loss: 1.37531, Test Acc: 67.54%\n",
            "Epoch: 50 | Loss: 1.34884, Acc: 70.32% | Test Loss: 1.36079, Test Acc: 68.27%\n",
            "Epoch: 60 | Loss: 1.32649, Acc: 72.30% | Test Loss: 1.34461, Test Acc: 70.72%\n",
            "Epoch: 70 | Loss: 1.32888, Acc: 72.18% | Test Loss: 1.33352, Test Acc: 71.13%\n",
            "Epoch: 80 | Loss: 1.30687, Acc: 74.71% | Test Loss: 1.32850, Test Acc: 72.02%\n",
            "Epoch: 90 | Loss: 1.29534, Acc: 75.84% | Test Loss: 1.31606, Test Acc: 73.57%\n",
            "Epoch: 100 | Loss: 1.28616, Acc: 77.12% | Test Loss: 1.31135, Test Acc: 74.06%\n",
            "Epoch: 110 | Loss: 1.27736, Acc: 77.74% | Test Loss: 1.30719, Test Acc: 74.47%\n",
            "Epoch: 120 | Loss: 1.26801, Acc: 78.90% | Test Loss: 1.30302, Test Acc: 74.80%\n",
            "Epoch: 130 | Loss: 1.26016, Acc: 79.49% | Test Loss: 1.29986, Test Acc: 74.88%\n",
            "Epoch: 140 | Loss: 1.25346, Acc: 80.07% | Test Loss: 1.29419, Test Acc: 75.53%\n",
            "Epoch: 150 | Loss: 1.24821, Acc: 80.50% | Test Loss: 1.28988, Test Acc: 75.77%\n",
            "Epoch: 160 | Loss: 1.24383, Acc: 81.00% | Test Loss: 1.28824, Test Acc: 75.53%\n",
            "Epoch: 170 | Loss: 1.23914, Acc: 81.35% | Test Loss: 1.28660, Test Acc: 75.94%\n",
            "Epoch: 180 | Loss: 1.23797, Acc: 81.47% | Test Loss: 1.28615, Test Acc: 75.86%\n",
            "Epoch: 190 | Loss: 1.23427, Acc: 81.97% | Test Loss: 1.28592, Test Acc: 75.69%\n",
            "Epoch: 200 | Loss: 1.23065, Acc: 82.28% | Test Loss: 1.28409, Test Acc: 75.86%\n",
            "Epoch: 210 | Loss: 1.22854, Acc: 82.44% | Test Loss: 1.28121, Test Acc: 76.26%\n",
            "Epoch: 220 | Loss: 1.22659, Acc: 82.52% | Test Loss: 1.27997, Test Acc: 76.43%\n",
            "Epoch: 230 | Loss: 1.22505, Acc: 82.71% | Test Loss: 1.27859, Test Acc: 76.75%\n",
            "Epoch: 240 | Loss: 1.22387, Acc: 82.94% | Test Loss: 1.27713, Test Acc: 77.08%\n",
            "Epoch: 250 | Loss: 1.22271, Acc: 82.98% | Test Loss: 1.27757, Test Acc: 76.59%\n",
            "Epoch: 260 | Loss: 1.22105, Acc: 83.26% | Test Loss: 1.27553, Test Acc: 77.41%\n",
            "Epoch: 270 | Loss: 1.21953, Acc: 83.41% | Test Loss: 1.27511, Test Acc: 77.41%\n",
            "Epoch: 280 | Loss: 1.21877, Acc: 83.49% | Test Loss: 1.27349, Test Acc: 77.41%\n",
            "Epoch: 290 | Loss: 1.21829, Acc: 83.45% | Test Loss: 1.27339, Test Acc: 77.49%\n",
            "Epoch: 300 | Loss: 1.21691, Acc: 83.57% | Test Loss: 1.27326, Test Acc: 77.32%\n",
            "Epoch: 310 | Loss: 1.21519, Acc: 83.84% | Test Loss: 1.27084, Test Acc: 77.57%\n",
            "Epoch: 320 | Loss: 1.21546, Acc: 83.68% | Test Loss: 1.27200, Test Acc: 78.79%\n",
            "Epoch: 330 | Loss: 1.21932, Acc: 83.61% | Test Loss: 1.28475, Test Acc: 76.18%\n",
            "Epoch: 340 | Loss: 1.24080, Acc: 81.04% | Test Loss: 1.29080, Test Acc: 75.20%\n",
            "Epoch: 350 | Loss: 1.21767, Acc: 83.41% | Test Loss: 1.27585, Test Acc: 77.16%\n",
            "Epoch: 360 | Loss: 1.21075, Acc: 84.19% | Test Loss: 1.26849, Test Acc: 77.73%\n",
            "Epoch: 370 | Loss: 1.20714, Acc: 84.54% | Test Loss: 1.26341, Test Acc: 78.47%\n",
            "Epoch: 380 | Loss: 1.20543, Acc: 84.69% | Test Loss: 1.26185, Test Acc: 78.38%\n",
            "Epoch: 390 | Loss: 1.20452, Acc: 84.69% | Test Loss: 1.26137, Test Acc: 78.55%\n",
            "Epoch: 400 | Loss: 1.20408, Acc: 84.73% | Test Loss: 1.26108, Test Acc: 78.55%\n",
            "Epoch: 410 | Loss: 1.20383, Acc: 84.73% | Test Loss: 1.26061, Test Acc: 78.63%\n",
            "Epoch: 420 | Loss: 1.20368, Acc: 84.73% | Test Loss: 1.26049, Test Acc: 78.63%\n",
            "Epoch: 430 | Loss: 1.20354, Acc: 84.73% | Test Loss: 1.26020, Test Acc: 78.71%\n",
            "Epoch: 440 | Loss: 1.20338, Acc: 84.73% | Test Loss: 1.25984, Test Acc: 78.71%\n",
            "Epoch: 450 | Loss: 1.20317, Acc: 84.77% | Test Loss: 1.25945, Test Acc: 78.71%\n",
            "Epoch: 460 | Loss: 1.20299, Acc: 84.77% | Test Loss: 1.25911, Test Acc: 78.71%\n",
            "Epoch: 470 | Loss: 1.20284, Acc: 84.81% | Test Loss: 1.25876, Test Acc: 78.79%\n",
            "Epoch: 480 | Loss: 1.20270, Acc: 84.81% | Test Loss: 1.25849, Test Acc: 78.87%\n",
            "Epoch: 490 | Loss: 1.20257, Acc: 84.81% | Test Loss: 1.25835, Test Acc: 78.96%\n",
            "Epoch: 500 | Loss: 1.20245, Acc: 84.85% | Test Loss: 1.25813, Test Acc: 78.96%\n",
            "Epoch: 510 | Loss: 1.20233, Acc: 84.85% | Test Loss: 1.25798, Test Acc: 78.96%\n",
            "Epoch: 520 | Loss: 1.20222, Acc: 84.85% | Test Loss: 1.25780, Test Acc: 78.96%\n",
            "Epoch: 530 | Loss: 1.20211, Acc: 84.85% | Test Loss: 1.25763, Test Acc: 78.87%\n",
            "Epoch: 540 | Loss: 1.20199, Acc: 84.85% | Test Loss: 1.25742, Test Acc: 78.87%\n",
            "Epoch: 550 | Loss: 1.20188, Acc: 84.85% | Test Loss: 1.25733, Test Acc: 78.96%\n",
            "Epoch: 560 | Loss: 1.20174, Acc: 84.85% | Test Loss: 1.25717, Test Acc: 78.96%\n",
            "Epoch: 570 | Loss: 1.20160, Acc: 84.89% | Test Loss: 1.25701, Test Acc: 79.04%\n",
            "Epoch: 580 | Loss: 1.20145, Acc: 84.89% | Test Loss: 1.25689, Test Acc: 79.04%\n",
            "Epoch: 590 | Loss: 1.20130, Acc: 84.89% | Test Loss: 1.25660, Test Acc: 79.12%\n",
            "Epoch: 600 | Loss: 1.20113, Acc: 84.93% | Test Loss: 1.25644, Test Acc: 79.20%\n",
            "Epoch: 610 | Loss: 1.20095, Acc: 84.97% | Test Loss: 1.25635, Test Acc: 79.36%\n",
            "Epoch: 620 | Loss: 1.20078, Acc: 84.97% | Test Loss: 1.25626, Test Acc: 79.28%\n",
            "Epoch: 630 | Loss: 1.20062, Acc: 84.97% | Test Loss: 1.25625, Test Acc: 79.28%\n",
            "Epoch: 640 | Loss: 1.20045, Acc: 85.00% | Test Loss: 1.25627, Test Acc: 79.28%\n",
            "Epoch: 650 | Loss: 1.20027, Acc: 85.04% | Test Loss: 1.25623, Test Acc: 79.28%\n",
            "Epoch: 660 | Loss: 1.20011, Acc: 85.04% | Test Loss: 1.25615, Test Acc: 79.28%\n",
            "Epoch: 670 | Loss: 1.19977, Acc: 85.12% | Test Loss: 1.25602, Test Acc: 79.20%\n",
            "Epoch: 680 | Loss: 1.20163, Acc: 85.12% | Test Loss: 1.25948, Test Acc: 79.45%\n",
            "Epoch: 690 | Loss: 1.28420, Acc: 75.99% | Test Loss: 1.30742, Test Acc: 73.41%\n",
            "Epoch: 700 | Loss: 1.21738, Acc: 83.37% | Test Loss: 1.26345, Test Acc: 78.22%\n",
            "Epoch: 710 | Loss: 1.20724, Acc: 84.34% | Test Loss: 1.25758, Test Acc: 79.20%\n",
            "Epoch: 720 | Loss: 1.20158, Acc: 84.89% | Test Loss: 1.25095, Test Acc: 79.61%\n",
            "Epoch: 730 | Loss: 1.19876, Acc: 85.12% | Test Loss: 1.24788, Test Acc: 80.26%\n",
            "Epoch: 740 | Loss: 1.19668, Acc: 85.43% | Test Loss: 1.24615, Test Acc: 80.10%\n",
            "Epoch: 750 | Loss: 1.19561, Acc: 85.59% | Test Loss: 1.24526, Test Acc: 80.26%\n",
            "Epoch: 760 | Loss: 1.19506, Acc: 85.59% | Test Loss: 1.24517, Test Acc: 80.42%\n",
            "Epoch: 770 | Loss: 1.19465, Acc: 85.59% | Test Loss: 1.24419, Test Acc: 80.34%\n",
            "Epoch: 780 | Loss: 1.19401, Acc: 85.63% | Test Loss: 1.24305, Test Acc: 80.34%\n",
            "Epoch: 790 | Loss: 1.19337, Acc: 85.70% | Test Loss: 1.24248, Test Acc: 80.75%\n",
            "Epoch: 800 | Loss: 1.19289, Acc: 85.70% | Test Loss: 1.24177, Test Acc: 80.75%\n",
            "Epoch: 810 | Loss: 1.19244, Acc: 85.78% | Test Loss: 1.24139, Test Acc: 80.83%\n",
            "Epoch: 820 | Loss: 1.19206, Acc: 85.82% | Test Loss: 1.24100, Test Acc: 80.83%\n",
            "Epoch: 830 | Loss: 1.19157, Acc: 85.94% | Test Loss: 1.24060, Test Acc: 80.83%\n",
            "Epoch: 840 | Loss: 1.19112, Acc: 85.98% | Test Loss: 1.23983, Test Acc: 81.00%\n",
            "Epoch: 850 | Loss: 1.19069, Acc: 86.09% | Test Loss: 1.23931, Test Acc: 81.16%\n",
            "Epoch: 860 | Loss: 1.19032, Acc: 86.09% | Test Loss: 1.23900, Test Acc: 81.16%\n",
            "Epoch: 870 | Loss: 1.19001, Acc: 86.09% | Test Loss: 1.23856, Test Acc: 81.16%\n",
            "Epoch: 880 | Loss: 1.18975, Acc: 86.13% | Test Loss: 1.23815, Test Acc: 81.24%\n",
            "Epoch: 890 | Loss: 1.18950, Acc: 86.13% | Test Loss: 1.23794, Test Acc: 81.32%\n",
            "Epoch: 900 | Loss: 1.18927, Acc: 86.21% | Test Loss: 1.23786, Test Acc: 81.32%\n",
            "Epoch: 910 | Loss: 1.18907, Acc: 86.21% | Test Loss: 1.23748, Test Acc: 81.32%\n",
            "Epoch: 920 | Loss: 1.18889, Acc: 86.21% | Test Loss: 1.23740, Test Acc: 81.40%\n",
            "Epoch: 930 | Loss: 1.18873, Acc: 86.21% | Test Loss: 1.23713, Test Acc: 81.48%\n",
            "Epoch: 940 | Loss: 1.18855, Acc: 86.25% | Test Loss: 1.23676, Test Acc: 81.40%\n",
            "Epoch: 950 | Loss: 1.18808, Acc: 86.32% | Test Loss: 1.23727, Test Acc: 81.24%\n",
            "Epoch: 960 | Loss: 1.18771, Acc: 86.32% | Test Loss: 1.23628, Test Acc: 81.48%\n",
            "Epoch: 970 | Loss: 1.18740, Acc: 86.32% | Test Loss: 1.23593, Test Acc: 81.57%\n",
            "Epoch: 980 | Loss: 1.18710, Acc: 86.44% | Test Loss: 1.23585, Test Acc: 81.48%\n",
            "Epoch: 990 | Loss: 1.18675, Acc: 86.44% | Test Loss: 1.23521, Test Acc: 81.48%\n"
          ]
        }
      ]
    },
    {
      "cell_type": "markdown",
      "source": [
        "### Accuracy"
      ],
      "metadata": {
        "id": "L0OlvALIr6kL"
      }
    },
    {
      "cell_type": "code",
      "source": [
        "list_train_accuracies = sorted(train_accuracies.items())\n",
        "\n",
        "x_train_accuracies, y_train_accuracies = zip(*list_train_accuracies)"
      ],
      "metadata": {
        "id": "ySythVZd7_X9"
      },
      "execution_count": 101,
      "outputs": []
    },
    {
      "cell_type": "code",
      "source": [
        "best_epoch_accuracy_train = max(train_accuracies, key=train_accuracies.get)\n",
        "\n",
        "higher_accuracy_train = train_accuracies[best_epoch_accuracy_train]\n",
        "\n",
        "best_epoch_accuracy_train, higher_accuracy_train"
      ],
      "metadata": {
        "colab": {
          "base_uri": "https://localhost:8080/"
        },
        "id": "buTRUKInbHgP",
        "outputId": "0c68bf07-c7ae-429c-842d-7fc65350b8f2"
      },
      "execution_count": 102,
      "outputs": [
        {
          "output_type": "execute_result",
          "data": {
            "text/plain": [
              "(980, 86.44133758544922)"
            ]
          },
          "metadata": {},
          "execution_count": 102
        }
      ]
    },
    {
      "cell_type": "code",
      "source": [
        "list_test_accuracies = sorted(test_accuracies.items())\n",
        "\n",
        "x_test_accuracies, y_test_accuracies = zip(*list_test_accuracies)"
      ],
      "metadata": {
        "id": "laN_MoxjJpKt"
      },
      "execution_count": 103,
      "outputs": []
    },
    {
      "cell_type": "code",
      "source": [
        "best_epoch_accuracy_test = max(test_accuracies, key=test_accuracies.get)\n",
        "\n",
        "higher_accuracy_test = test_accuracies[best_epoch_accuracy_test]\n",
        "\n",
        "best_epoch_accuracy_test, higher_accuracy_test"
      ],
      "metadata": {
        "colab": {
          "base_uri": "https://localhost:8080/"
        },
        "id": "gYVYouvCdx3P",
        "outputId": "7f3a180a-a847-457c-aca0-c81e484a84dd"
      },
      "execution_count": 104,
      "outputs": [
        {
          "output_type": "execute_result",
          "data": {
            "text/plain": [
              "(968, 81.5660629272461)"
            ]
          },
          "metadata": {},
          "execution_count": 104
        }
      ]
    },
    {
      "cell_type": "code",
      "source": [
        "fig = go.Figure()\n",
        "\n",
        "fig.add_trace(go.Scatter(x=x_train_accuracies,\n",
        "                         y=y_train_accuracies,\n",
        "                         mode='lines',\n",
        "                         name='Train accuracy',))\n",
        "\n",
        "fig.add_trace(go.Scatter(x=x_test_accuracies,\n",
        "                         y=y_test_accuracies,\n",
        "                         mode='lines',\n",
        "                         name='Test accuracy'))\n",
        "\n",
        "fig.update_layout(height=600,\n",
        "                  width=1200,\n",
        "                  showlegend=True,\n",
        "                  margin=dict(l=80,\n",
        "                              r=50,\n",
        "                              b=50,\n",
        "                              t=80),\n",
        "                  yaxis=dict(title_text='Accuracy (%)'),\n",
        "                  xaxis=dict(title_text='Epochs'),\n",
        "                  hovermode='x unified',\n",
        "                  title='Train test accuracies')"
      ],
      "metadata": {
        "colab": {
          "base_uri": "https://localhost:8080/",
          "height": 617
        },
        "id": "68gZIJUtgg9E",
        "outputId": "9227899c-7733-4b6d-a01c-d2463dce1562"
      },
      "execution_count": 105,
      "outputs": [
        {
          "output_type": "display_data",
          "data": {
            "text/html": [
              "<html>\n",
              "<head><meta charset=\"utf-8\" /></head>\n",
              "<body>\n",
              "    <div>            <script src=\"https://cdnjs.cloudflare.com/ajax/libs/mathjax/2.7.5/MathJax.js?config=TeX-AMS-MML_SVG\"></script><script type=\"text/javascript\">if (window.MathJax && window.MathJax.Hub && window.MathJax.Hub.Config) {window.MathJax.Hub.Config({SVG: {font: \"STIX-Web\"}});}</script>                <script type=\"text/javascript\">window.PlotlyConfig = {MathJaxConfig: 'local'};</script>\n",
              "        <script charset=\"utf-8\" src=\"https://cdn.plot.ly/plotly-2.27.0.min.js\"></script>                <div id=\"68771872-8233-453f-8e27-5979eacaa441\" class=\"plotly-graph-div\" style=\"height:600px; width:1200px;\"></div>            <script type=\"text/javascript\">                                    window.PLOTLYENV=window.PLOTLYENV || {};                                    if (document.getElementById(\"68771872-8233-453f-8e27-5979eacaa441\")) {                    Plotly.newPlot(                        \"68771872-8233-453f-8e27-5979eacaa441\",                        [{\"mode\":\"lines\",\"name\":\"Train accuracy\",\"x\":[0,1,2,3,4,5,6,7,8,9,10,11,12,13,14,15,16,17,18,19,20,21,22,23,24,25,26,27,28,29,30,31,32,33,34,35,36,37,38,39,40,41,42,43,44,45,46,47,48,49,50,51,52,53,54,55,56,57,58,59,60,61,62,63,64,65,66,67,68,69,70,71,72,73,74,75,76,77,78,79,80,81,82,83,84,85,86,87,88,89,90,91,92,93,94,95,96,97,98,99,100,101,102,103,104,105,106,107,108,109,110,111,112,113,114,115,116,117,118,119,120,121,122,123,124,125,126,127,128,129,130,131,132,133,134,135,136,137,138,139,140,141,142,143,144,145,146,147,148,149,150,151,152,153,154,155,156,157,158,159,160,161,162,163,164,165,166,167,168,169,170,171,172,173,174,175,176,177,178,179,180,181,182,183,184,185,186,187,188,189,190,191,192,193,194,195,196,197,198,199,200,201,202,203,204,205,206,207,208,209,210,211,212,213,214,215,216,217,218,219,220,221,222,223,224,225,226,227,228,229,230,231,232,233,234,235,236,237,238,239,240,241,242,243,244,245,246,247,248,249,250,251,252,253,254,255,256,257,258,259,260,261,262,263,264,265,266,267,268,269,270,271,272,273,274,275,276,277,278,279,280,281,282,283,284,285,286,287,288,289,290,291,292,293,294,295,296,297,298,299,300,301,302,303,304,305,306,307,308,309,310,311,312,313,314,315,316,317,318,319,320,321,322,323,324,325,326,327,328,329,330,331,332,333,334,335,336,337,338,339,340,341,342,343,344,345,346,347,348,349,350,351,352,353,354,355,356,357,358,359,360,361,362,363,364,365,366,367,368,369,370,371,372,373,374,375,376,377,378,379,380,381,382,383,384,385,386,387,388,389,390,391,392,393,394,395,396,397,398,399,400,401,402,403,404,405,406,407,408,409,410,411,412,413,414,415,416,417,418,419,420,421,422,423,424,425,426,427,428,429,430,431,432,433,434,435,436,437,438,439,440,441,442,443,444,445,446,447,448,449,450,451,452,453,454,455,456,457,458,459,460,461,462,463,464,465,466,467,468,469,470,471,472,473,474,475,476,477,478,479,480,481,482,483,484,485,486,487,488,489,490,491,492,493,494,495,496,497,498,499,500,501,502,503,504,505,506,507,508,509,510,511,512,513,514,515,516,517,518,519,520,521,522,523,524,525,526,527,528,529,530,531,532,533,534,535,536,537,538,539,540,541,542,543,544,545,546,547,548,549,550,551,552,553,554,555,556,557,558,559,560,561,562,563,564,565,566,567,568,569,570,571,572,573,574,575,576,577,578,579,580,581,582,583,584,585,586,587,588,589,590,591,592,593,594,595,596,597,598,599,600,601,602,603,604,605,606,607,608,609,610,611,612,613,614,615,616,617,618,619,620,621,622,623,624,625,626,627,628,629,630,631,632,633,634,635,636,637,638,639,640,641,642,643,644,645,646,647,648,649,650,651,652,653,654,655,656,657,658,659,660,661,662,663,664,665,666,667,668,669,670,671,672,673,674,675,676,677,678,679,680,681,682,683,684,685,686,687,688,689,690,691,692,693,694,695,696,697,698,699,700,701,702,703,704,705,706,707,708,709,710,711,712,713,714,715,716,717,718,719,720,721,722,723,724,725,726,727,728,729,730,731,732,733,734,735,736,737,738,739,740,741,742,743,744,745,746,747,748,749,750,751,752,753,754,755,756,757,758,759,760,761,762,763,764,765,766,767,768,769,770,771,772,773,774,775,776,777,778,779,780,781,782,783,784,785,786,787,788,789,790,791,792,793,794,795,796,797,798,799,800,801,802,803,804,805,806,807,808,809,810,811,812,813,814,815,816,817,818,819,820,821,822,823,824,825,826,827,828,829,830,831,832,833,834,835,836,837,838,839,840,841,842,843,844,845,846,847,848,849,850,851,852,853,854,855,856,857,858,859,860,861,862,863,864,865,866,867,868,869,870,871,872,873,874,875,876,877,878,879,880,881,882,883,884,885,886,887,888,889,890,891,892,893,894,895,896,897,898,899,900,901,902,903,904,905,906,907,908,909,910,911,912,913,914,915,916,917,918,919,920,921,922,923,924,925,926,927,928,929,930,931,932,933,934,935,936,937,938,939,940,941,942,943,944,945,946,947,948,949,950,951,952,953,954,955,956,957,958,959,960,961,962,963,964,965,966,967,968,969,970,971,972,973,974,975,976,977,978,979,980,981,982,983,984,985,986,987,988,989,990,991,992,993,994,995,996,997,998,999],\"y\":[17.75446891784668,20.12432098388672,32.20668029785156,37.49028778076172,34.926185607910156,34.809635162353516,36.13053512573242,41.53069305419922,42.65734100341797,42.773895263671875,43.66744613647461,44.59984588623047,45.33799743652344,44.94949722290039,45.45454788208008,49.30070114135742,49.922298431396484,51.43745040893555,53.108001708984375,54.93395233154297,55.32245635986328,56.29370880126953,56.1383056640625,56.332557678222656,56.52680206298828,57.342655181884766,58.5470085144043,59.86791229248047,60.13985824584961,60.37295913696289,61.149959564208984,62.004661560058594,62.04351043701172,62.548561096191406,63.480960845947266,64.68531799316406,65.22920989990234,65.81196594238281,66.62781524658203,66.62781524658203,67.24942016601562,67.63792419433594,68.259521484375,68.45377349853516,68.45377349853516,69.3084716796875,69.07537078857422,69.85237121582031,69.81352233886719,69.89122009277344,70.31856536865234,70.66822052001953,70.90132141113281,70.86247253417969,71.32866668701172,71.32866668701172,72.02796936035156,71.98912048339844,72.455322265625,72.61072540283203,72.29991912841797,73.54312896728516,72.14452362060547,72.92152404785156,72.33877563476562,71.60062408447266,70.16316986083984,70.5128173828125,71.2898178100586,72.10566711425781,72.1833724975586,72.455322265625,72.84382629394531,72.02796936035156,72.49417114257812,73.73737335205078,74.32012939453125,74.1258773803711,73.85391998291016,74.35897827148438,74.70862579345703,74.8251724243164,74.98057556152344,75.01942443847656,75.1748275756836,75.64102172851562,75.52447509765625,75.29137420654297,75.29137420654297,75.56332397460938,75.83527374267578,75.99067687988281,75.7187271118164,75.91297912597656,75.99067687988281,76.53457641601562,76.72882843017578,76.68997955322266,76.72882843017578,76.92308044433594,77.1173324584961,77.07847595214844,77.15617370605469,77.2727279663086,77.2727279663086,77.2727279663086,77.38927459716797,77.4281234741211,77.58352661132812,77.62237548828125,77.73892974853516,77.85547637939453,78.08857727050781,77.93318176269531,78.12742614746094,78.36052703857422,78.39937591552734,78.51593017578125,78.7101821899414,78.98212432861328,78.90442657470703,79.02098083496094,79.17637634277344,79.21522521972656,79.40947723388672,79.52603149414062,79.33177947998047,79.44833374023438,79.44833374023438,79.44833374023438,79.4871826171875,79.52603149414062,79.642578125,79.72028350830078,79.68143463134766,79.7979736328125,79.83683013916016,79.9145278930664,79.95337677001953,79.95337677001953,80.06993103027344,80.06993103027344,80.22533416748047,80.2641830444336,80.34188079833984,80.38072967529297,80.4195785522461,80.38072967529297,80.45843505859375,80.49728393554688,80.49728393554688,80.73037719726562,80.65267944335938,80.8080825805664,80.76922607421875,80.92462921142578,80.8080825805664,80.92462921142578,80.92462921142578,80.92462921142578,81.00233459472656,81.00233459472656,81.19657897949219,81.15773010253906,81.23543548583984,81.35198211669922,81.3131332397461,81.35198211669922,81.3131332397461,81.3131332397461,81.35198211669922,81.39083099365234,81.50737762451172,80.14762878417969,81.4296875,81.66278076171875,80.9634780883789,81.19657897949219,81.54622650146484,81.39083099365234,81.4685287475586,81.70162963867188,81.4685287475586,81.66278076171875,81.62393188476562,81.70162963867188,81.77932739257812,81.8570327758789,81.54622650146484,81.50737762451172,81.97357940673828,82.01243591308594,81.89588165283203,81.97357940673828,81.97357940673828,81.81818389892578,81.97357940673828,82.2066879272461,82.12898254394531,82.09013366699219,82.28438568115234,82.32323455810547,82.28438568115234,82.40093231201172,82.36207580566406,82.28438568115234,82.16783142089844,82.36207580566406,82.40093231201172,82.40093231201172,82.43978118896484,82.43978118896484,82.47863006591797,82.5174789428711,82.5174789428711,82.47863006591797,82.55632781982422,82.634033203125,82.634033203125,82.55632781982422,82.5174789428711,82.59518432617188,82.59518432617188,82.634033203125,82.634033203125,82.59518432617188,82.634033203125,82.67288208007812,82.67288208007812,82.634033203125,82.71173095703125,82.75057983398438,82.78943634033203,82.82828521728516,82.78943634033203,82.86713409423828,82.86713409423828,82.86713409423828,82.82828521728516,82.86713409423828,82.94483184814453,82.98368835449219,82.82828521728516,82.98368835449219,82.94483184814453,82.82828521728516,82.9059829711914,83.06138610839844,83.02253723144531,83.02253723144531,82.98368835449219,83.06138610839844,83.17793273925781,83.10023498535156,83.10023498535156,83.13908386230469,83.17793273925781,83.17793273925781,83.21678161621094,83.25563049316406,83.25563049316406,83.29447937011719,83.33332824707031,83.33332824707031,83.37218475341797,83.33332824707031,83.33332824707031,83.33332824707031,83.4110336303711,83.44988250732422,83.4110336303711,83.4110336303711,83.48873138427734,83.44988250732422,83.44988250732422,83.4110336303711,83.48873138427734,83.44988250732422,83.44988250732422,83.48873138427734,83.48873138427734,83.48873138427734,83.48873138427734,83.48873138427734,83.44988250732422,83.44988250732422,83.44988250732422,83.44988250732422,83.56643676757812,83.52758026123047,83.44988250732422,83.52758026123047,83.44988250732422,83.56643676757812,83.56643676757812,83.52758026123047,83.52758026123047,83.56643676757812,83.37218475341797,83.72183227539062,83.56643676757812,83.52758026123047,83.7995376586914,83.7995376586914,83.72183227539062,83.72183227539062,83.83838653564453,83.87723541259766,83.83838653564453,83.83838653564453,83.83838653564453,83.87723541259766,83.91608428955078,83.76068115234375,83.99378967285156,83.60528564453125,83.7995376586914,82.86713409423828,83.6829833984375,83.56643676757812,83.6829833984375,83.76068115234375,83.6829833984375,83.9549331665039,83.91608428955078,83.33332824707031,84.07147979736328,83.91608428955078,83.17793273925781,83.99378967285156,83.60528564453125,82.71173095703125,83.33332824707031,82.94483184814453,80.88578033447266,79.40947723388672,80.57498168945312,81.740478515625,80.34188079833984,80.34188079833984,81.04118347167969,80.4195785522461,80.92462921142578,80.30303192138672,81.23543548583984,81.62393188476562,82.82828521728516,82.09013366699219,82.55632781982422,82.82828521728516,83.4110336303711,83.06138610839844,82.75057983398438,82.94483184814453,83.29447937011719,83.56643676757812,83.87723541259766,83.99378967285156,83.99378967285156,84.22688293457031,84.18803405761719,84.1103286743164,84.30458068847656,84.42113494873047,84.53768157958984,84.53768157958984,84.53768157958984,84.5765380859375,84.5765380859375,84.53768157958984,84.53768157958984,84.53768157958984,84.53768157958984,84.49883270263672,84.49883270263672,84.5765380859375,84.61538696289062,84.65423583984375,84.65423583984375,84.69308471679688,84.69308471679688,84.69308471679688,84.69308471679688,84.69308471679688,84.73193359375,84.73193359375,84.73193359375,84.73193359375,84.73193359375,84.73193359375,84.69308471679688,84.69308471679688,84.73193359375,84.73193359375,84.73193359375,84.73193359375,84.73193359375,84.73193359375,84.73193359375,84.73193359375,84.73193359375,84.73193359375,84.73193359375,84.73193359375,84.73193359375,84.73193359375,84.73193359375,84.73193359375,84.73193359375,84.73193359375,84.73193359375,84.73193359375,84.73193359375,84.73193359375,84.73193359375,84.73193359375,84.73193359375,84.73193359375,84.73193359375,84.73193359375,84.73193359375,84.73193359375,84.73193359375,84.73193359375,84.73193359375,84.73193359375,84.73193359375,84.73193359375,84.73193359375,84.73193359375,84.73193359375,84.73193359375,84.73193359375,84.73193359375,84.73193359375,84.73193359375,84.73193359375,84.73193359375,84.73193359375,84.73193359375,84.73193359375,84.73193359375,84.73193359375,84.77079010009766,84.77079010009766,84.77079010009766,84.77079010009766,84.77079010009766,84.77079010009766,84.77079010009766,84.77079010009766,84.77079010009766,84.77079010009766,84.77079010009766,84.77079010009766,84.77079010009766,84.77079010009766,84.77079010009766,84.77079010009766,84.77079010009766,84.77079010009766,84.77079010009766,84.77079010009766,84.77079010009766,84.77079010009766,84.80963897705078,84.80963897705078,84.80963897705078,84.80963897705078,84.80963897705078,84.80963897705078,84.80963897705078,84.80963897705078,84.80963897705078,84.80963897705078,84.80963897705078,84.80963897705078,84.80963897705078,84.80963897705078,84.80963897705078,84.80963897705078,84.80963897705078,84.80963897705078,84.80963897705078,84.80963897705078,84.80963897705078,84.80963897705078,84.80963897705078,84.80963897705078,84.80963897705078,84.80963897705078,84.80963897705078,84.80963897705078,84.80963897705078,84.80963897705078,84.8484878540039,84.8484878540039,84.8484878540039,84.8484878540039,84.8484878540039,84.8484878540039,84.8484878540039,84.8484878540039,84.8484878540039,84.8484878540039,84.8484878540039,84.8484878540039,84.8484878540039,84.8484878540039,84.8484878540039,84.8484878540039,84.8484878540039,84.8484878540039,84.8484878540039,84.8484878540039,84.8484878540039,84.8484878540039,84.8484878540039,84.8484878540039,84.8484878540039,84.8484878540039,84.8484878540039,84.8484878540039,84.8484878540039,84.8484878540039,84.8484878540039,84.8484878540039,84.8484878540039,84.8484878540039,84.8484878540039,84.8484878540039,84.8484878540039,84.8484878540039,84.8484878540039,84.8484878540039,84.8484878540039,84.8484878540039,84.8484878540039,84.8484878540039,84.8484878540039,84.8484878540039,84.8484878540039,84.8484878540039,84.8484878540039,84.8484878540039,84.8484878540039,84.8484878540039,84.8484878540039,84.8484878540039,84.8484878540039,84.8484878540039,84.8484878540039,84.8484878540039,84.8484878540039,84.8484878540039,84.8484878540039,84.8484878540039,84.8484878540039,84.8484878540039,84.8484878540039,84.8484878540039,84.8484878540039,84.8484878540039,84.8484878540039,84.88733673095703,84.88733673095703,84.88733673095703,84.88733673095703,84.88733673095703,84.88733673095703,84.88733673095703,84.88733673095703,84.88733673095703,84.88733673095703,84.88733673095703,84.88733673095703,84.88733673095703,84.88733673095703,84.88733673095703,84.88733673095703,84.88733673095703,84.88733673095703,84.88733673095703,84.88733673095703,84.88733673095703,84.88733673095703,84.88733673095703,84.88733673095703,84.88733673095703,84.88733673095703,84.88733673095703,84.88733673095703,84.88733673095703,84.88733673095703,84.88733673095703,84.88733673095703,84.88733673095703,84.88733673095703,84.88733673095703,84.88733673095703,84.92618560791016,84.88733673095703,84.96503448486328,84.96503448486328,84.96503448486328,84.96503448486328,84.96503448486328,84.96503448486328,84.96503448486328,84.96503448486328,84.96503448486328,84.96503448486328,84.96503448486328,84.96503448486328,84.96503448486328,84.96503448486328,84.96503448486328,84.96503448486328,84.96503448486328,84.96503448486328,84.96503448486328,84.96503448486328,84.96503448486328,84.96503448486328,84.96503448486328,84.96503448486328,84.96503448486328,84.96503448486328,84.96503448486328,84.96503448486328,84.96503448486328,84.96503448486328,84.96503448486328,84.96503448486328,84.96503448486328,85.0038833618164,85.0038833618164,85.0038833618164,85.0038833618164,85.0038833618164,85.0038833618164,85.0038833618164,85.0038833618164,85.0038833618164,85.0038833618164,85.0038833618164,85.04273223876953,85.0038833618164,85.04273223876953,85.0038833618164,85.04273223876953,85.0038833618164,85.04273223876953,85.04273223876953,85.04273223876953,85.04273223876953,85.04273223876953,85.04273223876953,85.04273223876953,85.0038833618164,85.04273223876953,85.0038833618164,85.04273223876953,85.04273223876953,85.04273223876953,85.04273223876953,85.04273223876953,85.04273223876953,85.12042999267578,85.08158111572266,85.12042999267578,85.12042999267578,85.12042999267578,85.12042999267578,85.12042999267578,85.12042999267578,85.12042999267578,85.08158111572266,85.19813537597656,85.04273223876953,85.12042999267578,85.04273223876953,83.44988250732422,81.740478515625,75.99067687988281,76.61227416992188,78.24398040771484,78.5936279296875,77.15617370605469,77.23387145996094,75.99067687988281,78.12742614746094,79.7979736328125,79.52603149414062,82.634033203125,81.23543548583984,80.6915283203125,81.89588165283203,81.77932739257812,81.97357940673828,83.37218475341797,83.29447937011719,83.33332824707031,83.37218475341797,83.33332824707031,84.1103286743164,83.91608428955078,83.91608428955078,84.14918518066406,84.26573181152344,84.34342956542969,84.42113494873047,84.53768157958984,84.80963897705078,84.65423583984375,84.49883270263672,84.77079010009766,84.80963897705078,84.8484878540039,84.80963897705078,84.88733673095703,84.92618560791016,84.92618560791016,84.8484878540039,84.92618560791016,84.96503448486328,85.0038833618164,85.04273223876953,85.12042999267578,85.15928649902344,85.12042999267578,85.15928649902344,85.19813537597656,85.23698425292969,85.27583312988281,85.3535385131836,85.43123626708984,85.39238739013672,85.39238739013672,85.39238739013672,85.43123626708984,85.43123626708984,85.39238739013672,85.43123626708984,85.43123626708984,85.43123626708984,85.47008514404297,85.47008514404297,85.47008514404297,85.54779052734375,85.58663940429688,85.58663940429688,85.58663940429688,85.58663940429688,85.58663940429688,85.58663940429688,85.58663940429688,85.58663940429688,85.58663940429688,85.58663940429688,85.58663940429688,85.58663940429688,85.58663940429688,85.58663940429688,85.58663940429688,85.58663940429688,85.58663940429688,85.58663940429688,85.58663940429688,85.58663940429688,85.58663940429688,85.58663940429688,85.58663940429688,85.62548828125,85.62548828125,85.62548828125,85.62548828125,85.62548828125,85.62548828125,85.62548828125,85.62548828125,85.66433715820312,85.66433715820312,85.66433715820312,85.66433715820312,85.66433715820312,85.66433715820312,85.66433715820312,85.66433715820312,85.70318603515625,85.70318603515625,85.70318603515625,85.70318603515625,85.70318603515625,85.70318603515625,85.70318603515625,85.70318603515625,85.70318603515625,85.74203491210938,85.70318603515625,85.70318603515625,85.74203491210938,85.74203491210938,85.74203491210938,85.7808837890625,85.7808837890625,85.7808837890625,85.7808837890625,85.81973266601562,85.81973266601562,85.7808837890625,85.7808837890625,85.7808837890625,85.7808837890625,85.81973266601562,85.81973266601562,85.7808837890625,85.81973266601562,85.81973266601562,85.81973266601562,85.81973266601562,85.81973266601562,85.81973266601562,85.81973266601562,85.81973266601562,85.81973266601562,85.85858154296875,85.89743041992188,85.89743041992188,85.89743041992188,85.93628692626953,85.89743041992188,85.89743041992188,85.93628692626953,85.93628692626953,85.97513580322266,85.97513580322266,85.97513580322266,85.97513580322266,85.97513580322266,85.97513580322266,86.0528335571289,86.0528335571289,86.0528335571289,86.0528335571289,86.0528335571289,86.09168243408203,86.09168243408203,86.09168243408203,86.09168243408203,86.09168243408203,86.09168243408203,86.09168243408203,86.09168243408203,86.09168243408203,86.09168243408203,86.09168243408203,86.09168243408203,86.09168243408203,86.09168243408203,86.09168243408203,86.09168243408203,86.09168243408203,86.09168243408203,86.09168243408203,86.09168243408203,86.09168243408203,86.09168243408203,86.09168243408203,86.09168243408203,86.09168243408203,86.09168243408203,86.09168243408203,86.09168243408203,86.13053894042969,86.13053894042969,86.13053894042969,86.13053894042969,86.13053894042969,86.13053894042969,86.13053894042969,86.13053894042969,86.13053894042969,86.13053894042969,86.13053894042969,86.13053894042969,86.13053894042969,86.13053894042969,86.13053894042969,86.13053894042969,86.13053894042969,86.13053894042969,86.16938781738281,86.16938781738281,86.20823669433594,86.20823669433594,86.20823669433594,86.20823669433594,86.20823669433594,86.20823669433594,86.20823669433594,86.20823669433594,86.20823669433594,86.20823669433594,86.20823669433594,86.20823669433594,86.20823669433594,86.20823669433594,86.20823669433594,86.20823669433594,86.20823669433594,86.20823669433594,86.20823669433594,86.20823669433594,86.20823669433594,86.20823669433594,86.20823669433594,86.20823669433594,86.20823669433594,86.20823669433594,86.20823669433594,86.20823669433594,86.20823669433594,86.20823669433594,86.20823669433594,86.20823669433594,86.20823669433594,86.20823669433594,86.20823669433594,86.20823669433594,86.20823669433594,86.20823669433594,86.20823669433594,86.20823669433594,86.20823669433594,86.20823669433594,86.20823669433594,86.20823669433594,86.20823669433594,86.20823669433594,86.24708557128906,86.24708557128906,86.24708557128906,86.24708557128906,86.24708557128906,86.28593444824219,86.32478332519531,86.32478332519531,86.32478332519531,86.32478332519531,86.32478332519531,86.32478332519531,86.32478332519531,86.32478332519531,86.32478332519531,86.32478332519531,86.32478332519531,86.32478332519531,86.32478332519531,86.32478332519531,86.32478332519531,86.32478332519531,86.32478332519531,86.32478332519531,86.32478332519531,86.32478332519531,86.32478332519531,86.32478332519531,86.32478332519531,86.32478332519531,86.32478332519531,86.32478332519531,86.32478332519531,86.32478332519531,86.32478332519531,86.32478332519531,86.32478332519531,86.32478332519531,86.4024887084961,86.4024887084961,86.44133758544922,86.44133758544922,86.44133758544922,86.44133758544922,86.44133758544922,86.44133758544922,86.44133758544922,86.44133758544922,86.44133758544922,86.44133758544922,86.44133758544922,86.44133758544922,86.44133758544922,86.44133758544922,86.44133758544922,86.44133758544922,86.44133758544922,86.44133758544922,86.44133758544922,86.44133758544922],\"type\":\"scatter\"},{\"mode\":\"lines\",\"name\":\"Test accuracy\",\"x\":[0,1,2,3,4,5,6,7,8,9,10,11,12,13,14,15,16,17,18,19,20,21,22,23,24,25,26,27,28,29,30,31,32,33,34,35,36,37,38,39,40,41,42,43,44,45,46,47,48,49,50,51,52,53,54,55,56,57,58,59,60,61,62,63,64,65,66,67,68,69,70,71,72,73,74,75,76,77,78,79,80,81,82,83,84,85,86,87,88,89,90,91,92,93,94,95,96,97,98,99,100,101,102,103,104,105,106,107,108,109,110,111,112,113,114,115,116,117,118,119,120,121,122,123,124,125,126,127,128,129,130,131,132,133,134,135,136,137,138,139,140,141,142,143,144,145,146,147,148,149,150,151,152,153,154,155,156,157,158,159,160,161,162,163,164,165,166,167,168,169,170,171,172,173,174,175,176,177,178,179,180,181,182,183,184,185,186,187,188,189,190,191,192,193,194,195,196,197,198,199,200,201,202,203,204,205,206,207,208,209,210,211,212,213,214,215,216,217,218,219,220,221,222,223,224,225,226,227,228,229,230,231,232,233,234,235,236,237,238,239,240,241,242,243,244,245,246,247,248,249,250,251,252,253,254,255,256,257,258,259,260,261,262,263,264,265,266,267,268,269,270,271,272,273,274,275,276,277,278,279,280,281,282,283,284,285,286,287,288,289,290,291,292,293,294,295,296,297,298,299,300,301,302,303,304,305,306,307,308,309,310,311,312,313,314,315,316,317,318,319,320,321,322,323,324,325,326,327,328,329,330,331,332,333,334,335,336,337,338,339,340,341,342,343,344,345,346,347,348,349,350,351,352,353,354,355,356,357,358,359,360,361,362,363,364,365,366,367,368,369,370,371,372,373,374,375,376,377,378,379,380,381,382,383,384,385,386,387,388,389,390,391,392,393,394,395,396,397,398,399,400,401,402,403,404,405,406,407,408,409,410,411,412,413,414,415,416,417,418,419,420,421,422,423,424,425,426,427,428,429,430,431,432,433,434,435,436,437,438,439,440,441,442,443,444,445,446,447,448,449,450,451,452,453,454,455,456,457,458,459,460,461,462,463,464,465,466,467,468,469,470,471,472,473,474,475,476,477,478,479,480,481,482,483,484,485,486,487,488,489,490,491,492,493,494,495,496,497,498,499,500,501,502,503,504,505,506,507,508,509,510,511,512,513,514,515,516,517,518,519,520,521,522,523,524,525,526,527,528,529,530,531,532,533,534,535,536,537,538,539,540,541,542,543,544,545,546,547,548,549,550,551,552,553,554,555,556,557,558,559,560,561,562,563,564,565,566,567,568,569,570,571,572,573,574,575,576,577,578,579,580,581,582,583,584,585,586,587,588,589,590,591,592,593,594,595,596,597,598,599,600,601,602,603,604,605,606,607,608,609,610,611,612,613,614,615,616,617,618,619,620,621,622,623,624,625,626,627,628,629,630,631,632,633,634,635,636,637,638,639,640,641,642,643,644,645,646,647,648,649,650,651,652,653,654,655,656,657,658,659,660,661,662,663,664,665,666,667,668,669,670,671,672,673,674,675,676,677,678,679,680,681,682,683,684,685,686,687,688,689,690,691,692,693,694,695,696,697,698,699,700,701,702,703,704,705,706,707,708,709,710,711,712,713,714,715,716,717,718,719,720,721,722,723,724,725,726,727,728,729,730,731,732,733,734,735,736,737,738,739,740,741,742,743,744,745,746,747,748,749,750,751,752,753,754,755,756,757,758,759,760,761,762,763,764,765,766,767,768,769,770,771,772,773,774,775,776,777,778,779,780,781,782,783,784,785,786,787,788,789,790,791,792,793,794,795,796,797,798,799,800,801,802,803,804,805,806,807,808,809,810,811,812,813,814,815,816,817,818,819,820,821,822,823,824,825,826,827,828,829,830,831,832,833,834,835,836,837,838,839,840,841,842,843,844,845,846,847,848,849,850,851,852,853,854,855,856,857,858,859,860,861,862,863,864,865,866,867,868,869,870,871,872,873,874,875,876,877,878,879,880,881,882,883,884,885,886,887,888,889,890,891,892,893,894,895,896,897,898,899,900,901,902,903,904,905,906,907,908,909,910,911,912,913,914,915,916,917,918,919,920,921,922,923,924,925,926,927,928,929,930,931,932,933,934,935,936,937,938,939,940,941,942,943,944,945,946,947,948,949,950,951,952,953,954,955,956,957,958,959,960,961,962,963,964,965,966,967,968,969,970,971,972,973,974,975,976,977,978,979,980,981,982,983,984,985,986,987,988,989,990,991,992,993,994,995,996,997,998,999],\"y\":[19.494291305541992,31.32137107849121,37.520389556884766,36.623165130615234,35.64437484741211,38.009788513183594,42.74061965942383,43.39314651489258,43.882545471191406,44.290374755859375,44.37194061279297,45.43230056762695,45.921695709228516,46.49266052246094,49.34747314453125,51.14192199707031,53.75204086303711,56.362152099609375,57.667205810546875,58.727569580078125,58.97227096557617,58.319740295410156,58.482872009277344,59.0538330078125,59.380096435546875,60.766719818115234,61.990211486816406,62.31647872924805,62.64274215698242,62.88743591308594,63.37683868408203,64.19249725341797,63.53997039794922,64.43719482421875,65.0081558227539,66.15007781982422,66.39478302001953,66.8026123046875,67.21044158935547,66.8026123046875,67.53670501708984,68.4339370727539,68.35236358642578,67.69983673095703,67.94453430175781,67.69983673095703,68.0261001586914,67.45513916015625,67.69983673095703,67.69983673095703,68.27079772949219,68.4339370727539,68.1892318725586,69.00489044189453,68.92333221435547,69.3311538696289,69.24959564208984,69.65742492675781,69.65742492675781,69.08646392822266,70.71778106689453,68.76020050048828,69.7389907836914,70.14682006835938,68.27079772949219,68.1892318725586,67.78140258789062,67.61827087402344,69.16802215576172,69.820556640625,71.12561798095703,71.2071762084961,69.57585906982422,70.88091278076172,71.69657135009766,71.69657135009766,71.69657135009766,71.2071762084961,71.69657135009766,71.94127655029297,72.02283477783203,72.10440826416016,72.3490982055664,72.7569351196289,73.24633026123047,72.9200668334961,72.67536163330078,72.8385009765625,73.00163269042969,73.08319854736328,73.57259368896484,73.57259368896484,73.65415954589844,73.73572540283203,73.65415954589844,73.40946197509766,73.32789611816406,73.16476440429688,73.40946197509766,73.57259368896484,74.0619888305664,74.0619888305664,73.89885711669922,74.0619888305664,74.14356231689453,73.89885711669922,73.65415954589844,74.14356231689453,74.0619888305664,73.81729125976562,74.4698257446289,74.87764739990234,74.71451568603516,74.71451568603516,74.6329574584961,74.55138397216797,74.71451568603516,74.87764739990234,74.79608917236328,74.6329574584961,74.79608917236328,74.87764739990234,74.71451568603516,74.71451568603516,74.79608917236328,74.71451568603516,74.38825225830078,74.79608917236328,74.87764739990234,74.87764739990234,74.87764739990234,74.87764739990234,74.95922088623047,74.95922088623047,75.12235260009766,75.12235260009766,75.12235260009766,75.12235260009766,75.3670425415039,75.44861602783203,75.5301742553711,75.44861602783203,75.5301742553711,75.61174774169922,75.61174774169922,75.61174774169922,75.69330596923828,75.69330596923828,75.85643768310547,75.7748794555664,75.7748794555664,75.5301742553711,75.69330596923828,75.44861602783203,75.5301742553711,75.44861602783203,75.69330596923828,75.69330596923828,75.69330596923828,75.69330596923828,75.5301742553711,75.5301742553711,75.61174774169922,75.61174774169922,75.7748794555664,75.69330596923828,75.69330596923828,75.61174774169922,75.69330596923828,75.85643768310547,75.9380111694336,75.3670425415039,75.61174774169922,76.01957702636719,75.5301742553711,75.69330596923828,75.7748794555664,75.28548431396484,75.3670425415039,76.26427459716797,75.85643768310547,75.20391082763672,75.44861602783203,75.7748794555664,75.9380111694336,75.7748794555664,75.7748794555664,76.10114288330078,75.85643768310547,75.7748794555664,75.69330596923828,76.26427459716797,75.7748794555664,75.69330596923828,76.26427459716797,76.18270874023438,75.7748794555664,75.5301742553711,76.10114288330078,76.18270874023438,75.85643768310547,75.85643768310547,76.26427459716797,76.26427459716797,76.18270874023438,76.59053802490234,76.26427459716797,76.59053802490234,76.34584045410156,76.18270874023438,76.26427459716797,76.26427459716797,76.26427459716797,76.26427459716797,76.42740631103516,76.42740631103516,76.42740631103516,76.67210388183594,76.42740631103516,76.42740631103516,76.42740631103516,76.42740631103516,76.50897216796875,76.67210388183594,76.50897216796875,76.42740631103516,76.67210388183594,76.75366973876953,76.67210388183594,76.83523559570312,76.75366973876953,76.75366973876953,76.75366973876953,76.67210388183594,76.75366973876953,76.83523559570312,76.67210388183594,76.83523559570312,76.75366973876953,76.99836730957031,77.0799331665039,76.91680145263672,76.99836730957031,77.2430648803711,76.83523559570312,77.0799331665039,77.2430648803711,76.83523559570312,76.91680145263672,77.0799331665039,76.59053802490234,77.40619659423828,77.32463836669922,76.83523559570312,77.0799331665039,77.32463836669922,76.91680145263672,77.1614990234375,77.32463836669922,76.99836730957031,77.40619659423828,77.40619659423828,77.4877700805664,77.4877700805664,77.32463836669922,77.4877700805664,77.56932830810547,77.32463836669922,77.56932830810547,77.56932830810547,77.40619659423828,77.56932830810547,77.6509017944336,77.4877700805664,77.4877700805664,77.6509017944336,77.2430648803711,77.56932830810547,77.4877700805664,77.32463836669922,77.40619659423828,77.6509017944336,77.56932830810547,77.56932830810547,77.4877700805664,77.4877700805664,77.4877700805664,77.32463836669922,77.40619659423828,77.56932830810547,77.4877700805664,77.32463836669922,77.56932830810547,77.6509017944336,77.32463836669922,77.4877700805664,77.6509017944336,77.2430648803711,77.4877700805664,77.56932830810547,77.32463836669922,77.81403350830078,77.40619659423828,77.73246002197266,77.2430648803711,77.6509017944336,77.81403350830078,77.89559173583984,77.4877700805664,77.81403350830078,77.56932830810547,77.81403350830078,77.2430648803711,77.89559173583984,77.4877700805664,78.05872344970703,76.83523559570312,77.89559173583984,77.1614990234375,77.2430648803711,78.7928237915039,76.91680145263672,77.32463836669922,78.71125030517578,76.75366973876953,77.73246002197266,78.30342864990234,76.83523559570312,77.89559173583984,78.05872344970703,76.18270874023438,76.67210388183594,77.0799331665039,74.55138397216797,74.2251205444336,76.26427459716797,76.18270874023438,74.4698257446289,75.12235260009766,75.85643768310547,75.20391082763672,76.59053802490234,75.7748794555664,76.18270874023438,76.67210388183594,77.32463836669922,76.67210388183594,77.0799331665039,77.4877700805664,76.75366973876953,77.1614990234375,77.40619659423828,77.4877700805664,77.89559173583984,78.3849868774414,78.14029693603516,77.81403350830078,77.56932830810547,77.81403350830078,77.97716522216797,77.73246002197266,77.97716522216797,78.14029693603516,78.30342864990234,78.3849868774414,78.22185516357422,78.3849868774414,78.30342864990234,78.22185516357422,78.3849868774414,78.46656036376953,78.5481185913086,78.5481185913086,78.62969207763672,78.46656036376953,78.46656036376953,78.62969207763672,78.46656036376953,78.5481185913086,78.5481185913086,78.3849868774414,78.46656036376953,78.46656036376953,78.5481185913086,78.62969207763672,78.71125030517578,78.3849868774414,78.62969207763672,78.62969207763672,78.5481185913086,78.5481185913086,78.5481185913086,78.62969207763672,78.62969207763672,78.62969207763672,78.5481185913086,78.5481185913086,78.5481185913086,78.46656036376953,78.5481185913086,78.5481185913086,78.62969207763672,78.62969207763672,78.62969207763672,78.62969207763672,78.62969207763672,78.62969207763672,78.62969207763672,78.62969207763672,78.62969207763672,78.62969207763672,78.62969207763672,78.62969207763672,78.62969207763672,78.62969207763672,78.62969207763672,78.62969207763672,78.62969207763672,78.62969207763672,78.62969207763672,78.62969207763672,78.71125030517578,78.71125030517578,78.71125030517578,78.71125030517578,78.71125030517578,78.71125030517578,78.71125030517578,78.71125030517578,78.71125030517578,78.71125030517578,78.71125030517578,78.71125030517578,78.71125030517578,78.71125030517578,78.71125030517578,78.71125030517578,78.71125030517578,78.71125030517578,78.71125030517578,78.71125030517578,78.71125030517578,78.71125030517578,78.71125030517578,78.71125030517578,78.71125030517578,78.71125030517578,78.71125030517578,78.71125030517578,78.71125030517578,78.71125030517578,78.71125030517578,78.71125030517578,78.71125030517578,78.71125030517578,78.71125030517578,78.71125030517578,78.71125030517578,78.71125030517578,78.71125030517578,78.71125030517578,78.71125030517578,78.7928237915039,78.7928237915039,78.7928237915039,78.7928237915039,78.7928237915039,78.7928237915039,78.7928237915039,78.7928237915039,78.7928237915039,78.7928237915039,78.87438201904297,78.87438201904297,78.87438201904297,78.87438201904297,78.87438201904297,78.87438201904297,78.87438201904297,78.87438201904297,78.87438201904297,78.87438201904297,78.9559555053711,78.9559555053711,78.9559555053711,78.9559555053711,78.9559555053711,78.9559555053711,78.9559555053711,78.9559555053711,78.9559555053711,78.9559555053711,78.9559555053711,78.9559555053711,78.9559555053711,78.9559555053711,78.9559555053711,78.9559555053711,78.9559555053711,78.9559555053711,78.9559555053711,78.9559555053711,78.9559555053711,78.9559555053711,78.9559555053711,78.9559555053711,78.9559555053711,78.9559555053711,78.9559555053711,78.9559555053711,78.9559555053711,78.9559555053711,78.9559555053711,78.9559555053711,78.9559555053711,78.9559555053711,78.9559555053711,78.9559555053711,78.9559555053711,78.9559555053711,78.9559555053711,78.9559555053711,78.9559555053711,78.9559555053711,78.87438201904297,78.87438201904297,78.87438201904297,78.87438201904297,78.87438201904297,78.87438201904297,78.87438201904297,78.87438201904297,78.87438201904297,78.87438201904297,78.87438201904297,78.87438201904297,78.87438201904297,78.87438201904297,78.87438201904297,78.87438201904297,78.87438201904297,78.87438201904297,78.9559555053711,78.87438201904297,78.87438201904297,78.87438201904297,78.87438201904297,78.87438201904297,78.87438201904297,78.87438201904297,78.9559555053711,78.9559555053711,78.9559555053711,78.9559555053711,78.9559555053711,78.9559555053711,78.87438201904297,78.9559555053711,78.87438201904297,78.87438201904297,78.9559555053711,78.87438201904297,79.03752136230469,78.9559555053711,79.03752136230469,78.9559555053711,79.03752136230469,79.03752136230469,79.03752136230469,79.03752136230469,79.03752136230469,79.03752136230469,79.03752136230469,79.03752136230469,79.03752136230469,79.03752136230469,79.03752136230469,78.9559555053711,79.03752136230469,79.03752136230469,79.03752136230469,79.03752136230469,79.03752136230469,79.03752136230469,79.03752136230469,79.03752136230469,79.03752136230469,79.03752136230469,79.03752136230469,79.03752136230469,79.11908721923828,79.20065307617188,79.20065307617188,79.20065307617188,79.20065307617188,79.20065307617188,79.28221893310547,79.20065307617188,79.20065307617188,79.20065307617188,79.20065307617188,79.28221893310547,79.28221893310547,79.36378479003906,79.36378479003906,79.28221893310547,79.36378479003906,79.36378479003906,79.36378479003906,79.28221893310547,79.36378479003906,79.28221893310547,79.28221893310547,79.28221893310547,79.28221893310547,79.28221893310547,79.28221893310547,79.28221893310547,79.28221893310547,79.28221893310547,79.28221893310547,79.28221893310547,79.28221893310547,79.28221893310547,79.28221893310547,79.28221893310547,79.28221893310547,79.28221893310547,79.28221893310547,79.28221893310547,79.28221893310547,79.28221893310547,79.28221893310547,79.28221893310547,79.28221893310547,79.28221893310547,79.28221893310547,79.28221893310547,79.28221893310547,79.28221893310547,79.28221893310547,79.28221893310547,79.28221893310547,79.28221893310547,79.28221893310547,79.28221893310547,79.28221893310547,79.20065307617188,79.28221893310547,79.28221893310547,79.28221893310547,79.28221893310547,79.36378479003906,79.28221893310547,79.36378479003906,79.28221893310547,79.28221893310547,79.28221893310547,79.28221893310547,79.20065307617188,79.28221893310547,79.20065307617188,79.28221893310547,79.20065307617188,79.28221893310547,79.20065307617188,79.28221893310547,79.20065307617188,79.20065307617188,79.20065307617188,79.20065307617188,79.20065307617188,79.20065307617188,79.20065307617188,79.36378479003906,79.20065307617188,79.44535064697266,79.20065307617188,79.36378479003906,79.03752136230469,79.44535064697266,78.05872344970703,75.61174774169922,73.32789611816406,72.8385009765625,73.16476440429688,73.24633026123047,73.40946197509766,72.10440826416016,72.26753997802734,73.40946197509766,76.18270874023438,75.61174774169922,79.03752136230469,77.1614990234375,76.83523559570312,76.99836730957031,76.18270874023438,77.73246002197266,78.5481185913086,78.22185516357422,78.5481185913086,77.89559173583984,78.62969207763672,78.7928237915039,78.5481185913086,78.46656036376953,78.7928237915039,79.52691650390625,79.44535064697266,79.20065307617188,79.03752136230469,79.28221893310547,79.44535064697266,79.28221893310547,79.28221893310547,79.36378479003906,79.44535064697266,79.77161407470703,79.60848236083984,79.60848236083984,79.85317993164062,79.52691650390625,79.28221893310547,79.36378479003906,79.85317993164062,79.93474578857422,79.85317993164062,79.93474578857422,79.93474578857422,80.2610092163086,80.2610092163086,80.2610092163086,80.0978775024414,80.0978775024414,80.01631164550781,79.85317993164062,80.0978775024414,80.0978775024414,80.0978775024414,80.0978775024414,80.0978775024414,80.179443359375,80.01631164550781,80.179443359375,80.2610092163086,80.01631164550781,79.77161407470703,79.93474578857422,80.0978775024414,80.2610092163086,80.179443359375,80.01631164550781,80.0978775024414,80.2610092163086,80.2610092163086,80.179443359375,80.0978775024414,80.0978775024414,80.179443359375,80.42414093017578,80.2610092163086,80.179443359375,80.34257507324219,80.2610092163086,80.2610092163086,80.2610092163086,80.42414093017578,80.42414093017578,80.2610092163086,80.34257507324219,80.34257507324219,80.34257507324219,80.34257507324219,80.42414093017578,80.42414093017578,80.42414093017578,80.2610092163086,80.2610092163086,80.2610092163086,80.34257507324219,80.34257507324219,80.5057144165039,80.58727264404297,80.58727264404297,80.58727264404297,80.5057144165039,80.6688461303711,80.75040435791016,80.75040435791016,80.75040435791016,80.6688461303711,80.6688461303711,80.6688461303711,80.6688461303711,80.75040435791016,80.75040435791016,80.75040435791016,80.75040435791016,80.75040435791016,80.75040435791016,80.75040435791016,80.75040435791016,80.75040435791016,80.75040435791016,80.75040435791016,80.75040435791016,80.83197784423828,80.83197784423828,80.83197784423828,80.83197784423828,80.83197784423828,80.83197784423828,80.83197784423828,80.83197784423828,80.83197784423828,80.83197784423828,80.83197784423828,80.83197784423828,80.83197784423828,80.83197784423828,80.91353607177734,80.83197784423828,80.91353607177734,80.91353607177734,80.91353607177734,80.91353607177734,80.91353607177734,80.91353607177734,80.83197784423828,80.83197784423828,80.83197784423828,80.83197784423828,80.99510955810547,80.99510955810547,81.07666778564453,81.07666778564453,81.07666778564453,80.99510955810547,80.99510955810547,80.99510955810547,81.07666778564453,81.07666778564453,81.07666778564453,81.07666778564453,81.15824127197266,81.15824127197266,81.15824127197266,81.07666778564453,81.15824127197266,81.15824127197266,81.23979949951172,81.15824127197266,81.15824127197266,81.23979949951172,81.23979949951172,81.23979949951172,81.23979949951172,81.23979949951172,81.23979949951172,81.15824127197266,81.23979949951172,81.15824127197266,81.15824127197266,81.23979949951172,81.23979949951172,81.23979949951172,81.23979949951172,81.23979949951172,81.23979949951172,81.15824127197266,81.23979949951172,81.23979949951172,81.23979949951172,81.23979949951172,81.15824127197266,81.15824127197266,81.15824127197266,81.23979949951172,81.15824127197266,81.23979949951172,81.32137298583984,81.23979949951172,81.23979949951172,81.23979949951172,81.23979949951172,81.23979949951172,81.23979949951172,81.23979949951172,81.32137298583984,81.32137298583984,81.32137298583984,81.32137298583984,81.32137298583984,81.32137298583984,81.32137298583984,81.32137298583984,81.32137298583984,81.32137298583984,81.32137298583984,81.32137298583984,81.32137298583984,81.32137298583984,81.32137298583984,81.32137298583984,81.32137298583984,81.32137298583984,81.32137298583984,81.32137298583984,81.32137298583984,81.32137298583984,81.32137298583984,81.32137298583984,81.32137298583984,81.32137298583984,81.32137298583984,81.4029312133789,81.4029312133789,81.4029312133789,81.4029312133789,81.4029312133789,81.4029312133789,81.4029312133789,81.4029312133789,81.4029312133789,81.48450469970703,81.4029312133789,81.4029312133789,81.4029312133789,81.4029312133789,81.48450469970703,81.48450469970703,81.48450469970703,81.48450469970703,81.4029312133789,81.48450469970703,81.4029312133789,81.48450469970703,81.4029312133789,81.48450469970703,81.4029312133789,81.4029312133789,81.48450469970703,81.48450469970703,81.48450469970703,81.48450469970703,81.32137298583984,81.48450469970703,81.23979949951172,81.4029312133789,81.23979949951172,81.4029312133789,81.4029312133789,81.4029312133789,81.4029312133789,81.4029312133789,81.4029312133789,81.48450469970703,81.48450469970703,81.48450469970703,81.48450469970703,81.48450469970703,81.48450469970703,81.48450469970703,81.48450469970703,81.48450469970703,81.48450469970703,81.48450469970703,81.5660629272461,81.5660629272461,81.5660629272461,81.5660629272461,81.5660629272461,81.48450469970703,81.48450469970703,81.48450469970703,81.48450469970703,81.48450469970703,81.48450469970703,81.48450469970703,81.48450469970703,81.48450469970703,81.4029312133789,81.48450469970703,81.48450469970703,81.5660629272461,81.48450469970703,81.5660629272461,81.48450469970703,81.5660629272461,81.48450469970703,81.48450469970703,81.48450469970703,81.48450469970703,81.48450469970703,81.48450469970703,81.48450469970703,81.48450469970703,81.48450469970703,81.32137298583984],\"type\":\"scatter\"}],                        {\"template\":{\"data\":{\"histogram2dcontour\":[{\"type\":\"histogram2dcontour\",\"colorbar\":{\"outlinewidth\":0,\"ticks\":\"\"},\"colorscale\":[[0.0,\"#0d0887\"],[0.1111111111111111,\"#46039f\"],[0.2222222222222222,\"#7201a8\"],[0.3333333333333333,\"#9c179e\"],[0.4444444444444444,\"#bd3786\"],[0.5555555555555556,\"#d8576b\"],[0.6666666666666666,\"#ed7953\"],[0.7777777777777778,\"#fb9f3a\"],[0.8888888888888888,\"#fdca26\"],[1.0,\"#f0f921\"]]}],\"choropleth\":[{\"type\":\"choropleth\",\"colorbar\":{\"outlinewidth\":0,\"ticks\":\"\"}}],\"histogram2d\":[{\"type\":\"histogram2d\",\"colorbar\":{\"outlinewidth\":0,\"ticks\":\"\"},\"colorscale\":[[0.0,\"#0d0887\"],[0.1111111111111111,\"#46039f\"],[0.2222222222222222,\"#7201a8\"],[0.3333333333333333,\"#9c179e\"],[0.4444444444444444,\"#bd3786\"],[0.5555555555555556,\"#d8576b\"],[0.6666666666666666,\"#ed7953\"],[0.7777777777777778,\"#fb9f3a\"],[0.8888888888888888,\"#fdca26\"],[1.0,\"#f0f921\"]]}],\"heatmap\":[{\"type\":\"heatmap\",\"colorbar\":{\"outlinewidth\":0,\"ticks\":\"\"},\"colorscale\":[[0.0,\"#0d0887\"],[0.1111111111111111,\"#46039f\"],[0.2222222222222222,\"#7201a8\"],[0.3333333333333333,\"#9c179e\"],[0.4444444444444444,\"#bd3786\"],[0.5555555555555556,\"#d8576b\"],[0.6666666666666666,\"#ed7953\"],[0.7777777777777778,\"#fb9f3a\"],[0.8888888888888888,\"#fdca26\"],[1.0,\"#f0f921\"]]}],\"heatmapgl\":[{\"type\":\"heatmapgl\",\"colorbar\":{\"outlinewidth\":0,\"ticks\":\"\"},\"colorscale\":[[0.0,\"#0d0887\"],[0.1111111111111111,\"#46039f\"],[0.2222222222222222,\"#7201a8\"],[0.3333333333333333,\"#9c179e\"],[0.4444444444444444,\"#bd3786\"],[0.5555555555555556,\"#d8576b\"],[0.6666666666666666,\"#ed7953\"],[0.7777777777777778,\"#fb9f3a\"],[0.8888888888888888,\"#fdca26\"],[1.0,\"#f0f921\"]]}],\"contourcarpet\":[{\"type\":\"contourcarpet\",\"colorbar\":{\"outlinewidth\":0,\"ticks\":\"\"}}],\"contour\":[{\"type\":\"contour\",\"colorbar\":{\"outlinewidth\":0,\"ticks\":\"\"},\"colorscale\":[[0.0,\"#0d0887\"],[0.1111111111111111,\"#46039f\"],[0.2222222222222222,\"#7201a8\"],[0.3333333333333333,\"#9c179e\"],[0.4444444444444444,\"#bd3786\"],[0.5555555555555556,\"#d8576b\"],[0.6666666666666666,\"#ed7953\"],[0.7777777777777778,\"#fb9f3a\"],[0.8888888888888888,\"#fdca26\"],[1.0,\"#f0f921\"]]}],\"surface\":[{\"type\":\"surface\",\"colorbar\":{\"outlinewidth\":0,\"ticks\":\"\"},\"colorscale\":[[0.0,\"#0d0887\"],[0.1111111111111111,\"#46039f\"],[0.2222222222222222,\"#7201a8\"],[0.3333333333333333,\"#9c179e\"],[0.4444444444444444,\"#bd3786\"],[0.5555555555555556,\"#d8576b\"],[0.6666666666666666,\"#ed7953\"],[0.7777777777777778,\"#fb9f3a\"],[0.8888888888888888,\"#fdca26\"],[1.0,\"#f0f921\"]]}],\"mesh3d\":[{\"type\":\"mesh3d\",\"colorbar\":{\"outlinewidth\":0,\"ticks\":\"\"}}],\"scatter\":[{\"fillpattern\":{\"fillmode\":\"overlay\",\"size\":10,\"solidity\":0.2},\"type\":\"scatter\"}],\"parcoords\":[{\"type\":\"parcoords\",\"line\":{\"colorbar\":{\"outlinewidth\":0,\"ticks\":\"\"}}}],\"scatterpolargl\":[{\"type\":\"scatterpolargl\",\"marker\":{\"colorbar\":{\"outlinewidth\":0,\"ticks\":\"\"}}}],\"bar\":[{\"error_x\":{\"color\":\"#2a3f5f\"},\"error_y\":{\"color\":\"#2a3f5f\"},\"marker\":{\"line\":{\"color\":\"#E5ECF6\",\"width\":0.5},\"pattern\":{\"fillmode\":\"overlay\",\"size\":10,\"solidity\":0.2}},\"type\":\"bar\"}],\"scattergeo\":[{\"type\":\"scattergeo\",\"marker\":{\"colorbar\":{\"outlinewidth\":0,\"ticks\":\"\"}}}],\"scatterpolar\":[{\"type\":\"scatterpolar\",\"marker\":{\"colorbar\":{\"outlinewidth\":0,\"ticks\":\"\"}}}],\"histogram\":[{\"marker\":{\"pattern\":{\"fillmode\":\"overlay\",\"size\":10,\"solidity\":0.2}},\"type\":\"histogram\"}],\"scattergl\":[{\"type\":\"scattergl\",\"marker\":{\"colorbar\":{\"outlinewidth\":0,\"ticks\":\"\"}}}],\"scatter3d\":[{\"type\":\"scatter3d\",\"line\":{\"colorbar\":{\"outlinewidth\":0,\"ticks\":\"\"}},\"marker\":{\"colorbar\":{\"outlinewidth\":0,\"ticks\":\"\"}}}],\"scattermapbox\":[{\"type\":\"scattermapbox\",\"marker\":{\"colorbar\":{\"outlinewidth\":0,\"ticks\":\"\"}}}],\"scatterternary\":[{\"type\":\"scatterternary\",\"marker\":{\"colorbar\":{\"outlinewidth\":0,\"ticks\":\"\"}}}],\"scattercarpet\":[{\"type\":\"scattercarpet\",\"marker\":{\"colorbar\":{\"outlinewidth\":0,\"ticks\":\"\"}}}],\"carpet\":[{\"aaxis\":{\"endlinecolor\":\"#2a3f5f\",\"gridcolor\":\"white\",\"linecolor\":\"white\",\"minorgridcolor\":\"white\",\"startlinecolor\":\"#2a3f5f\"},\"baxis\":{\"endlinecolor\":\"#2a3f5f\",\"gridcolor\":\"white\",\"linecolor\":\"white\",\"minorgridcolor\":\"white\",\"startlinecolor\":\"#2a3f5f\"},\"type\":\"carpet\"}],\"table\":[{\"cells\":{\"fill\":{\"color\":\"#EBF0F8\"},\"line\":{\"color\":\"white\"}},\"header\":{\"fill\":{\"color\":\"#C8D4E3\"},\"line\":{\"color\":\"white\"}},\"type\":\"table\"}],\"barpolar\":[{\"marker\":{\"line\":{\"color\":\"#E5ECF6\",\"width\":0.5},\"pattern\":{\"fillmode\":\"overlay\",\"size\":10,\"solidity\":0.2}},\"type\":\"barpolar\"}],\"pie\":[{\"automargin\":true,\"type\":\"pie\"}]},\"layout\":{\"autotypenumbers\":\"strict\",\"colorway\":[\"#636efa\",\"#EF553B\",\"#00cc96\",\"#ab63fa\",\"#FFA15A\",\"#19d3f3\",\"#FF6692\",\"#B6E880\",\"#FF97FF\",\"#FECB52\"],\"font\":{\"color\":\"#2a3f5f\"},\"hovermode\":\"closest\",\"hoverlabel\":{\"align\":\"left\"},\"paper_bgcolor\":\"white\",\"plot_bgcolor\":\"#E5ECF6\",\"polar\":{\"bgcolor\":\"#E5ECF6\",\"angularaxis\":{\"gridcolor\":\"white\",\"linecolor\":\"white\",\"ticks\":\"\"},\"radialaxis\":{\"gridcolor\":\"white\",\"linecolor\":\"white\",\"ticks\":\"\"}},\"ternary\":{\"bgcolor\":\"#E5ECF6\",\"aaxis\":{\"gridcolor\":\"white\",\"linecolor\":\"white\",\"ticks\":\"\"},\"baxis\":{\"gridcolor\":\"white\",\"linecolor\":\"white\",\"ticks\":\"\"},\"caxis\":{\"gridcolor\":\"white\",\"linecolor\":\"white\",\"ticks\":\"\"}},\"coloraxis\":{\"colorbar\":{\"outlinewidth\":0,\"ticks\":\"\"}},\"colorscale\":{\"sequential\":[[0.0,\"#0d0887\"],[0.1111111111111111,\"#46039f\"],[0.2222222222222222,\"#7201a8\"],[0.3333333333333333,\"#9c179e\"],[0.4444444444444444,\"#bd3786\"],[0.5555555555555556,\"#d8576b\"],[0.6666666666666666,\"#ed7953\"],[0.7777777777777778,\"#fb9f3a\"],[0.8888888888888888,\"#fdca26\"],[1.0,\"#f0f921\"]],\"sequentialminus\":[[0.0,\"#0d0887\"],[0.1111111111111111,\"#46039f\"],[0.2222222222222222,\"#7201a8\"],[0.3333333333333333,\"#9c179e\"],[0.4444444444444444,\"#bd3786\"],[0.5555555555555556,\"#d8576b\"],[0.6666666666666666,\"#ed7953\"],[0.7777777777777778,\"#fb9f3a\"],[0.8888888888888888,\"#fdca26\"],[1.0,\"#f0f921\"]],\"diverging\":[[0,\"#8e0152\"],[0.1,\"#c51b7d\"],[0.2,\"#de77ae\"],[0.3,\"#f1b6da\"],[0.4,\"#fde0ef\"],[0.5,\"#f7f7f7\"],[0.6,\"#e6f5d0\"],[0.7,\"#b8e186\"],[0.8,\"#7fbc41\"],[0.9,\"#4d9221\"],[1,\"#276419\"]]},\"xaxis\":{\"gridcolor\":\"white\",\"linecolor\":\"white\",\"ticks\":\"\",\"title\":{\"standoff\":15},\"zerolinecolor\":\"white\",\"automargin\":true,\"zerolinewidth\":2},\"yaxis\":{\"gridcolor\":\"white\",\"linecolor\":\"white\",\"ticks\":\"\",\"title\":{\"standoff\":15},\"zerolinecolor\":\"white\",\"automargin\":true,\"zerolinewidth\":2},\"scene\":{\"xaxis\":{\"backgroundcolor\":\"#E5ECF6\",\"gridcolor\":\"white\",\"linecolor\":\"white\",\"showbackground\":true,\"ticks\":\"\",\"zerolinecolor\":\"white\",\"gridwidth\":2},\"yaxis\":{\"backgroundcolor\":\"#E5ECF6\",\"gridcolor\":\"white\",\"linecolor\":\"white\",\"showbackground\":true,\"ticks\":\"\",\"zerolinecolor\":\"white\",\"gridwidth\":2},\"zaxis\":{\"backgroundcolor\":\"#E5ECF6\",\"gridcolor\":\"white\",\"linecolor\":\"white\",\"showbackground\":true,\"ticks\":\"\",\"zerolinecolor\":\"white\",\"gridwidth\":2}},\"shapedefaults\":{\"line\":{\"color\":\"#2a3f5f\"}},\"annotationdefaults\":{\"arrowcolor\":\"#2a3f5f\",\"arrowhead\":0,\"arrowwidth\":1},\"geo\":{\"bgcolor\":\"white\",\"landcolor\":\"#E5ECF6\",\"subunitcolor\":\"white\",\"showland\":true,\"showlakes\":true,\"lakecolor\":\"white\"},\"title\":{\"x\":0.05},\"mapbox\":{\"style\":\"light\"}}},\"margin\":{\"l\":80,\"r\":50,\"b\":50,\"t\":80},\"yaxis\":{\"title\":{\"text\":\"Accuracy (%)\"}},\"xaxis\":{\"title\":{\"text\":\"Epochs\"}},\"height\":600,\"width\":1200,\"showlegend\":true,\"hovermode\":\"x unified\",\"title\":{\"text\":\"Train test accuracies\"}},                        {\"responsive\": true}                    ).then(function(){\n",
              "                            \n",
              "var gd = document.getElementById('68771872-8233-453f-8e27-5979eacaa441');\n",
              "var x = new MutationObserver(function (mutations, observer) {{\n",
              "        var display = window.getComputedStyle(gd).display;\n",
              "        if (!display || display === 'none') {{\n",
              "            console.log([gd, 'removed!']);\n",
              "            Plotly.purge(gd);\n",
              "            observer.disconnect();\n",
              "        }}\n",
              "}});\n",
              "\n",
              "// Listen for the removal of the full notebook cells\n",
              "var notebookContainer = gd.closest('#notebook-container');\n",
              "if (notebookContainer) {{\n",
              "    x.observe(notebookContainer, {childList: true});\n",
              "}}\n",
              "\n",
              "// Listen for the clearing of the current output cell\n",
              "var outputEl = gd.closest('.output');\n",
              "if (outputEl) {{\n",
              "    x.observe(outputEl, {childList: true});\n",
              "}}\n",
              "\n",
              "                        })                };                            </script>        </div>\n",
              "</body>\n",
              "</html>"
            ]
          },
          "metadata": {}
        }
      ]
    },
    {
      "cell_type": "markdown",
      "source": [
        "### Loss"
      ],
      "metadata": {
        "id": "1pbcQuMwr8cM"
      }
    },
    {
      "cell_type": "code",
      "source": [
        "list_train_losses = sorted(train_losses.items())\n",
        "\n",
        "x_train_losses, y_train_losses = zip(*list_train_losses)"
      ],
      "metadata": {
        "id": "H3mvjdq6GqGL"
      },
      "execution_count": 106,
      "outputs": []
    },
    {
      "cell_type": "code",
      "source": [
        "best_epoch_loss_train = min(train_losses, key=train_losses.get)\n",
        "\n",
        "lower_accuracy_train = train_losses[best_epoch_loss_train]\n",
        "\n",
        "best_epoch_loss_train, lower_accuracy_train"
      ],
      "metadata": {
        "colab": {
          "base_uri": "https://localhost:8080/"
        },
        "id": "u3kdL15JcgU0",
        "outputId": "c5502974-7ce4-4cc4-9d1d-843088a25bb3"
      },
      "execution_count": 107,
      "outputs": [
        {
          "output_type": "execute_result",
          "data": {
            "text/plain": [
              "(998, 1.186576008796692)"
            ]
          },
          "metadata": {},
          "execution_count": 107
        }
      ]
    },
    {
      "cell_type": "code",
      "source": [
        "list_test_losses = sorted(test_losses.items())\n",
        "\n",
        "x_test_losses, y_test_losses = zip(*list_test_losses)"
      ],
      "metadata": {
        "id": "bNCy4FiiJrho"
      },
      "execution_count": 108,
      "outputs": []
    },
    {
      "cell_type": "code",
      "source": [
        "best_epoch_loss_test = min(test_losses, key=test_losses.get)\n",
        "\n",
        "lower_accuracy_test = test_losses[best_epoch_loss_test]\n",
        "\n",
        "best_epoch_loss_test, lower_accuracy_test"
      ],
      "metadata": {
        "colab": {
          "base_uri": "https://localhost:8080/"
        },
        "id": "mFkZ2dD6d0-Z",
        "outputId": "1db72148-e50f-4320-8600-89c956dc9a68"
      },
      "execution_count": 109,
      "outputs": [
        {
          "output_type": "execute_result",
          "data": {
            "text/plain": [
              "(998, 1.2347162961959839)"
            ]
          },
          "metadata": {},
          "execution_count": 109
        }
      ]
    },
    {
      "cell_type": "code",
      "source": [
        "fig = go.Figure()\n",
        "\n",
        "fig.add_trace(go.Scatter(x=x_train_losses,\n",
        "                         y=y_train_losses,\n",
        "                         mode='lines',\n",
        "                         name='Train loss',))\n",
        "\n",
        "fig.add_trace(go.Scatter(x=x_test_losses,\n",
        "                         y=y_test_losses,\n",
        "                         mode='lines',\n",
        "                         name='Test loss'))\n",
        "\n",
        "fig.update_layout(height=600,\n",
        "                  width=1200,\n",
        "                  showlegend=True,\n",
        "                  margin=dict(l=80,\n",
        "                              r=50,\n",
        "                              b=50,\n",
        "                              t=80),\n",
        "                  yaxis=dict(title_text='Loss'),\n",
        "                  xaxis=dict(title_text='Epochs'),\n",
        "                  hovermode='x unified',\n",
        "                  title='Train test losses')"
      ],
      "metadata": {
        "colab": {
          "base_uri": "https://localhost:8080/",
          "height": 617
        },
        "id": "s0Lrxd1ygBoR",
        "outputId": "727bc29e-05b6-4744-b5f1-de9c32d178ea"
      },
      "execution_count": 110,
      "outputs": [
        {
          "output_type": "display_data",
          "data": {
            "text/html": [
              "<html>\n",
              "<head><meta charset=\"utf-8\" /></head>\n",
              "<body>\n",
              "    <div>            <script src=\"https://cdnjs.cloudflare.com/ajax/libs/mathjax/2.7.5/MathJax.js?config=TeX-AMS-MML_SVG\"></script><script type=\"text/javascript\">if (window.MathJax && window.MathJax.Hub && window.MathJax.Hub.Config) {window.MathJax.Hub.Config({SVG: {font: \"STIX-Web\"}});}</script>                <script type=\"text/javascript\">window.PlotlyConfig = {MathJaxConfig: 'local'};</script>\n",
              "        <script charset=\"utf-8\" src=\"https://cdn.plot.ly/plotly-2.27.0.min.js\"></script>                <div id=\"5572fab5-3ef1-40db-a775-97bb8a925df7\" class=\"plotly-graph-div\" style=\"height:600px; width:1200px;\"></div>            <script type=\"text/javascript\">                                    window.PLOTLYENV=window.PLOTLYENV || {};                                    if (document.getElementById(\"5572fab5-3ef1-40db-a775-97bb8a925df7\")) {                    Plotly.newPlot(                        \"5572fab5-3ef1-40db-a775-97bb8a925df7\",                        [{\"mode\":\"lines\",\"name\":\"Train loss\",\"x\":[0,1,2,3,4,5,6,7,8,9,10,11,12,13,14,15,16,17,18,19,20,21,22,23,24,25,26,27,28,29,30,31,32,33,34,35,36,37,38,39,40,41,42,43,44,45,46,47,48,49,50,51,52,53,54,55,56,57,58,59,60,61,62,63,64,65,66,67,68,69,70,71,72,73,74,75,76,77,78,79,80,81,82,83,84,85,86,87,88,89,90,91,92,93,94,95,96,97,98,99,100,101,102,103,104,105,106,107,108,109,110,111,112,113,114,115,116,117,118,119,120,121,122,123,124,125,126,127,128,129,130,131,132,133,134,135,136,137,138,139,140,141,142,143,144,145,146,147,148,149,150,151,152,153,154,155,156,157,158,159,160,161,162,163,164,165,166,167,168,169,170,171,172,173,174,175,176,177,178,179,180,181,182,183,184,185,186,187,188,189,190,191,192,193,194,195,196,197,198,199,200,201,202,203,204,205,206,207,208,209,210,211,212,213,214,215,216,217,218,219,220,221,222,223,224,225,226,227,228,229,230,231,232,233,234,235,236,237,238,239,240,241,242,243,244,245,246,247,248,249,250,251,252,253,254,255,256,257,258,259,260,261,262,263,264,265,266,267,268,269,270,271,272,273,274,275,276,277,278,279,280,281,282,283,284,285,286,287,288,289,290,291,292,293,294,295,296,297,298,299,300,301,302,303,304,305,306,307,308,309,310,311,312,313,314,315,316,317,318,319,320,321,322,323,324,325,326,327,328,329,330,331,332,333,334,335,336,337,338,339,340,341,342,343,344,345,346,347,348,349,350,351,352,353,354,355,356,357,358,359,360,361,362,363,364,365,366,367,368,369,370,371,372,373,374,375,376,377,378,379,380,381,382,383,384,385,386,387,388,389,390,391,392,393,394,395,396,397,398,399,400,401,402,403,404,405,406,407,408,409,410,411,412,413,414,415,416,417,418,419,420,421,422,423,424,425,426,427,428,429,430,431,432,433,434,435,436,437,438,439,440,441,442,443,444,445,446,447,448,449,450,451,452,453,454,455,456,457,458,459,460,461,462,463,464,465,466,467,468,469,470,471,472,473,474,475,476,477,478,479,480,481,482,483,484,485,486,487,488,489,490,491,492,493,494,495,496,497,498,499,500,501,502,503,504,505,506,507,508,509,510,511,512,513,514,515,516,517,518,519,520,521,522,523,524,525,526,527,528,529,530,531,532,533,534,535,536,537,538,539,540,541,542,543,544,545,546,547,548,549,550,551,552,553,554,555,556,557,558,559,560,561,562,563,564,565,566,567,568,569,570,571,572,573,574,575,576,577,578,579,580,581,582,583,584,585,586,587,588,589,590,591,592,593,594,595,596,597,598,599,600,601,602,603,604,605,606,607,608,609,610,611,612,613,614,615,616,617,618,619,620,621,622,623,624,625,626,627,628,629,630,631,632,633,634,635,636,637,638,639,640,641,642,643,644,645,646,647,648,649,650,651,652,653,654,655,656,657,658,659,660,661,662,663,664,665,666,667,668,669,670,671,672,673,674,675,676,677,678,679,680,681,682,683,684,685,686,687,688,689,690,691,692,693,694,695,696,697,698,699,700,701,702,703,704,705,706,707,708,709,710,711,712,713,714,715,716,717,718,719,720,721,722,723,724,725,726,727,728,729,730,731,732,733,734,735,736,737,738,739,740,741,742,743,744,745,746,747,748,749,750,751,752,753,754,755,756,757,758,759,760,761,762,763,764,765,766,767,768,769,770,771,772,773,774,775,776,777,778,779,780,781,782,783,784,785,786,787,788,789,790,791,792,793,794,795,796,797,798,799,800,801,802,803,804,805,806,807,808,809,810,811,812,813,814,815,816,817,818,819,820,821,822,823,824,825,826,827,828,829,830,831,832,833,834,835,836,837,838,839,840,841,842,843,844,845,846,847,848,849,850,851,852,853,854,855,856,857,858,859,860,861,862,863,864,865,866,867,868,869,870,871,872,873,874,875,876,877,878,879,880,881,882,883,884,885,886,887,888,889,890,891,892,893,894,895,896,897,898,899,900,901,902,903,904,905,906,907,908,909,910,911,912,913,914,915,916,917,918,919,920,921,922,923,924,925,926,927,928,929,930,931,932,933,934,935,936,937,938,939,940,941,942,943,944,945,946,947,948,949,950,951,952,953,954,955,956,957,958,959,960,961,962,963,964,965,966,967,968,969,970,971,972,973,974,975,976,977,978,979,980,981,982,983,984,985,986,987,988,989,990,991,992,993,994,995,996,997,998,999],\"y\":[1.7909351587295532,1.788047194480896,1.784371256828308,1.7790802717208862,1.7714920043945312,1.7602804899215698,1.7438127994537354,1.721177339553833,1.6937061548233032,1.666368842124939,1.6420921087265015,1.617313265800476,1.592853307723999,1.5741772651672363,1.5574610233306885,1.54148530960083,1.5295188426971436,1.521200180053711,1.5131722688674927,1.5040884017944336,1.493452548980713,1.4837875366210938,1.478618860244751,1.4744669198989868,1.468404769897461,1.461538314819336,1.4547648429870605,1.4490880966186523,1.4447556734085083,1.440455436706543,1.4341198205947876,1.4278148412704468,1.4222782850265503,1.4168018102645874,1.411023497581482,1.4060477018356323,1.4004007577896118,1.3953031301498413,1.3904389142990112,1.3860502243041992,1.382413625717163,1.3777316808700562,1.3733590841293335,1.3703116178512573,1.3671575784683228,1.3633629083633423,1.3608795404434204,1.357635498046875,1.3544902801513672,1.3515366315841675,1.3488354682922363,1.3460805416107178,1.3433436155319214,1.3413012027740479,1.3390854597091675,1.3374223709106445,1.33430016040802,1.3317358493804932,1.3297014236450195,1.3275941610336304,1.3264920711517334,1.3254847526550293,1.3279768228530884,1.3214976787567139,1.3343119621276855,1.3330174684524536,1.3443078994750977,1.346928358078003,1.3366936445236206,1.3286752700805664,1.3288787603378296,1.3257249593734741,1.320525884628296,1.3253343105316162,1.3218653202056885,1.3147778511047363,1.3119008541107178,1.3107988834381104,1.3134170770645142,1.3103002309799194,1.3068708181381226,1.3054238557815552,1.305141568183899,1.303051233291626,1.3027350902557373,1.2999719381332397,1.2994489669799805,1.298668384552002,1.298714280128479,1.296737551689148,1.2953449487686157,1.293845295906067,1.2931756973266602,1.293215036392212,1.2918505668640137,1.2906886339187622,1.2897999286651611,1.2889916896820068,1.288496732711792,1.2871559858322144,1.2861628532409668,1.285714864730835,1.2848941087722778,1.283940076828003,1.2829673290252686,1.2820987701416016,1.2813721895217896,1.280349612236023,1.2793328762054443,1.27836275100708,1.2773557901382446,1.2762013673782349,1.275253415107727,1.2743523120880127,1.2733699083328247,1.2724974155426025,1.271683692932129,1.2707334756851196,1.2697638273239136,1.2689098119735718,1.268007755279541,1.2671375274658203,1.2662982940673828,1.2654497623443604,1.2645655870437622,1.263771653175354,1.2629799842834473,1.2621914148330688,1.2614655494689941,1.2607978582382202,1.2601580619812012,1.2594671249389648,1.2587370872497559,1.2579798698425293,1.2572413682937622,1.2565267086029053,1.2558807134628296,1.2552483081817627,1.2546356916427612,1.254042148590088,1.253464698791504,1.252905011177063,1.2523562908172607,1.2518199682235718,1.2512832880020142,1.250757098197937,1.2502292394638062,1.249700903892517,1.2491823434829712,1.2486851215362549,1.2482068538665771,1.2477368116378784,1.2473009824752808,1.2468805313110352,1.246484398841858,1.246040940284729,1.2455757856369019,1.245103359222412,1.244665265083313,1.2442435026168823,1.243829607963562,1.243419885635376,1.2429711818695068,1.2424964904785156,1.2420132160186768,1.2415257692337036,1.2409535646438599,1.240584373474121,1.2402185201644897,1.2396453619003296,1.2391411066055298,1.2397069931030273,1.2417978048324585,1.2488682270050049,1.241532802581787,1.2397557497024536,1.2421870231628418,1.2385172843933105,1.2404824495315552,1.2387092113494873,1.2379746437072754,1.2385622262954712,1.240539789199829,1.2358698844909668,1.2387583255767822,1.236590027809143,1.236855149269104,1.2365033626556396,1.235209584236145,1.2353304624557495,1.2342666387557983,1.2339873313903809,1.2338850498199463,1.232664942741394,1.2330869436264038,1.2322137355804443,1.2320648431777954,1.231513261795044,1.2315142154693604,1.2307878732681274,1.2306466102600098,1.2304986715316772,1.2305728197097778,1.229689359664917,1.2301037311553955,1.2296218872070312,1.2296215295791626,1.2293113470077515,1.228928565979004,1.2287683486938477,1.2285434007644653,1.2282710075378418,1.2280542850494385,1.2279438972473145,1.2277307510375977,1.2276092767715454,1.2273863554000854,1.2271100282669067,1.2269541025161743,1.2267855405807495,1.2265928983688354,1.2265124320983887,1.2262742519378662,1.2261402606964111,1.2259804010391235,1.2258391380310059,1.225646734237671,1.2254960536956787,1.2253332138061523,1.2251726388931274,1.2250454425811768,1.2248520851135254,1.224705457687378,1.2245880365371704,1.2244248390197754,1.2242958545684814,1.2241275310516357,1.2240056991577148,1.2238022089004517,1.2236428260803223,1.2238713502883911,1.223409652709961,1.2236794233322144,1.2239876985549927,1.2237433195114136,1.2238316535949707,1.223273754119873,1.2231228351593018,1.2233859300613403,1.2226699590682983,1.2227113246917725,1.2225841283798218,1.2222875356674194,1.2221993207931519,1.222152829170227,1.2218090295791626,1.2216676473617554,1.2215346097946167,1.2213926315307617,1.2210536003112793,1.2210452556610107,1.220847725868225,1.2206330299377441,1.220423698425293,1.2203528881072998,1.220194697380066,1.2200464010238647,1.219887614250183,1.219835877418518,1.219689130783081,1.219531536102295,1.2193843126296997,1.2191931009292603,1.2191678285598755,1.2193630933761597,1.2196191549301147,1.2192723751068115,1.2193464040756226,1.2190310955047607,1.218999981880188,1.2187741994857788,1.2186990976333618,1.2185603380203247,1.2184991836547852,1.21831214427948,1.2182202339172363,1.2180763483047485,1.2179584503173828,1.2176488637924194,1.2176729440689087,1.218289852142334,1.2177863121032715,1.2181007862091064,1.2175318002700806,1.2174654006958008,1.2175222635269165,1.217411756515503,1.2171401977539062,1.2173513174057007,1.2165074348449707,1.2169135808944702,1.2168545722961426,1.2159700393676758,1.2165025472640991,1.2161623239517212,1.2161225080490112,1.2158455848693848,1.2157279253005981,1.2154648303985596,1.2155967950820923,1.2151883840560913,1.2152595520019531,1.2152501344680786,1.2155418395996094,1.2158923149108887,1.2172311544418335,1.2175397872924805,1.2228785753250122,1.2194828987121582,1.2169569730758667,1.215464472770691,1.217584252357483,1.217183232307434,1.2135467529296875,1.2161598205566406,1.218714952468872,1.2123574018478394,1.2170199155807495,1.2199774980545044,1.2121473550796509,1.2193199396133423,1.2236398458480835,1.2188807725906372,1.228944182395935,1.2451390027999878,1.2539013624191284,1.2463481426239014,1.238580346107483,1.2453309297561646,1.2510018348693848,1.2408026456832886,1.2433040142059326,1.2387357950210571,1.2450106143951416,1.2375423908233643,1.232679843902588,1.2220438718795776,1.2283092737197876,1.2265045642852783,1.2233608961105347,1.217673420906067,1.2201220989227295,1.2206963300704956,1.219870924949646,1.2155178785324097,1.2150501012802124,1.2146273851394653,1.2142865657806396,1.2124741077423096,1.2117263078689575,1.2107536792755127,1.2108665704727173,1.209686517715454,1.2092126607894897,1.2088903188705444,1.2093431949615479,1.20881986618042,1.2079753875732422,1.2078700065612793,1.2071982622146606,1.2071361541748047,1.207085132598877,1.2068809270858765,1.2067145109176636,1.2064621448516846,1.2062586545944214,1.2059601545333862,1.205880880355835,1.2056885957717896,1.2056010961532593,1.2054299116134644,1.205318570137024,1.2050343751907349,1.2052067518234253,1.2049949169158936,1.2049442529678345,1.2048054933547974,1.2047652006149292,1.2047315835952759,1.2045825719833374,1.2045232057571411,1.2043943405151367,1.2044249773025513,1.2043449878692627,1.2043403387069702,1.2042171955108643,1.2042123079299927,1.2041449546813965,1.2041913270950317,1.2041000127792358,1.204079508781433,1.2040214538574219,1.2040318250656128,1.2039682865142822,1.2039693593978882,1.2039313316345215,1.2039272785186768,1.2038850784301758,1.2038755416870117,1.2038377523422241,1.203834056854248,1.2038087844848633,1.2038042545318604,1.2037736177444458,1.2037646770477295,1.2037447690963745,1.203737735748291,1.2037122249603271,1.2037012577056885,1.2036875486373901,1.2036776542663574,1.2036571502685547,1.203645944595337,1.2036339044570923,1.2036232948303223,1.2036083936691284,1.203597068786621,1.2035826444625854,1.20357084274292,1.203557014465332,1.2035443782806396,1.203529953956604,1.203513503074646,1.2035000324249268,1.2034845352172852,1.2034704685211182,1.2034519910812378,1.2034339904785156,1.2034146785736084,1.2033952474594116,1.2033758163452148,1.203354835510254,1.2033355236053467,1.2033132314682007,1.2032923698425293,1.2032713890075684,1.2032510042190552,1.2032310962677002,1.2032097578048706,1.2031904458999634,1.2031714916229248,1.203152060508728,1.2031329870224,1.203113079071045,1.203095555305481,1.203076720237732,1.203057885169983,1.20304274559021,1.203026533126831,1.2030092477798462,1.202993631362915,1.2029776573181152,1.2029600143432617,1.2029439210891724,1.202927827835083,1.2029122114181519,1.2028963565826416,1.202880859375,1.2028656005859375,1.2028504610061646,1.2028356790542603,1.2028214931488037,1.2028062343597412,1.2027919292449951,1.20277738571167,1.2027637958526611,1.2027502059936523,1.2027361392974854,1.2027227878570557,1.2027102708816528,1.2026972770690918,1.2026841640472412,1.2026715278625488,1.2026593685150146,1.2026474475860596,1.2026331424713135,1.202620267868042,1.202608585357666,1.2025946378707886,1.2025824785232544,1.2025697231292725,1.202556848526001,1.2025448083877563,1.2025320529937744,1.2025190591812134,1.2025067806243896,1.2024943828582764,1.2024823427200317,1.202469825744629,1.202458143234253,1.2024472951889038,1.2024352550506592,1.202423334121704,1.2024122476577759,1.202400803565979,1.2023887634277344,1.2023779153823853,1.2023659944534302,1.202355146408081,1.2023438215255737,1.2023324966430664,1.2023212909698486,1.2023102045059204,1.2022989988327026,1.2022870779037476,1.2022755146026611,1.2022639513015747,1.2022531032562256,1.20224130153656,1.2022287845611572,1.202218770980835,1.202207088470459,1.2021950483322144,1.2021830081939697,1.202172040939331,1.2021604776382446,1.2021493911743164,1.202139139175415,1.2021279335021973,1.20211660861969,1.2021058797836304,1.2020944356918335,1.202082633972168,1.2020715475082397,1.202059030532837,1.202048659324646,1.202038049697876,1.202026605606079,1.202014684677124,1.2020026445388794,1.2019917964935303,1.2019810676574707,1.2019695043563843,1.2019585371017456,1.2019463777542114,1.2019339799880981,1.2019236087799072,1.2019107341766357,1.2018998861312866,1.2018890380859375,1.2018769979476929,1.2018628120422363,1.2018505334854126,1.2018381357192993,1.2018247842788696,1.2018115520477295,1.2017980813980103,1.201783537864685,1.201770544052124,1.2017569541931152,1.2017422914505005,1.2017276287078857,1.2017133235931396,1.2016993761062622,1.2016844749450684,1.2016701698303223,1.2016551494598389,1.2016408443450928,1.2016260623931885,1.201613187789917,1.20159912109375,1.2015857696533203,1.2015714645385742,1.2015563249588013,1.2015392780303955,1.201525330543518,1.2015094757080078,1.2014964818954468,1.2014826536178589,1.2014644145965576,1.201450228691101,1.201436161994934,1.2014206647872925,1.2014087438583374,1.201392412185669,1.201374888420105,1.2013593912124634,1.2013447284698486,1.2013283967971802,1.201314091682434,1.2012975215911865,1.2012802362442017,1.2012637853622437,1.2012478113174438,1.2012308835983276,1.2012163400650024,1.201197624206543,1.2011804580688477,1.201162576675415,1.2011443376541138,1.2011260986328125,1.2011103630065918,1.2010911703109741,1.2010741233825684,1.2010557651519775,1.2010375261306763,1.2010204792022705,1.201002836227417,1.2009855508804321,1.200968623161316,1.200953483581543,1.200935959815979,1.2009179592132568,1.2009027004241943,1.20088529586792,1.2008682489395142,1.2008506059646606,1.200833797454834,1.2008168697357178,1.2007999420166016,1.2007832527160645,1.200766921043396,1.2007502317428589,1.200734257698059,1.2007179260253906,1.2007020711898804,1.2006875276565552,1.2006725072860718,1.2006590366363525,1.200640320777893,1.2006219625473022,1.2006031274795532,1.2005844116210938,1.2005666494369507,1.2005494832992554,1.200531005859375,1.200514554977417,1.2004979848861694,1.2004815340042114,1.200464129447937,1.2004504203796387,1.2004355192184448,1.200420618057251,1.2004070281982422,1.2003947496414185,1.200376033782959,1.2003588676452637,1.2003376483917236,1.2003157138824463,1.2002924680709839,1.2002686262130737,1.2002441883087158,1.2002201080322266,1.2001992464065552,1.2001794576644897,1.2001597881317139,1.2001421451568604,1.2001336812973022,1.2001278400421143,1.2001208066940308,1.2001105546951294,1.2000939846038818,1.2000607252120972,1.200024127960205,1.1999843120574951,1.1999444961547852,1.199906349182129,1.1998701095581055,1.1998354196548462,1.1998029947280884,1.1997727155685425,1.1997461318969727,1.1997325420379639,1.1997178792953491,1.1997162103652954,1.1997355222702026,1.1997900009155273,1.1999225616455078,1.2001656293869019,1.2006372213363647,1.2016265392303467,1.2040756940841675,1.2161492109298706,1.2376749515533447,1.2891594171524048,1.278557300567627,1.2674638032913208,1.2616323232650757,1.2704087495803833,1.2725790739059448,1.2841984033584595,1.2639161348342896,1.2490447759628296,1.2545872926712036,1.226414442062378,1.2357258796691895,1.2397464513778687,1.2281688451766968,1.2327839136123657,1.2262864112854004,1.2173775434494019,1.218148946762085,1.2168430089950562,1.2175410985946655,1.2173317670822144,1.212432861328125,1.2110189199447632,1.211562156677246,1.2103967666625977,1.2086116075515747,1.2072371244430542,1.206959843635559,1.2057816982269287,1.2038003206253052,1.2051790952682495,1.2049229145050049,1.20267653465271,1.2022221088409424,1.2023018598556519,1.2022124528884888,1.2015814781188965,1.2015513181686401,1.200543999671936,1.2007571458816528,1.200105905532837,1.200186014175415,1.1998555660247803,1.1997389793395996,1.199123740196228,1.199020504951477,1.1987626552581787,1.198583960533142,1.1980435848236084,1.1976821422576904,1.1976025104522705,1.1976792812347412,1.1972416639328003,1.1969376802444458,1.19684636592865,1.1967655420303345,1.1966843605041504,1.1965103149414062,1.1964198350906372,1.1962826251983643,1.1961915493011475,1.196042776107788,1.1959810256958008,1.1958887577056885,1.1958097219467163,1.195719838142395,1.1956148147583008,1.195563793182373,1.1955022811889648,1.1954604387283325,1.195381999015808,1.195312261581421,1.19525146484375,1.195213794708252,1.1951724290847778,1.1951075792312622,1.1950619220733643,1.1950141191482544,1.1949659585952759,1.1949265003204346,1.1948893070220947,1.1948494911193848,1.194809913635254,1.1947673559188843,1.1947319507598877,1.1946971416473389,1.194649577140808,1.194583535194397,1.1944981813430786,1.1944133043289185,1.1943641901016235,1.1943050622940063,1.1942397356033325,1.1941930055618286,1.1941397190093994,1.194083333015442,1.1940109729766846,1.1939164400100708,1.1938252449035645,1.1937531232833862,1.1937119960784912,1.1936630010604858,1.193594217300415,1.1935302019119263,1.1934700012207031,1.1934154033660889,1.1933691501617432,1.1933181285858154,1.193270206451416,1.1932235956192017,1.193176031112671,1.1931307315826416,1.193082571029663,1.1930325031280518,1.1929850578308105,1.1929348707199097,1.1928869485855103,1.1928397417068481,1.1927909851074219,1.192744493484497,1.1926995515823364,1.192654013633728,1.1926108598709106,1.1925681829452515,1.1925256252288818,1.1924830675125122,1.1924439668655396,1.1924036741256714,1.1923625469207764,1.1923232078552246,1.1922850608825684,1.1922460794448853,1.192209005355835,1.1921709775924683,1.1921327114105225,1.192097544670105,1.1920592784881592,1.192017674446106,1.191976547241211,1.19193434715271,1.191889762878418,1.1918379068374634,1.191781997680664,1.1917208433151245,1.1916627883911133,1.1916121244430542,1.1915678977966309,1.1915245056152344,1.1914845705032349,1.19143807888031,1.191390037536621,1.1913447380065918,1.1912972927093506,1.191248893737793,1.1912018060684204,1.1911592483520508,1.1911163330078125,1.1910737752914429,1.1910310983657837,1.1909879446029663,1.1909441947937012,1.1909010410308838,1.1908586025238037,1.1908164024353027,1.1907720565795898,1.1907292604446411,1.190686583518982,1.1906436681747437,1.1906040906906128,1.1905661821365356,1.1905276775360107,1.1904915571212769,1.1904551982879639,1.1904211044311523,1.1903870105743408,1.1903517246246338,1.190316081047058,1.1902827024459839,1.190252661705017,1.190219521522522,1.1901862621307373,1.19015371799469,1.1901224851608276,1.190092921257019,1.1900646686553955,1.190036416053772,1.1900086402893066,1.189982533454895,1.189954400062561,1.1899268627166748,1.1898996829986572,1.1898716688156128,1.1898465156555176,1.1898218393325806,1.1897971630096436,1.1897716522216797,1.189746618270874,1.1897238492965698,1.1896984577178955,1.1896737813949585,1.1896497011184692,1.1896263360977173,1.189600944519043,1.1895747184753418,1.1895495653152466,1.1895240545272827,1.1894989013671875,1.1894729137420654,1.1894500255584717,1.1894270181655884,1.1894019842147827,1.1893789768218994,1.1893569231033325,1.189333438873291,1.1893106698989868,1.189288854598999,1.189266324043274,1.1892467737197876,1.1892274618148804,1.1892106533050537,1.1891921758651733,1.1891721487045288,1.1891484260559082,1.1891251802444458,1.1891027688980103,1.1890844106674194,1.1890678405761719,1.1890504360198975,1.1890370845794678,1.1890202760696411,1.1890045404434204,1.188988447189331,1.1889692544937134,1.1889488697052002,1.1889322996139526,1.188913345336914,1.1888948678970337,1.1888787746429443,1.1888638734817505,1.1888504028320312,1.1888370513916016,1.1888225078582764,1.1888034343719482,1.1887860298156738,1.1887668371200562,1.1887491941452026,1.1887298822402954,1.1887130737304688,1.1886956691741943,1.1886789798736572,1.1886610984802246,1.1886461973190308,1.1886330842971802,1.1886197328567505,1.1886030435562134,1.1885775327682495,1.1885478496551514,1.1885126829147339,1.188476800918579,1.1884335279464722,1.1883727312088013,1.1883026361465454,1.1882262229919434,1.1881768703460693,1.1881382465362549,1.1881074905395508,1.1880779266357422,1.1880381107330322,1.1879920959472656,1.1879476308822632,1.187904953956604,1.1878677606582642,1.1878325939178467,1.187801480293274,1.1877679824829102,1.1877384185791016,1.1877095699310303,1.1876784563064575,1.187648892402649,1.1876200437545776,1.1875953674316406,1.1875663995742798,1.1875369548797607,1.187503695487976,1.1874696016311646,1.1874372959136963,1.1874046325683594,1.187372088432312,1.1873393058776855,1.1873071193695068,1.1872745752334595,1.187243938446045,1.1872113943099976,1.1871823072433472,1.1871533393859863,1.1871294975280762,1.1871038675308228,1.1870735883712769,1.1870626211166382,1.1870404481887817,1.187017798423767,1.1869795322418213,1.186937689781189,1.1868963241577148,1.1868479251861572,1.1867977380752563,1.1867538690567017,1.1867163181304932,1.1866854429244995,1.1866554021835327,1.186631441116333,1.1866090297698975,1.1865932941436768,1.1865822076797485,1.186576008796692,1.1865808963775635],\"type\":\"scatter\"},{\"mode\":\"lines\",\"name\":\"Test loss\",\"x\":[0,1,2,3,4,5,6,7,8,9,10,11,12,13,14,15,16,17,18,19,20,21,22,23,24,25,26,27,28,29,30,31,32,33,34,35,36,37,38,39,40,41,42,43,44,45,46,47,48,49,50,51,52,53,54,55,56,57,58,59,60,61,62,63,64,65,66,67,68,69,70,71,72,73,74,75,76,77,78,79,80,81,82,83,84,85,86,87,88,89,90,91,92,93,94,95,96,97,98,99,100,101,102,103,104,105,106,107,108,109,110,111,112,113,114,115,116,117,118,119,120,121,122,123,124,125,126,127,128,129,130,131,132,133,134,135,136,137,138,139,140,141,142,143,144,145,146,147,148,149,150,151,152,153,154,155,156,157,158,159,160,161,162,163,164,165,166,167,168,169,170,171,172,173,174,175,176,177,178,179,180,181,182,183,184,185,186,187,188,189,190,191,192,193,194,195,196,197,198,199,200,201,202,203,204,205,206,207,208,209,210,211,212,213,214,215,216,217,218,219,220,221,222,223,224,225,226,227,228,229,230,231,232,233,234,235,236,237,238,239,240,241,242,243,244,245,246,247,248,249,250,251,252,253,254,255,256,257,258,259,260,261,262,263,264,265,266,267,268,269,270,271,272,273,274,275,276,277,278,279,280,281,282,283,284,285,286,287,288,289,290,291,292,293,294,295,296,297,298,299,300,301,302,303,304,305,306,307,308,309,310,311,312,313,314,315,316,317,318,319,320,321,322,323,324,325,326,327,328,329,330,331,332,333,334,335,336,337,338,339,340,341,342,343,344,345,346,347,348,349,350,351,352,353,354,355,356,357,358,359,360,361,362,363,364,365,366,367,368,369,370,371,372,373,374,375,376,377,378,379,380,381,382,383,384,385,386,387,388,389,390,391,392,393,394,395,396,397,398,399,400,401,402,403,404,405,406,407,408,409,410,411,412,413,414,415,416,417,418,419,420,421,422,423,424,425,426,427,428,429,430,431,432,433,434,435,436,437,438,439,440,441,442,443,444,445,446,447,448,449,450,451,452,453,454,455,456,457,458,459,460,461,462,463,464,465,466,467,468,469,470,471,472,473,474,475,476,477,478,479,480,481,482,483,484,485,486,487,488,489,490,491,492,493,494,495,496,497,498,499,500,501,502,503,504,505,506,507,508,509,510,511,512,513,514,515,516,517,518,519,520,521,522,523,524,525,526,527,528,529,530,531,532,533,534,535,536,537,538,539,540,541,542,543,544,545,546,547,548,549,550,551,552,553,554,555,556,557,558,559,560,561,562,563,564,565,566,567,568,569,570,571,572,573,574,575,576,577,578,579,580,581,582,583,584,585,586,587,588,589,590,591,592,593,594,595,596,597,598,599,600,601,602,603,604,605,606,607,608,609,610,611,612,613,614,615,616,617,618,619,620,621,622,623,624,625,626,627,628,629,630,631,632,633,634,635,636,637,638,639,640,641,642,643,644,645,646,647,648,649,650,651,652,653,654,655,656,657,658,659,660,661,662,663,664,665,666,667,668,669,670,671,672,673,674,675,676,677,678,679,680,681,682,683,684,685,686,687,688,689,690,691,692,693,694,695,696,697,698,699,700,701,702,703,704,705,706,707,708,709,710,711,712,713,714,715,716,717,718,719,720,721,722,723,724,725,726,727,728,729,730,731,732,733,734,735,736,737,738,739,740,741,742,743,744,745,746,747,748,749,750,751,752,753,754,755,756,757,758,759,760,761,762,763,764,765,766,767,768,769,770,771,772,773,774,775,776,777,778,779,780,781,782,783,784,785,786,787,788,789,790,791,792,793,794,795,796,797,798,799,800,801,802,803,804,805,806,807,808,809,810,811,812,813,814,815,816,817,818,819,820,821,822,823,824,825,826,827,828,829,830,831,832,833,834,835,836,837,838,839,840,841,842,843,844,845,846,847,848,849,850,851,852,853,854,855,856,857,858,859,860,861,862,863,864,865,866,867,868,869,870,871,872,873,874,875,876,877,878,879,880,881,882,883,884,885,886,887,888,889,890,891,892,893,894,895,896,897,898,899,900,901,902,903,904,905,906,907,908,909,910,911,912,913,914,915,916,917,918,919,920,921,922,923,924,925,926,927,928,929,930,931,932,933,934,935,936,937,938,939,940,941,942,943,944,945,946,947,948,949,950,951,952,953,954,955,956,957,958,959,960,961,962,963,964,965,966,967,968,969,970,971,972,973,974,975,976,977,978,979,980,981,982,983,984,985,986,987,988,989,990,991,992,993,994,995,996,997,998,999],\"y\":[1.788050889968872,1.7844494581222534,1.7792044878005981,1.7715723514556885,1.7601784467697144,1.7434085607528687,1.7203865051269531,1.6924169063568115,1.6644327640533447,1.6393717527389526,1.6139682531356812,1.5891427993774414,1.5700410604476929,1.5524938106536865,1.5347334146499634,1.5196630954742432,1.5080796480178833,1.4986509084701538,1.4895952939987183,1.4797002077102661,1.4709328413009644,1.466417908668518,1.4624813795089722,1.4556699991226196,1.447082281112671,1.4386793375015259,1.43282949924469,1.4281980991363525,1.423145055770874,1.4169036149978638,1.4116493463516235,1.407949447631836,1.4056624174118042,1.403658151626587,1.4013055562973022,1.3947434425354004,1.3883453607559204,1.3829436302185059,1.3788597583770752,1.3781256675720215,1.3753108978271484,1.372415542602539,1.3709763288497925,1.3689926862716675,1.366991639137268,1.366281509399414,1.365600824356079,1.3651071786880493,1.3637768030166626,1.3624391555786133,1.3607863187789917,1.3586673736572266,1.3584195375442505,1.3564692735671997,1.35581636428833,1.3521329164505005,1.351485252380371,1.3498272895812988,1.3478776216506958,1.3491160869598389,1.3446134328842163,1.353124976158142,1.3442579507827759,1.3495488166809082,1.3585823774337769,1.3651480674743652,1.3697456121444702,1.360933780670166,1.350936770439148,1.3414803743362427,1.3335216045379639,1.33292555809021,1.3402942419052124,1.3366254568099976,1.3319146633148193,1.3328665494918823,1.3328548669815063,1.3368710279464722,1.3351449966430664,1.330783486366272,1.3284991979599,1.3266352415084839,1.3230829238891602,1.3230124711990356,1.3188226222991943,1.3194612264633179,1.3206692934036255,1.3214576244354248,1.319415807723999,1.3180010318756104,1.3160637617111206,1.3150691986083984,1.3159294128417969,1.3151607513427734,1.3152122497558594,1.3154747486114502,1.3153033256530762,1.3153783082962036,1.3142225742340088,1.312577486038208,1.3113476037979126,1.310767650604248,1.310562252998352,1.310725450515747,1.310981035232544,1.311540961265564,1.3116164207458496,1.3109883069992065,1.3098032474517822,1.3083547353744507,1.307190179824829,1.3063623905181885,1.3053779602050781,1.305082082748413,1.3049778938293457,1.304301142692566,1.3043382167816162,1.30439031124115,1.3037558794021606,1.303444743156433,1.303019404411316,1.3021776676177979,1.30241060256958,1.3020133972167969,1.3017774820327759,1.3021708726882935,1.3016607761383057,1.3014823198318481,1.3011106252670288,1.3005253076553345,1.2998614311218262,1.2989673614501953,1.298400640487671,1.2971769571304321,1.296757698059082,1.2961910963058472,1.2954587936401367,1.2953120470046997,1.2949014902114868,1.294589638710022,1.294188380241394,1.2938868999481201,1.2932384014129639,1.2929167747497559,1.2924126386642456,1.2915481328964233,1.2911350727081299,1.2902640104293823,1.2901809215545654,1.2894617319107056,1.289880394935608,1.2891727685928345,1.2901241779327393,1.2891535758972168,1.2901227474212646,1.2891491651535034,1.2894806861877441,1.2891788482666016,1.2887738943099976,1.289063572883606,1.2882379293441772,1.2888743877410889,1.288057565689087,1.28864586353302,1.288270354270935,1.2881001234054565,1.2882651090621948,1.2885708808898926,1.2872402667999268,1.2883559465408325,1.2866034507751465,1.292216181755066,1.2904629707336426,1.2922511100769043,1.2912566661834717,1.2881816625595093,1.2871888875961304,1.293074131011963,1.2891627550125122,1.2838445901870728,1.286145806312561,1.2921985387802124,1.287196397781372,1.2864606380462646,1.2872045040130615,1.2887685298919678,1.2874342203140259,1.2850103378295898,1.2852970361709595,1.2872188091278076,1.2859201431274414,1.284157633781433,1.2843321561813354,1.285133957862854,1.2825770378112793,1.2830820083618164,1.2849746942520142,1.2857437133789062,1.2839767932891846,1.2831073999404907,1.284090518951416,1.2841753959655762,1.2821136713027954,1.2821122407913208,1.2824711799621582,1.2823078632354736,1.2812803983688354,1.2808265686035156,1.2820464372634888,1.2826740741729736,1.2812058925628662,1.2805417776107788,1.281549334526062,1.28097665309906,1.2797518968582153,1.280072569847107,1.2802965641021729,1.2798173427581787,1.2793937921524048,1.279532790184021,1.2799673080444336,1.2793740034103394,1.2784626483917236,1.2785580158233643,1.2788771390914917,1.2784870862960815,1.2783691883087158,1.2787926197052002,1.2785576581954956,1.2781497240066528,1.2785934209823608,1.278761625289917,1.2780667543411255,1.2781307697296143,1.2781972885131836,1.2775928974151611,1.2776328325271606,1.2776648998260498,1.2776861190795898,1.2774478197097778,1.2771263122558594,1.2781234979629517,1.2772997617721558,1.2772001028060913,1.2791324853897095,1.2759513854980469,1.275650978088379,1.2789992094039917,1.2765456438064575,1.2756786346435547,1.277574896812439,1.2765859365463257,1.275998830795288,1.2776933908462524,1.2763166427612305,1.2758913040161133,1.2766261100769043,1.2757999897003174,1.2757692337036133,1.2761633396148682,1.2755345106124878,1.2756489515304565,1.2753009796142578,1.2754526138305664,1.275987982749939,1.2750080823898315,1.2751113176345825,1.2757450342178345,1.2746658325195312,1.274749755859375,1.27510666847229,1.27444326877594,1.2750647068023682,1.2745717763900757,1.2752081155776978,1.27448308467865,1.2749205827713013,1.2740259170532227,1.2739784717559814,1.2746955156326294,1.2734910249710083,1.2731376886367798,1.2738226652145386,1.2739250659942627,1.2736507654190063,1.2732919454574585,1.2732893228530884,1.2734178304672241,1.2734274864196777,1.2734615802764893,1.2733896970748901,1.274045705795288,1.2717933654785156,1.272383213043213,1.2732332944869995,1.2722212076187134,1.2716946601867676,1.2743418216705322,1.2716538906097412,1.2716978788375854,1.2732592821121216,1.2712804079055786,1.2711747884750366,1.2717796564102173,1.2723064422607422,1.2707860469818115,1.2704795598983765,1.2702418565750122,1.2700459957122803,1.2701612710952759,1.270837664604187,1.2705628871917725,1.2714035511016846,1.2709848880767822,1.2726818323135376,1.2718658447265625,1.277986764907837,1.2742443084716797,1.2729710340499878,1.2736998796463013,1.2719959020614624,1.2750166654586792,1.271199345588684,1.2711611986160278,1.2772902250289917,1.2687187194824219,1.2693476676940918,1.2769602537155151,1.2674295902252197,1.2712838649749756,1.2847509384155273,1.2789912223815918,1.285706877708435,1.3004908561706543,1.3027591705322266,1.285882830619812,1.2952316999435425,1.2981863021850586,1.3027318716049194,1.2890160083770752,1.290797233581543,1.2814383506774902,1.286173939704895,1.2856049537658691,1.2819454669952393,1.2739901542663574,1.2783206701278687,1.2779866456985474,1.275207281112671,1.275063395500183,1.2758513689041138,1.275001883506775,1.2723311185836792,1.2671738862991333,1.2659258842468262,1.2678334712982178,1.269978642463684,1.2691287994384766,1.267942190170288,1.2688214778900146,1.2684905529022217,1.266214370727539,1.2638381719589233,1.2621593475341797,1.263432264328003,1.2638238668441772,1.262010097503662,1.2617626190185547,1.2631199359893799,1.2639902830123901,1.2634114027023315,1.2624677419662476,1.2620326280593872,1.2619765996932983,1.2620337009429932,1.2619819641113281,1.2619831562042236,1.2621421813964844,1.2625620365142822,1.2624895572662354,1.2618496417999268,1.261441946029663,1.261780858039856,1.2615644931793213,1.2610052824020386,1.2607015371322632,1.261086106300354,1.2616658210754395,1.2615104913711548,1.2612820863723755,1.2613704204559326,1.2616543769836426,1.2615134716033936,1.2613450288772583,1.2614775896072388,1.261756181716919,1.2615877389907837,1.2612907886505127,1.261206865310669,1.2612721920013428,1.2610808610916138,1.2608603239059448,1.2608908414840698,1.2610790729522705,1.2610405683517456,1.260927438735962,1.2608925104141235,1.2608402967453003,1.2606440782546997,1.260513424873352,1.2606074810028076,1.260740041732788,1.2606927156448364,1.2606536149978638,1.2607218027114868,1.2607860565185547,1.2607061862945557,1.2606172561645508,1.260623812675476,1.2606077194213867,1.2604900598526,1.2604103088378906,1.2604825496673584,1.260485053062439,1.2603662014007568,1.2603070735931396,1.2603555917739868,1.2603816986083984,1.2602214813232422,1.2601466178894043,1.260202407836914,1.2602155208587646,1.2601244449615479,1.2601064443588257,1.2601138353347778,1.2600505352020264,1.259979248046875,1.2599258422851562,1.2599577903747559,1.2599378824234009,1.2598377466201782,1.25979483127594,1.2597956657409668,1.259740948677063,1.2596120834350586,1.2596220970153809,1.2596198320388794,1.2595531940460205,1.2595136165618896,1.259499430656433,1.2594528198242188,1.2593755722045898,1.2593501806259155,1.2593241930007935,1.2592921257019043,1.2592298984527588,1.2591609954833984,1.259206771850586,1.2591404914855957,1.2591091394424438,1.259105920791626,1.2590620517730713,1.2590540647506714,1.2590374946594238,1.2589706182479858,1.2589722871780396,1.2589372396469116,1.2588709592819214,1.2588766813278198,1.2588233947753906,1.2587627172470093,1.2587871551513672,1.2587343454360962,1.2586867809295654,1.2586705684661865,1.2586253881454468,1.258609652519226,1.258531093597412,1.2585440874099731,1.2585850954055786,1.2584859132766724,1.2584720849990845,1.2585339546203613,1.2584338188171387,1.2584164142608643,1.2584195137023926,1.258415937423706,1.2583805322647095,1.2583439350128174,1.2583593130111694,1.258350133895874,1.2582738399505615,1.2582913637161255,1.2582591772079468,1.2582569122314453,1.2582496404647827,1.2582100629806519,1.258209228515625,1.2581483125686646,1.2581844329833984,1.25812828540802,1.2580848932266235,1.2580782175064087,1.2581151723861694,1.2580865621566772,1.2580517530441284,1.2580889463424683,1.2580441236495972,1.2579996585845947,1.258007287979126,1.257979154586792,1.25792396068573,1.257956624031067,1.257934331893921,1.257889986038208,1.2579163312911987,1.2579187154769897,1.2578762769699097,1.2578635215759277,1.2578935623168945,1.2578041553497314,1.257788062095642,1.257800579071045,1.2576866149902344,1.2577078342437744,1.2577451467514038,1.2576918601989746,1.2576826810836792,1.257668375968933,1.2576285600662231,1.2576335668563843,1.2576035261154175,1.257569670677185,1.2575393915176392,1.25751531124115,1.2575682401657104,1.2575263977050781,1.2574875354766846,1.2575603723526,1.2574816942214966,1.257421612739563,1.2574907541275024,1.2574126720428467,1.2574793100357056,1.257390022277832,1.2574338912963867,1.2573652267456055,1.2574031352996826,1.2573740482330322,1.2574414014816284,1.2573317289352417,1.25735342502594,1.2573492527008057,1.257247805595398,1.257266640663147,1.2572219371795654,1.257248044013977,1.2571756839752197,1.257259488105774,1.257230520248413,1.2571667432785034,1.2571977376937866,1.2571396827697754,1.2570900917053223,1.2570996284484863,1.2571215629577637,1.2570395469665527,1.2571048736572266,1.2571123838424683,1.256961464881897,1.2570067644119263,1.256959080696106,1.256912112236023,1.2569137811660767,1.2569694519042969,1.2569143772125244,1.2568650245666504,1.256956696510315,1.2567955255508423,1.2567811012268066,1.2568923234939575,1.256784200668335,1.256775140762329,1.2567745447158813,1.2567811012268066,1.2567245960235596,1.2567697763442993,1.2567148208618164,1.2566167116165161,1.25667405128479,1.2565977573394775,1.2566028833389282,1.2565953731536865,1.2565624713897705,1.256592869758606,1.256601333618164,1.2565619945526123,1.2564841508865356,1.25657320022583,1.2565462589263916,1.2564446926116943,1.256514072418213,1.2565182447433472,1.2564046382904053,1.2563878297805786,1.2564561367034912,1.2563835382461548,1.2563624382019043,1.256420612335205,1.2564029693603516,1.256349802017212,1.25635826587677,1.2562963962554932,1.256288766860962,1.256319522857666,1.256286382675171,1.256284475326538,1.256322979927063,1.256308674812317,1.2562309503555298,1.2562592029571533,1.2562600374221802,1.2561976909637451,1.2562494277954102,1.2562905550003052,1.2562665939331055,1.2563271522521973,1.256233811378479,1.2562707662582397,1.2562036514282227,1.2562519311904907,1.2562131881713867,1.2562379837036133,1.2562065124511719,1.2562696933746338,1.256265640258789,1.256271243095398,1.2563241720199585,1.2562382221221924,1.2562984228134155,1.2562710046768188,1.2563433647155762,1.2562319040298462,1.2564083337783813,1.2562341690063477,1.256282925605774,1.256145715713501,1.2563378810882568,1.2561689615249634,1.2562726736068726,1.2562335729599,1.2561460733413696,1.2560611963272095,1.256232738494873,1.256125569343567,1.256253719329834,1.2561891078948975,1.2563762664794922,1.2561489343643188,1.25635826587677,1.2561469078063965,1.2563958168029785,1.2561589479446411,1.2563437223434448,1.2561827898025513,1.2562787532806396,1.256073236465454,1.2562005519866943,1.2560880184173584,1.2560826539993286,1.256024956703186,1.2562378644943237,1.255948781967163,1.2560631036758423,1.2560139894485474,1.2562808990478516,1.2559363842010498,1.2567001581192017,1.2566959857940674,1.257895827293396,1.2594821453094482,1.266449213027954,1.2905946969985962,1.3153012990951538,1.3121455907821655,1.311073899269104,1.3111554384231567,1.3125983476638794,1.317694902420044,1.322688341140747,1.307424545288086,1.2865041494369507,1.2893669605255127,1.2646546363830566,1.2724629640579224,1.2782114744186401,1.2757340669631958,1.2820669412612915,1.2690101861953735,1.261359453201294,1.263451337814331,1.2632588148117065,1.2668001651763916,1.2637138366699219,1.2611885070800781,1.262620449066162,1.2623777389526367,1.2595999240875244,1.2559401988983154,1.2562546730041504,1.2575757503509521,1.2570946216583252,1.2545406818389893,1.2545534372329712,1.2533986568450928,1.2530090808868408,1.2524398565292358,1.250734567642212,1.2497355937957764,1.2500367164611816,1.2509511709213257,1.2511913776397705,1.2513927221298218,1.2513467073440552,1.2512054443359375,1.2494864463806152,1.247748851776123,1.2475123405456543,1.248366355895996,1.2483004331588745,1.2478820085525513,1.2475274801254272,1.2476716041564941,1.247687816619873,1.2472820281982422,1.2468518018722534,1.2465623617172241,1.246703028678894,1.2471708059310913,1.2469931840896606,1.246151089668274,1.2459748983383179,1.2465115785598755,1.2469494342803955,1.2466109991073608,1.246317744255066,1.2465770244598389,1.2468039989471436,1.2463569641113281,1.245625615119934,1.245255708694458,1.2451388835906982,1.2451601028442383,1.2450261116027832,1.2447917461395264,1.2447917461395264,1.245158314704895,1.2454476356506348,1.2452552318572998,1.2450544834136963,1.24517023563385,1.2452255487442017,1.2450155019760132,1.244852900505066,1.2448824644088745,1.244869589805603,1.2447690963745117,1.2446788549423218,1.2446542978286743,1.244478464126587,1.2441898584365845,1.2438873052597046,1.2435792684555054,1.2434734106063843,1.2436037063598633,1.2435449361801147,1.243565559387207,1.2437801361083984,1.243790626525879,1.243436574935913,1.243046760559082,1.2427728176116943,1.2425519227981567,1.2424575090408325,1.2424228191375732,1.2423360347747803,1.2423721551895142,1.2424933910369873,1.2424410581588745,1.2424023151397705,1.2424830198287964,1.2424888610839844,1.2423865795135498,1.2423418760299683,1.2423146963119507,1.2421138286590576,1.2419798374176025,1.2418928146362305,1.2417516708374023,1.24172043800354,1.2417659759521484,1.2416859865188599,1.2416155338287354,1.2416421175003052,1.2415494918823242,1.241530418395996,1.2415249347686768,1.241438627243042,1.2414257526397705,1.2414814233779907,1.2413851022720337,1.241301417350769,1.2413480281829834,1.2412670850753784,1.241241216659546,1.241288661956787,1.2412585020065308,1.2411739826202393,1.241158127784729,1.2410669326782227,1.241003394126892,1.2409086227416992,1.2408642768859863,1.2408567667007446,1.2407602071762085,1.2408074140548706,1.240761160850525,1.240774393081665,1.2408106327056885,1.2406607866287231,1.2405993938446045,1.2405972480773926,1.2403476238250732,1.2402970790863037,1.240159273147583,1.240073323249817,1.2400325536727905,1.2400304079055786,1.239915132522583,1.2398334741592407,1.2398298978805542,1.239746332168579,1.239682912826538,1.2396820783615112,1.2396183013916016,1.2395213842391968,1.2394633293151855,1.239450454711914,1.2393896579742432,1.2393579483032227,1.2393064498901367,1.2393463850021362,1.2394031286239624,1.2393572330474854,1.2392323017120361,1.2392101287841797,1.2392418384552002,1.2390223741531372,1.2391055822372437,1.2390751838684082,1.238997459411621,1.239048719406128,1.238932728767395,1.238923192024231,1.2388867139816284,1.2387892007827759,1.2387768030166626,1.2387288808822632,1.238600730895996,1.238686203956604,1.2385627031326294,1.2385810613632202,1.2384381294250488,1.238450050354004,1.2384562492370605,1.2384231090545654,1.2384092807769775,1.2383530139923096,1.2382490634918213,1.238275170326233,1.2381482124328613,1.2381619215011597,1.238071322441101,1.2380808591842651,1.2379286289215088,1.238038182258606,1.2379714250564575,1.2379976511001587,1.237939715385437,1.2379666566848755,1.2379390001296997,1.2378652095794678,1.2378599643707275,1.23789644241333,1.2379120588302612,1.2378422021865845,1.237839937210083,1.2378246784210205,1.2377794981002808,1.2377599477767944,1.2378605604171753,1.2376586198806763,1.2377582788467407,1.237550973892212,1.2377262115478516,1.2374836206436157,1.2376667261123657,1.2375963926315308,1.2375249862670898,1.2376173734664917,1.2374783754348755,1.2375640869140625,1.237426519393921,1.2376264333724976,1.2373478412628174,1.237565040588379,1.2373936176300049,1.2375010251998901,1.2373121976852417,1.2374283075332642,1.2374006509780884,1.2373130321502686,1.2374621629714966,1.23723304271698,1.2373605966567993,1.2371817827224731,1.237385869026184,1.2371635437011719,1.2372239828109741,1.2372074127197266,1.2371292114257812,1.2371137142181396,1.2371224164962769,1.2371176481246948,1.2369672060012817,1.2371476888656616,1.236832857131958,1.2371242046356201,1.236769199371338,1.237060785293579,1.2367576360702515,1.236791729927063,1.2368072271347046,1.23668372631073,1.2367300987243652,1.236669898033142,1.2370885610580444,1.2368279695510864,1.2373011112213135,1.2368743419647217,1.2372679710388184,1.236660122871399,1.2368836402893066,1.236588954925537,1.2366993427276611,1.236509919166565,1.2365679740905762,1.2364885807037354,1.2363964319229126,1.2363660335540771,1.2362759113311768,1.2362345457077026,1.235961675643921,1.2362397909164429,1.2358945608139038,1.236212134361267,1.2359869480133057,1.2361969947814941,1.2359155416488647,1.2359976768493652,1.235932469367981,1.2358977794647217,1.2358554601669312,1.2357228994369507,1.2357542514801025,1.2354214191436768,1.2357038259506226,1.2352101802825928,1.235608458518982,1.2351959943771362,1.2358490228652954,1.235117793083191,1.2358697652816772,1.2350785732269287,1.2357532978057861,1.2348856925964355,1.2355927228927612,1.234915018081665,1.2354238033294678,1.2350451946258545,1.2352083921432495,1.2350856065750122,1.235121250152588,1.235181450843811,1.234952449798584,1.2353438138961792,1.2348673343658447,1.2353605031967163,1.2347162961959839,1.235654592514038],\"type\":\"scatter\"}],                        {\"template\":{\"data\":{\"histogram2dcontour\":[{\"type\":\"histogram2dcontour\",\"colorbar\":{\"outlinewidth\":0,\"ticks\":\"\"},\"colorscale\":[[0.0,\"#0d0887\"],[0.1111111111111111,\"#46039f\"],[0.2222222222222222,\"#7201a8\"],[0.3333333333333333,\"#9c179e\"],[0.4444444444444444,\"#bd3786\"],[0.5555555555555556,\"#d8576b\"],[0.6666666666666666,\"#ed7953\"],[0.7777777777777778,\"#fb9f3a\"],[0.8888888888888888,\"#fdca26\"],[1.0,\"#f0f921\"]]}],\"choropleth\":[{\"type\":\"choropleth\",\"colorbar\":{\"outlinewidth\":0,\"ticks\":\"\"}}],\"histogram2d\":[{\"type\":\"histogram2d\",\"colorbar\":{\"outlinewidth\":0,\"ticks\":\"\"},\"colorscale\":[[0.0,\"#0d0887\"],[0.1111111111111111,\"#46039f\"],[0.2222222222222222,\"#7201a8\"],[0.3333333333333333,\"#9c179e\"],[0.4444444444444444,\"#bd3786\"],[0.5555555555555556,\"#d8576b\"],[0.6666666666666666,\"#ed7953\"],[0.7777777777777778,\"#fb9f3a\"],[0.8888888888888888,\"#fdca26\"],[1.0,\"#f0f921\"]]}],\"heatmap\":[{\"type\":\"heatmap\",\"colorbar\":{\"outlinewidth\":0,\"ticks\":\"\"},\"colorscale\":[[0.0,\"#0d0887\"],[0.1111111111111111,\"#46039f\"],[0.2222222222222222,\"#7201a8\"],[0.3333333333333333,\"#9c179e\"],[0.4444444444444444,\"#bd3786\"],[0.5555555555555556,\"#d8576b\"],[0.6666666666666666,\"#ed7953\"],[0.7777777777777778,\"#fb9f3a\"],[0.8888888888888888,\"#fdca26\"],[1.0,\"#f0f921\"]]}],\"heatmapgl\":[{\"type\":\"heatmapgl\",\"colorbar\":{\"outlinewidth\":0,\"ticks\":\"\"},\"colorscale\":[[0.0,\"#0d0887\"],[0.1111111111111111,\"#46039f\"],[0.2222222222222222,\"#7201a8\"],[0.3333333333333333,\"#9c179e\"],[0.4444444444444444,\"#bd3786\"],[0.5555555555555556,\"#d8576b\"],[0.6666666666666666,\"#ed7953\"],[0.7777777777777778,\"#fb9f3a\"],[0.8888888888888888,\"#fdca26\"],[1.0,\"#f0f921\"]]}],\"contourcarpet\":[{\"type\":\"contourcarpet\",\"colorbar\":{\"outlinewidth\":0,\"ticks\":\"\"}}],\"contour\":[{\"type\":\"contour\",\"colorbar\":{\"outlinewidth\":0,\"ticks\":\"\"},\"colorscale\":[[0.0,\"#0d0887\"],[0.1111111111111111,\"#46039f\"],[0.2222222222222222,\"#7201a8\"],[0.3333333333333333,\"#9c179e\"],[0.4444444444444444,\"#bd3786\"],[0.5555555555555556,\"#d8576b\"],[0.6666666666666666,\"#ed7953\"],[0.7777777777777778,\"#fb9f3a\"],[0.8888888888888888,\"#fdca26\"],[1.0,\"#f0f921\"]]}],\"surface\":[{\"type\":\"surface\",\"colorbar\":{\"outlinewidth\":0,\"ticks\":\"\"},\"colorscale\":[[0.0,\"#0d0887\"],[0.1111111111111111,\"#46039f\"],[0.2222222222222222,\"#7201a8\"],[0.3333333333333333,\"#9c179e\"],[0.4444444444444444,\"#bd3786\"],[0.5555555555555556,\"#d8576b\"],[0.6666666666666666,\"#ed7953\"],[0.7777777777777778,\"#fb9f3a\"],[0.8888888888888888,\"#fdca26\"],[1.0,\"#f0f921\"]]}],\"mesh3d\":[{\"type\":\"mesh3d\",\"colorbar\":{\"outlinewidth\":0,\"ticks\":\"\"}}],\"scatter\":[{\"fillpattern\":{\"fillmode\":\"overlay\",\"size\":10,\"solidity\":0.2},\"type\":\"scatter\"}],\"parcoords\":[{\"type\":\"parcoords\",\"line\":{\"colorbar\":{\"outlinewidth\":0,\"ticks\":\"\"}}}],\"scatterpolargl\":[{\"type\":\"scatterpolargl\",\"marker\":{\"colorbar\":{\"outlinewidth\":0,\"ticks\":\"\"}}}],\"bar\":[{\"error_x\":{\"color\":\"#2a3f5f\"},\"error_y\":{\"color\":\"#2a3f5f\"},\"marker\":{\"line\":{\"color\":\"#E5ECF6\",\"width\":0.5},\"pattern\":{\"fillmode\":\"overlay\",\"size\":10,\"solidity\":0.2}},\"type\":\"bar\"}],\"scattergeo\":[{\"type\":\"scattergeo\",\"marker\":{\"colorbar\":{\"outlinewidth\":0,\"ticks\":\"\"}}}],\"scatterpolar\":[{\"type\":\"scatterpolar\",\"marker\":{\"colorbar\":{\"outlinewidth\":0,\"ticks\":\"\"}}}],\"histogram\":[{\"marker\":{\"pattern\":{\"fillmode\":\"overlay\",\"size\":10,\"solidity\":0.2}},\"type\":\"histogram\"}],\"scattergl\":[{\"type\":\"scattergl\",\"marker\":{\"colorbar\":{\"outlinewidth\":0,\"ticks\":\"\"}}}],\"scatter3d\":[{\"type\":\"scatter3d\",\"line\":{\"colorbar\":{\"outlinewidth\":0,\"ticks\":\"\"}},\"marker\":{\"colorbar\":{\"outlinewidth\":0,\"ticks\":\"\"}}}],\"scattermapbox\":[{\"type\":\"scattermapbox\",\"marker\":{\"colorbar\":{\"outlinewidth\":0,\"ticks\":\"\"}}}],\"scatterternary\":[{\"type\":\"scatterternary\",\"marker\":{\"colorbar\":{\"outlinewidth\":0,\"ticks\":\"\"}}}],\"scattercarpet\":[{\"type\":\"scattercarpet\",\"marker\":{\"colorbar\":{\"outlinewidth\":0,\"ticks\":\"\"}}}],\"carpet\":[{\"aaxis\":{\"endlinecolor\":\"#2a3f5f\",\"gridcolor\":\"white\",\"linecolor\":\"white\",\"minorgridcolor\":\"white\",\"startlinecolor\":\"#2a3f5f\"},\"baxis\":{\"endlinecolor\":\"#2a3f5f\",\"gridcolor\":\"white\",\"linecolor\":\"white\",\"minorgridcolor\":\"white\",\"startlinecolor\":\"#2a3f5f\"},\"type\":\"carpet\"}],\"table\":[{\"cells\":{\"fill\":{\"color\":\"#EBF0F8\"},\"line\":{\"color\":\"white\"}},\"header\":{\"fill\":{\"color\":\"#C8D4E3\"},\"line\":{\"color\":\"white\"}},\"type\":\"table\"}],\"barpolar\":[{\"marker\":{\"line\":{\"color\":\"#E5ECF6\",\"width\":0.5},\"pattern\":{\"fillmode\":\"overlay\",\"size\":10,\"solidity\":0.2}},\"type\":\"barpolar\"}],\"pie\":[{\"automargin\":true,\"type\":\"pie\"}]},\"layout\":{\"autotypenumbers\":\"strict\",\"colorway\":[\"#636efa\",\"#EF553B\",\"#00cc96\",\"#ab63fa\",\"#FFA15A\",\"#19d3f3\",\"#FF6692\",\"#B6E880\",\"#FF97FF\",\"#FECB52\"],\"font\":{\"color\":\"#2a3f5f\"},\"hovermode\":\"closest\",\"hoverlabel\":{\"align\":\"left\"},\"paper_bgcolor\":\"white\",\"plot_bgcolor\":\"#E5ECF6\",\"polar\":{\"bgcolor\":\"#E5ECF6\",\"angularaxis\":{\"gridcolor\":\"white\",\"linecolor\":\"white\",\"ticks\":\"\"},\"radialaxis\":{\"gridcolor\":\"white\",\"linecolor\":\"white\",\"ticks\":\"\"}},\"ternary\":{\"bgcolor\":\"#E5ECF6\",\"aaxis\":{\"gridcolor\":\"white\",\"linecolor\":\"white\",\"ticks\":\"\"},\"baxis\":{\"gridcolor\":\"white\",\"linecolor\":\"white\",\"ticks\":\"\"},\"caxis\":{\"gridcolor\":\"white\",\"linecolor\":\"white\",\"ticks\":\"\"}},\"coloraxis\":{\"colorbar\":{\"outlinewidth\":0,\"ticks\":\"\"}},\"colorscale\":{\"sequential\":[[0.0,\"#0d0887\"],[0.1111111111111111,\"#46039f\"],[0.2222222222222222,\"#7201a8\"],[0.3333333333333333,\"#9c179e\"],[0.4444444444444444,\"#bd3786\"],[0.5555555555555556,\"#d8576b\"],[0.6666666666666666,\"#ed7953\"],[0.7777777777777778,\"#fb9f3a\"],[0.8888888888888888,\"#fdca26\"],[1.0,\"#f0f921\"]],\"sequentialminus\":[[0.0,\"#0d0887\"],[0.1111111111111111,\"#46039f\"],[0.2222222222222222,\"#7201a8\"],[0.3333333333333333,\"#9c179e\"],[0.4444444444444444,\"#bd3786\"],[0.5555555555555556,\"#d8576b\"],[0.6666666666666666,\"#ed7953\"],[0.7777777777777778,\"#fb9f3a\"],[0.8888888888888888,\"#fdca26\"],[1.0,\"#f0f921\"]],\"diverging\":[[0,\"#8e0152\"],[0.1,\"#c51b7d\"],[0.2,\"#de77ae\"],[0.3,\"#f1b6da\"],[0.4,\"#fde0ef\"],[0.5,\"#f7f7f7\"],[0.6,\"#e6f5d0\"],[0.7,\"#b8e186\"],[0.8,\"#7fbc41\"],[0.9,\"#4d9221\"],[1,\"#276419\"]]},\"xaxis\":{\"gridcolor\":\"white\",\"linecolor\":\"white\",\"ticks\":\"\",\"title\":{\"standoff\":15},\"zerolinecolor\":\"white\",\"automargin\":true,\"zerolinewidth\":2},\"yaxis\":{\"gridcolor\":\"white\",\"linecolor\":\"white\",\"ticks\":\"\",\"title\":{\"standoff\":15},\"zerolinecolor\":\"white\",\"automargin\":true,\"zerolinewidth\":2},\"scene\":{\"xaxis\":{\"backgroundcolor\":\"#E5ECF6\",\"gridcolor\":\"white\",\"linecolor\":\"white\",\"showbackground\":true,\"ticks\":\"\",\"zerolinecolor\":\"white\",\"gridwidth\":2},\"yaxis\":{\"backgroundcolor\":\"#E5ECF6\",\"gridcolor\":\"white\",\"linecolor\":\"white\",\"showbackground\":true,\"ticks\":\"\",\"zerolinecolor\":\"white\",\"gridwidth\":2},\"zaxis\":{\"backgroundcolor\":\"#E5ECF6\",\"gridcolor\":\"white\",\"linecolor\":\"white\",\"showbackground\":true,\"ticks\":\"\",\"zerolinecolor\":\"white\",\"gridwidth\":2}},\"shapedefaults\":{\"line\":{\"color\":\"#2a3f5f\"}},\"annotationdefaults\":{\"arrowcolor\":\"#2a3f5f\",\"arrowhead\":0,\"arrowwidth\":1},\"geo\":{\"bgcolor\":\"white\",\"landcolor\":\"#E5ECF6\",\"subunitcolor\":\"white\",\"showland\":true,\"showlakes\":true,\"lakecolor\":\"white\"},\"title\":{\"x\":0.05},\"mapbox\":{\"style\":\"light\"}}},\"margin\":{\"l\":80,\"r\":50,\"b\":50,\"t\":80},\"yaxis\":{\"title\":{\"text\":\"Loss\"}},\"xaxis\":{\"title\":{\"text\":\"Epochs\"}},\"height\":600,\"width\":1200,\"showlegend\":true,\"hovermode\":\"x unified\",\"title\":{\"text\":\"Train test losses\"}},                        {\"responsive\": true}                    ).then(function(){\n",
              "                            \n",
              "var gd = document.getElementById('5572fab5-3ef1-40db-a775-97bb8a925df7');\n",
              "var x = new MutationObserver(function (mutations, observer) {{\n",
              "        var display = window.getComputedStyle(gd).display;\n",
              "        if (!display || display === 'none') {{\n",
              "            console.log([gd, 'removed!']);\n",
              "            Plotly.purge(gd);\n",
              "            observer.disconnect();\n",
              "        }}\n",
              "}});\n",
              "\n",
              "// Listen for the removal of the full notebook cells\n",
              "var notebookContainer = gd.closest('#notebook-container');\n",
              "if (notebookContainer) {{\n",
              "    x.observe(notebookContainer, {childList: true});\n",
              "}}\n",
              "\n",
              "// Listen for the clearing of the current output cell\n",
              "var outputEl = gd.closest('.output');\n",
              "if (outputEl) {{\n",
              "    x.observe(outputEl, {childList: true});\n",
              "}}\n",
              "\n",
              "                        })                };                            </script>        </div>\n",
              "</body>\n",
              "</html>"
            ]
          },
          "metadata": {}
        }
      ]
    },
    {
      "cell_type": "markdown",
      "source": [
        "## Predictions"
      ],
      "metadata": {
        "id": "ZChQ3KzkxXNK"
      }
    },
    {
      "cell_type": "code",
      "source": [
        "model.eval()\n",
        "\n",
        "y_pred_probs  = model(X_test_tensor)\n",
        "\n",
        "y_pred_probs"
      ],
      "metadata": {
        "colab": {
          "base_uri": "https://localhost:8080/"
        },
        "id": "_G0Y2SqfyZ1h",
        "outputId": "93cc9023-8189-4b3b-86fc-8b015da3110d"
      },
      "execution_count": 111,
      "outputs": [
        {
          "output_type": "execute_result",
          "data": {
            "text/plain": [
              "tensor([[1.0000e+00, 2.0323e-06, 1.3467e-12, 2.8477e-24, 1.7066e-07, 1.2117e-17],\n",
              "        [3.3827e-07, 6.2888e-03, 9.6200e-01, 3.1709e-02, 1.3457e-07, 2.3103e-09],\n",
              "        [9.9906e-01, 5.8097e-12, 9.3396e-04, 1.0870e-19, 1.0849e-05, 3.2685e-21],\n",
              "        ...,\n",
              "        [3.8831e-07, 9.1606e-01, 2.6535e-04, 8.3656e-02, 1.9844e-05, 1.7252e-10],\n",
              "        [1.0137e-06, 6.5383e-13, 8.9135e-17, 2.2436e-07, 9.9999e-01, 6.8069e-06],\n",
              "        [3.7059e-10, 3.3439e-08, 1.8598e-03, 9.9814e-01, 1.4273e-08, 2.7896e-09]],\n",
              "       device='cuda:0', grad_fn=<SoftmaxBackward0>)"
            ]
          },
          "metadata": {},
          "execution_count": 111
        }
      ]
    },
    {
      "cell_type": "markdown",
      "source": [
        "## Metrics"
      ],
      "metadata": {
        "id": "M_qNGA4KK9Ph"
      }
    },
    {
      "cell_type": "code",
      "source": [
        "y_preds = y_pred_probs.argmax(dim=1)\n",
        "\n",
        "acurracy_model = accuracy(y_preds, y_test_tensor)\n",
        "\n",
        "# Compare first 10 model preds and test labels\n",
        "print(f'Predictions: {y_preds[:10]}\\nLabels: {y_test_tensor[:10]}')\n",
        "print(f'Test accuracy: {acurracy_model:.2f}%')"
      ],
      "metadata": {
        "colab": {
          "base_uri": "https://localhost:8080/"
        },
        "id": "icv-5lpDyy6B",
        "outputId": "a6c1853c-6364-44f3-8cb8-ae1ccedbd7d6"
      },
      "execution_count": 112,
      "outputs": [
        {
          "output_type": "stream",
          "name": "stdout",
          "text": [
            "Predictions: tensor([0, 2, 0, 3, 4, 3, 5, 0, 5, 2], device='cuda:0')\n",
            "Labels: tensor([0, 2, 0, 3, 4, 3, 5, 0, 5, 2], device='cuda:0')\n",
            "Test accuracy: 81.32%\n"
          ]
        }
      ]
    },
    {
      "cell_type": "markdown",
      "source": [
        "**Precision**\n",
        "\n",
        "How many of predicted positive are actual positive"
      ],
      "metadata": {
        "id": "c-IiAIvBRjPj"
      }
    },
    {
      "cell_type": "markdown",
      "source": [
        "![image.png](data:image/png;base64,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)"
      ],
      "metadata": {
        "id": "Gw_xkKmbT44n"
      }
    },
    {
      "cell_type": "code",
      "source": [
        "precision = Precision(task='multiclass', average='macro', num_classes=output_size).to(device) * 100\n",
        "\n",
        "precision_model = precision(y_preds, y_test_tensor)\n",
        "\n",
        "print(f'Test precision: {precision_model:.2f}%')"
      ],
      "metadata": {
        "colab": {
          "base_uri": "https://localhost:8080/"
        },
        "id": "SagkqGLjLUw8",
        "outputId": "a83262f9-bf86-4a6b-8609-c0b48a8173a2"
      },
      "execution_count": 113,
      "outputs": [
        {
          "output_type": "stream",
          "name": "stdout",
          "text": [
            "Test precision: 80.42%\n"
          ]
        }
      ]
    },
    {
      "cell_type": "markdown",
      "source": [
        "**Recall**\n",
        "\n",
        "How many of the actual positives our model capture through labeling it as positive (True Positive)"
      ],
      "metadata": {
        "id": "-coC8qyaR3DA"
      }
    },
    {
      "cell_type": "markdown",
      "source": [
        "![image.png](data:image/png;base64,iVBORw0KGgoAAAANSUhEUgAAAhMAAAB8CAYAAADTnjKCAAAAAXNSR0IArs4c6QAAAARnQU1BAACxjwv8YQUAAAAJcEhZcwAADsMAAA7DAcdvqGQAAKUCSURBVHhe7F0HYBzF1f6u6NR7sboldxv33g2YbjC9hR4IfxLSeyCQhCSkEyChlwCB0HszzYBxL7g3yZJc1Hu9frf/92ZupZMwYGInAbKfNLe7szNv3rwp783s7KzNIGDBggULFixYsPAvwh45WrBgwYIFCxYs/EuwjAkLFixYsGDBwmHBMiYsWLBgwYIFC4cFy5iwYMGCBQsWLBwWLGPCggULFixYsHBYsIwJCxYsWLBgwcJhwTImLFiwYMGCBQuHBcuYsGDBggULFiwcFixjwoIFCxYsWLBwWLCMCQsWLFiwYMHCYcEyJixYsGDBggULhwXLmLBgwYIFCxYsHBYsY8KCBQsWLFiwcFiwjAkLFixYsGDBwmHBMiYsWLBgwYIFC4cFy5iwYMGCBQsWLBwWLGPCggULFixYsHBYsIwJCxYsWLBgwcJhwTImLFiwYMGCBQuHBcuYsGDBggULFiwcFixjwoIFCxYsWLBwWLCMCQsWLFiwYMHCYcEyJixYsGDBggULhwXLmLBgwYIFCxYsHBYsY8KCBQsWLFiwcFiwjAkLFixYsGDBwmHBMiYsWLDwmYcxwFmwYOGzBcuYsGDBwucCliFhwcJnF5YxYcGChc8hPsvzFNG8fRb5s2DhyMMyJixYsPA5xWdZUVuGhIX/LVjGhAULFixYsGDhsGAziMi5BQsWLBwUAzsJW+Qo+Lh7hw9N3SBVMx2hr6/E6av/JD45vyZvJswQh8DnJxPXONLhDhmaYB9ZTfCwyVr43MMyJixY+Mzgk5qi2WWb4aLDi3qN7tL1PVtvEN7nbfNyYOd/UGUQRV5OJb6gNyw95Xwg3T61/zFQQXop9TvthQpjkL6c2BGWS0Ln1MxtJKLqxsx0zQnXyL0+IagQ/WLSIxKqF2Y+++gNRP8cDszvQfOviIoz78lRn5u5MWw2xaq9Nwxh8tLHVH8yvTClQ3l9DL2+MjSJ6HtaJjp8P6jw0Z5C3zyLxFFnpq/2s/C/B8uYsGDhMwGzGZpKwYTZMetO2myuNpuEC9LJtYP+DvGNxJawcmZotWrYGR4I8UdiCHToCK2I05CziL8c1Cn9+C+KqJc7+ktIceqeHNWpqVhMn+gzDa2wJFJE6SsivIwczQj6UhsT4V4DQcA0jHDkvvjLOXNmhDQRWwwdZaLSIDEVUIcP2ewMqWM66exyO7oL5K2wRItcSsoCHUMgZ+aVHM2QOlyfGRNFRCFyraLKSYBRgvB5vWjv7IEXLiSnpSMxLhYu5tcsSQ1SlXz1xj8YSC8URY8ySE5L66Vn8qdYIi39JwhGSEsaDs2/CkSIv8RV11p+ZhnpK5NOiI70VTiRaiSQLugIIn4WvrAw674FCxb+65AOXxyVonLmdXSnLBA/MQuoQOBT56IPA6EwQjxK6BAVazDsR5gKhjdUFIkhoT10fglDJ+PMsPrrS0k786w/xMcMGx1e0KcuxEeoC3/iyB+vxfXmK5p01Hk0vX5hDgIxrIJGgEdRzMyV0UXfHroIZ/wPBQ0EvMytnzkPh5UMvHQiAznvsyPkRDstE9Lmr3BuOvHry7U+007++uL1g9LU4iLX5kmY/HhbsGHpSzj7+GMx79gz8OK769DOrIjENITDARhAvheKXivpvUJ6x2PeMWeT3vp+9EI8C9MpA0kyLsaXypn2U6Tlx8xYJC0VXl3ospMrs7T1r/hIKkqi4hGFgdcWvqiwZiYsWPhMQJqh2YtHQ89GhGgo2O0ywyD2vwGPpwuvvPQC3nn7HdTUNVNfOeCwczTO0a6iwjjyJ6HjZKhtj4EruwBj583DhRefjwwOIGM5cpTxu9Cz9Y4rRD3okbFdKRw9hyGjTDVDYEQmzfkjMZQy0RpFB1N3TaNBhSQlRU2dS2wZsNoUXXERMK6pc80BrTqqdDWNPggNLSt/MIQYknGEurD9gxW49293orHTCXc4BmHmWcKGAh44SSfGZcek+cdi/qIzMHzEEKTwbizJOFQXqJiio7LkUVM351n0KF6PwgUmL3JP4uocmiHt/LOpITyd3JajgtCPnIY7afs0YelLL+Gr3/4ZYkcdg+t//wscPWsyUhgmzi6Uuxk8hmXuYlQWmKLFqBEacimnyoW7IvReJr3rETtS6F2Po2dH6DnElBMzihwaMSxbKQ/m0uanfMWQcGp/KRMpOgGDGMIH5aPzx3CkpctC1wvmlH9iSNBgU/zF00XqkipAExLHwhcZjl8QkXMLFiz81yEdcbTTCIb8NCbYedPL4IiytaULd97+MLZuqURW5iBMmDAW2dkZqK3cgQ3r1sMXsmPoqDEYOXIEirLT8cHatSirbkJyQQnmL5iJWNJxsn9X0/yqo4909vKcPXIV8dHoVQyijPRldDh5jCJHUXRK2USUqagbZbLQCDLVrfyrH0lLB+uFSl2SkoM65Y8KpL0FcmUjA0JNZGRnJmxhLzwdzagt34slS1Zjy/ZKJGcNwvipE1FQnIWivCRUlG/DrrIq1DW64UxIQ2FOOlxOB/Oi86Rgo2K0ybS9pKP51wpT/4p5pnhSTvOgrzQBCaPviZPy0z4Cg+loI4VhFf+E3YX0QYWYv/AkTJk0FpkpiYhh+g7yYRMFHQphzYoNeOP19+HxhpGdkwE7eRY5h0hD5nvE9NF8MD1FrwDzjz0RUyYfpenxvkPlScJJPpgHylQVkYBHxanJE3/0Pfkh/yprPMqJ3JNLkVnkT3zE0NROG4gquvqNOO1h4QsMy5iwYOEzgaiOt7fnNY8yI0AFI5YEFUIgEEB9fTvuuftpjB83A1/+8uW49JLzMXXqeDTu20mlWYVx0+bgym98BxddcA6OmTUVu7ZuQg9HtyMmTcWsmRPgImkZt1OV0qDQ6ZgGgVZMoqREZ/QpHXVPRqlhKiWtV1RIfUP+IwpF+croXPilcqEhITR6jQkJruLwShFS6knT1qdUlGKYKKK9iNxSEEq0rdRsDOQxBxVvSmI8SnKL8eobG3gVjzMuvADf+sE3ceLxc3Hs3FHk24dNH5Rh7bo9MGJSMXvGWMTHxypFqmXAFOxe8kTFy2sZpSvHc7kW3hVfKn1RwMIvFbVc9/IpJyKzSF75L6SFdzmGeSLKX80yOWKRllOAabPmYtL4o5CRkkQDj/TsAebNp2TTWtuARx96Gs88/QayBw3GUeOHwRkbo/jQDx2EshgfTtKLI71C0ptHeqMi9EROMi8UZP55rvIhxgiNO/IofGvzSEonMvPAe7K+RnylPLShwR9JS47qwL+wlLHklTmSeMqXsXguZ4qYQA6RUwtfXEg9sWDBwmcCohhMp8ewqotmZ+2KiaEC4hiTCtofCMHnDSI5JQ2nLT4NUydPAoI+BD2dqK5ugC8YQlJyClKTU6lk2Is7YjB0+DBMnTQGI0vz4KTSdnDE29HSivraOhomjeho74AhyobpeUmnubkWtXW1qK5rRFuPD36yEqbiDPp70NRQzXjVaGxsQmdPT++suCgVu8HRdKALXTJL0NCEDrcPgRDNC1FAjK8ev0j2mEe7EUQo6EVzUwPq6mpQV1NNdwCNDXXw+P1MM9xLuz8UAUVHOeZXtFWQ3Hf2eNDKNDMLByOnsBBxNBZiZQqf+Tr5hBMwZ/YctY6icmcZ5RiMKHdx+lee/QcDbrS3t6O2thG1NeStug4NNbXo7OhCgBECKg+mIRFiqlTUPDf8IbQ1t1E29YxLV1eHmvo6VNM1d3XAGw6pxwYOllVHSwvz2oj9+1tQXdtOmlT4lJ8of1lI2dPdica6erz/9lJs/mAT3F4aGDEu1Dc1oobl0traCp/PrzpwZyiAzlZN78D+5l56Um/kMRZNA+aJcq6vRT3zIeXd2tENioFZZomzLnR1ku86yp88N3a60UWZ9q2rEUfeabT1dHWiqb5B06mtZfhatLV3s86JFMQ8FavBrLsSM4KoUwtfUMiaCQsWLHwWQFVrBOm8dO6I89D56Px0QSMcDhmhUMjwef1GXV2z0dPtNUL+biPYU2Mc2LHGmDN9hjFq9BTjD7febbR7qVLCNAF8AaOrrcVobWswutythi/oMRrq640rLv2yUTJ4uDFh4jTj+9/7kdHW2kYWPMaS5x8yzls0z8jLLzTySqcZv7v3FWNXbQ/T6jL2bFphLJ451hhfmGfMn3uS8eubHzS6yHaQjikZRqjVqNj5tvHrn37dGH7UXONPD7xulNV7DW8waARCPUaHv4c6l3wZVMnBbqPpwC7jjNOON8YMKzGG5ecZowryjHmTxxlvrFhrVHcxzd6c66O4gEEZyG84YLh9biPI/ITDrUZXyw5j+YuPGLlFY41Fl/7IePbdDeTNb3h5LxyuNhoqVho3fO87RmnxFOOYk640NldTJiTsEVa8If5QzuE6o3Lbm8aPv/t/RmHxcKMgb7gxPK/IGJVXavz6V7cYe9tCxj532GinRRKgrMKhdsZrM/y+TmPPli3GuaefyTgFlF2RkVc01MgbMtrIGzrG+MZ1Nxqb9tYY7oDPaK7cbHz74rOMMYOHGgVFE4ypc842thxoIC/klWVdU11mPHDXb4x5o4cZQzLSjLS4DCPWVWCkpw8zcnPzjTzK6JKvfMV4a9VqIyD0KjYb37r4HGM0y7KwaLIxY96FxoaKGqPZ72f+KXN3vbFr8zLjtJlHGRMKc40p4+YY3/nJn40m5iMYChstTeXGn379PWPskFxj6IgRxrd+c7uxsvKA0criZBDmM0T5dRiBrgPG/bf+1pg2doxRkpdnjGR5DS8sNH70k+uNrXtrjXaWqp/lEpb6S7mzotKxwMSRjoUvNqzHHBYsfKYgQzg9ga3PZaSnJuKVs6n5ZjvsDgcSkhLgipGRcRe87mZU7qnEA4+/gYSMQsydNw+TJ4yBk9FChg2u+DjExzvQ1V6PFUvfwsMPP4JJEydh2JAhaqRZvmsXTjj2GDz+yEMcwe7H+LGjkJCSgf2tYZx06nEIuNvw6nNPYN17S3DG4hOQEBePipoONHhiMWbSfGSm2FVatmAXqqu24ZUXX8HqLY04evEpmDBuGNJiOUK2BeCQiRKbHXsrK/DM08/g5r/8FZmZ2Tj/wvNw7tmnojg3A+vXrkFVewh5Q4YjKzsbLtKVFw7Nwa1MpcuVSCQUDoOi4Lkfbc31WLd6E15dtg3jZszFzOkTUZKXghibPLoII+zxYM2azdiwuRyZuQU4ftEJSE2O1/RtIXi6W/EK83jvPY+itdPAyYvOwJWXXYRFC4+G3+vB5l0VqGhow4SpU5kfG+nKzIAbrU3VWLn0bfzlL3ehdNg4nHv++Tj7vLMxY848VFTthbxDMXnGdMyZPRMpjOdCJzJYdtW1XdiyuwFp5GXR2SchKTmWvNgQ73QiKysVk0YNQxXl1OEJY8q8Y/DTX/wIp512ChafdhqOOfpoDB86FCksV4fNjYzkZFTXdGJrWQMyC0pw6tknIi0lAXXV+/HeW6/j9eeexdknnQh3tx979rcjHJ+N+QuPQWNDFZ569D7E2YOYOmkiyisPoKwliAkiu8JcJNgMhPxebFi/BjfffDt27KjArFlzcdVX/w8nL5yLiso92FlZC58tHhMnT0I8C9hBWesyikCqrDqaJxa+iJD2eESgm3ef+zA+OYQFE/1lZEnsfwnS4cpTeNPJtdkJR2qCrL5XTibnZb2AD253O/btrUA3lUVRyUjk5xepKXMOCWma8M+QaWo7jY9EKugcjB1/FI497hjMnj4ZeSmJaNi3D8889yL8RgyOmjQDC08+Va3F+MG3r8L0cUNRNCgdQ4eUYtzEcVhw7GwMGZwDyNR5Qyta24LgIJSs2RDwuNFSV4fdFVVwZaQhLj0Bjjjmg7zYqbBj7AG0N1bj7TfewjPPv4nucCJOP/NcujNxyinHYt6ciRiUnYZVq9ejmrS9tKv6HkV82IlRpRRXOIiO1jZs3bKdbNmQk1GA9OQMdnCyXkAm7LvR1LgXTS11cCUnYOz0aYiPi4HLFqScPOjurMdmKswH//Eimr3xmD7/OFx44TlU3ifjZBpPRy+YhqC3CyuWrUDlvjomJ48RgswXjYnWSix/7xVs2rkTIydOxMnMy4mnnopFpy3CWWefjXFjj0J+ThbSE2NpcAXhSnJi7OQxKB1RgnjykkY5yRslMZSfg2UUF5eI4sISjBk7FPGJ8UhITcfICeNx3KKTyM9pOPWUUzBt8mTmMZ1iDSA2wY6xE0ehZFgJ4hJJLz0VSbFOytqOpLhkFOWXYuKk2Tj6+JORmz0IIV8QHrcXBu/HJyRg2MhRmD13No2EySikMSePNOQxibzqGXS3Yu/urbj33sexeU8LSsdOx9kXXohFpy7Cyacdh6PGDkMb5b5hw260ddpo3MkKDFErLBOWN61LnpOWZUd84XHEjAlBdCMf6PSJdH7y1/+e6UwczO/zgWjOD+bMU/5EO2lsvdeRMPzp+9PX/Z2FLx5Mw0GMCHn+LONx06AQSLnLrIXpeK32CgjRmOjE/n1VCFDJlQwZidz8AtjkVQ2GkaN+/c+B5JRBmDJtHi778pcxZGgRvN1t6GpppN4IoqyqGjMWHIdZx56MfBok06bPwP9dfDpGF+XiqOFDcOYZp+OcC7+EhPgYtDTUoLO1kcoviHiOtlUVptb3dbtRX9OEyupW5DNOSlqyYj8odTtMw8ffgw9WvatmLvbVd+H0i67G0cedgIz0dIQ5AjZCXjgcdsgyCKn5sshS595sC/KncqWcLMBUm06FwminUtuyeSv83iBy0zPVaN0htwI+KsTNePPNNzgq34+i0cNwzKkLkZYcBxeVu83fgdqqbXjp+WexekctJh97Ck48fTFKSgqYOJWhiwZaUSayONLvaG7Bjl174PEH1PoPWWPR1d2M8goaMTSYgk47fGTaT6ZjE+Nw8skn4MSFx2JESRFiZb2ErK9wGjRv/AwfQEJKPEqHlCApxok43pU/WcfA4sA+lmd9azsS0jOQP3iw2Gpik2ndzLQdYQqJ8oIjBF/YC5/hRVxSLAYzrZQYB2JtNuRl59JAOxYXXPRlJCSlorO9A36fT68lSXCgIDcfi884GxMnTqEh6KEh5saokaWUTRLspNlcW47Xn38Szz6/FEPGzsJJZ5yL0eOOUqXgD/tozLEMHC6WBOur2B8CtfCSjCpjS5wwLc7CFxlH1JiIhtQr0wl045fk9CtiZncorjcM65tqn3R98T4PiDCtEJ1z6cBNp/PWlx+5kDBaAqqTFC8lABO649SQM5OuIDqchS8OpCOWdiJGhLiDNVFZ/MfWRCdvVkjF8bg9qN5/ALLDY1pODuJTUlizbLBT2bocMVS6To6kSctG5euQNxhYK33dqKwqw7Y95UjiiPW8L12E4SOGI8YVS5oMT9p2jvjFYLCL0UIlaTjjaBMEUNtQhw5PD5IzE5BfGM+0ZCFfGD1uP1rbvfD7YzBt4jgUZKWofSBE8Rp+P0IdjXjpqSewcdNmFA8biWNPPAGuuHj4urqpuBqxp3w/dtOomThpIhVdBhKoo1wqv5JN3ZakBYhaFvnI2xYyAA77g+hq60BFZSWCgW76taOno0EthqyqqMbj9zyGR//xFrqCCZh/wtGYNnU40mkUyeyNv7MVezatwwsvvIic0tEYO20icgpy1CMUBKmsw27EymONGBs8VLg1dY00JkIIh51swi7K1gWXy4nGA1VYv3I1tm7ehuaWdsrEidLSYlx26UWYM3MGDFoIqh+kkm9pbmKYFiSlpmHegqORlZpEw0bKlL2jXd6mcKh0ur0+5BUXYPRRLBfalmqtKctUylWkoPoDpw3NrU1obW1GSmoq5sxfQAMvFjG8rfYRYZWS2YYgjb/urna4aBRlFQ2C00UpMv9S47w9XtQdaETFnv2YMXECCmjcOfxu7NmxEfffew/LPR7TZk7HMBqIRihEOl2o3L0XZbv3ITExFVMnjYZMVlFE2nYweYuUloUvPv5txkQ0pDqZkHNpDzL5JRO04rQ67YN5Hu332YfZeOQoOepzZven/nszJS2c99lR63C8luFIb8OTJq5esFJO+0tk01n434A0UbMWiJNr2StA/lhfRLv4QmiqacSyd1fCxxFzdlESkrOo9BnShOyWIPF17eKdQBd6qFxaunsQSs/B6HkLMHb8CKRS0ciDA9D4AI0OOKnNZVGCGCISn1E9Hj+augNIysvHqAkjkZYC+ElYHih0tLvR3NjOkbYdIwsGISs+DomMGSf3AyH1OKX6QAuKhwzHcSfOQXYa/UlzzcbtuO53t+OHv7sbRnIufvGzb2MKFajMzcheCvKwRu/SIDDzQUjTCdrQ1dSO6qoaVLczP8FG/OYXP8BxR8/FjGmzcewx5+CvD7yDU865Crffeiu+dcmFyGQ0892Duppa7Nheho6uMKZNmYrMzHRFNiB5jnHxJIQejxdeGkNiuIkkEmSTDhoSYWRgyLBZ+Pr/fRej85Px2iN34BuXXYobrv8tOrrJGlkWXmMcTsTSSDB8NE5odO3atF3x60pIR0buYJJlTulv9oqhUBB79zXB7fYhJS0O6TlJiqcYMi2zNQpyIhYGc7Fz6w4cqK5HbEoGsgYVRIyNSK9Baytkc2N/y340dLcDsS6kZaSC9o8ZAnurm7Fxey38gQTMHDcRg9PS4G5uxh4aF82ddpxxzumYNLoAqXFAU30TnnvyJVx0yQ+wak0l5s6ejy+dtRh2Vkc1GdZXOhb+hyDt4ojBrOMHg5r5+rgAA8H6qCvm5xW6kUpvJy9NybXIQDoEf0A6Q15IzyxOTVe62Wmzs1GXjMuORSsMCSu0THqfa6FY+FQwG4xW5KZTezgo54SNyj7sC8Df2glfIIxRU6YgP48jepfebKkvjv5T9UfVuwDcne3obOtE2B6PQUPHwBUfD6fsf8CRs57FiHLCg2FHgGls3lKO2sYu5A8uxbgpExDirXjqXNnSuZLGwvbdVXDFxaEoLxupHCHLa6iyrbefhs76tRvQ3taKvXt246F77sXF512Cs886E9f+7OcIOBPx85tuxt133Y2hpYORSM2p9B0hbSDSajQkG71NweBIv1W9wpkYG4fFVGw/v+kG/O3OW3Hnnbfjznvuw30PP4Kzzr8AQ4cNQ7osXIWftGigkLc29YpsA5w0mkoHFyIxIUGLTWWbJ3GJaKRibe/uRnxSMvJzOKpnWDsNrnA4FjGxWRgzeS7+fPffcOlFpyEzPoS3X3wa3736K3jt9eVobekgGcpUHsk4aA3QXqin4m9r60YcecktSodTVoEyKVkDEQ71sGxasGrdZnT2eJGemaYWZMoiUnl9VMJJ1qWHoCf7CkO9ptna0YG45DjkFqfBzr5EAonMZJ+JUNiP2qZ6dHg9SEplmjny2rBED7E82rH0vbXYVtaAK6/+DkYU5yCZdmTt/gPYtWM3fD43lr3+In70/etw9jmX4PIrrsYjjzyOC750NW657XZcecWFKMxNUmVFkpFfcSJA89zCFx1S2ocJqdZmQ9fuoNDB1H1571nez3awOYj93K+6MYwYEaYhoabMIuefP4g8VJOHLRxUi+BkKRhtCZ0lNUUt5gWdEVSXwTBjhNl19vWUA/C5FYaFfwlmyzBbiekErAtUUB6OXltbOtHtt2PE6FFITUtR+l8Z8AOgR/dSC32oqtytFHCsKw1FJWPgkFkIFWZgWqajWUxFWLmnFp6eILIzs5FfkE//MFz2TgQ99ajaW4ny6iakDipG8eBiJCXEqzous3OyEVJtXQO8Hh9KSoZiztz5GD9pPCZPmYyFJxyPxWecicWnn4ljjzkGCTQKpA/QU+YaiguZGaCTc1mAGrL7EHJQUTboxxmpcclYsPBknLToFLVI8NTTTuPxVJx8yikYMrQUCXExNCACpCF7Q9DIJ2893V50dLo5yLejID9bbWQlOlqlQSPI29aMbZu3qj030rOyMHbUUMTIbI1894ShbDFJSMgowuxjFuGCiy/F179yKY6ZOhyr33kBzz73AsoPNMAt4wVllDkRbO3C3vID6OjxITUrAynpLjio2VXfSZ5C/m50tTahsqYRsalZKMgrQlZiIpyKZ/Mhse5XZJ2Kp7UNlRX70OF2k14KkjNo2ZGeiE7ZHtKf0ODo6XEjEJRyS0JJXjpiaEg1NdbjmWdewHsrNyApOw+nnn0aUpLj4QgH4GnvQldzN8siHlNmzsTYaZNw1KQJmDlnFhadfgrOOm8xZXsiRo0UeWjjRUP38n1OlZy+ZeELiyNgTAikFmmnd7FjRWcjlaMaPvRWMl2lZKQuBoWuatHVTKpdX9WL7kg+nzA4GvNi68YNeOv1JViz7gO1oCogM5oiFsqmvvoA1q54H0vfWop9B2rR4/VHugnep3XxYaOiT1oW/lfQ2yK0U1VCKpAoszCaWacqqbCom1BcVIgEGVlHIEHFfNC1SNqWXMnnvvzYs2cXauubkZSWg+EjRtKYMOcBDoJItRP9WXegBYYvjPTkFKSnprANs8aGyUP5B9i6YzMaOzzIKBiCQXl5iIvjEFdYlvUWHMmrj5Gx8k+cNAVXf/3r+OG1P8TPfn49fnb9dThJ1k/ExOAADZxQkP0DmY4kG0FEPdFfGxRioHgQdviYjzpUVtZQ8aVh+KhJakMv2Nm7RE33O3mqRvZmv6RA1SwLHg0HDTAbkmVRJgNKGrLeIODzoWzTB9iwYQsCYQfGjz8KRw3LU6+TBjxd2EfjaRcVuc+IJ8lkjJk0B5dcehEuv/BUDEqzY+PmDTjQ0gqP2RX6Q/A0taGG5eWIicfgkmLKSOl+BZmBCfp9aG9tQVuXG8mZg5CZmYMEp0s9lpHSlMW0siGVRFHrVJpbcUDRi8Pg0kKIyPsZkrwIy6Ogji6EAzQm0hKRl5GA1voGvPDCS/jn48/DzfsLTlyIoaOK4BRBse+xh2xwBJ1IjEvEORdfhmu+/w386Pof4NqfX4tvffebGDI8Hx1d7Whr74gkJPwLJHFx0rv37+EtfHEhJX2EwQbud6OnrQkNNQfUznF1tXo3Pdm5rUbOlatDS2sHO8BA5CEAocxoOSF0rfwMQhiLdh8D3pYd4+75y+9x5eVX4Hd/uBWbdlTop6K8F2Znt3b5Mvzqhz/AVy+/Cm+/uxwtnR0wxMqX6VUZBipoE2ug6WXhfxWsPKIQQzQKQn5U7d1HJb5bTaNn5eQiMVb2fGQVovYSYzQkTseiE61Gx2rU0tSMbra/tPxBGDWWSiTGqcIPdH2gUqIh0FDfBD+N3mSOljNoTISpeGRHxrfffQcbNm2kwRBEeno6FXsM3D3daKdS9MhkiM2FWJlxYL0PyA6XXq/JCpu+AXd3N3bsLMfLS96Fz+Pt7Q6EgzAVqB5d6JYgJoIsVpTXPsNBLxqZl+rGdjgT05ExKBcxTMcMLbMMYlMoBawWoIpalrZEKdljEE/DIzk9Q8lJlHiYBoTIz6CibmvrwDOvvoOKpm5MnjUX55x+EnKTDBoTAbjb6vHKC8/jvgceRlu3j/GZkDMOjoREpGdlYNiQYiSlJDLPDsTQOnHIAky3B95uL/y+EArz8zFu1DDEMR+dHR3ocsvMQRjBoIGe7h7Ko5PlK2+NhNXOm2I7NjS3oLOzB4GArCShJCgWj+xQ6iG93AKMHTkCLpZHW3s7Oil7+RCaLLqVwYv0vX6Ph3kLoYP989K338X11/+G5RPAqaefgTPOOg0O9jvyqMseEwtXbALiXLEIhkPqMYm5kFzezPGpLd2b8Pbb72Pnzt2UL/OnZMwAqtSkhExn4X8BR8iYUDWo97hv52bc94df4djpszB3+jTMnDYV06dOx/TpMzF95lwe52DGrPn47nW/xnsbyyAfDtYGhUmHYCOJvvxsQXdThwoXOzHVfbFHMxxOlTXZW5/dAzsDGl/sQNg20e0NKTnoUhGDov9I8dBTtPDFBmuCes2SysbbifLdO7Fu42aEnKxbrDMy7yf1SExR2ZJa6o3UOTmTP3XhDqOmohpeKu2MnDS45GmEqpMfA1Hm9jA4SKaS8qCzjcZIWwu6unrw65sfQExaCcZNnoGM9HjEogdxTPvBex7Eb393G15bupbVORGzZ81AamYGKvdXYPfODyBbUAivDTRGbr/jLnzrmm9izcrVCNJYUbYDIQfpG4RtgeoWqEXl0aGTCr+hYh8qKveiweOGLT0N9ji7fswjwSSsgpyJSUWpqBkdUXISyIkRo0dj1oLZcLjseP7Z59FcUwNZAtLU3IxX3noXf3/2HQydOAvnfukszJw6SqtHKtfupgZUbNuEtSvfw4Z15DkgMz6gQdKFHbv2YuOOSkyZPBlDsjMQT2MgHGAJMG1vdwfsHCjEGX44QjSEmrtw7W/+hH8+8xKq9jcgxpWCtPQc5CTEwOVtQ8DThnZ3J9aXleGsi67AX+9+CGXMszzikD0juts9gC+MGBoOtkAQDU2duOGXf8ADjzyG3RUVFBglRgMhRn3ZDXjhxZdw1Zevxk9/+BOkZZfgW9+/Tj0KkjGM30uRRERVPLgAo8ePgI+G3wcbVqstuyXvAZ8fO8sqcd75l+Chhx9CZeU+eNzsu0S8AlVAJKZMMmXWioeFLziOwA6YquZEaiCdEaAxsQkr334LK1ZvQiNHGx20xLt7POju6qbr4HmnerVIRjg7dpRj1569mDBuLGLjZNQiS8sIIRvt/gOI5EBD5YdJa1P7I/BRzJlUwhxhdWH566+hbM8BZJeMwriZc1BYNEh/aIkdUjk7o/Vr1qKx1Y2pCxdjyKghSOVoRt6PV52pzFCoE52WNrj00rqDp23hiw/WB1GIIQ8evPtuPPnE8yjb24BufxgH9tZwNJyO3OxsZKVG6hHrsEzv6xpElcwRcqipHs8+9Spqu0MYPX06Fh49C/EMYI7Zo9HXBiTdMBVtGKs3bcYH23Zg1ao1WL5sOWbNmo25HLm7aMzsr6zCxg0bsGb1agwdNhJzj56HUWNGqJmMtPRYxNgCqKyqwquvL8Xrr76Gpx7/J5avWImCwiJ86cLzyQvbCEftDhnqCjPyzIFpCu86H/Kog0Z4wIv6it24/bZ78dKSd9HYzv7F7cXmnbtQOmwIR+q5iCPr2iiRk8iRMNuRvG4aE+tEelYmcvMKsOTN97FixRq88NxzeOapJ7Bmwwc49fxLccZ552DyxHHISIyHg0aDvEmzb+dOvPv+KixfuwHbNm/CkldeYl6ewJNPPYuKA7U4ZfEZOPPcc1FSXIwEl34NVRZRukhj5fsrsHH7dqzfshXr1qzHtGmTMHP6FBQV5CM2NkE9Atm/pxzlNJIk3DL2ETvL9+CcM8/DrJkzkZ+fhzihSZnEJ7qwfPlybN66Axs3b8eGNRswZ9ZMzJ05FcXFhYiJc7G6+FC9bzfzsx37apuQlZuPiy65HFf93xWYMWMq0tJkp1AgjhVAng6JjGNi7eRVZjVCeOPtZVj2znK89OyLePWlV1BeVo4zzzgDixadgMlTxqn4EkvFZX1Rf+aRf6bcLXxxcWS30xYFzIq3d/c2Wusrsb2yDunDJ+Cks8/GyaedgmPZqRwzfw6Onj8TJQWD0E7LfxsbU01NLeJSByE7LxvJyewASUp0qMK/UAdV3xGFD5OIhIh6sGiOynrjMi+qMfR2pAeD3DvYfZOKfDSpRxkTu2lMZJaMpjExC0XFg1Qnp4yJrZvYmaxFQ5sHUxaegaGjStU2uL2der8k5MRco9/rSRwkx/28eBEdnBcHiWHhcwTZq0AqbXNrp/qE9VQq8jnz5mH0yJGYOH4c21cuUuJjaUzIXgK6fPt17FSihisBoydNwTQqp8FFBYjjHWl7EiIa0W1A1hWkpqYiOSsHRUOGcvRahJKSwTjp+IUoLR6M9JRU5OYMohIrRhHvHXPssRg3fiwy0lPUY5f4pDhkZWUjLSsP6dl5KMjLpxLPxbChQzF39hwqwVk0AgbBKc8l2ABUE1XWgDzSiDhpm8J/OIygL4BubxiDxWiZPx8zZ07H4NIiTJ00HnmZ6UpByqe/tQkSccyPfOVSPzZknmm0JCYl05gZjLj4RAwalIvcQdmUSSGOGjsOp591FoaNGIaM5CTEKnbID4UaolGWmJ6BUsp82PChNAQKkc/8FFIOEyjXE086RZVHEgdJsp+DWu8hMwQJSXDGJyG/dChKhg7DkCGDcfLxx2BYSSGS4uPZ98UogyItIx2FJZQx5VxIeY4ePgKnnXQSCvJpJMW6VFmJgRKbFKvoFZYMQ+mQ4RjC8jiF5TF86GAkJSUwVZmTCiE23okcGhGTp87ACeTt1NNOxdTJE9jfJKr+VlzkTVP+h2nQOJCQnIxBzFNiciaKC4pYXrnMZwFGjRyBk044ESNHDEV6eipk8yoVL+I+hIP5WfhCge1CWsYRgJBRpPxYvuRZ/P3OO/H0Wxsx7IQv4Sc3fBsLphyFVHYAsfJVQcOjFiU+/NAjePypl1Df7sOQqSfjxpuuxXGzJyGVraR3gl86koEcRmqreA+8ZUL8VSie6C5EYE6UEkLD0J2JQE0DRyq88g3Le+0M1mvVmIikqHs55WRVea8/KUlD1M+mZYvfRtz0vW/h+SUrMfLoxbjoW9/HvDljkcqQcYFOvPLPh3HnbXdgS1UTvvab+3Hy4nkYVpCBRMrSGSZNs0PtRcSYMJNTiKQvN3r5iobcMyPo+5EYCgeLYeGzC1V2rB9hqaM2u1ICUqLS/OQRh1nf5VptgsS6rub7eJSvVkodNRhSNlECFVeITvaJ4ED0E4wJSYNxGc/mcCJIf3kWLwzEkKZdGlBIK3nVbmTenPxJlZTn/tKmHHbNT1jG1Gx/El+iqXTl6QODOSUu/aV5ymunIcaRnDkQoAvJkxYdKazpyzthsl5EFkbIYxx5vCMsOxgmkl0VVDV3RVrnQ2Qi92VDLtmgS61VsjnglcWfDCp8GLwOMo6HfrKjZIIMvYU5WcMR9Ou8MV35nLeTf6asZGFkMBBCDBWyyELWlYhc1EJL4UnikAPFHj1Vfxf2adK8EtNDsinJiVjkC5/CnpSclL18Slx9/VVmqBzyeIXlGJavyuqeU7iUNSKSX1lvErL5SVUeHUndiOM9MR37oPbDkDQcuu7YKEWRkXqzTB5f2GOZD1JlGP4r2iEKWs9E0FGQdvW2ykdAi8XCFxgfU/qfElJZpBOgc7iccMRKZ0PTwi6dlW40Ug2lwhp2F8ZOmozTTzseC+dNQMjvQ9m2naiv74DPx8ostEynIkqkiJMrHs1LqeeytkucNDq9wY2Ei4Slk0apfg1prF6eS3dDGvIntNQfQ/BHnLYNJJZQl3g8KiNIUpFvHETi9B7lZS3pGMmw9FjKn+Fkaz7ptPlHT/VvdvRyoaUiTiPaR/vqM80P75G25Dly88NQ/sLPAKf8eCfiVKjIPQufT0hdCUXWR8h4XeqH7JmglDrrq4yCnVRS+tsVusZJLKmBcleUeYBOKSn6J5JEZFD6MSAlKldZnCfK0EnlIRsxyfoCtasFlWWYSlcUqa5rkp6oRRlBU/kJLzRcRPFJeGlaAf0dbCpCKl+Jzzg2MiJ6SXgRJ/HFST6UUaScNh7gjBUbRSlrgfxKfRfImoKwdAqE9Ck6JXWl8iE8KYUp9GRRpjIKtBGhFq8yHzKjIPKJpZ8OrykoHpi2rGsSBR1DhlW/FYEYFZJf1Y9Inignm3psw8yJC+mcyCuhMaQvLV/lV4iofpSyEf4lOf7YmT8JI/2KDFJk7wjZdlxtKmZjCTAdMdRkt1FxOmmRq8hEDEwXf5NYTWRhqtwk3SgnvJhOTD3x1K+o2+F0xcPplPLV95VBREE5nNqJDINijRwMKlP61MIXG1I3jiCkZgYQCnYj4O9WbSLGEWADoWXMO2qsLw0pzMpvS0HpsFGYOGGseq4Lnx9NB7rR2eIdwBQrqbyPJisUAzxyKCOjGemDxIl676Tz0Em/IVVajkJSYF4rhLsYoY0eYlBE0Ns58DYDuyMLkNTugiq22RokBYlHfwaQV6yC5FkWT0pI06CJdAl0YtKI0RJku6OVz05JfHVj1VAzGtJCGVb5KeOjjx+FAZcfCS1g7aQHkkzQaaOh97IPcqE6KAufR0g9EuUva+p03eFv5C0FNUpXnlLgdHIuQ3DlZx5E2cXQURmq68MF6VNh2l0xcMRxFOskXeHDvKcgKfWlJrowIUaUKZ0YJS5xvC/BJRjva70qile+WiH5k1dNRYmL8pdr0uHgxc58qHM6ORP5yKhZuht1oej0dwKH8CyJSHqE+IufvB4pjz9MVuRrnkqJmujNkshbp90PQlIteBSOdERlKJg0JCHzXIEElRUltPQNtWCS/8Kfk8LSJoETLhoP6hseCsKIlLeYdBE/8aLT383QvrLxuHjblbTNuH1QNowpFAXKlIM+R0SuAtpfvXxLtszwDhoaMgNj4X8b/arP4YO1TI2gpdrqqUIZA9FXQ2osIVvFGmEaDVSe0mhli1gOB5CWEYekZPloDOPLbEDYzaOeSXB3tWPTypW4+JJLcMYZZ6iPDp15+mJceM4FuOlXN2PXnqre2QmByhiVpaxrd4oRYHTTI4QdmzfhT7+9CWedfgYWL16Ms846C6effibOOPNC3PibW+EmER+TllkGQ3gIueF3t2D9qjX4wXd/gtNPO0eFP+fss3D+OWfTnYs///kObNu1H37GEYNJjwvFkQYNBkPNy0ZauHKRXxGHGBk0KLRk6NsrrINDdwnMpfqAjrIc1L9EVOnxbKAT6uL0gxsTPFc3SaOflWHhsw5VivxRipZON6vICZ36i7Q1BfM0ctRT+6KgDxL2ECEx+pOVus4zMiT0lJM/Rftgjr9muAFO35T7kaM6SIt2sLlo1ag0m5pWj47LS0IZH8yjjid1O+IitHS/pNGbphx7/9Qd7Sey4pVOSf8oapELecykdgvtpaih6Kr7ETqRczOumsBUNExIOHpGwouTXTP7OYZRjueKroKkGy0PQm4pEjqcjite8qtLfSCEXC9JM1xv3jTMMB92EX74/yFn4X8GR24BpmoZdEYY+/fswKb167CrqhmZw8dh7vyZGJyXA5lgi6FKk01z7MFuVJVvx7Jly7F6UzliB5Vi0VmLMGbUYCQ4xQjwkVwPjGAX1ix/H489+jheXvIGnn3lVezYsQPlZWXYU7abNCpQd6AGDTV1CNtikJGdp3a5k1arNseyuclVD9w9rXj84cfw4nOv4tXX3sWK1euxc/duVOzZg91ldOWVaGpuQ2xyEoYOL1XvyDuCPuzftQ2PPfAAnnv5Tbz0ytv4YOMW7Cnfg8ryMuwvL0cFz2vqmtDY2g1PKITi4nz9vn6k0fo9bix74zWUldciZ/AojJ85i2EGqTFWjOHDnq2bsGHNOjS0eTH1uNMwbGQJMpIT1EIvmWrVDbKvZcr0pk2MI/V8lVaE2TPR1zRewjRelBHDBi6htT/P6YI8l9dSFS2JJb0l/XQykRsWPvOQkop2/T2Uj5zoc9MpH/PY5z4JfYrrw9A09J+Jfoql9+RgTuNDvr0n+thHv+/YL19mehHIae+leUGnlHB/r0OCCssfcdERtVwGuih81K2o64+icTDfge6gvh952ffXK69o14uBN/rdtGDhI3FkjAnRR+ax15hYj12VTcgaOg7zaEwU05iIZQB5rcxu86B+XxmWvvk2Xn3zfVS39GDc3ONw3IlHo6SQRgdH3A71WKEL9XvL8I+H/oHb7vg7tpbvw8y5czB6zBiMHD4Mo4YPxZDiAnRUV2HdyjVo6Qoiq7gUxSX56jmmkzTsRge6OqqpsFfjxp//GctWbFYf15k4eSpGjRmFUSNHYgRdaloqOnu6cKC+DiecdCLSk5Lg9PZgy/vL8Juf/xLb9zWhZPgoTJgwUa1kHsH05bPMiTRcqqtrsXnrTjS2dWLmvNmIT0yEfBpZRn8BTw/ee+NVlO2pRnaUMSGTkmJMyNsc6yPGxLTjFmP4yMHIpDGhn0NrRd/nxEQRY6wbNfvLsXPbNmzdshO7aFCVi0FEA2vXnl3YvWe3Oi8rq6ARUx5xe1BWsRcH2roQm5SAxPg4xMisiCGL+IQ8TQt1YuGLgeh6E+0+PT7OmDgYPk34aM5UrAEeAy6jTg4BURHVgXwdatTouB8V6dPK5WA4EjQsWPhMwDgSCNOF6ILivMb7Lz1sXLloupEZF29MO/Fc48Elbxtba2qNCrqa6gNG7d4txr1/vtZYMO0owxUba5SMHGX86dFXjC31rUY7aXlDXiMcaDDC/h3Go3f92Dh6xmgjNi7VGD95gVFV28D7YSMY9BuGv9tor6sybrjyQmNsfo6ROWiIcfpXrzV29viNLoYJ+JuMQM92Y907dxrnHjfCSIiNMTIyi40f/vBGo2JPteH3h41wWJg3jDfefc+46rs/NE6/9Cpj2/4WgySMUHuzsfzxvxvHjCgxLjnnEmPd2k1GQPIoccKSfovx7MN3GKcePc+IcyYZmfkjjceWrjfKO3uMVgbzhANGS3Ol8Z3LTzKGDko1Tjv3EuPJ5RuNWgqsg8IKBFqN5x/6s3Hy5GFGQXqm8au7njXW1TQbbYzrZxrhUJAuRBc2eDCCYf6EPWSs1nj8vl8Yp8wZYyRpi8NwwMkjnd0uVpR2drl20WKI5THRiEnMM8adfLnxwtrNRpdkg/QNn5snKlN0Fv4XIHX+07hDxacN/+9ANN8D3aHiYHEP5v4VHAkaFix8FtH3QOxIwYisU5D1Bl4vtix7Fd+75AocN+1ozJ2xADNnHoO5s07EL268HRu27cfYKXPx59vuxwUnz8OQjFQkhKkSw9SQQTu81e1Y/voa7NrdjClzFuOv9z6J9NRMOEJ+2GUr4XAAyckufO/67+HoGeMQ527Dvq3bsWF9GXz+IOSLis1NrbzeiaXLq+D1xeCKr30P511yOXLzByH6UwRzZszATTdci7tu/j2G5KYhRtYhxCRg6okn4/G338Sf//YnjBs3Si0aUxDROeNx7InH45i5U5GfbIPhbUVFRTXaur2yqgGyTly9gkeZKI0vzjB6z9VaBfnnUS17OBhk5BIZHekxjP5lN6QWjAoJda0oKGJyEXH8MQOpc3ngMQDWyMiCBQsWLBwmjsw+E0Kh17mxYslj+Mddt+OpVzai3WZH2J7ElKh8jSAcNDLiwl4qNSemL1yE8758JU495Wikq6l9WbMtWjCotpDd8e6ruO7Gm7G9Nojjz7oEN/3uWqS4qONt8r60fEGPBgtpyULNu/94Gx54/A20OLJx6be+ja9ceAKykwxUbH4fjz/8IP58+zNIKBqPX//x9zjluPnIkq1qo0wpSVUkIVkQ77BfliuSX2fk1U5ZQW6TBWA0GuSVKXnHP8ZOPlvw9N/vx1233Y09jW7830334aTFczFU7RXhg6d5L379w2/ihSVrMWb+Ylzyre9i7tyJSGSKiYEOvPLPB3HXrXdg8952fP239+Kk0+ZjWH6m2mciRtZERB4/KNGKoSbvlRttqNlbqT7u09ruR0jxJlzL2gjhVhsselJXO7VuwuGEKzMHo0YOQV5aivomgF3enVOr/3X8aPzqV7/C+vXrIRvtyHRsUL4tcASqi4XPNwZOzX9Snfikqfz/Vp36tPn4JBwsn5+WZjQNq61ZOFxI3y316IILLsCFF16ozqWOfVKb/Fdw5IwJE1Tsy2lMPHjXHXj6ja1IGDoes49egJK8HMRTEYZ6OrBmyYvYXVGDQSOn4qQLLsX5F52NwTlJiKM+k+1hbfDD292MV/5xN265/Z+oqPdj6LgpWHDMLHnpgwaHXylV/WXSEBV7EFs/2IR1mysQTsjB+Vd+Bd/72vnISnFg47JX8Y9778NDz7yP3Okn41c3XYcFMyaD5g0SqEMFIgFxyqCgkxXyCIkxwXTUOyJyx4mXX1mitv92e3wMTz6dDhghN8q2bMYHazag3efA139zH05ZPAfDxZigodPdVIlf/+jbNCbWYfSCTzAmfncvTj51PobSmEgiQ/orHtHGhMF8i18PWZK3MCQDaikn2ZNz05jog/mUWGKJk9wI9AJQMTHEl2EOUrlOO20xXn31NfWKnFQ+v182xzk0mNSiedH4cDoHC2XhcCFyPpJy7U/PrC7Sbj6MD5fxR/VdR6L7ORyYneqR4uPwjAHT/O/fhgUfpnQwgR45WZrUD52ixDhy6Vs4MhBjIhwO4+c//7lyUic/28YE0UvEEGPicTxwJ42Jpbsw5KQv4SfXfhtHTz4KGTQAgp2NePrev+GJJ17EurJmpA+fiiu/811ceOYcpCfKZ3ZDamGiu7MBD//tt3jowVexdU89vDYXB88JVJYyKyFKXmY5KBgmbL72KLu/lQwbjYu+/BV8/5qLkZoYxvLXnsXf77oXz7+zHaMXX47v//jrmDVuNFLCBhLlMQfjq+12FR2ek2CYBora+IXGQE9XEw7s24t9++tx61/vVG+BdPbIq6aMwPKQd8/VPhmMHJ+Rje/8+h4sXjwfI8SYCHnR0bSHxsR38fzrfcbEnChj4tVoY+L39+KkRXpmItqYkDcxJAmBesNDNs+SjMubHLLLjhwdskiCR/HvDS3x6BeBCh45l3kI/Ra9GdaEeW2PzEx8EDUzIbviDQz/YUiKZqr9U4i+E43+oSwcLkw5f5JcB5ZFdPjoe/3p6Y6I55FDX5Uw45hHDf3G0EfjCHVBnxoDO9RP5iM6fHRY7X+w/vngNCXgQH/xE2Mi0mJV+zbD6PbfF0OH/TD6h/pXEU29H8WBSfa7Ie7IpP95R7TsFAZ4fOj+vxGfv5kJQoiIsxkeKnAaE3fdTmNiNwpOvgw/u/YaLJw0msaEH7GhLo76O3Hvn27FA48uwcYDPgybOhsPP/IXFOVlIY6NKJbjZ19nLe679Rd49NE3UH6gHbZEKue0QQh7OqkR5UM7ppqkFS+fMVTb6zpQOnQEvnTJl3Dpl85CosONd199Evfd8wBeWVWB4776U3zpqvMxfUQJchjPxawbIVLqlYC8PhmG1+9BHEnamZddWzfg/jvuxIPPvgFvyK7e1IiPlfQYiRaf7JDnd7vR1dkDR1IavvPbu7H4tKMxQh5V0JjobKzAb378HWVMjIyamUgQYyLYgdce7TMmvvo7GhOnamMimUw5I485tGwlt7J3Hf0MLzzubrg9lJNfrmn5yDoTCSGbYKmNsORCb9mrorLyGHYbHLHxSE5OQEKMfCRIqEpYnUJ/iLkhTkv5k2HGH0hHJa5PiYPdtfBpcLCyEvSXc2+Qfsal4JPCSX0ww0j5R9Av3EBE0fvCwZRLtNxMGQz0/7SIpi0YSD/SjnvT6EvHDGGi786/F33pRnNgzn9GQ+6bYcy7/yku/4sYUDAygOtDn87S+GLJJaq3OEKgnGSkHkPl7mJbkKMoa1mQKLMHNJUYIIyFx8/D1IkjAXczGvbsxuZdsnDRhwBZ8sv+8oZsDGzASxrDp8zA9278FZYsW4Kla5fjfbrVa1diLd2ale9g3aqVWM/z1auX48nHH9aGREI8bHEpiKWCj0uQb/IHsb9uP3xed1SmyRvpc8CteJSN7OQxSpzsfmcE0Lh3J95//VU8+tSb6AjYMWvx+fj93Q/hnRWrsWqlpL0Sq5Ytw43X/ghjhxerKiLfEfCJgcHzsFrvEEOjxMk0xRpkOvTq6yLkvrYSpTrpjXt1xRJaZiWTc3UtzKpZiU688ex9+OZl52POtFmYNn0Gps6cqT7YND3azZiJmTNnY+aMOXRzMX/+Inz5Jzdj1e59ai9PvexTdumUxxfCsS6lSGr/AkxOezk+KD7+roVDg0hQyk/coUj0UMMdCoSG1BOT5v8qDleeHxf/k+kebur/KqTUpfTNGnBwRIf6b3D5X8SAgul/+cWVS59ePWxERrnUyjIwpr1A1UjlzGszEaUoZbtYau38wYMxpLQQOUkO9HTU4NWXl6C6tp4haIRQCTscsSgpLEIyjYLuLje63X4MystFfn4+8goK6PKRT1dQXKL8xBUW5Kmv/cmnju3U2rJtrOz5H6K1IN8MqK7cA3d3j3ChyjEkCymNIJwx8hal0uvqx+6MgWwFXFdbh/LdOxEIh1A8bgaOO/MMTJ0zEzl5TCefvBRql5mZjvjYOJVPtVUtzVGpMuLUAgxFWEMsValCpi2vjpHbYjxJHLOaKSfy5FF9KVF8ZAFm2Ad3VxuaGxtQV1eH2rpadVSunuf1cow45V9P18jrJjS1d8MTCKk0+mByK05StWDhX0RvxY24LxL65elIZTCKjnna6/jTz2n/6JZqusNuuSaRgS4qkQ976T/Vb0WFU64XH/L44sLMZiTLZs77nEjKNCRMSX5xcISMCSo6UXayKJGCEqWn9aN81U78pMpRhDQSgnAhYIuDKy0HY8ePxYxJI2HzdmD1u8tQXdOsPsEhcnbAiYLMfCTGxKOtthkVW6tQX+1RH5SRj/QIfVs4CFvIC1ughcQ76e9XEx9STPKBG/lQT25GFobSKHEGg2jfvx+tta3wdPt1scoCTlo9djq3x4ut2/bg8WdeQbtH3pCIQU+PD+0tXeTEgbSswSgZXIrMjDTGDdPA8JOCjOR96PH2oKPHzXMaQSEXDSj1GSMaDsw1LSv1wS81PSyzNFrkaqaCXro5ap4FZhUzjyqfSoZ0MjOhEIux0+bi4qu/hut+fn1kcc0N+PkvIuc3RJz4/fxnyt1ww7X46U+/i0vPOREluZnME6ESEiZUKhF3uPhkWkcqJQufRpKHHk6qRbQ7OL7oJfjJEvj34tDT/U9zqPv3ga4PWmrSz8mjV3ES4r8nyf8IzMwNyKS+1LnXPb1ISmQTkZi+dURhkhzo/t3Qmu2IgOzKq5pUeKbYxInIzIqmd6CIgScci5ArCaPGjsbcWROQCD9qy/dgz879aG7qUppUPkyTn1eKguwc2N0elK/fhteffxf1je00OCQtsi5vNISoxP2tqNm7HWtWvY+16zfCS4NEKWMqysL8QowdNQbJjhD8zfXY8O4KbN24DZ1dPeRPDJMQurrasX7dRjz0yNO4875HUd/egSDpO52JiHEmIew30N3cBU+rG0EvDQgaTsFQEG1tzVi1agXWbtiA2uY2etPsCKsPEcv8BH9FAkHqav16qTQq+dNzJnIm+YjwSidnOo7AbKLyK4ZE5FVYuW0kYNzUY3HpV67B9b+4Ab/4xc/pxGig8UAj4hc3/IJHOmVMiIFxHd1Pcd1Pv4PLzzoewwZlwqXo8J+J6wavOe5fJSKB+rmPg1na0a4/Pv6uhUPHJ0jyQ959HjLbZbqPCveh0v6IcB+C6f0Rtz9fMCXwUZk5EhmMohFNzkzSdAPwCbf/NQwkehDCpne0qRD1DTkFJTU1QDFDmX3Z/whMIUWd9kmAv6K7ZJ1b/wUVRxRm+zXdfwLRmuPIIVKRDiYqGQh7/DaEQjZk52RhxPBCZKU6Yfd2Y92KD1BRVgUnh+zytbqioyZi/twZGF2Shf071+EvN16HFe+sQXnFPlTXN6C2sYWuGbU8f+Hp5/HjH/wMv/rNrejoZpExZ/J0IT4lA3nFgzG0KB2xwQ489cDf8M/778XmjVtQV1uP2v3V2LB2He668y7ccuttOFBbh+5ut3o8kpWdh8LBQ+APBVC5aS02r9mGsp170cD0GmqbsHLlSvzoJz/HfX9/As2t8iExybM5M0MnnbWa0tLFqeRB2Zj3dRXjUYWjAUXNLosiRa1LwfTJT+6LyUFaIsAQQ9Egk83J5Z0PHVLo9sUxz820pEnL66DxTCOO6akNMkVI6suLZorRBoWkKQqHxqFYHOpaoP0/jEhqvDXQ9ULOB7pPg8OJewTQTwkPuI72//fCLJ+DuYNBh9efrxcn15r3/vgwXfnVofvyOjCcfhPqP5n/fx/650PyZTp9X2VdCcSUQa/HvwgzfpSke0ma/iJj8mZ60ekPtX3YqWj/Kj4uspkuD4pT6cMiThQjk9YyUzOxuq+h1FQkG++rj8odLn+fdZiZi8hKnMhAHk/3lRH1g5KXlKk4LaXeuEcQQjfa/ScgdePIwUbFRH0nROX79+Yne035ir+DGj7emQAbR/AxSanIGVyKUSOGISY+Bjt2bkHZvip0MowvlkoyLgnnf/lKLF68EDnJHnS3bMO1374cpx53NGbPmomps2dj6twTMHX+Objud/di/Y4DTDhePeqQj1mFSMeIT8KYmfPwi9/9HqW5aUgJtuOtpx/FZeeehwWzjsXc+SfhwouuxIuvvI68wcU4/YKzMXhQllqEWTJmNKYdswB5GfFIDNbjkT//BJedcjSOnT4bxy44BVde+VOs27BbfRldKXubl9l380y9qErVLCs7xQAgW+RHds90sFaJHFQBq9d2yGcopK7luyXygS8xDySMEp8pPHVBX7vs2hWHsEN95eRTVhQDsUzfKfwpA4FQ3xWWFPul2gt5TTYkG1spSGqfnKJMGEmwUCiMYFAuvjiIVpjy/rbPd+h7b/xXEWFbDqGoPFjoj09Xvv3byr+Gj6JhNnoOT9j8AoFIe/2MQLqPgF9kFGnnwqQJq3pFQEH0DsRYlmJ8RcqUJqv6+yJBtMcRgahI9fjdzjEvlV3IEave1nTYZJWEHhWr8a/IL0TL1eaE3RGH/OIhOPX0sxAXY0PDvnJU7N6F2vomhEknSOEnZKTjzMsuxm9v/R2u+NKpCHm60FhXgzpxssCwoYHHRoyZPB0/vv7H+MlPvoakeBYX07GRhs2ZiKSMfEyZuwB33HcXLv/S2cjNTEJTUz3qa6txoKYGDe1dWHDKKfjVH3+LC847HcmxsbAFyTONnikz5uHPt9yKhXOnIQ5+dDU1oqOxGY21jYiNScW1P/kVrrv2OkyfPpF62YDD6aHhIB8qk5kCeTuDqtvmQoB5kccUso+GCF2bAaxOYvDQycMhp+FFDMPQXFAxpdqpIlIKn84Ma6OsI+cDq6NcS/U1q3A0VDXmj3IRH30tMyqaK/OOICxrUsRkYaHJwqFDrfyypiTITln4s4llp7Oq7vR35o1Do/tZgDw6M9mVd7hjYmKUAjKVkCig4H9hp1BJTu/MSrkeJG2ZaRPDTvjTn7CO3PhQWfRBtmwPhAPKoOyDDhcKkh4VXFjkoWDGN+lFu/50P8s4WPn2QedRxKvFzNbB8FLeYcpJz+B9VH7Fz7xvhpFCECfnImMOQ2iJB6mcw6QdEvp0do5CZHCmww2kE+3k3r8GRZWsfNjJ2jKDAwQOKjhqkoXs0tFLVg32G2oelnKyOaSPivDGPl8tFA9xMBUUiyMyupC7/6X28e9Gr/x4Fgj5KSIxrphvJQse5d9vQ8An9UUerzMwncQ7kpIwa8JAfJT/kcSR22fCJEMhVu/ZiU3r12JnVQNSho7D7AX6q6FxvC27LgZYIWVTKHvYA193O2qrG/HMK++hi4IeN2kiZs6ajEGZKaTlofPTILHDTYVftnUblq7cgG4/Ozh7pCCkUFhQo8dPxLQpkzGksJB1l4qZ/naGUZ2mVOagjDBCWL9qFTZt2a7WOIixwTsIOV2YNHMWZsyahZS4GMR4vXCRQTvvS+WXNyfefetNlO+pgke++eGgSWDYkZaRjeNPOIGWeQ8+2LQGVTRMZi88GSOHD0d2ciJijQA87ha898YSteNn9uCRGD9jNkqK8hHLhuaw+bB76wasXb0GDR0+zDn2NAwfORzpKYnqLRiVQVXpJKOyboIKXWVXGxPyJ0aL+UBJgkdXGmnecse8q0lKKPHTf/3Be+w8ZC2JDh+ZrhTLTE3P6RRNitEQqjq0jqdT0P7S8zqlwxE62qcPqoBM9wlQdKOg4poYcG8AvY+/e2iQfCmZ9EtXQzpIUT7ilMJW+f1XUjkEDMwMobxEPjKLZGetYN0Ps953dnbi6aefR1NjCyZPnYI5c2cjPs4VeclIYkWIScViTVJlyFN1h/SCbDcxVBQOla8QOjo68cwzL5JeK6YqerMQG0t6NDg/OrvaSI2k1ItPJ52+2PqsL7acHepdjYOnfPDy5bmKzh+1f4s89tOGt7IdlL/Ou3YS13TRECIH40Oc+GsFGzbbmRpAaEhZ8WaEN4kxkE4E7Cc/nO6hQSia/UZ/8A7/1SNbGhG6VQsHNvh4KgpU+FPDJspHPeYVwUifq1bBkycOLoU3lYZYYcSRbB9CNxpHhuqng8mDlFEg4IOTBqDDwf6a/XxXew+eefJ1NDZ2YNL0SZg1bzriE2KYfy0D4fdI8SzSFV4OJhNxUkP+XTiCxkTkKNmQKS9WKJmKl8cNovgiza+3W1EipKDVNy4YTipbmDVTT8HKmglRmrJtdZAVVfZ9cCoJGey0wmxoITqpuiZEAarZD6FBy88pBaVaodxkRKnEirT8sJBlikS2wyYdGX+rdPnvErY8PjicTlZ43qdfUCxLNiS7OMYRp8TGfAUlGjsTseDDagSvlTurCmRdgn4VSEYtDCsbSxkOuFjRDFY4mcmw2ZU5Q3/62ZLoJDaVEemTNJ34U1q8poR4Lq91Sm4lnb4/gVQkTU1D5KHlHck6nW7K2l9E8GFonsOQXUYdaGpqwr59e1Evs0WMrEuyD5JfE8qwYyeRkpqGUaPHIDMjXeVF3qpxqS25TS7MhBle4igaA7vIaMoCuZIQ0TkYiGgK/WPrmNpvYEzFVhSUXo0g+p7P58X6tavR3eOmQSyjR95X/IfZgYhxaENWZiaGjxiBjOxsNVqTuypn6j9S7+WfifSSVtdyIgSVj8JHSaAvYjToKXVSOnH1rRXdqe3duw8XXng5O7JmfO3rX8U3v3kN4uNj1SM3zYHUFuGMcdjG5NGgmazU8RBHlmJMSNnJdupVpHfJRV8mvRZ8/WtfI72vI1aME0lyoCAVJMdCULd6M4RKIir4weJqnwgz6qovtrQnfaaduhshqlPSZ1F31ZlG31nfuaEeaaxfY5Yv2wAJyp8qZ8pJFmtrWmyjjngMHTYKBfm5SE6SuUS5IzWM9ChDM9X+GOCjGJbw4h9EQ0M99u87oGQr76onpWSwHY1EZnoa6xbDsAGye2CMSBvoJafTFL4iYtEw76t7Hw8paxX8I8JKmwmxju+vqERVZRW8gSA8HFQlpqWjtLQYxfmD1GNa+dRB0OfGvvJy7K2ogi/EXsuVgPzCIhRxoJeRns6+PdICo9LqPevNUxR482DeJuReb1bp+vVr4qGu+ROVSHRtEOjqp/36ZNhHtS80/aSdKRryG+mfea7C8J70BU4n/WxeBP09OFBZi4su/A4aGjtx9TVX4ppvX4VYGhMO6h7TmBD0paFS6QezeURKSUNFiOZN946arz4aZnuQkAP7viOJQzImPipAv8wzkGREpv2UDqeQ2N8iRrhXATUVLQytClXW5DKSgAhMpmJDNETsMRSBXXaY1Bs+ibFrSAO304KnwpLHKQylSEsS9NFO0aKvzDLJUaVNSCC5F+JPSF7rpIJ32BBwxCqjQRSBKXRB0CedBzmk4aDIkR7PVKcpzBgB4YWVgZVGdpaUbkamuGTiT5KSt1Ekf5Jf+QvJlB+FJApaRnnK4FKMkx9lrNA5Ih9E660SAj2VKHwpY4JXsiZDQogRIYaW5kzHEj7ECQYaE+Z9gYwk1DbgctdMSsBCkDSCRjfj2vDaa2/i7rsewNK3lyElJZmykqk6Lzw9PfD6A0hMSUdcnFZOPq8HPV4vRkyahRtv+i2OnjMDCUzEzKZKSJgxGVKQCxO93STPpCzMQGYkLRcdKjpn4iJ0eNCx5CQSh3IXI005fUfBPCreIgmb/bsacSmPiCNamhpx1SXnYdPmLWhs9yBkj0MaO1OHbPEuMvO4MWLIEFzzrW9j7kmnIjUjDa4YebuHBFhnZO2JrmuUrBqB6mTNeqfzG0mMYXRu5aevE5DSkccPqm6qa4ml42mKuk3IlLvX60b5ngp8/evfQWpaGr58xWU466zTVViBfjsooDZy6+hww5mQAVdiPJzkWWgIPe2YO/Le4+5BZeVefPMb30VqajquuPxSnB2hJ3VSIpldmy71vlISqMcCkXPViZINeaygqrx5xwxM6LyZ0tG/6nakt+8tN16Kl5owENkwrIRXMYR4lJ+OaYK5Ux4S2WD51uOqiy9g+W5l+fawfONZvhlUfpIbGosc2IRpXHVxsOGxpeCGX/4W5591GkoKMtjn6VYpi5rVY6RI+mZ5SRqSlPbVXGhuWI48yNnSpW/i4b8/gNdeeQ09PmD8jGPx81/+DHNnTUEcx1KqHqkWzH5ALByRneRPzWJIXoQ6/RU9pi1h5IwJDMy5CkeIr7CnWKSf8K6hJWZGE9F6Ojrwj3vvwV1//Sv27K+Bx5WOkROn4GvfuhqXXHgWEpm+TX2PqBaP3H03+437UEkFisRknH/Jpbj04osxe/oUONkGdGlHeFB1WZ+rQ3TCPCgvlTcN4cWsRwLTX2KI69UBhL4Xyb2aWVLUlKEovqYyV4tJ1R05Sn2WXx1bQkiaGgxh+NlmetDRyT4yIZ2GQQJcHHzKqjPdEwsYO9wFr7sNlRU1NLp/xUHWIFx2xYU448wTFXsm36KCFQ/6UqWn6rNcDLinuBc/ykObrsJbpKzknvoT+Yif9rVLufCoFsMqH8IkeATh+AUROf9ImIxGIzqDJuRaNQxx8qeOkRvqYGZPzkUEvTeUU+Gp4O1O3mMj0TQihc4g8uxQTSWz8UillxAiHB09SuiRiqGYMQMI5CjX8vwxhoYALWtzzwqVuBwiHEoDVM/7I/7mqQ5LR16EV3WueDGTkgKL8K5uih99hWdZw0FCyl+sEuFPYklnYL5VEUmvDyqB3jOBjCL7HnD03RfO5ayPlz4nkPv975kxokE/jsDsNg88/m688fp7WPX+VsyeuQD33383vvWtr2PSiCHwtzajpbULP7r+t7j+huvwva9fjvEjC7B+/SqkD5uMOQsXoLAgF062ymCAHDOvvZ0qz3WZ0o/3zUkjKVPZZkQgzxyDstun6jxlJoh8SucpzYSNQxmFSlHQKKNxqPkWJ2dmbeAvlaCfxo/ctrPB89DromWkjE/xlIPQUJ5R4L24mBicMH8y9pbtRFVtO46afRLuf/wxfP+ar+Crl38JQ3NSUL5lA559ZSna/OnILimkQZGiOhhJyxeW9TS6/upy08nK1K+aeRL+TSYoC+nQJPc6LxEaPr8y4mRjNV39aLRTajQJeEZlJjISS4ih7Q4nkpPTcOppp9CIOANHHTWahgINg5AXtMmZBMMFPVj7zpv49le+iv2dLmQVFyAlI1WlpTtHnbbMnDkcLuRkZmHR4tNIcxFGjhpBejK7p7teCarrpJiqfWWsKQiE14gv05bsSpWQXiEQ8KpO0s5MhcXQ5590iGJIa6ehy4wUmaQSVyRp8VI3I6fybF9VB9XeIpBrSVApWbngr2pvKgbiXDacMGcSKndvR1VdK8bNOwH3P/Ekvv21K/HVq6/AVVeehWOPHoswed3daODEM87FmNGjEMu4MtMoM5P9R5vCUAhejtYlN1LOXsaVcpFBl+RPylnKUZCXnYfxbFspHLUuX78FC0+9CNPnT0NWdhpYbKoeaVC2Ph8Mv5+0XLzBkuJ9mbHUBo2kz3xLPumvR86ap0hSCiI6oSkLyGWwpupphPfePPBHwomLIRNDczORS8tmzbvvwR8MoNPtxtAx4zBh6jTEcuQog79YlwtDiguRnZqKD2iYLTzvElx05RWYMGEc4sirvN0hVdQnbZgJOKWvlbQEwohCJGFCNX06qRNSe8SbZl3kWqBjy6+uH5quggQWMcil8pK9f2V2V+Izz7KJIm9EQqvEZFznk9f5GSlMfmTNkJPlKmtZbPIoJ9jF/L+Gb37lK6jqtiOrqBBpMnvE6H1lRDCugzomPasQJy1ehBMXn4wRo4chxiV6RweRg3AiM+PSrwknipuo+738K+iWIcaVT23dzDRFl/CoqrZab8NzRuCBEaU+iDEcoSyeQquX3pFDpPkdPiSz2pFhxaxkIiJ8Zj6SNZWgVrYaOqxkPlJhegnJQVcNBfqpDl6MDJ4LBbPwxJnCikSkhxz1ZX8ndMRJJyi0tJ8Jk1PxUoVr5kGdyw19Uzc2fdR5Ej60ijf/BL1XUXEkvnISSwyJXqeiRMGkEX1LGytahv0jyJXmw5SJCckRyyPKqVz2jx4BPfkfokHR2dWJtrZO5A4qxDVf/QaGlhQjPysdMZRtj5uK0enA4JIhKCgsQm5hAc+LMXr4UBUuISFelZeMFl1OyohHeYSq+nEicqA/A8k9OnPdvPAta17kDRh5DCaPysTICKmwcldiS6egYxiGTLDG0Fc/+pLGKePEEEfdwUAHG7R0uuwhQjSSGFWeLMmsjPQzQjdiivSHeER5MmXFVwoF62QjTk5ORf7gIcgpyEf2oHzmv5CKZg5OPnoWvK2NeG/lOhxoboWHNESVSPfnYMJSl2T1u19m4MzOkrdVJyCMhHXpST4EemYgCHuAVKg8Yph/+TaMiEIgilyW+wao0nyy1Jl1WmbKlHHCfMa74pCVm4fU7Gw44mX5r498MEHpQ0m3vrICW1ev5UizniOsJLhiXJGUNV8ySyjsqzJh2g4qivScHKRkZSMuMUnxh5BP3ZeWIN2h5Es2n5OjzE7Kiwiy26xA5jzkEZGfLiQ9GyOKcelUj4RCvEelLF/s5S3xUY8Hea5j9x0VSFe5KE95VLHynWW47gc/wSP/fBxtHg96mBF5lKmDSQQx4ZQZR6d95a58kTeF1q+Nxlpm1iCMHjceg0tlx1263Gzk52SgOD8XY8aMxphxY2kspyM12YHYWDti4lyUj/QTVFMsyCANNtlUX9qoyCZEP3Ex8h0h5iwko3OWlXDgJwsinjiWq3y8EB4v+bBjUH4BXPG6HSk+pSxEgZA/Gwcf9thEMi71RW7rGip1QcxKpWzJj8w8GUHywngyU+GjYR+gEteLa4OQbXOkSYk9IgpKHmuJXGwRA1eXg3aSj6SkRGSxD8hOi8eC6eOQFBPiyLscO/ZUoYdtNih9qqyRcLI+Mq48LJ01dx5Ki4qQ4JLX2c16LbPWlA4vRXmrAYXkjx5hNngZHyg/FVxaAy8kTzLIoFGuN0OUls6c8jwUZlsPBXgUk0rqoEif+WVC0rdokCHVZ3h4XzZAlPKRsicYX1XaAOseMysGv8wxy0sAUiQSV9qNjUZGbeUebFy5BmX7mhDDNuOURdgMwWwouUqfZcisHyE7KTtpPKTlZCE5K4NtLF7lXWWHkcSeEsNStVe5I3mmk7YjQRR//FEz9vRUrPBaNI08Lpf70p7YZJS/DLjlRJZOSeBe7cR8SFn+O8E8aFF9HCRTA6EyqU8PAiH5cWT7x/6k0NH4+HQjGEhsQISPT0+qolnlo3FIKR8hRHP4celGh/k4fEyORdv3u8XGwA4xaHSgp9uN9Wt3oL3Vh0UnnYzYeCqNgAf33/MP3H7nwzBcCbj9/gcwdswQJMWG0VBTidWrVsGRWYwxkyYiMT4RlbvK8c4bb7EP9CInNxezZ07HhPGj4fF0473XXkHF3mq0euzIHDwC844/HkOz4xB0t+GDNcuxft1a9ASdyB8+BXPnz0SpLOJlo7cFu9lZebFr41Zs3Lwffnsmjj7+RHb4sRyxiyEhdVYMB3ZlwU62TD/Wrd2GlSu3wueVnouOvefoqeRl1ixkpScjkV5qVE9RapHwhEclWcpHGnvI60bDtuX44U9vwO52B44578v4xrevQi71Q0zYi2BdGd585nFcc/3N8JUuwI23/honLJiGNHsAcUYPycli4ji0t/uxZesuLH3rbaYhwrch1h6HEcNGc9S/GHEJyksnLJ2mzL7w2FHfiBVrNmDdth1qxB1DWcgIy293Iad0BI475RSUpLIj9/Zg7bLlLIu17DbZIcZl4NQzT8XoEYVIsLMzDfSwXHZj9Yr12P7BJmzZuBnrtldg6sIzMHxkKQ2leOTn5WL+/NkYObSI4vNi3cpVWLN6HdwGR2ixmThh0SJMGFGMVBd5CHrQ3eHBq6+/jYqqfWrkPSgvDycvOl6N2OStj7Ld5Xj9tdcRpEE0fPRoTJo6EUNLi2lc0LiVR34UvLxxsqe8HC+8+BL8Pskz/RwJyCsehuOPO47lm4wYmZ2U8mAhizM7p7AoQyoBb48bbz//Mm659a+Yefxx+OqPvofElEQkUKDK3KRytbEcdM8axyQkIjtldv4hfxfad6/BN75zPQ74k7Do8qtxxZUXIJNl4TTcrEdd6OpowZ69DdhR7cXEKZNRmj8IiWRI3qIxwp1URA60d3dhy/btWPrmMtIVwzDItuBCZmYGkrMLUNsdxOz5czG0MB8JrFfCl40ysLNebnp/GR79+9/x/Fvv4we3PYJ5x0xBYXaK+jCgS+oB89tRJ/VgLdZv3aZmQkSxyrS93+ZCbulQLFx0EvLS4+BiWav8ShdPAYVDDjz/8mvYXV7GUa2XxoyomnScePwJGM02nJDICk8FG8tBghqoSEOgcaAahYAy6qirxhvPPoU/3PRrnHfRefjHS0vhyBuJ86/6Gi6/+DSkMJiY9pU7N+G5px/HU8+/ipvvfpR9xEjKIFbxor66JNqOdVgMhoqySrz04gtw+zxKcduNWBQVDsVxxy/EoAKO+NmmdWFTzlJOLD95qODzBbCrrByvvvomvF4aTGy/sjYrOysHxcNHY1d9G+YumIVRxflIZnnbRcGHGqWho7ndja1bK7Hs3dWqPtkp22QabumZWUjMycW+Ni/mHT0Xw4vyKHvyyv6rcs9OrGY72LZhAzax3azfsReTTzgFI4YPQSoN6wIa7Qvmz8GoocWsSz1Ys/L9SJtxIeDKwQmn6jaT5mIfRcOno7sDr73+FvZV7Uesw8X4+TiBfWBqeiq8bNs7y3djyatL1CP3UaPGYPLUSSgdUkwzQow9tmMaY+GgHeVle/HCSy/D6+uhfER7xaOgSOTHNpNPY0e2aVB5VKVIWUbcEYYan1j4vOII1YgoMtqMEos3ASnJyThuYb66Vo8TbD50t7fhQGMzGtx2jB05Hvn5ORwpy3LTMCvuMJxx7hA1umxp68Cu9buwes1mrFr1ASrZMOISOTJhI8pIT8D2zRuwfd37WLV+OzYf8KBgPDvX6XPhbdmPhqpN2Lr+faxbvR47KloRm7sTiZn5yEzPYsMII4YjYdh7sGn5Ujz46HsIpnKkOP04ZA2iwmDHqswJNUL0obGpFru3bcdbS97Hxg/KkZyUyb7Ei207dmP4jkqcFZeKhcfMYMcrnSCjSb8lTgsjAunIZKbDh7rGFrR2+ZCeUYQhpUXseNmIGFgGgSqWrLFh4zVsHCmxp1SjDpkikLeSSKfmwF5s2LwbS99bjRXLVyArMw2xHMm1NnVjbcZ2uBLScfQJ0/UiSaYvI9UQ5dnaWIPVS9/HG+z8tu+vVetXXDSqdu7Zg5qOgJqSn3jsichPpRqgQqjeW443XnwWa3fthZExCsMmUnkPG4w4UZ6UX3tLDcp3bsG7NDjK99YiITkdQU8nKnfvVrqjc2gpjhp3FEc8uTQGulG7dyfeeukZrNhSCWRNRPGoiRg9rAhejxv11VUsz100OJin1RtQU1eH4qGDMWXmONhYXntpML6/bDXe4/1dVIBjJ42HM8GB0tJcJVsZyXWwvlRWHsC7NIJepDGQmZlJRWlH5b4WjuZy4bIl48yz5yMmUd4J00af+pFjFORS1hHZqcRlY7xAmAYJ6cgMlArKwtXzPlK4urbrgqacOfKrYfm2u31IyS5CYX4ew6raj9bmVnT0dMERl4gxUxdg3FQbO2+mxfIVImokTwVQXVOFDTQk3n5/FVa8vw7Z6ZmIJZ/B7nb45FFIajYOONORPnwYCmhMxJO2fB04xDopaGxuRk19K1LSB2FwYS4VXJzmV5Qoy62ttgWr33oPry9bhh37D7AepMAV8NNAqEJtWwDj5x6Lyccej6w0jl1pSIgBGyCjDdWN2LadSvuF51HbUEeZxqpZig/W1aG9zcAFF52GcROLaQjKYELSE274o0TDDCoLzkCH149mGuTxVNgz5kzB0g2bsLm6Gls2bUfbohOQkOpS6+Sau7rRSiN0MOvB4FwqaPYRIkeZmZO2ZLAttTe1o7JiP957bzmee+5ZpGdlq8WZ+/c2ISGe565ELDp9PpJT5JGejNyFmRAcNLxa25qwfQeNdxpdry55EznZg9RsXSf9ZXYia/Bo7OjgIGXYEPX2XALj2mT4TllX79uL9R/sxDvvrccq9jF5WSwjZYh2wCubZyTl4oAvCbnDhmFoUQGVJA01DqLaWw6gTNrMyvXYU1mLxKR0GO5uVEmbYSl1lnayzYxFgPyFAm62mQq2mZewnG3Glsk2M3oixrDNeNjO6moqsGn7NqxduwYb12xFY3UzivKLMGXCJA6IbKjYX4H3lr+P5StXYOeWcpbNZDho7BSyzxEZOtifKPlV1uC9ZavwwgsvsE9K4b0YVO1t5sAvh4ZtCs45Zy4S2WZUcf6bIeX7+Yaq7AOchUOH9Ka6R9VQMpRnnzIdp6dk1QJRQzo7DzvLPXQHEOCIKKu4BPGJTlZ+3mKHbcimZXTy2m8VG91bLz2LnpYmPHDnnbjs/EsQ6g5g6+adeG3J27jl5ltx0imn4ZpvfgtnnnM2xk8ajbycGLzw2it48MEHOTLJw02/vgEnzp+Jqq1l2LG9BfXNIabLdOJcMHxuNNTWormVo8HYWKRz1CojHaoE9nscuYS8cHe24+VXXsMPr70Zu/Y045vf+R6eeu5pPPHUIzhp4Vzs3rEdz7/0OjqpaWgqkX+qGHEUiPSfMkriL8/Z+dE4CJFuXUMLOj1+pGSkobAgm3mVQOwgw374qFA8FIado9DsrAz1mXc18czG76IS97mDeOUFjppv+Ss27tyN6266CY8+9QSefe4ZfPvbX0dnRxO+94PvYG9dA3rY8XHQodL2ezqw9tUXccfNf0F8XALuuusuPPn0E3jimX/i0ssvwZhp05E9YjgyczkupAwSUtJx9lln4Xtf/T8UpmaikOWUlMLulOUSoPKLjXFhxrxZ+OUff4kLLrsQOfmDMW7aXNx739145tnH8OwLT+CPf/kdps2YijDpJdJwueDcM/HDr1+NHI7A8gtKkJaRiBiXjUq2BSuWvoHH/vkwzj3rDPzflVchNysfTQ2tVH4hNLY0YinvN9Ttx2233oyjTzwBjW0tqg4ZVHYyvRw2nNi4YgP+8odb8PRzL+PiS7+MRx9/BM89+wwuu+hiNNXW4+G/P4RuKihdKDRAWCelrGVqXtdhVXHVqbzN5fPKjIlcy3obxqCTKWt5DCDvHIhJIeqJP/wXenofjp27qtDc2YO4hEQq5BQkkK7UiHUcYT774hK8s24LZI5JzJEEGkqyCZwkILx4fUG8+uLLuPnmW7Bh63b87KZf4XGW07PPPoGrr7gITo5W19OATEhKQZwrVo8Uma6NBrbTEWCz82NP9X7s3leLwpIRKMzJQoqL7YlhxBzy05hZR+V051/+TGWRiNvuuRePPPskHmOZXcJ6MG7aNBTQSMkalEyjgEYlE5BHRrU05p7+x2O4+hvfhjMuHjf8/Do8/8zjuJftsrSwEK9xVLty+Uo1S6D2izDbgJKoKH8xxWTk70Z7R6v6kvOE6dMxbspEHDWqCHYamzvYrjdva4DXL32FDS1sl40t3cjIokGUEE9jXUw8UqU8aWKrMlm/YhX+9Ps/sB4/gwsvuRiPPfEoleJzuOLyK9Dc0oYH//FPNLS2UDlLWQsv5Im0A11erKMCvfXm2/HCK2/iosu+jMcffwLPPfM0fnn9T1BaNAivvfqCqrdJNMpF0PKxRlHwXhpQL7/4Om7+8+3YsGkHrv359SyjR9gvPIIvX3khK4kHq1e+j9S0dCQmxCkDRco6Ni4OM2ZOxS9/fT3O/9IFyMwpxujJc3DHvfeS/6fw5AtP4Xd/+T2mMkyYBlFCSirOO49t8BtXIyspCXlFJUhlm3HEGmhpacDyd17BIw/djbNPPwlXXnYJMlMyUFtdx7yG0dTUgHfffh1NNftw+y1/xnHHHY8WtrMDrBtBDpDkTbtg2IENK9fiL3+8mby/iIsuvwyPP/EYjbKncfHFX0J9fR0e/PuD6OnpoeQElKBqK1qS2h1ZHJIxodrqAHfoOLzY/24cnLuD+34x8An5OlhWVSUUdetGW2stunvakZOXg2NOPB42NjKqAwSpVMOiWFU9dWLKtNn44Y9+ih9+/zuIp40R2+5GvNvAqmXrsbWyHr+84+8YOuVozD5uEX78w2tw7TcuQklqEr539dW46/a7cdY558PPEXlbQw1JOtihOjmqZqOW1WqiFbvC2FlejY6wHVklRTJjLX0gR4rsmIOdcLdUY/Oa9fjTzU9jUOlMnHfFNzFv4Yms8ewJQ63Iz3QhgbW/s6kbXuooUTayZkeer4ojWd061EjKx/7Ry9GJF6vWbERnaw8yU9ORk5OhRgmy8yniAqjpasemfY1o9ztx7uIzMKm0AOnOEEc2fvVmxbuvvYtHH3seyZmF+Nq3f8CR3WzExSdL38vRUzrGjMhEW3s13nz/A+xv5kiWJk7I5oMv2IX3Vy1Xa3SHjCxBXnG+NjSccVh44smYSTopSQlqhsSEmFUyKgUVQGpaAuwuJ40aloODROxJKoP1lVXYV7EPHVQA6QUFHGnFUjnqp6xCShbNOh2xzGO8mpiiNkNM2IPslEQkx9JoYqCM3AKcefEluO3e29VMRDdH4PU1jfB0UwEy3mAaHtdcfSWu/8l3kJUSy7wGkZObg6zMDIipZXCUW79hN+678wE0UUlcdNVXcd4lF3FkKs/dncgelI3szBTUVO9FZ5dPPR+W0akRku/kdPCc18IwIepPGQXybFkMYocTsaQhcxl+BpMsBFkaAcTTia85MUsFaA9ypB7A8vc3cMTXpvZ6ycpM1/XZSyOQhsT23ZVI4QhYvEQ+tgDjyWiXysrnd2PVknfx+GMvM41U1t/LMWfGArhiaeSSj6zMZBTlpCGF8jxlwTzkZ2epmSenLAiRBQKsQ+1N+1HTWI821u/UvELK2YlkVvVYMSaoDP1eL9auW4k4yn7oqGHIGVyAoDBCm3/hKQtYD6YgOTlOGfPy+MjJG+017Vj62nu47f5HccJpF+Pyq7+BCVOmsBzCSIqzY3RJLnzt9Wip30ej1c18iaHkYltgWbHCyfobtfiGMgqI0bB9M7Zv3YrSwaVwJiRg4cJjMXHkUHRV70P5+jVqlsQmr422e5glWYg5lnmLkaUIkE8qqTLgRc3WKjxw94No6fbikq9egwsvvxwkR3l7kZmZhrTUNI7+q+BmwclDDbZqcuBkXDv27qrGvXc/SqMviIuZnwsvu5R1l4qaFkpuRjJK8jMRT6N+ojxSSGbdJ1kx6P1BN5a/+R4NqdcRk5CFcy+7CjOOPRGuuEzmMU69tprHckl2xuKME49FMeupQNYvqEc+LPm6qgrsq6xEF/OQnleM1MR4xNN4YKtiLyXpsM0wvs3OAQ8jyquhYaabnB7HgYCaM0POoEKcc+EluPfeuzBj6gT0tLah7kA9PJRbkI04h+37yqu/jJ/86HuKvt3dg9y0JBq3si6HZRTowQGWwT133YfGTi++xDZz7kUX0ACOZVULs32lISM7EdX1VWpdjIZkgvVMOTk/8og0w4+HajgHcYeOw4v970Z/zvTfQF/tvig4SJ4il+oQOfaD8qBV3diIzvZOjoySkM0OT0YyetEs70oY1flQKcUmII0NIDUxBkGOZsq2bUV3ZxeOOmocTjjpJBQPKeEIPgEuugwaETkp8erZc3pKknqckeB0oKelDlUVO1UDSWbH6op1qAVLMvKsbWhDbZsbaYNyMWbcSKaneZTFfGL4VFVsx713/A21LW7MnH80pk6fokYpsojRx1HTPo7WBMOKc5FD3SpqRUaKkgWVF/6F2PuF1YpprZQ9PS3YVlaBli4aRuy8stOTqZI4bgl3YenbS/DXO+7Bq2+vwvgZc3HCcTNQnJ3OkS0bs7+bnUUlbr/zPo64fBg7bgqmTpqEZBpisqBSWE5OdDLv0ln6se/AfnS73cpIC7D7lVF4F0fl9Q0tHDnvxu7yXaL+4KNBUDp0BC4+5wxcevYiyKNlBXaqPsbv7OhQswMzpk9CLhWj1Gu1n4rqHTkC4uiljSPA5OQsjOcoyyVClLIUEmoEQ7lQEcoUfndXJ1ra22lgODFrxkTkZaRRXlTfNo7CKNeMdBcC3jb10Ty4XMgvLkV8YjJiqdnk7YQkl4HO+v3YtXM3ioqGoKR4CBzkrbu5Abfdciu2btqJ4UNGY+6CY+BKTOQo2I7WxmbUHKiBxx/AiDGjEc/OUo1rZR2AIwSHfK1OenAWXG+d5YkoQLXni8yo0bgUxLKnk6AyupXJfx8VtizLkA3uxFIyZAM9dxv2HGhAh8fA0jffwfev+QbOO+t8nHfO2Viy5E01GkyXR22KIkGaNsaDt50KoRUP//NZVFQ2so5PxUIqqXiWr6pL7ND1Zk129cZDMRVWCmUdw6RVByyyNnw4sK+co9P9zBvlN2Q4DaEYZXAoW57BZF2GGGt1DfXYuXMHysp2q8XJHrqSYSNw0QVn4JLzToGTeXLITIKvC8uWvosn/vkC6aTglEVnYtjQYYhn25Q31VtaWlC5txz5+dkYMriYxkU84+mHQLKeQvbO0bNyfrpuytODprYWtPZ4yd9IOGLiMXrkKAwrykeosx67173Hqt5FHrtQsa8OLZ1hjtSP46hevzput7Hc2I46W5pwy823YcvGMgwbdhTmHn0MnDSGJY8e9hF1tbXo8ngw8qixSE+VdTIOyiDEZu1FR3MTbr71XqzfVMk8T8D8Y49HYnIy270dNlcMOrp6aBg1I4kG16QxI5CfkkzTUdYqsf36OvHPx5/DzrIaDJF05x6tHjFKHZZdKeWxmNQSF8uoMC8LiXEyM0u5i7caVATQyMFNG5V/cgrbzNTZiHUxb5SVlKNZB+XNDxvpSX/X2tpB3pyYMXMCBtFIkrGMjfUo0RWPrKQ4hHo60N3RzjKPQW5+Ket+Eus17yfGItllR09tNXbv3IXiomIMHZyPWHnU3NWMW2/9KzZv3s32Pxqz2b/JQlAZDHV0dqC+vhZ+vwdHjR2hd3BV/EcxKO7fAFWX/5Nguzios/BfxkEKotdLWpMM1z1hVO2oQkNdK1wJKcjISmUnIQviqKZ0i2N4Hu3awJBOKBBuR3tHDXZU70EsR5hTpk3A9IlHqZEt27Cq2HKQUYU4taKbysAIeOGnEeLu7kBuySBk5iewwcgiPbJCC76mrhFtPT6ks2MuLSmUQazqWCVdT083jYkKrN+wFZOmjMWkySMxaFA6erq6sH7NRvzxbw/i/Y17UDxsGE5cOBM0+NVXVKWhKyfn5InjW/Ur6sfPUXBj3X7sqaMC9vmxbv1a3H7rzfjtr3+FX974e9xxzz9Q09KNuSeegku/8hUMGVKoRn4Oowfezhrs2bUZH+wsQ2puKYaPGoOczFT1EEkZMbKugkrPLs+4lSHAjltGvBwNGUYMO6xELGCHIdPuG1auwF233Yq77rxbpRdDo244DbMJQ0uQTn5lPYg8lqpvbFB7QsirfuPGDEUajTSld0XgqlNhx1hfg46OLiSlDELpkLGwUXmJDKVTUmXPo9ZkDrVWRBZXOl1OjBs7hCPHRG03svwZkQ7oamtFe3szwjE2ZEmZyGZWouhp+ng62rBv6zbUH2ilMTESBfkFCHjaUb13F15f/T4yC/Np8E3G0KJc9tlBjoDLcP/fH8Wrb72LuPQMnHX+BTTgklSdkXcVvB4q/t1b8ec//gG/+OUvWQZ0PP7mppvw1AvP4gA7/RUr3sWff/8b/PamG/GHG3+B3/7qJvzxlrvx3BvL1aMKWcvP4uavlG87mli++xrbkZhTgknTZlHmszFp/Djk5uTB4YhFIut8Wnq2GtvJeE/2qZEK09XVgu1bNmPlpl3ILB7Nkf9MDC7Ik/E9y5cKlPLuos3R0snyccahkEZmamyMWngpb7ypguGxbv9etDRREaZm0UCeTFnL2zm8J8Kli413Yd7Rs5GRkYANq97HvTTC7rvzftS3eGiUp2Ao68BRw0uQTJk7ZRaxfh8Vzgbsr6unQTkb40cNo3GfoDaie5NGxi1/vQMVtTWYdfQCTJwyhW2ZhoTM/IjByTITOdvkUZRyIbS2t6KG/HXbXCgaOw2O2HTkFA7ByOGlyI4Po2Lrauw/sBt7G6uxv6UV3WEncoYMU/uWqH06aEgEuhtxoHwL3mTZZBUWYtq06Shh2YfYpjZvLcPd9z+KV95gmaem4+zzz0emrA1imTtpbAU9LaivqcI7bMPhpBwM58CklApWvxPD9sK62tHuQ3ODF/GOJIwokYWRNJBo8Hk6arF7ywasXvcBsguHYurU6RhenI94xlEPrViHu91Aaxdp0UgaNChT7Z+jmoq0AZmdsQfQ0FDN/qwLiamDUDJ0DAc6sl7MLCEJK07Css3Ut9G4rFZve4wdOwwpHDRJIJuyrMRwN9Dd2oy29hb42YFlFQ9mm4lTM4LyOmd3dyf20Gjc39iGgiEjUFBUhIC7g/LbhreWr0BGQTH706koLZQ2E8D2rTtx/30P4o033uJALhXn0ghOiJdVOYTMrMiMrtr8UTg98mAK/3mojirKHRZ6SzHKWfjXYBaINB46c6MYUQdGiAZChw/7du9jJQ8iOzcPmZlx6hVOByunaVDoWQpxjGn3w290oKmrBvvZEWQMK0LJyBJkp8apEb1Z+ZQBIhVcEiNk/w53dw/aqcBCtOLH0iDIKUyBK44h2akF/F5s212Gbo5e0tNTMSgrXRkAEl9ezaqvb0DZ7kq0dQaogGNRsXMj3lzyMp577gU88fjzeGt9ObKHT8CJpy3CvJkT1T4BspBO3svXr2gpjqQ/YEcvfAXh6WrDgapK5qUbaQVFCFKJ7ty+BR9sXM9RUjm7ykTMO/4UfOWb1+C0xafoaXoZiRndHKHUoIKKz8MRY8HwMRjE+Op7NRxp2mk02IJCvwc97KRk8VoyO7FY0ney8TsNF+Ji03DSaafj1NMXIS05Hktfex03/+FPePbZl7FlRzk6O7vZKQKplLl0ujYZ5dbUYseeveyFY1CUn40EGR0yO/JFXtXxUkHsrdqDxqZWtfgyj8pPFo+KMcG7EQnIkVeUgXyht3xvNfsiOwoK5RU3l1Lssv+B6EMp+04aEx3sGA16ZpfkUxlKVOYv4EfjvhqsfGcFSopHYvTwUSyXJHS212H7tnWo7m6BIz0ZDS0NeO/NJXj7pVdYTs9g2Yp1iOFI7diTF+KERcchPvIMW0wAr6eLxsQO/OlPf8CNv7yRhoR2N9GYePr5Z1DdeAArV76Lv/z+t/j9r3+Jm2ho/PZXv8PNt9yDl95crgwCZcwKQZavlwZB9d49aOp0Y8jYqbjwy1fhuuuvxc+u/TG++tWvYey48cjOzFKLkmWuQ8lIxQ+jra0J69fpLfFLx09H6fCRiHPIy8p+OjfCIR/qmznibg8iY9BgFA6SmQkny0KUDoUnlZd1oKm6Bp2tnUhJy8TIUaNhYxhtlEtZ2GlMJGDh4lNxypmnID05DsteW4Jb//AXPPf069i6o1KNymNIK8khDwTc2LtnG/btr4SPZR6XnIT1q5bhrddewdNPPY2nn3sRW3buweS5s3DC6adg+OgRtCEMyJbpYvxpQyJI1uQo14b+WnJbF0KJ6cgoHQGbKxXxqdnKmBhVnIXG2j3YunM9jeYtqOnoZEVmm02Lp5wpqKCXdd1N5VmD7RuWo66jBTE0jhubG/He669hyQsv4ZF/Pos33lsLFjQWnnIsTmS5x8VSubKdiCHi6a5HddVOtLh9yB0xDoVDhnBQYmNexZjwq/0/mpu60dQcQkpKAfuFQYiXx3uGF50t1diydiUamttx1OQZGDN2HOPa1cyh7NppUP6Nzd2obwsgPa+ExkQW4il/ZWhI+Ug5USZ72Qc0NLVQnmnIz8+lMSGtSuqkOGk10r4oM+a5roEGb1Ut+zOnWl8lxqD0bfr1TR2vS2Z66AIxDmSWFCNGbXJHajTqamrqsPT9VcgbOhJDx4xlX5eOruYGbF+3inx2wpWSruS37M3X8NaLL+OJR55Ub6fIW3Qnn3g8Tjr+OLb7OMWb4lAZE5KupK99jySE6qeHyCvaDcAn3P4C4nOY44OxLIqGTgYmaoaAJ/qPFY/DVT87kna6tMxsjBkzAmJoS9WMRGMoFZE+jEEPsdD9vh40tTaim51SSmEBEjIz2FVJZ6fVVZQNoWjIM0VZNNdY10qDoBZuj0u9EpVDgyGOowMXG77H3clGthI9vgBycrKRSYPCnNmQafyqA7XYvqsCPex03n/rLfzul7/CN792DX72s59hmXw2/se/xt//8TAuu/RCpCfSIJLOUxLvhfAuulVGCGwi7MzcHe3YV1WFAI2q+Sefjhv/cDOeeuZZPPP0M3j2eRopTz6Dq7/yfyjKy0MihSJKW7/SGVS75TXU1ap9JLJzi5DKkad8SE5WpdvYAYbV/WYaAG1wxcRypJGPJHYCsuODLNy0cVScXFyCb5D/H99wPRYumI8gja1rv/Md3HPfP1BWvpd5lxkUKg12VLYAO8WmBlQ1dyAUl4QMyichMmUuz94NvxuG14ddO3aqj+WlpMeheHCi6uSUFFQ/I2cywg3TkHSjpaMNNa3dCDpjkZoer75dIwvq7PJMlmUsj3K62prh7ulGQkIiioeUIl7m8cNedNQ1YPPKjXh16SpcedWVmDFpJA2mIDpaa7F1y3rI1tVrN2/HzbfeofYz+dF3f4jnKNvFp5+O++//G3523dfBLKi1N/LdBzH3HDGJavfV3Pw85LNe5VNmBYU8L8hFBkdl8nqjPEfPyR2E3JxByMvPp8tDAa+zU1PU13kTmE+ZogbLoYdG0L7KCup0A2MmTkNh6XC1jkZeRc3KysSESRMwdEgxEslD5IkaxcMAQT/c7c3YX7EHoZCdhkA2khNTaETQUDQ85JdtprEK5RVlaHIHMHbGPGWUxDlZy6nIbFRS0tbCXe1o2F9Lg6xLKYCMDJmFiZSHNBJpF6wHCUVD8LXrbsCPr78Bxy1YgCCN25988we4677HsKtsP8tYtgXz0OlXGWtpADR2ePDyO+/jJ9f+BN/6xjX44+//SAXWjj//9W946B/3Y+78qSwzKjFWdZGH2mEx4tSH48SFPGipr4c/bFevTobi7QjaYnjfgSGDizBx/EjWkwA2btqA91ZQaXf2IIPlkSTvioqWkXUhhh8dnS3YunEDB9I2rNu4E3+59W+45mtfww+/930ax8/j1LPPwr0P3kFD7hrWW4pXqpA8k6GB7O5pZhnt4AAjSIO8EBmUo7T5WDqRtZsGYdX+fahu7ULB0DFIjo9FEkXnonIX47P2QDXLKAbZeaVITsshXZ0vhLvR0bCf8ipXhsq46bORyc5NHo2pmSPSkM8gGL4wdu0so2HdhJTMBBSVJrOP6FOhupRkiW+Atno3jcxW1Lf0IOyUnVSTEUfDRsLYJF0OhKTddEqbcbPMk+LZZobQ+GE5s4221rZg3fIteOXttbjiqqsxcdIY1Z46muopv80yeYcPNu3AbWwz32Df9qPvfp9t5nmcc/Z5eOjv9+OG676HNA7a1PepIrz9u9EniSMMVkXlDhVmhj/JHSkcaXqSY+2OFP5bOZY8sHOT1c9S6aVToV9QXnvrbEOjx4+EtDQ12pUlbKoCRbIu+ljNEAhk1MVG38LObM3yVTQqDGTkD0FSlrwOKMuV9HjCDK4R4Y/9Tn1NN/bubVPT6qXFhbS2JTUv+6RmtFdXYEfFATiSB2HwsOHkJUs9f5aPsAWD0ngSqBiTkJ6Vhhv/eAteeP11rFi5Su2B8dKS53DMgvHISInXvCoGnNJraMtIMqRGghGIUUW0tLZj1cr1zAc7z6ETUSDPN6noXbZYxhbzR+dKFI2cyyMMO0djQj9oxLLvoNKISUB2TgGVGQ0j6aSoiBBu42h0P9Zt2Ibl6/chPnkwpk+bgVz5hgFpqPTlkYdNnsUkYdr8Y/Hzm36D+++9E4XsrFe+8yY+4KjY46NRQqUvC9i6m5tRsbcG+zhSzhx2lHqFzaX2IxCmSCcmjclypNfl50g5C8PGFIGsqVkR89GLbr0yBg+gvaEOO7bvxp7qVmQWDUMcOz7ZYlrCUOMxgsSg7NkxGzxPTMtCUbbsvxBGT0cz7n/yefzhn0sweMZCHHfMJGRlxDJbNEDkQ34yOHem4aqvX4tnXngVq9asUK/Evb3sLVx47iKOLtlhR3hSswHqLB5JyXmYMe9ELHn9Taxes1p9LG/t6nUcmS3DTT/7BSaMHIPLvvxlvPTeUry9ag1WrF2LNSvfxdvPP4RffONSpFKsUgSKKsupuaYG7y9fyarnQnJ6Dg3lJBqvwpsD2cWD8K3vX4OzTj8BKUw+UXHAchZ5SrWh0RnPyiQzJoVUtDmyxTpH8wiyPHwtWLn0RWz6YDkMl40j6hEIc6QqDzliWFtkXC1rKtxtbdhdXq220c4dlKO+fMxBt0wKaajnTwwborMnYtq8hbjh1zfh3jtYD2jArnjzDaznyLvL1wVfsI0R3AjZWSaOGAyfNAt//vsjeHPlO1i+ZhVWUNnf/dfbMXHEcCSxvCQdqfZiPMleDUFqKkM27qChoBcpUVA9Pdi6dh3aWzqQW8D6wsrO2ssgMSgcOQKTZk9EVpIfa1euw/at5Ujl6HjCiGGqPQjkEwiSiAxNgrKw05WGK77xEzz9whKsW7eWZUe+lr2LC89ZjLxMGr+MI4ZAPNmQmQNJze3txIH9e1hc7WxDiSwjCUXe5NGevwuVW9dhT9V2dLqCiC/MYJ9Bo1Pi0sCSvszjZb4cyXCx37AnJFM2knHmr7sRa959GVu2rIERx/IePhg+yk4GPDKfJ1SU7Ds4MHBLP5aLoeOGqP1gZNEz/5X8pEfTLyG70UXjpHznbhyo70TBkLFITkhiWaoWrdtLUrKyjv1SRkwnkfyUFhUjgXJ103B/6LGXcPsjb2LcrEU4YeFU5KfJZx84WHLJZmDkxZWBL3/jp5Tfq1i7lrJbvRzvvrsUZ1F+6ZSf2J8ysyq89UIu+nkcWYgM/g0wuf503A+M9VHuE/EJET7h9mcAR5rDT0EvcltvfS3Tm/I80YCfI4vl69ahgZ1eanoKBuVkKT2nB/S6I9VPoGU0Tstc3bSzA/BhX0WV2nilqLSYyitH7fgnuyKqJCSOEFEKPJI4O9sudxDNrbKLYBwGcQSSqhashbG/qhKPPvoIDlRXq10H01MSkBbrUB2i7KLooNINc4QYkOX7hh2ZaZkYNCgXg3Lp2AnImwSxtP63cHRUtadMMSF7QahHihGnIcwJbzzYnej2BLGnoprGCkc2NFISk+OZD96UkZwSgoyXpeOj42XYz05MrSVg70B+ZGQjnZozKBsJyYiU1y4xEGKwcv16rOMoIyVnCC77v++gqDAHicxT2N2BTWuX489//qOaXvayu3LGJyA3L1eNlEeOHo2ERD2ClWe38t0PMeJ6utrQ1tIEO3v8yVOns9ON5yhLLxKT/IZYFvV1zWhu89FItMHFIZgMsKRvlWLQ+dCPe0QGPV0daOFI1habgCnT5yA9OU1/uI131S61Dmq+GCeaWhvQ0d6EuBgHctIzUVa5F7+46TY8+eoyFI4dj6u++3WkZKWzA2any4RkpG13yDvwDo7+c5CfX4g8llVeTrZy8mre3soqbNiwUek0XU2EO1lvE4fYuBTkDMpjvHzt8mSnynyOKlMRy7wnJssi4Ty1k6Tcl02F8rOyqPQS4ZKpe9mvhCNeMSQ7aCRv21mhZp4yM5KQkBwLDp5VHh0csqdypJpEfmLIhCx0lVlvNcIkZPQnMxFOKrVEeV000onLAlA/R541+yrR0tyEWNbhAiriRCoTg8ZBkAZ7mOmHgx6OYtvR0eVFdnYexoweDial7QdKx9fdhU00mG77881opBHoM2LgpCaTWZkJk8dj9KgxlBXrAWXjJG1ZNCslKNPrYiHGMy/FgwvVvhm5uYOULGS2RmYclr3ztlpUrWZ81GJU1genS62fUJVB5M36L8ZsfR1H5EmpOGrMUeqWyEf6CWdcLHKKCzBh4gQOABpQ9sF2OH1+lBbksq4bHEVL+xIaHHWLURtHXpmHLA4sxDDJZhlms1/Ik0WPiTEs80ps3LBJ1UPR9brM9Yylg+Vq48jB5QyQR3lllO2PYQL19Xjlmeewbu0GpLK/mDRrjnq0Z5dZFTZqmQv1UaDyhoV8G0Tan8xiymyKV15V3lulvs0idbcgX8ooXtH1Mby87Sr9SVN9K9pa/RSbDXHyeIVsKRGRO3Eacmagu6udA5AW2GPjODiYjTS2U7XjJ++JzMIhMSGAuvpqtNLgjkuKQ1Z2BnaXVeKGG/+Ax597AwVDR+Kr37pCvWUixpvDwT6WZWpnvZcaJ/LLE/mxb8uW2TfKW9Z5yMLcdWvXUGJi3IiEImxFu38DpJQOAZLtg7lPxr8W69BxMPqm++/gYJx8lPtXcDA6pjt0qMcLdGwXUU6bBFL9pLPX2z9z9AiOdnxtWMYRTX1TCzssdtSstDISV41JTQXKuJGO5zL6UOxwRO3p7ERtbS0SMjKQkZ2pttnWcVQ3wEDR4HWQNKjc5fsTPV69B0Gwh9Y+LZCyHZUcwe9EfFo24uMdSHBxHOn0o6b+AJ549mksfW8ZG3AHsjKz2XHmI8wRVnXVXnbGPSo/st1uTU01br/jDjz79FPYtXMnPDLdSH4U+h1FUVDRcLTv7uhAbU0L9nGUkckGnJXOUau8WUJ+5Y0L2eFQjCiRnjQoia6MBTEkOIZNS8/D5ElTkR4fxt5tK1FbuUsJXKYqy3ZX46XX3kNzTxDzTzgep515HOKp/OU5rburFbu2fYDnnn0Bm3eUobObxhU7Ivl6aVNzK1rbvEgfVIK0rHzRaFqmVE5+XyeNty4kkYVSGn2J5HPN+xztL12G8n217FvJoSgdKhrZEEt2jQx6ZfW5B0/880k8+8zz2LtPXsmVnARZFrISnqZMTCwVNjtaHtdxBPrO0lUor2pE0HBxxBfDMG54vR2o4+jx6Scew223PoQl727jyH4kzj7/bEydOAZxNJ4cHJnabIlU9vkoHTmBxp2DHXUFOlrqVRUIc6Te2tKCx594Gg/+40ms2bBDjdilc9fyFb6km2QG1ZUqsF6Ya33EW+5Eh5C6p1WT1G0v5eVFV5e8QdCGhmY3crIGsXwTFU9SvvLqpbQTsWTkYJavSkB5ONQbSbKvSJzNh6bqMhpy9ej2+bB77wE89vRL6OgOIiEpA0lUAiWDCjmItuGFZ1/H8pVr4A3Kps+Al8pXthhPSpbtqlPh9vTg3gceVWUmRu/u7ZvxHJXllm170NUj9YC10+tBc0szWjo6kZ5bgDQaIqL0bXYad7YkGi5DmJdUeDvrUVOxmXWCI3giQEN327ZtuOWWW7DktVdZt2kks70J1MfYlJM2TbnRaJQ3Xtqa2lFd04pAwEA6jTFTcaj9PmgoZA4qxsw5R6vHF10d3Wq3y/zcTNVHSHWDfEOEBmBCUiaKqSRjXE401h6grJpVXmT30+bWJpb5P/Hwow9jzQcb0eVT7zKRvsyXJdA4yEZR8XAq8TCqD+xAa1M1xy0BNNc34vVXlsDtDiA+MZMyzMWwYWNpp0s9E06diItPRU7BYBojdta1A2hnWl4OdCqqavDEUy+joyeERPKWHJfGNjMY3i6D7e4NltEH8PmlP3TQCJadaikWXw/83e2UWRidNAAfe+wZPPHcq9i9v5E9hpjhYXikzdDJ48AiGrHyqurqZSuxdOn7qNpfR1nQuKILeL007ntQX12BJx/+O2695R68tXI7CoeNwoVfOguTxg9Xj9rUpxgYPj4xDQUlw2i7O5T82jlokJops0rt7KeefPIJPPzQQ1jPgV+AdbBfnf0345A+9KVbzkAIexEWjwCnUdQ+NT6Bu88o/vs5FirSkPtDd7z6uypiILDDatyH9955C4898gxqGtqRkMoRRX4xSopy2WnIu8/SMUvnI8Q0H6JYQz3tKNuyGc+//AZceaNw3EknYkRJQd+aAgaVkL2cS3RlTNBir67Brt27UbZ3H1Kz8tBKK7+8bA9kY6GZs2djx84t8Li71exEG4+bd+ykYRGnvgGQnZnMjrMHu3ftQXtXN+NwVNFQj4pydsq7d6pp3rj4eHY4w1DE8PE87/12ijAljMg0dVgMiSZsXrcBr7z8Npat24H0jGLk5efQqEjleTI7W2mssou/mGG62YrhIrMEahtjnsuGN5kpaag9sB8HqvbA3d0JL0fCu3aW483X38buygMYOX4KTjt7MSZMGKbWLoh8muv2YtWKZXjp5XdhS0imsu9ADUdQW7ZswopVa7G3rgfT5y/AzJlTUJAjH4OSZ8s0/Hq6sGXjdlTs3os0eQMi4MfWbVvRQ+slXWZo2Mk77V5s27oZ+2ob4Qk4EE9FV8sR4arly9XGOYWDi5HDkRLHc2odxAaONneX7UNKcgrTCamV425PCBmZORxNp3M07EFF2TZs3LQDG7eWYeeuMvS4YzBywhSce97ZOHnhfKS4JF+UFztF9QVDOw3S2GRs21Wh3gLxdLehs70Fu8t3Y9eO3Xh/9Xp0eoMoHjIMw0eNUmsmVHxVWXSdUU7KTc54DFAplrEurFq3BsXDh2DGvDnq+ySijmQupbd85ZVdyquHBtsHa9ezfJdi/aY9NMwGY5DsbZGdgsxMjgAd+hGWok+n558iHbTUeVnzQOMn4PZi7YYt6PLQoAq60dbZgp2sb/IJ+MElo9HSHkZ9gxuD84ZQCbRh06YPkJyWgOEjStSiSZ+7ncbZSjR29MCZmAw3FenK5euRQeMiBl7s3LYJL776FhCbSuOH9WBfFbZu1vWgqq4N0xfMVZsqFeRQgYvCY8nF0sBram7Dvv0H0FJfA/ni6f69e7Fnzx5s3rwZGzZsQE5ODsaMGUMDPIsjXypCZlNqsjJM6UJBL1rra/H6S0vw0hvL0e4xkDUoj+2mABk0GGSXGVmvIx/Mkn0t3lqxgTUmBnMWzMPCY+ex/snrzyIvkTkps13YaVTsLKtGR1s7DdlWGh9NKGOZ79i1HStWr0K3x4fi0qEYPnI04hhZylsW+NqkFG1xWP3BJjS1NKj1OiHKu2LnDraLcjgTUlHTYUMoLgdnnnkmCtIjfRNzJOUWDDuxcu12Gr0+td11J+tcFet85Z5KlA4dg7auEOoau1FAw6ihlu1+0xakpKRi+PChSGDFc4W7sW3TBuytqUUPrcy4uGTUVB1gf7JabeQ1qGQwB0xp5LKbbaaHZbwT5bv3I5ltRoz2rVu30DAJIVdm3wZlMS9uVO/ehU2by7B+Szl2bN9FA8SJo6bOwJe+dC5OWTiHxosMUOjUVJg41kbKYPeeOnRSfvK6eld7E/aUlaOsrAyrVq2iUeXGkCFDVLnGcNCgZgFVrf03Q77N8ckI9Xc0VY1wmI6X4gZAvAbE+ER3EDKHhI9K65DoSaCPcp8KEuFgXHyc+9SJRPBRaX06elJ8IdMxeq/jdZjlGwp289hNv2bjvfceN6ZPLTaGFeYbhXn5Rn7RKOO4U68wnluy1uhyexnOy0juiJNzPwm5ja66ncZLD/7RmDNpqLHowsuN1z/YbLQzbR95DRjBiGNa/JM0mahh+AMMEDAa9x4wHrjtdqM4r9DIzxth5BWMMb79/euNHbvKjfbWBuOPf/iZMWPWFCO/NN847aIzjTW7thrdfp/hY8aC5KFm/07jvr/90Rg1+igjr2iYkVdYYowaOdK4+EsXGvv27eWAhul8JIQXn2G4G4x9O1YYN3z/q8Zw5r1I8TLGyCueYvz017caVW1tRofhNTyG2/DTBfgbjC4HyY/II9hhBLtrjfo9G43/u+gcY+TgYmNwfinlOcYoKhhq3Pq3e42KA3VGF4M3MbibJILkYdfWVcZN13/TKC3INwpKhxv5hYOZPs8L8ozR48cadz31lrGlod1oj4Q3wh6e7DWMQJXx6D1/MOZPGGsMZfgR5Pv+O+8x9tfWGT1kyyvyNtqMV5+6y7jgjJMo21KjeNgk49hjTjbee2eF4fUFKceQ4WU5hsOtzEeLce89dxgTxk81CvIHG8MGDzPuvevvRm1NgxFksh4/cx1uNFa//6jxf1efYRSWFhgjxk00/vT3l40ttS1GJ9MkJZWq/iOrSjxBg8aD8fQzzxoLFx5n5JHXvLw8gwaeMX/ufOPl15YaLd0+FZ9ckG9mj+UbHuCi0dPdbTzxwMPG7CnTjB//7FqjurPV6GBeAhKWvIqYdEVn+bK+7t25yrj2O1cbJUy7OK+Y8h3LujLFuO7XtxnVHV0sVV0/hWP5M0moVKWeh7vIVJPRVrPN+P7VlxsTjmL9KMwzxk0ZZ1zzg68brW0HjOaGKuMPv/29MWbUbGNY6Rzj6DnnG+8u3WD4GD2oaDB3wX3Gz757kTFhZBHb1xBj0uyTjS27a4xud8DYvG65cQNpFeUXsA6MMvLyh5LPIpZFvjH6qAnG3Y+/YWyrazPayZi0J5G2kla4zdi5c6Vx440/MfLz84ziwQVGIevxhAkTjB//+MdGa2urEWQZmC5EuYg4vXRBySDrblfLXmP1kieMGUeNZv3PY/kUGwtOPMt4+I1VRqPHa/jYT4S8LUaoo95o3LPT+NrXvsm+4VzjzocfZ7mFDfYiqlUEwz2k3UHXbnR3NxtPPf2yceyxi0mvlK7AKCouMuYcPdt48c2XjVa3yJ1xpR+K9CXe7najq73daG5pNf5w2x+NGbNnqLoyYthQ47zTTjIad64wfv6drxgjj5plHHvBj41tTYbRzeZAY4iZYa8TbDNaWuqMq6/+tjF2wjyW0UhjwqRpxvd+9COjtaXB6KivM2753V+M8WNmG6Ul04zZs88y3np3vdHDbsLLTjHEfinsrTNeffiPxgWLFrDNFBpFQ0cZRy9cZLy9bK3RQTbbKLIW5tVtNFKetcZD99xmzBg/g3IbapSwnd955/3G3tp61f+FwmwzoTpjy7JHjW9ccRb7qMHGiGlzjb/8821jW32b0c1i9PtDht/tM0IBP8tG5CcS7TB6eqTNvMI2c3pEfuybioqN+fMXGG+99Zbh8TDj/wVw8PThsemHQYsoGiqGttQVBpg9cvsQiPZDFLVPhY9L5xPpHVbkaHxuctwLVeoHY1uxJZ4ywSgWPSCfve5o76CXfgQSoqXrcMWqKdmEWCdHbjLFL9CjNg35NkZATcV2drkRjklGQnIy5PPEMhEo4YW2Sk6ueaFGL+JJyIIpL0coHV2dMiGtRkzyDD0lMU4teOvq7lEjGHZ6iCEvqSkpiHeqsaeKL5+g9jDt1m63GMyQL0LKqNYV40RqegZpcHSsRqkHg8lHCMEgR689blr7MrWsueXwCvFJCUjgqEtW40fGcvyTxVryOlmEbq+QKUemL1sbd3R0qw8UqTvyDJlnyZSLzI7YZWRIfyVFjkKCgR715kp3j0xPR94XV2XCUBzdx6akwxXr4ujFDpeMJGVq2uhWcXu6/Rx1c+Qmz6+I5NQUxCSQBtOQkY4THng5gnG7gxwtMQBlIZvtpKYxHGnqstebT8uMi/DQ3e1hmeqRXrLIOz5BTb1S73Bk6oWfo70ehvN6GcbuYnlzlCbPrdWKdy0HyZ1ISnxkTw2JKzs7dnfLDJKeahfIo7QEjujssbEIq2fNeoGrvMJrzkyYiC5HN8tqyYsv48677sKsY+fj/779TSQnJnFkKfWOdIQNxQvBiyBHjN2sI26PLJYVOroOJ7JuJ6nHTQwW4VnH0kcJqd7WYd0XJ49mOjsoU7+ckwrlHBsbh9TkJFVveno86HZ71NqPGNa9tBTdFnTdCTGCl22MI00OccNGDOPHIDOD9ZSVNhjwqFm4HnnWo6QgICEyIetlYlMo50g9UDN+Jofkzy9vmzDdbo6UOcZX/jIzFBfHtsQyHNgGzNg6pKwP8CLg96G9vQdBQ3bNoCxiXGqjqCSmGWP4IW8IiezCYTvaKX8/63lcQgLiE+NJS5bMSvuTWU55cES6hgM+d4hyJ035FoawKmzEOJAo3xqRPsUWglNow8vqbMeyZZuws6wOU2fNQV5huupX5FsbkmdZg+To3ocf/PTnWLffh7mnX4Lrr/saMpkJeZPDrsqIdU34a3erR6g0U5Ts4tS6K5Yz62FPt0/JWB4ZyOOd5EhbEImoN75CLF9PD7o8ITUzIa/sxrMsU1NT1Z4g9CJkJsFHudjg7fKrD+CphezkJSU9SbVBg7SlrboYLuD3qMdWXfIBQgfLJCmFfap830T272E8mR0mXXmYqkpHZMV8DJSfOFkvkyJvKrHNfHTf9u/D596YOCx8HJOfipnPTY77YLIczbpiic1fHMtcGrh0LnJDphnVYij+qWodCSsdqXov3ZAOVxZ+CXQD0KR1fHG6FpnXfZDGqrowRV877aN8VTx55KIfJYiSkxSli9J0hCcxRKTT0Jtn6SuJJ12YtCtZCKYap0BrCDlRlweDSEDSjobspaEhMhJawov6PinPhQdTUUbCqSxJWB5V3oSi3NP3zfau/SWwHCOQOIq+5ET89WR7X2jZCUCgp+HF6fhiGchReJLykKOWoVoXo3xktYHIyqSrYutokm4kbyYdyZNOWyB+IlU58peZM8tBDuqq148pMZMSUudE/nRYk6rmTlPXITVlnYquM+Kkqqnc8Chy+6i+MkQjsrGhAfv27UNqZjqKS0rUs3P5aJik2BdNpxWxtRSiy1dNKauUBcKlLmMdS/8qI6BXTtGIhO+lJ0fG5UFCqzxLEhLNLHO7bjMa5okKSUTCqAPvCSEJIqcRb3HiJWXb56fP9ZXcM0syEnkAdKi+oxhLZi2TOhKmsalboYZwJ2+tqNJWZS7lLTLVtM3U++Sorx3SVzCgbqsaOp52uk+Rhcry2mYXVr79Pv7xzyXYU+vGeRddhgvOORGxHBRIXXDSsnT3dOHFpx7CrXfdh/iCo3DhVdfg3MULlPntUhxH+FCrqxW3ykcnL1eSns6DlqAOI70NPXUYlpPkXK7k2y7y8TiB1EmJpf0FkmsJwX4gxDxKhuSmBHKE1KLaoGoT0m71GitdThJO+ljtxFceo+m+mLyoo5DR9wfKT8GsLgO8/1Mwk7fwvwipdOKkFphO+UlF7rvV2/zEQ12Lv1ZyumuJhJTGqiq4+S6AqaikG+vzNen10lVORxWn2h95kAYkTvjRf9JgpZFrKjpdceavcNsHyYO8oSBvV/Tej3QCps/BofnR3UkkpeiGy9O+Kwmh89rHk4bOi+6qZNQiMzqqszTlq7MWSU5+RDmZTq5FbqYMRc5aeSkS/DNfSZWwMnIRI0BtcKSMJd7hebQczS5dpyllJU6oRRA5FdraJNJOyzUqnIIQIS808rST3EsYs7z1lXT44nQu+nJj+osyVbM2zJt8Tl3GrsKnWaskrIzFTbNoIBfRkBoiuwvK3hLTZkzHiGHDEcdRtDYkdAgNHsWD8vqo8u2DYlKfEipsxGkIV2LYmk44jibw4dAC5SMFoW7Lj+TQlE7/OPqcMVXZymWEJ4lOp+Qr5/TV7UNu0UM5+ZVUo9vMwaHvSCgdN0y5hWyyK2oMz4Uv4a4vlyovDGPwntRzrfh0n6BbhK49un1oHnrrlJkXgRhUrAPy5oUjHGJedGhVNqEAaveWo7JsK5oa9jO/HuZXZtb0fg6dna1Yt+ED/PPZd9AWTsP4qdMxY+Ko3tfWe9NmXdfnOl1J2qyDMhCS0Dq/lKHkg3XDHhnAyF3JZ9jmVE5mFMVPzyNqeen8ar7NGSCVR+2hE+RPdMsyW4McTXqaQ2FK+JD+QvbzkDI168bB5Bfl/ouwZiY+Cp+Kmc9NjnvRx+1Avvs6Ew3dNekWwcrc2+nST43egrqiGzJ1J2EIBtGjWzOPmqY0CfPsYPgwJ9F+WokKPVOdate/vequVPvrUR/P1UHnyrwVOXwEzJRFecupbsSaDg8qsqSjJx+lW5M8RUIpJ5DcCgU9ySr+uhNWnawpxwhNtSCwN6R46JD6XPz6qGgn98zSkT+Rih6FaTWuuZEY2gSRcKobUp21+mS2+LKz0oYHb3wshJJ5NI0dTVUjmmdTAoR5eyAi/qKAxIyQb0D05U06TKGo+VWsDaRzEH5FCiHmzZBpZVFIdtKRTlfqAY9yrqd/hZi4jy9fXZckzEBTxmRG12d9z4wuPiZ9QXQ8gekvMM8j9806ER28H6LiqtP+AcVQ1TkSpaRnDLR60jyYnHwkeQUhrGuTKQGBlpD4mCFMKpF2pX51fVDpRJR3H086pG4DWl46OOOJU/EZUqwjKSOZqZEvFQdasPyNN/D4069h1/5WzJm3UG1xHidFQqOisaUVq9ZvxdotNRg2dQrOO2cRTpwzCbKrrdRrtRia9PtkQZC8zDSoHIiHpEmIsa95FQNCdsaUoJpjiSv3VHA68VXxe48ampKGnj2IXCiQCwYWL9Nbsiq8qUeU4qvqAOXOG8rxSpz4itTECV8KkShafoQZSI765z8Ky5j4KHwqZj43Oe5FH8cf5j3S1AmzKst94TVaUYi/2fToHz3K/VDWdGOO9vpwqh++Phh0vD4OzaSinQ5F/lTVpo/wxoZpNuS+cB8FnUpvN6jyFmnCjCg5N19tlT95Kis35Le3oRP9jQndlenZBOlkIswIFDMMpQwK8RRKJjW5afIiKUff05B0tFkjHaAe8yieea6VtZmUugOnyEWCyx3Vm5GW4uHjYDIrR3FCIPoYzZcco2BGOQj0aFa+jhqdNz22i+REY2D8g/ArlGQNhmRPrWCXc3kALpB1F+In+VXExH1S+cqZOLMczET7mNGU+pjRofrua/Td74srdE1E5BXdfg6KKLrqNCogT4WizpHUNV0rhbZuL1GyJD4yCUX4442JPugwmiv5ldCR1ChTOYs2JsTfdAoqKf7IIhMVNxKSRqAKJN8EQQ8NCi9WrlqHx598Ca+/8S5tjACcMqXAKLLXiyszC1dfewvmHTMFhVkpiA8F4QLDyNc7ZRaBQYVvlRydXKj+SNLu9aAhoXgVD+nRRH5SspJzbUyYK3p0HsRHRVacC/3oNMxrBTONPp++cPRSEjSNCQXKVWZC5Mgrk77ZsvrLj07VcTq5oZLpn9Z/CodoTAwI0nsZYXgA34dA8KD4j2f/4xj9VMx8bnLciz6OP8x7H1dyL/p+bzUm+u6pzlQpx0hMOfQRIXS4aK9oquZ5tN/Hox/xfsnpY4SSaqDkWS7ZwEz2BP0pDITJicQnVN4ieeepatxK2UhIUeO6Fct1tIREyQulvnxJ9xCZBFU0ta+KKFSVQhVPk4rcUDeJCC8K/VMy05EzzQmhMsvujnz2xYzwqDpwuYwwoGYn9OlHw2RWEM2L+IuL5rmPNwUzajSJCLQxwRz0pi8n+uJfMSYOlkY0+owJQSQfH1O++io6b4K+ROTMDCmQs0MzJnRMM4aCKYTo4P0QRVedRgXkqXCqQ8hvZHqeNzR/fWH7Xw1EHwWJp69MCUTnVMMMY9ZAUYECqd/KrGCEiJRV3H5pqyjywxBmQgIViB6q/crrzmH1SqXbI5/y90cIyg/DSLu2u+BKSVOLJV00RNQH1OiENzEqVTAdWkMxwLum6hO5M5x6vBoJ1ZsPzYyEHpCPPlmYdOW6Nw3CvN/n2evTz0tJUHmYKWgjzExBbslZtFMwiZhGkVhNAlXHe0P9x3CIxoSF/00crGqYlXTAvT5toPEp6rJQMqn9q03gw/FIsZfFyN1PRTwqf+q0L7J5KZ1AXyh9PzqJKApE9BW7qP43CXqoyHIjmoqcfygw0RdG3+0L00uGZwOLRdCXtnnCQAcJd3D0pdMH8YsmcBBiB4tG9EqwX5S+i0Nm61MjiiF12peSeak6+V4cnJPoECYOjedPpv2xGJgwSfR5HeQmYfrK1aGkeHAqH8bAdPvC9Zeg4MM0GKJXBUXdlVPlbzp6KMPADBOJI169ql9HM0OYGHitEaGryOhYfW1F0+6Ldyj5OFz0T6HPVOmPD/n2RpMTOhVAfo48h58Ey5iw8F/HwAr4n28GFix8sfHZbWP/Lc6+aL3Ofz8/ljFhwYIFCxYsWDgsmA8DLViwYMGCBQsW/iVYxoQFCxYsWLBg4bBgGRMWLFiwYMGChcOCZUxYsGDBggULFg4LljFhwYIFCxYsWDgsWMaEBQsWLFiwYOGwYBkTFixYsGDBgoXDgmVMWLBgwYIFCxYOC5YxYcGCBQsWLFg4LFjGhAULFixYsGDhsGAZExYsWLBgwYKFw4JlTFiwYMGCBQsWDguWMWHBggULFixYOCxYxoQFCxYsWPj/duuYAAAAAGGQ/VMbYi+kABKZAAASmQAAEpkAABKZAAASmQAAEpkAABKZAAASmQAAEpkAABKZAAASmQAAgu0lcorgJ2NOoAAAAABJRU5ErkJggg==)"
      ],
      "metadata": {
        "id": "zSgamE79T19N"
      }
    },
    {
      "cell_type": "code",
      "source": [
        "recall = Recall(task='multiclass', num_classes=output_size).to(device) * 100\n",
        "\n",
        "recall_model = recall(y_preds, y_test_tensor)\n",
        "\n",
        "print(f'Test recall: {recall_model:.2f}%')"
      ],
      "metadata": {
        "colab": {
          "base_uri": "https://localhost:8080/"
        },
        "id": "2l94YXAZLVyt",
        "outputId": "39da06b5-8340-46da-d8dc-44e473773d6b"
      },
      "execution_count": 114,
      "outputs": [
        {
          "output_type": "stream",
          "name": "stdout",
          "text": [
            "Test recall: 81.32%\n"
          ]
        }
      ]
    },
    {
      "cell_type": "markdown",
      "source": [
        "**F1 Score**\n",
        "Gives a balance between Precision and Recall."
      ],
      "metadata": {
        "id": "MuVEpykLSMMp"
      }
    },
    {
      "cell_type": "markdown",
      "source": [
        "![image.png](data:image/png;base64,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)"
      ],
      "metadata": {
        "id": "2IwjvmNTT7a4"
      }
    },
    {
      "cell_type": "code",
      "source": [
        "f1_score = F1Score(task='multiclass', num_classes=output_size).to(device) * 100\n",
        "\n",
        "f1_score_model = f1_score(y_preds, y_test_tensor)\n",
        "\n",
        "print(f'Test F1 score: {f1_score_model:.2f}%')"
      ],
      "metadata": {
        "colab": {
          "base_uri": "https://localhost:8080/"
        },
        "id": "rMCW2rHxLWjH",
        "outputId": "f4451c94-18f3-4927-d435-72769e0ab6ad"
      },
      "execution_count": 115,
      "outputs": [
        {
          "output_type": "stream",
          "name": "stdout",
          "text": [
            "Test F1 score: 81.32%\n"
          ]
        }
      ]
    },
    {
      "cell_type": "markdown",
      "source": [
        "# Validation"
      ],
      "metadata": {
        "id": "FlxqJib2QQBb"
      }
    },
    {
      "cell_type": "code",
      "source": [
        "y_pred_probs_val  = model(X_val_tensor)\n",
        "\n",
        "y_pred_probs_val"
      ],
      "metadata": {
        "colab": {
          "base_uri": "https://localhost:8080/"
        },
        "outputId": "65e7c603-db74-45f1-9f19-5df6a655ee0f",
        "id": "b2cxgHOhQXo1"
      },
      "execution_count": 116,
      "outputs": [
        {
          "output_type": "execute_result",
          "data": {
            "text/plain": [
              "tensor([[5.8680e-01, 5.7405e-06, 4.1142e-01, 2.1607e-10, 1.7725e-03, 2.3683e-14],\n",
              "        [6.5145e-26, 1.0092e-17, 1.0000e+00, 2.0246e-23, 7.6785e-36, 0.0000e+00],\n",
              "        [8.0562e-06, 8.4234e-14, 1.5928e-12, 6.1075e-06, 9.9996e-01, 2.6327e-05],\n",
              "        ...,\n",
              "        [7.3501e-07, 4.8610e-19, 2.9328e-21, 6.4754e-10, 3.3981e-03, 9.9660e-01],\n",
              "        [8.3288e-07, 9.3022e-19, 7.9063e-21, 1.0743e-09, 3.1107e-03, 9.9689e-01],\n",
              "        [7.4778e-15, 5.8125e-19, 2.8860e-11, 1.0000e+00, 2.9916e-08, 2.5652e-12]],\n",
              "       device='cuda:0', grad_fn=<SoftmaxBackward0>)"
            ]
          },
          "metadata": {},
          "execution_count": 116
        }
      ]
    },
    {
      "cell_type": "markdown",
      "source": [
        "## Metrics"
      ],
      "metadata": {
        "id": "JdDnPTiDQXo1"
      }
    },
    {
      "cell_type": "code",
      "source": [
        "y_preds_val = y_pred_probs_val.argmax(dim=1)\n",
        "\n",
        "acurracy_model_val = accuracy(y_preds_val, y_val_tensor)\n",
        "\n",
        "print(f'Validation accuracy: {acurracy_model_val:.2f}%')"
      ],
      "metadata": {
        "colab": {
          "base_uri": "https://localhost:8080/"
        },
        "outputId": "a360889a-e9d3-4555-8e24-d3134642715a",
        "id": "gf84FyjvQXo2"
      },
      "execution_count": 117,
      "outputs": [
        {
          "output_type": "stream",
          "name": "stdout",
          "text": [
            "Validation accuracy: 78.32%\n"
          ]
        }
      ]
    },
    {
      "cell_type": "code",
      "source": [
        "precision_val = Precision(task='multiclass', average='macro', num_classes=output_size) * 100\n",
        "\n",
        "precision_model_val = precision(y_preds_val, y_val_tensor)\n",
        "\n",
        "print(f'Validation precision: {precision_model_val:.2f}%')"
      ],
      "metadata": {
        "colab": {
          "base_uri": "https://localhost:8080/"
        },
        "outputId": "5543387d-3d5d-48d7-9cff-261ff4acf827",
        "id": "Q2L1WX1AQXo2"
      },
      "execution_count": 118,
      "outputs": [
        {
          "output_type": "stream",
          "name": "stdout",
          "text": [
            "Validation precision: 78.17%\n"
          ]
        }
      ]
    },
    {
      "cell_type": "code",
      "source": [
        "recall_val = Recall(task='multiclass', num_classes=output_size) * 100\n",
        "\n",
        "recall_model_val = recall(y_preds_val, y_val_tensor)\n",
        "\n",
        "print(f'Validation recall: {recall_model_val:.2f}%')"
      ],
      "metadata": {
        "colab": {
          "base_uri": "https://localhost:8080/"
        },
        "outputId": "66c62258-3c1e-4e66-c4c9-788a246bcdcf",
        "id": "p4FHkJvWQXo2"
      },
      "execution_count": 119,
      "outputs": [
        {
          "output_type": "stream",
          "name": "stdout",
          "text": [
            "Validation recall: 78.32%\n"
          ]
        }
      ]
    },
    {
      "cell_type": "code",
      "source": [
        "f1_score_val = F1Score(task='multiclass', num_classes=output_size) * 100\n",
        "\n",
        "f1_score_model_val = f1_score(y_preds_val, y_val_tensor)\n",
        "\n",
        "print(f'Validation F1 score: {f1_score_model_val:.2f}%')"
      ],
      "metadata": {
        "colab": {
          "base_uri": "https://localhost:8080/"
        },
        "outputId": "be2c6e4f-76fa-45e5-b800-980d5b57f63f",
        "id": "bpzk-ZYcQXo2"
      },
      "execution_count": 120,
      "outputs": [
        {
          "output_type": "stream",
          "name": "stdout",
          "text": [
            "Validation F1 score: 78.32%\n"
          ]
        }
      ]
    },
    {
      "cell_type": "code",
      "source": [
        "make_dot(y_pred_probs_val.mean(), params=dict(model.named_parameters()))"
      ],
      "metadata": {
        "colab": {
          "base_uri": "https://localhost:8080/",
          "height": 1000
        },
        "id": "66DjJUkMnSSc",
        "outputId": "0229b07d-744b-40cc-c325-712ae716dc10"
      },
      "execution_count": 121,
      "outputs": [
        {
          "output_type": "execute_result",
          "data": {
            "image/svg+xml": "<?xml version=\"1.0\" encoding=\"UTF-8\" standalone=\"no\"?>\n<!DOCTYPE svg PUBLIC \"-//W3C//DTD SVG 1.1//EN\"\n \"http://www.w3.org/Graphics/SVG/1.1/DTD/svg11.dtd\">\n<!-- Generated by graphviz version 2.43.0 (0)\n -->\n<!-- Title: %3 Pages: 1 -->\n<svg width=\"565pt\" height=\"787pt\"\n viewBox=\"0.00 0.00 565.00 787.00\" xmlns=\"http://www.w3.org/2000/svg\" xmlns:xlink=\"http://www.w3.org/1999/xlink\">\n<g id=\"graph0\" class=\"graph\" transform=\"scale(1 1) rotate(0) translate(4 783)\">\n<title>%3</title>\n<polygon fill=\"white\" stroke=\"transparent\" points=\"-4,4 -4,-783 561,-783 561,4 -4,4\"/>\n<!-- 136103453018208 -->\n<g id=\"node1\" class=\"node\">\n<title>136103453018208</title>\n<polygon fill=\"#caff70\" stroke=\"black\" points=\"298.5,-31 244.5,-31 244.5,0 298.5,0 298.5,-31\"/>\n<text text-anchor=\"middle\" x=\"271.5\" y=\"-7\" font-family=\"monospace\" font-size=\"10.00\"> ()</text>\n</g>\n<!-- 136103452919168 -->\n<g id=\"node2\" class=\"node\">\n<title>136103452919168</title>\n<polygon fill=\"lightgrey\" stroke=\"black\" points=\"319,-86 224,-86 224,-67 319,-67 319,-86\"/>\n<text text-anchor=\"middle\" x=\"271.5\" y=\"-74\" font-family=\"monospace\" font-size=\"10.00\">MeanBackward0</text>\n</g>\n<!-- 136103452919168&#45;&gt;136103453018208 -->\n<g id=\"edge29\" class=\"edge\">\n<title>136103452919168&#45;&gt;136103453018208</title>\n<path fill=\"none\" stroke=\"black\" d=\"M271.5,-66.79C271.5,-60.07 271.5,-50.4 271.5,-41.34\"/>\n<polygon fill=\"black\" stroke=\"black\" points=\"275,-41.19 271.5,-31.19 268,-41.19 275,-41.19\"/>\n</g>\n<!-- 136103452927424 -->\n<g id=\"node3\" class=\"node\">\n<title>136103452927424</title>\n<polygon fill=\"lightgrey\" stroke=\"black\" points=\"328,-141 215,-141 215,-122 328,-122 328,-141\"/>\n<text text-anchor=\"middle\" x=\"271.5\" y=\"-129\" font-family=\"monospace\" font-size=\"10.00\">SoftmaxBackward0</text>\n</g>\n<!-- 136103452927424&#45;&gt;136103452919168 -->\n<g id=\"edge1\" class=\"edge\">\n<title>136103452927424&#45;&gt;136103452919168</title>\n<path fill=\"none\" stroke=\"black\" d=\"M271.5,-121.75C271.5,-114.8 271.5,-104.85 271.5,-96.13\"/>\n<polygon fill=\"black\" stroke=\"black\" points=\"275,-96.09 271.5,-86.09 268,-96.09 275,-96.09\"/>\n</g>\n<!-- 136103452922816 -->\n<g id=\"node4\" class=\"node\">\n<title>136103452922816</title>\n<polygon fill=\"lightgrey\" stroke=\"black\" points=\"322,-196 221,-196 221,-177 322,-177 322,-196\"/>\n<text text-anchor=\"middle\" x=\"271.5\" y=\"-184\" font-family=\"monospace\" font-size=\"10.00\">AddmmBackward0</text>\n</g>\n<!-- 136103452922816&#45;&gt;136103452927424 -->\n<g id=\"edge2\" class=\"edge\">\n<title>136103452922816&#45;&gt;136103452927424</title>\n<path fill=\"none\" stroke=\"black\" d=\"M271.5,-176.75C271.5,-169.8 271.5,-159.85 271.5,-151.13\"/>\n<polygon fill=\"black\" stroke=\"black\" points=\"275,-151.09 271.5,-141.09 268,-151.09 275,-151.09\"/>\n</g>\n<!-- 136103452926128 -->\n<g id=\"node5\" class=\"node\">\n<title>136103452926128</title>\n<polygon fill=\"lightgrey\" stroke=\"black\" points=\"194,-251 93,-251 93,-232 194,-232 194,-251\"/>\n<text text-anchor=\"middle\" x=\"143.5\" y=\"-239\" font-family=\"monospace\" font-size=\"10.00\">AccumulateGrad</text>\n</g>\n<!-- 136103452926128&#45;&gt;136103452922816 -->\n<g id=\"edge3\" class=\"edge\">\n<title>136103452926128&#45;&gt;136103452922816</title>\n<path fill=\"none\" stroke=\"black\" d=\"M164.07,-231.98C184.93,-223.34 217.47,-209.87 241.27,-200.02\"/>\n<polygon fill=\"black\" stroke=\"black\" points=\"242.66,-203.23 250.56,-196.17 239.98,-196.76 242.66,-203.23\"/>\n</g>\n<!-- 136103452945648 -->\n<g id=\"node6\" class=\"node\">\n<title>136103452945648</title>\n<polygon fill=\"lightblue\" stroke=\"black\" points=\"203,-317 60,-317 60,-287 203,-287 203,-317\"/>\n<text text-anchor=\"middle\" x=\"131.5\" y=\"-305\" font-family=\"monospace\" font-size=\"10.00\">neural_network.6.bias</text>\n<text text-anchor=\"middle\" x=\"131.5\" y=\"-294\" font-family=\"monospace\" font-size=\"10.00\"> (6)</text>\n</g>\n<!-- 136103452945648&#45;&gt;136103452926128 -->\n<g id=\"edge4\" class=\"edge\">\n<title>136103452945648&#45;&gt;136103452926128</title>\n<path fill=\"none\" stroke=\"black\" d=\"M134.4,-286.84C135.99,-279.13 137.96,-269.49 139.67,-261.17\"/>\n<polygon fill=\"black\" stroke=\"black\" points=\"143.12,-261.77 141.7,-251.27 136.26,-260.36 143.12,-261.77\"/>\n</g>\n<!-- 136103452922768 -->\n<g id=\"node7\" class=\"node\">\n<title>136103452922768</title>\n<polygon fill=\"lightgrey\" stroke=\"black\" points=\"319,-251 224,-251 224,-232 319,-232 319,-251\"/>\n<text text-anchor=\"middle\" x=\"271.5\" y=\"-239\" font-family=\"monospace\" font-size=\"10.00\">ReluBackward0</text>\n</g>\n<!-- 136103452922768&#45;&gt;136103452922816 -->\n<g id=\"edge5\" class=\"edge\">\n<title>136103452922768&#45;&gt;136103452922816</title>\n<path fill=\"none\" stroke=\"black\" d=\"M271.5,-231.75C271.5,-224.8 271.5,-214.85 271.5,-206.13\"/>\n<polygon fill=\"black\" stroke=\"black\" points=\"275,-206.09 271.5,-196.09 268,-206.09 275,-206.09\"/>\n</g>\n<!-- 136103452921232 -->\n<g id=\"node8\" class=\"node\">\n<title>136103452921232</title>\n<polygon fill=\"lightgrey\" stroke=\"black\" points=\"322,-311.5 221,-311.5 221,-292.5 322,-292.5 322,-311.5\"/>\n<text text-anchor=\"middle\" x=\"271.5\" y=\"-299.5\" font-family=\"monospace\" font-size=\"10.00\">AddmmBackward0</text>\n</g>\n<!-- 136103452921232&#45;&gt;136103452922768 -->\n<g id=\"edge6\" class=\"edge\">\n<title>136103452921232&#45;&gt;136103452922768</title>\n<path fill=\"none\" stroke=\"black\" d=\"M271.5,-292.37C271.5,-284.25 271.5,-271.81 271.5,-261.39\"/>\n<polygon fill=\"black\" stroke=\"black\" points=\"275,-261.17 271.5,-251.17 268,-261.17 275,-261.17\"/>\n</g>\n<!-- 136103452931936 -->\n<g id=\"node9\" class=\"node\">\n<title>136103452931936</title>\n<polygon fill=\"lightgrey\" stroke=\"black\" points=\"164,-377.5 63,-377.5 63,-358.5 164,-358.5 164,-377.5\"/>\n<text text-anchor=\"middle\" x=\"113.5\" y=\"-365.5\" font-family=\"monospace\" font-size=\"10.00\">AccumulateGrad</text>\n</g>\n<!-- 136103452931936&#45;&gt;136103452921232 -->\n<g id=\"edge7\" class=\"edge\">\n<title>136103452931936&#45;&gt;136103452921232</title>\n<path fill=\"none\" stroke=\"black\" d=\"M134.81,-358.37C162.1,-347.32 209.57,-328.08 240.77,-315.45\"/>\n<polygon fill=\"black\" stroke=\"black\" points=\"242.32,-318.59 250.28,-311.6 239.69,-312.11 242.32,-318.59\"/>\n</g>\n<!-- 136103452937568 -->\n<g id=\"node10\" class=\"node\">\n<title>136103452937568</title>\n<polygon fill=\"lightblue\" stroke=\"black\" points=\"173,-449 30,-449 30,-419 173,-419 173,-449\"/>\n<text text-anchor=\"middle\" x=\"101.5\" y=\"-437\" font-family=\"monospace\" font-size=\"10.00\">neural_network.4.bias</text>\n<text text-anchor=\"middle\" x=\"101.5\" y=\"-426\" font-family=\"monospace\" font-size=\"10.00\"> (32)</text>\n</g>\n<!-- 136103452937568&#45;&gt;136103452931936 -->\n<g id=\"edge8\" class=\"edge\">\n<title>136103452937568&#45;&gt;136103452931936</title>\n<path fill=\"none\" stroke=\"black\" d=\"M104.16,-418.8C105.87,-409.7 108.1,-397.79 109.96,-387.9\"/>\n<polygon fill=\"black\" stroke=\"black\" points=\"113.44,-388.32 111.84,-377.84 106.56,-387.03 113.44,-388.32\"/>\n</g>\n<!-- 136103452922192 -->\n<g id=\"node11\" class=\"node\">\n<title>136103452922192</title>\n<polygon fill=\"lightgrey\" stroke=\"black\" points=\"289,-377.5 194,-377.5 194,-358.5 289,-358.5 289,-377.5\"/>\n<text text-anchor=\"middle\" x=\"241.5\" y=\"-365.5\" font-family=\"monospace\" font-size=\"10.00\">ReluBackward0</text>\n</g>\n<!-- 136103452922192&#45;&gt;136103452921232 -->\n<g id=\"edge9\" class=\"edge\">\n<title>136103452922192&#45;&gt;136103452921232</title>\n<path fill=\"none\" stroke=\"black\" d=\"M245.55,-358.37C249.99,-348.88 257.27,-333.36 262.99,-321.16\"/>\n<polygon fill=\"black\" stroke=\"black\" points=\"266.25,-322.45 267.33,-311.91 259.91,-319.47 266.25,-322.45\"/>\n</g>\n<!-- 136103452921856 -->\n<g id=\"node12\" class=\"node\">\n<title>136103452921856</title>\n<polygon fill=\"lightgrey\" stroke=\"black\" points=\"292,-443.5 191,-443.5 191,-424.5 292,-424.5 292,-443.5\"/>\n<text text-anchor=\"middle\" x=\"241.5\" y=\"-431.5\" font-family=\"monospace\" font-size=\"10.00\">AddmmBackward0</text>\n</g>\n<!-- 136103452921856&#45;&gt;136103452922192 -->\n<g id=\"edge10\" class=\"edge\">\n<title>136103452921856&#45;&gt;136103452922192</title>\n<path fill=\"none\" stroke=\"black\" d=\"M241.5,-424.37C241.5,-415.16 241.5,-400.29 241.5,-388.27\"/>\n<polygon fill=\"black\" stroke=\"black\" points=\"245,-387.91 241.5,-377.91 238,-387.91 245,-387.91\"/>\n</g>\n<!-- 136103452926944 -->\n<g id=\"node13\" class=\"node\">\n<title>136103452926944</title>\n<polygon fill=\"lightgrey\" stroke=\"black\" points=\"134,-509.5 33,-509.5 33,-490.5 134,-490.5 134,-509.5\"/>\n<text text-anchor=\"middle\" x=\"83.5\" y=\"-497.5\" font-family=\"monospace\" font-size=\"10.00\">AccumulateGrad</text>\n</g>\n<!-- 136103452926944&#45;&gt;136103452921856 -->\n<g id=\"edge11\" class=\"edge\">\n<title>136103452926944&#45;&gt;136103452921856</title>\n<path fill=\"none\" stroke=\"black\" d=\"M104.81,-490.37C132.1,-479.32 179.57,-460.08 210.77,-447.45\"/>\n<polygon fill=\"black\" stroke=\"black\" points=\"212.32,-450.59 220.28,-443.6 209.69,-444.11 212.32,-450.59\"/>\n</g>\n<!-- 136103452945088 -->\n<g id=\"node14\" class=\"node\">\n<title>136103452945088</title>\n<polygon fill=\"lightblue\" stroke=\"black\" points=\"143,-581 0,-581 0,-551 143,-551 143,-581\"/>\n<text text-anchor=\"middle\" x=\"71.5\" y=\"-569\" font-family=\"monospace\" font-size=\"10.00\">neural_network.2.bias</text>\n<text text-anchor=\"middle\" x=\"71.5\" y=\"-558\" font-family=\"monospace\" font-size=\"10.00\"> (32)</text>\n</g>\n<!-- 136103452945088&#45;&gt;136103452926944 -->\n<g id=\"edge12\" class=\"edge\">\n<title>136103452945088&#45;&gt;136103452926944</title>\n<path fill=\"none\" stroke=\"black\" d=\"M74.16,-550.8C75.87,-541.7 78.1,-529.79 79.96,-519.9\"/>\n<polygon fill=\"black\" stroke=\"black\" points=\"83.44,-520.32 81.84,-509.84 76.56,-519.03 83.44,-520.32\"/>\n</g>\n<!-- 136103452926896 -->\n<g id=\"node15\" class=\"node\">\n<title>136103452926896</title>\n<polygon fill=\"lightgrey\" stroke=\"black\" points=\"259,-509.5 164,-509.5 164,-490.5 259,-490.5 259,-509.5\"/>\n<text text-anchor=\"middle\" x=\"211.5\" y=\"-497.5\" font-family=\"monospace\" font-size=\"10.00\">ReluBackward0</text>\n</g>\n<!-- 136103452926896&#45;&gt;136103452921856 -->\n<g id=\"edge13\" class=\"edge\">\n<title>136103452926896&#45;&gt;136103452921856</title>\n<path fill=\"none\" stroke=\"black\" d=\"M215.55,-490.37C219.99,-480.88 227.27,-465.36 232.99,-453.16\"/>\n<polygon fill=\"black\" stroke=\"black\" points=\"236.25,-454.45 237.33,-443.91 229.91,-451.47 236.25,-454.45\"/>\n</g>\n<!-- 136103452926992 -->\n<g id=\"node16\" class=\"node\">\n<title>136103452926992</title>\n<polygon fill=\"lightgrey\" stroke=\"black\" points=\"262,-575.5 161,-575.5 161,-556.5 262,-556.5 262,-575.5\"/>\n<text text-anchor=\"middle\" x=\"211.5\" y=\"-563.5\" font-family=\"monospace\" font-size=\"10.00\">AddmmBackward0</text>\n</g>\n<!-- 136103452926992&#45;&gt;136103452926896 -->\n<g id=\"edge14\" class=\"edge\">\n<title>136103452926992&#45;&gt;136103452926896</title>\n<path fill=\"none\" stroke=\"black\" d=\"M211.5,-556.37C211.5,-547.16 211.5,-532.29 211.5,-520.27\"/>\n<polygon fill=\"black\" stroke=\"black\" points=\"215,-519.91 211.5,-509.91 208,-519.91 215,-519.91\"/>\n</g>\n<!-- 136103452930208 -->\n<g id=\"node17\" class=\"node\">\n<title>136103452930208</title>\n<polygon fill=\"lightgrey\" stroke=\"black\" points=\"139,-641.5 38,-641.5 38,-622.5 139,-622.5 139,-641.5\"/>\n<text text-anchor=\"middle\" x=\"88.5\" y=\"-629.5\" font-family=\"monospace\" font-size=\"10.00\">AccumulateGrad</text>\n</g>\n<!-- 136103452930208&#45;&gt;136103452926992 -->\n<g id=\"edge15\" class=\"edge\">\n<title>136103452930208&#45;&gt;136103452926992</title>\n<path fill=\"none\" stroke=\"black\" d=\"M105.09,-622.37C125.81,-611.59 161.5,-593.02 185.78,-580.38\"/>\n<polygon fill=\"black\" stroke=\"black\" points=\"187.53,-583.42 194.78,-575.7 184.3,-577.21 187.53,-583.42\"/>\n</g>\n<!-- 136103452939968 -->\n<g id=\"node18\" class=\"node\">\n<title>136103452939968</title>\n<polygon fill=\"lightblue\" stroke=\"black\" points=\"152,-713 9,-713 9,-683 152,-683 152,-713\"/>\n<text text-anchor=\"middle\" x=\"80.5\" y=\"-701\" font-family=\"monospace\" font-size=\"10.00\">neural_network.0.bias</text>\n<text text-anchor=\"middle\" x=\"80.5\" y=\"-690\" font-family=\"monospace\" font-size=\"10.00\"> (32)</text>\n</g>\n<!-- 136103452939968&#45;&gt;136103452930208 -->\n<g id=\"edge16\" class=\"edge\">\n<title>136103452939968&#45;&gt;136103452930208</title>\n<path fill=\"none\" stroke=\"black\" d=\"M82.28,-682.8C83.41,-673.7 84.9,-661.79 86.14,-651.9\"/>\n<polygon fill=\"black\" stroke=\"black\" points=\"89.63,-652.2 87.39,-641.84 82.68,-651.33 89.63,-652.2\"/>\n</g>\n<!-- 136103452927232 -->\n<g id=\"node19\" class=\"node\">\n<title>136103452927232</title>\n<polygon fill=\"lightgrey\" stroke=\"black\" points=\"250,-641.5 173,-641.5 173,-622.5 250,-622.5 250,-641.5\"/>\n<text text-anchor=\"middle\" x=\"211.5\" y=\"-629.5\" font-family=\"monospace\" font-size=\"10.00\">TBackward0</text>\n</g>\n<!-- 136103452927232&#45;&gt;136103452926992 -->\n<g id=\"edge17\" class=\"edge\">\n<title>136103452927232&#45;&gt;136103452926992</title>\n<path fill=\"none\" stroke=\"black\" d=\"M211.5,-622.37C211.5,-613.16 211.5,-598.29 211.5,-586.27\"/>\n<polygon fill=\"black\" stroke=\"black\" points=\"215,-585.91 211.5,-575.91 208,-585.91 215,-585.91\"/>\n</g>\n<!-- 136103452920368 -->\n<g id=\"node20\" class=\"node\">\n<title>136103452920368</title>\n<polygon fill=\"lightgrey\" stroke=\"black\" points=\"271,-707.5 170,-707.5 170,-688.5 271,-688.5 271,-707.5\"/>\n<text text-anchor=\"middle\" x=\"220.5\" y=\"-695.5\" font-family=\"monospace\" font-size=\"10.00\">AccumulateGrad</text>\n</g>\n<!-- 136103452920368&#45;&gt;136103452927232 -->\n<g id=\"edge18\" class=\"edge\">\n<title>136103452920368&#45;&gt;136103452927232</title>\n<path fill=\"none\" stroke=\"black\" d=\"M219.29,-688.37C217.98,-679.07 215.86,-663.98 214.16,-651.9\"/>\n<polygon fill=\"black\" stroke=\"black\" points=\"217.61,-651.32 212.75,-641.91 210.68,-652.3 217.61,-651.32\"/>\n</g>\n<!-- 136104087436832 -->\n<g id=\"node21\" class=\"node\">\n<title>136104087436832</title>\n<polygon fill=\"lightblue\" stroke=\"black\" points=\"298,-779 143,-779 143,-749 298,-749 298,-779\"/>\n<text text-anchor=\"middle\" x=\"220.5\" y=\"-767\" font-family=\"monospace\" font-size=\"10.00\">neural_network.0.weight</text>\n<text text-anchor=\"middle\" x=\"220.5\" y=\"-756\" font-family=\"monospace\" font-size=\"10.00\"> (32, 11)</text>\n</g>\n<!-- 136104087436832&#45;&gt;136103452920368 -->\n<g id=\"edge19\" class=\"edge\">\n<title>136104087436832&#45;&gt;136103452920368</title>\n<path fill=\"none\" stroke=\"black\" d=\"M220.5,-748.8C220.5,-739.7 220.5,-727.79 220.5,-717.9\"/>\n<polygon fill=\"black\" stroke=\"black\" points=\"224,-717.84 220.5,-707.84 217,-717.84 224,-717.84\"/>\n</g>\n<!-- 136103452922384 -->\n<g id=\"node22\" class=\"node\">\n<title>136103452922384</title>\n<polygon fill=\"lightgrey\" stroke=\"black\" points=\"354,-509.5 277,-509.5 277,-490.5 354,-490.5 354,-509.5\"/>\n<text text-anchor=\"middle\" x=\"315.5\" y=\"-497.5\" font-family=\"monospace\" font-size=\"10.00\">TBackward0</text>\n</g>\n<!-- 136103452922384&#45;&gt;136103452921856 -->\n<g id=\"edge20\" class=\"edge\">\n<title>136103452922384&#45;&gt;136103452921856</title>\n<path fill=\"none\" stroke=\"black\" d=\"M305.52,-490.37C293.78,-480.21 274.06,-463.16 259.6,-450.65\"/>\n<polygon fill=\"black\" stroke=\"black\" points=\"261.65,-447.8 251.8,-443.91 257.07,-453.09 261.65,-447.8\"/>\n</g>\n<!-- 136103452920176 -->\n<g id=\"node23\" class=\"node\">\n<title>136103452920176</title>\n<polygon fill=\"lightgrey\" stroke=\"black\" points=\"388,-575.5 287,-575.5 287,-556.5 388,-556.5 388,-575.5\"/>\n<text text-anchor=\"middle\" x=\"337.5\" y=\"-563.5\" font-family=\"monospace\" font-size=\"10.00\">AccumulateGrad</text>\n</g>\n<!-- 136103452920176&#45;&gt;136103452922384 -->\n<g id=\"edge21\" class=\"edge\">\n<title>136103452920176&#45;&gt;136103452922384</title>\n<path fill=\"none\" stroke=\"black\" d=\"M334.53,-556.37C331.3,-546.97 326.04,-531.67 321.87,-519.53\"/>\n<polygon fill=\"black\" stroke=\"black\" points=\"325.12,-518.22 318.56,-509.91 318.5,-520.5 325.12,-518.22\"/>\n</g>\n<!-- 136104148589984 -->\n<g id=\"node24\" class=\"node\">\n<title>136104148589984</title>\n<polygon fill=\"lightblue\" stroke=\"black\" points=\"423,-647 268,-647 268,-617 423,-617 423,-647\"/>\n<text text-anchor=\"middle\" x=\"345.5\" y=\"-635\" font-family=\"monospace\" font-size=\"10.00\">neural_network.2.weight</text>\n<text text-anchor=\"middle\" x=\"345.5\" y=\"-624\" font-family=\"monospace\" font-size=\"10.00\"> (32, 32)</text>\n</g>\n<!-- 136104148589984&#45;&gt;136103452920176 -->\n<g id=\"edge22\" class=\"edge\">\n<title>136104148589984&#45;&gt;136103452920176</title>\n<path fill=\"none\" stroke=\"black\" d=\"M343.72,-616.8C342.59,-607.7 341.1,-595.79 339.86,-585.9\"/>\n<polygon fill=\"black\" stroke=\"black\" points=\"343.32,-585.33 338.61,-575.84 336.37,-586.2 343.32,-585.33\"/>\n</g>\n<!-- 136103452932416 -->\n<g id=\"node25\" class=\"node\">\n<title>136103452932416</title>\n<polygon fill=\"lightgrey\" stroke=\"black\" points=\"384,-377.5 307,-377.5 307,-358.5 384,-358.5 384,-377.5\"/>\n<text text-anchor=\"middle\" x=\"345.5\" y=\"-365.5\" font-family=\"monospace\" font-size=\"10.00\">TBackward0</text>\n</g>\n<!-- 136103452932416&#45;&gt;136103452921232 -->\n<g id=\"edge23\" class=\"edge\">\n<title>136103452932416&#45;&gt;136103452921232</title>\n<path fill=\"none\" stroke=\"black\" d=\"M335.52,-358.37C323.78,-348.21 304.06,-331.16 289.6,-318.65\"/>\n<polygon fill=\"black\" stroke=\"black\" points=\"291.65,-315.8 281.8,-311.91 287.07,-321.09 291.65,-315.8\"/>\n</g>\n<!-- 136103452927040 -->\n<g id=\"node26\" class=\"node\">\n<title>136103452927040</title>\n<polygon fill=\"lightgrey\" stroke=\"black\" points=\"470,-443.5 369,-443.5 369,-424.5 470,-424.5 470,-443.5\"/>\n<text text-anchor=\"middle\" x=\"419.5\" y=\"-431.5\" font-family=\"monospace\" font-size=\"10.00\">AccumulateGrad</text>\n</g>\n<!-- 136103452927040&#45;&gt;136103452932416 -->\n<g id=\"edge24\" class=\"edge\">\n<title>136103452927040&#45;&gt;136103452932416</title>\n<path fill=\"none\" stroke=\"black\" d=\"M409.52,-424.37C397.78,-414.21 378.06,-397.16 363.6,-384.65\"/>\n<polygon fill=\"black\" stroke=\"black\" points=\"365.65,-381.8 355.8,-377.91 361.07,-387.09 365.65,-381.8\"/>\n</g>\n<!-- 136103452943808 -->\n<g id=\"node27\" class=\"node\">\n<title>136103452943808</title>\n<polygon fill=\"lightblue\" stroke=\"black\" points=\"527,-515 372,-515 372,-485 527,-485 527,-515\"/>\n<text text-anchor=\"middle\" x=\"449.5\" y=\"-503\" font-family=\"monospace\" font-size=\"10.00\">neural_network.4.weight</text>\n<text text-anchor=\"middle\" x=\"449.5\" y=\"-492\" font-family=\"monospace\" font-size=\"10.00\"> (32, 32)</text>\n</g>\n<!-- 136103452943808&#45;&gt;136103452927040 -->\n<g id=\"edge25\" class=\"edge\">\n<title>136103452943808&#45;&gt;136103452927040</title>\n<path fill=\"none\" stroke=\"black\" d=\"M442.84,-484.8C438.44,-475.41 432.63,-463.02 427.91,-452.95\"/>\n<polygon fill=\"black\" stroke=\"black\" points=\"431.06,-451.41 423.65,-443.84 424.72,-454.38 431.06,-451.41\"/>\n</g>\n<!-- 136103452925984 -->\n<g id=\"node28\" class=\"node\">\n<title>136103452925984</title>\n<polygon fill=\"lightgrey\" stroke=\"black\" points=\"451,-251 374,-251 374,-232 451,-232 451,-251\"/>\n<text text-anchor=\"middle\" x=\"412.5\" y=\"-239\" font-family=\"monospace\" font-size=\"10.00\">TBackward0</text>\n</g>\n<!-- 136103452925984&#45;&gt;136103452922816 -->\n<g id=\"edge26\" class=\"edge\">\n<title>136103452925984&#45;&gt;136103452922816</title>\n<path fill=\"none\" stroke=\"black\" d=\"M389.85,-231.98C366.65,-223.27 330.38,-209.63 304.1,-199.75\"/>\n<polygon fill=\"black\" stroke=\"black\" points=\"305.16,-196.41 294.57,-196.17 302.7,-202.97 305.16,-196.41\"/>\n</g>\n<!-- 136103452926848 -->\n<g id=\"node29\" class=\"node\">\n<title>136103452926848</title>\n<polygon fill=\"lightgrey\" stroke=\"black\" points=\"500,-311.5 399,-311.5 399,-292.5 500,-292.5 500,-311.5\"/>\n<text text-anchor=\"middle\" x=\"449.5\" y=\"-299.5\" font-family=\"monospace\" font-size=\"10.00\">AccumulateGrad</text>\n</g>\n<!-- 136103452926848&#45;&gt;136103452925984 -->\n<g id=\"edge27\" class=\"edge\">\n<title>136103452926848&#45;&gt;136103452925984</title>\n<path fill=\"none\" stroke=\"black\" d=\"M444.04,-292.37C438.63,-283.81 430.19,-270.47 423.4,-259.74\"/>\n<polygon fill=\"black\" stroke=\"black\" points=\"426.29,-257.75 417.98,-251.17 420.37,-261.49 426.29,-257.75\"/>\n</g>\n<!-- 136103452939808 -->\n<g id=\"node30\" class=\"node\">\n<title>136103452939808</title>\n<polygon fill=\"lightblue\" stroke=\"black\" points=\"557,-383 402,-383 402,-353 557,-353 557,-383\"/>\n<text text-anchor=\"middle\" x=\"479.5\" y=\"-371\" font-family=\"monospace\" font-size=\"10.00\">neural_network.6.weight</text>\n<text text-anchor=\"middle\" x=\"479.5\" y=\"-360\" font-family=\"monospace\" font-size=\"10.00\"> (6, 32)</text>\n</g>\n<!-- 136103452939808&#45;&gt;136103452926848 -->\n<g id=\"edge28\" class=\"edge\">\n<title>136103452939808&#45;&gt;136103452926848</title>\n<path fill=\"none\" stroke=\"black\" d=\"M472.84,-352.8C468.44,-343.41 462.63,-331.02 457.91,-320.95\"/>\n<polygon fill=\"black\" stroke=\"black\" points=\"461.06,-319.41 453.65,-311.84 454.72,-322.38 461.06,-319.41\"/>\n</g>\n</g>\n</svg>\n",
            "text/plain": [
              "<graphviz.graphs.Digraph at 0x7bc90df6d8d0>"
            ]
          },
          "metadata": {},
          "execution_count": 121
        }
      ]
    }
  ]
}